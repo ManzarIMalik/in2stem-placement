{
  "cells": [
    {
      "cell_type": "markdown",
      "metadata": {
        "id": "zs70BjJHygj0"
      },
      "source": [
        "# Learning Python Interactively"
      ]
    },
    {
      "cell_type": "markdown",
      "source": [
        "## First Program"
      ],
      "metadata": {
        "id": "CTsvsBt57KcC"
      }
    },
    {
      "cell_type": "code",
      "source": [
        "print(\"Hello World!\")"
      ],
      "metadata": {
        "colab": {
          "base_uri": "https://localhost:8080/"
        },
        "id": "eKEApGWx7Mvj",
        "outputId": "249fe817-7716-4402-d455-96c90396a766"
      },
      "execution_count": null,
      "outputs": [
        {
          "output_type": "stream",
          "name": "stdout",
          "text": [
            "Hello World!\n"
          ]
        }
      ]
    },
    {
      "cell_type": "markdown",
      "metadata": {
        "heading_collapsed": true,
        "id": "al3Cb3ddygj7"
      },
      "source": [
        "## Different types of comments"
      ]
    },
    {
      "cell_type": "markdown",
      "metadata": {
        "hidden": true,
        "id": "44Ty6ZiXygj8"
      },
      "source": [
        "Comments are added using **#**. Adding comments to code helps in explaining what the code is intended to do."
      ]
    },
    {
      "cell_type": "markdown",
      "metadata": {
        "hidden": true,
        "id": "A8aZEycmygj9"
      },
      "source": [
        "#### Single-line comment"
      ]
    },
    {
      "cell_type": "code",
      "execution_count": null,
      "metadata": {
        "hidden": true,
        "id": "vnSzwHLeygj9"
      },
      "outputs": [],
      "source": [
        "# This is a Jupyter notebook used for Python. It consists of cells."
      ]
    },
    {
      "cell_type": "markdown",
      "metadata": {
        "hidden": true,
        "id": "JKomvewbygj_"
      },
      "source": [
        "#### Multi-line comment"
      ]
    },
    {
      "cell_type": "code",
      "execution_count": null,
      "metadata": {
        "hidden": true,
        "id": "puioNf5kygkA"
      },
      "outputs": [],
      "source": [
        "# In order to execute the current cell, press Ctrl + Enter\n",
        "# In order to execute the current cell and switch to the next new cell, press Shift + Enter"
      ]
    },
    {
      "cell_type": "markdown",
      "metadata": {
        "hidden": true,
        "id": "13JBz5ChygkB"
      },
      "source": [
        "#### In-line comment"
      ]
    },
    {
      "cell_type": "code",
      "execution_count": null,
      "metadata": {
        "hidden": true,
        "id": "rLZhjIyVygkC",
        "outputId": "e881a0b1-5ffc-4f37-8569-1f697839d5ab"
      },
      "outputs": [
        {
          "data": {
            "text/plain": [
              "12"
            ]
          },
          "execution_count": 21,
          "metadata": {},
          "output_type": "execute_result"
        }
      ],
      "source": [
        "12 # Any random number"
      ]
    },
    {
      "cell_type": "markdown",
      "metadata": {
        "hidden": true,
        "id": "8NooLs6JygkE"
      },
      "source": [
        "12 is returned as the output"
      ]
    },
    {
      "cell_type": "markdown",
      "metadata": {
        "heading_collapsed": true,
        "id": "rcJTq-6XygkE"
      },
      "source": [
        "## Arithmetic Operations"
      ]
    },
    {
      "cell_type": "code",
      "execution_count": null,
      "metadata": {
        "hidden": true,
        "id": "IY39wMNyygkF",
        "outputId": "21591088-1ede-475a-e9d7-a1f2dc0317c1"
      },
      "outputs": [
        {
          "data": {
            "text/plain": [
              "16"
            ]
          },
          "execution_count": 2,
          "metadata": {},
          "output_type": "execute_result"
        }
      ],
      "source": [
        "# Operation like a calculator\n",
        "45 - 29"
      ]
    },
    {
      "cell_type": "markdown",
      "metadata": {
        "hidden": true,
        "id": "oWgG_tcuygkF"
      },
      "source": [
        "<div class=\"alert alert-info\">\n",
        "<ul>\n",
        "<li>Variables are used to store all different types of data.\n",
        "<li>OVariable name should not start with digit.\n",
        "<li> Here,<b><i>a,b,c,d,e,f,g</i></b> are the variables used to store arithmetic operations.\n",
        "<li><b>print()</b> is used to display the output.\n",
        "</ul></div>"
      ]
    },
    {
      "cell_type": "code",
      "execution_count": null,
      "metadata": {
        "hidden": true,
        "id": "eTRVT9OdygkG",
        "outputId": "3766dbf3-2a44-4459-b555-57fed218eac2"
      },
      "outputs": [
        {
          "name": "stdout",
          "output_type": "stream",
          "text": [
            "Addition 11+5 : 16\n",
            "Subtraction 11-5 : 6\n",
            "Multiplication 11*5 : 55\n",
            "Division 11/5 : 2.2\n",
            "Division (// returns quotient) 11//5 : 2\n",
            "Division (% returns remainder) 11%5 : 1\n",
            "Exponent 11**5 : 161051\n"
          ]
        }
      ],
      "source": [
        "a = 11 + 5  # addition\n",
        "print(\"Addition 11+5 :\", a)\n",
        "\n",
        "b = 11 - 5  # subtraction\n",
        "print(\"Subtraction 11-5 :\", b)\n",
        "\n",
        "c = 11 * 5  # multiplication\n",
        "print(\"Multiplication 11*5 :\", c)\n",
        "\n",
        "d = 11 / 5  # division\n",
        "print(\"Division 11/5 :\", d)\n",
        "\n",
        "e = 11 // 5  # returns quotient as result\n",
        "print(\"Division (// returns quotient) 11//5 :\", e)\n",
        "\n",
        "f = 11 % 5  # (modulus) returns remainder as result\n",
        "print(\"Division (% returns remainder) 11%5 :\", f)\n",
        "\n",
        "g = 11**5  # exponents\n",
        "print(\"Exponent 11**5 :\", g)"
      ]
    },
    {
      "cell_type": "markdown",
      "metadata": {
        "hidden": true,
        "id": "r5ux0CnUygkH"
      },
      "source": [
        "<div class=\"alert alert-info\"><li>Remember, the arithmetic operations always follow the <b>PEDMAS</b> rule. Consider the two examples below:</div>"
      ]
    },
    {
      "cell_type": "code",
      "execution_count": null,
      "metadata": {
        "hidden": true,
        "id": "nHf-D_gXygkI",
        "outputId": "9da6dfb1-3024-416b-cc4d-c602ca4cc87d"
      },
      "outputs": [
        {
          "name": "stdout",
          "output_type": "stream",
          "text": [
            "Result of 5+2*7-8/2**2+1 is : 18.0\n"
          ]
        }
      ],
      "source": [
        "print(\"Result of 5+2*7-8/2**2+1 is :\", 5 + 2 * 7 - 8 / 2**2 + 1)"
      ]
    },
    {
      "cell_type": "code",
      "execution_count": null,
      "metadata": {
        "hidden": true,
        "id": "8EfNU4PoygkI",
        "outputId": "35778375-9c97-4c58-85be-ab624d12a890"
      },
      "outputs": [
        {
          "name": "stdout",
          "output_type": "stream",
          "text": [
            "Result of (5+2)*7-(8/2**2)+1 is : 48.0\n"
          ]
        }
      ],
      "source": [
        "print(\"Result of (5+2)*7-(8/2**2)+1 is :\", (5 + 2) * 7 - (8 / 2**2) + 1)"
      ]
    },
    {
      "cell_type": "code",
      "source": [
        "from ipywidgets import interact, IntSlider\n",
        "\n",
        "def perform_arithmetic(a, b):\n",
        "  \"\"\"Performs basic arithmetic operations.\"\"\"\n",
        "  print(f\"a + b = {a + b}\")\n",
        "  print(f\"a - b = {a - b}\")\n",
        "  print(f\"a * b = {a * b}\")\n",
        "  if b != 0:\n",
        "    print(f\"a / b = {a / b}\")\n",
        "  else:\n",
        "    print(\"Division by zero is not possible.\")\n",
        "\n",
        "print(\"Experiment with arithmetic operations:\")\n",
        "\n",
        "interact(perform_arithmetic, a=IntSlider(min=-10, max=10, step=1, value=0), b=IntSlider(min=-10, max=10, step=1, value=0));"
      ],
      "metadata": {
        "colab": {
          "base_uri": "https://localhost:8080/",
          "height": 168,
          "referenced_widgets": [
            "821c2aeff0d3494d99b2e6093d15d837",
            "154aa0ce4ac34e85b59f86df25f07273",
            "c4fb10efa2db45f0a93da5fbcf950db3",
            "f5cfa5831d5f460d853f1ad919b73127",
            "63d6a731f870428d96a6901c749af12e",
            "8b81befa90c940db876b13e41339d52e",
            "0169dcbf86ab41e09f698948d987208e",
            "308e7f04569c4d13ac2a1ff656a6eb70",
            "d3c028ad80a0434cab76be6b751f88d4",
            "0a4bab3d935f41b0b0a06b1c4602cedd"
          ]
        },
        "id": "Kh3zHcr67WiK",
        "outputId": "b7ff4479-6685-46d0-e484-3909c5ad0e7d"
      },
      "execution_count": null,
      "outputs": [
        {
          "output_type": "stream",
          "name": "stdout",
          "text": [
            "Experiment with arithmetic operations:\n"
          ]
        },
        {
          "output_type": "display_data",
          "data": {
            "text/plain": [
              "interactive(children=(IntSlider(value=0, description='a', max=10, min=-10), IntSlider(value=0, description='b'…"
            ],
            "application/vnd.jupyter.widget-view+json": {
              "version_major": 2,
              "version_minor": 0,
              "model_id": "821c2aeff0d3494d99b2e6093d15d837"
            }
          },
          "metadata": {}
        }
      ]
    },
    {
      "cell_type": "markdown",
      "metadata": {
        "heading_collapsed": true,
        "id": "eyNg_-mfygkJ"
      },
      "source": [
        "## Boolean Operations"
      ]
    },
    {
      "cell_type": "code",
      "execution_count": null,
      "metadata": {
        "hidden": true,
        "id": "i-1vTWuYygkJ",
        "outputId": "61a83749-bf2d-4d9d-c8d1-29e82a4147b2"
      },
      "outputs": [
        {
          "name": "stdout",
          "output_type": "stream",
          "text": [
            "11 is greater than 5: True\n",
            "11 is less than 5: False\n",
            "\n",
            "11 is lesser than or equal to  5: False\n",
            "11 is greater than or equal to 5: True\n",
            "\n",
            "11 is equal to 5: False\n",
            "11 is not equal to 5: True\n"
          ]
        }
      ],
      "source": [
        "# Boolean expressions\n",
        "\n",
        "print(\"11 is greater than 5:\", 11 > 5)  # greater than\n",
        "print(\"11 is less than 5:\", 11 < 5)  # less than\n",
        "\n",
        "print(\"\\n11 is lesser than or equal to  5:\", 11 <= 5)  # less than equal to\n",
        "print(\"11 is greater than or equal to 5:\", 11 >= 5)  # greater than equal to\n",
        "\n",
        "print(\"\\n11 is equal to 5:\", 11 == 5)  # equal to\n",
        "print(\"11 is not equal to 5:\", 11 != 5)  # not equal to"
      ]
    },
    {
      "cell_type": "markdown",
      "metadata": {
        "hidden": true,
        "id": "HEWIYGIrygkK"
      },
      "source": [
        "Boolean Operations"
      ]
    },
    {
      "cell_type": "code",
      "execution_count": null,
      "metadata": {
        "hidden": true,
        "id": "OFBwHsrsygkK",
        "outputId": "149a29ca-2863-4d94-c203-5fb21675185b"
      },
      "outputs": [
        {
          "name": "stdout",
          "output_type": "stream",
          "text": [
            "11>5 or 11<5:  True\n",
            "11>5 and 11<5:  False\n",
            "\n",
            "False or True:  True\n",
            "False and True:  False\n",
            "\n",
            "not(True):  False\n",
            "not(False):  True\n"
          ]
        }
      ],
      "source": [
        "# AND: Returns true only if both conditions are true\n",
        "# OR: Returns true if either one of both the conditions is true\n",
        "# NOT: reverses the result\n",
        "\n",
        "print(\"11>5 or 11<5: \", 11 > 5 or 11 < 5)\n",
        "print(\"11>5 and 11<5: \", 11 > 5 and 11 < 5)\n",
        "\n",
        "print(\"\\nFalse or True: \", False or True)\n",
        "print(\"False and True: \", False and True)\n",
        "\n",
        "print(\"\\nnot(True): \", not (True))\n",
        "print(\"not(False): \", not (False))"
      ]
    },
    {
      "cell_type": "code",
      "source": [
        "from ipywidgets import interact, Checkbox\n",
        "from IPython.display import display\n",
        "\n",
        "def perform_boolean_operations(a, b):\n",
        "  \"\"\"Performs basic boolean operations.\"\"\"\n",
        "  print(f\"a: {a}\")\n",
        "  print(f\"b: {b}\")\n",
        "  print(f\"a and b: {a and b}\")\n",
        "  print(f\"a or b: {a or b}\")\n",
        "  print(f\"not a: {not a}\")\n",
        "  print(f\"not b: {not b}\")\n",
        "\n",
        "print(\"Experiment with boolean operations:\")\n",
        "\n",
        "interact(perform_boolean_operations, a=Checkbox(value=False, description='a'), b=Checkbox(value=False, description='b'));"
      ],
      "metadata": {
        "colab": {
          "base_uri": "https://localhost:8080/",
          "height": 202,
          "referenced_widgets": [
            "8b7202a2496a4cb9a587239ef6b60d60",
            "be8e441312614f34963c19014628995a",
            "41c5e41ced224256ad123967a402be69",
            "43709b7eddaf43058baf5f5e71d7a736",
            "4ecb7f24c39a4df1a5d89a1b86aee5eb",
            "c8bca044fede4f0983eadd7f6663f144",
            "15e8d1dd2e004a68b26def5a992164c6",
            "672730985b294adbae7c17cfd9aa56c3",
            "402b0779b7084963b889c686be29376b",
            "8e98d2157c934a718248777b9d38a604"
          ]
        },
        "id": "_6H9w2jR7mrd",
        "outputId": "f2b4c4b7-f96d-4ed6-e4a9-d2092e5359f2"
      },
      "execution_count": null,
      "outputs": [
        {
          "output_type": "stream",
          "name": "stdout",
          "text": [
            "Experiment with boolean operations:\n"
          ]
        },
        {
          "output_type": "display_data",
          "data": {
            "text/plain": [
              "interactive(children=(Checkbox(value=False, description='a'), Checkbox(value=False, description='b'), Output()…"
            ],
            "application/vnd.jupyter.widget-view+json": {
              "version_major": 2,
              "version_minor": 0,
              "model_id": "8b7202a2496a4cb9a587239ef6b60d60"
            }
          },
          "metadata": {}
        }
      ]
    },
    {
      "cell_type": "markdown",
      "metadata": {
        "heading_collapsed": true,
        "id": "YeKqgtC0ygkK"
      },
      "source": [
        "## Importing Libraries"
      ]
    },
    {
      "cell_type": "markdown",
      "metadata": {
        "hidden": true,
        "id": "mzKNTMGbygkL"
      },
      "source": [
        "<div class=\"alert alert-info\"><li>Use <b>import</b> and <b>from</b> for using external libraries<li><b>as</b> is used to define alias <li><b>help</b> is used for getting more information<li><b>dir</b> is used for viewing all methods</div>"
      ]
    },
    {
      "cell_type": "code",
      "execution_count": null,
      "metadata": {
        "hidden": true,
        "id": "9qa7EJTHygkL",
        "outputId": "1dbcdaba-7b8a-4ede-a4d4-3530d1770783"
      },
      "outputs": [
        {
          "name": "stdout",
          "output_type": "stream",
          "text": [
            "m.sqrt(16):  4.0\n",
            "m.pi:  3.141592653589793\n",
            "m.e:  2.718281828459045 \n",
            "\n",
            "Help on built-in function sqrt in module math:\n",
            "\n",
            "sqrt(x, /)\n",
            "    Return the square root of x.\n",
            "\n"
          ]
        }
      ],
      "source": [
        "# math library is a library of mathematical functions and constants.\n",
        "import math as m\n",
        "\n",
        "# square root\n",
        "print(\"m.sqrt(16): \", m.sqrt(16))\n",
        "\n",
        "# value of pi\n",
        "print(\"m.pi: \", m.pi)\n",
        "\n",
        "# value of e\n",
        "print(\"m.e: \", m.e, \"\\n\")\n",
        "\n",
        "# getting help for sqrt(math library)\n",
        "help(m.sqrt)"
      ]
    },
    {
      "cell_type": "code",
      "execution_count": null,
      "metadata": {
        "hidden": true,
        "id": "eKGG0oocygkL",
        "outputId": "fd3fceb4-19d2-4461-b1c7-c678b18374df"
      },
      "outputs": [
        {
          "name": "stdout",
          "output_type": "stream",
          "text": [
            "tau:  6.283185307179586\n"
          ]
        }
      ],
      "source": [
        "# Only importing specific attributes or methods\n",
        "from math import tau\n",
        "\n",
        "# Value of Tau\n",
        "print(\"tau: \", tau)"
      ]
    },
    {
      "cell_type": "markdown",
      "metadata": {
        "hidden": true,
        "id": "AvU40Fw4ygkM"
      },
      "source": [
        "* [How Imports Work in Python](https://betterprogramming.pub/how-imports-work-in-python-59c2943d87dc)\n",
        "* [PythonImportExample](https://github.com/Polaris000/BlogCode/tree/main/PythonImportExample)"
      ]
    },
    {
      "cell_type": "markdown",
      "metadata": {
        "heading_collapsed": true,
        "hidden": true,
        "id": "0I03pBTYygkM"
      },
      "source": [
        "### help()"
      ]
    },
    {
      "cell_type": "code",
      "execution_count": null,
      "metadata": {
        "hidden": true,
        "id": "aHDtdaHXygkN",
        "outputId": "7e313bd3-ab17-4652-b7d0-35207997ea93"
      },
      "outputs": [
        {
          "name": "stdout",
          "output_type": "stream",
          "text": [
            "\n",
            "Here is a list of the Python keywords.  Enter any keyword to get more help.\n",
            "\n",
            "False               break               for                 not\n",
            "None                class               from                or\n",
            "True                continue            global              pass\n",
            "__peg_parser__      def                 if                  raise\n",
            "and                 del                 import              return\n",
            "as                  elif                in                  try\n",
            "assert              else                is                  while\n",
            "async               except              lambda              with\n",
            "await               finally             nonlocal            yield\n",
            "\n"
          ]
        }
      ],
      "source": [
        "# We should not use these reserved keywords as our variable names\n",
        "help('keywords')"
      ]
    },
    {
      "cell_type": "code",
      "execution_count": null,
      "metadata": {
        "hidden": true,
        "id": "eldOaPkoygkN",
        "outputId": "8f01b21c-1c97-4ed6-a1ad-70c04cbf0746"
      },
      "outputs": [
        {
          "name": "stdout",
          "output_type": "stream",
          "text": [
            "['False', 'None', 'True', '__peg_parser__', 'and', 'as', 'assert', 'async', 'await', 'break', 'class', 'continue', 'def', 'del', 'elif', 'else', 'except', 'finally', 'for', 'from', 'global', 'if', 'import', 'in', 'is', 'lambda', 'nonlocal', 'not', 'or', 'pass', 'raise', 'return', 'try', 'while', 'with', 'yield']\n"
          ]
        }
      ],
      "source": [
        "# keyword library contains all Python built-in keywords\n",
        "\n",
        "import keyword\n",
        "print(keyword.kwlist)"
      ]
    },
    {
      "cell_type": "markdown",
      "metadata": {
        "hidden": true,
        "id": "TCxRLnFdygkO"
      },
      "source": [
        "* [Reserved Keywords in Python](https://www.programiz.com/python-programming/keyword-list)"
      ]
    },
    {
      "cell_type": "markdown",
      "metadata": {
        "heading_collapsed": true,
        "id": "SAhKTYwkygkO"
      },
      "source": [
        "## type()"
      ]
    },
    {
      "cell_type": "markdown",
      "metadata": {
        "hidden": true,
        "id": "tXbhsI-NygkP"
      },
      "source": [
        "**type()** is used to determine the type of the object\n",
        "\n"
      ]
    },
    {
      "cell_type": "code",
      "execution_count": null,
      "metadata": {
        "hidden": true,
        "id": "kvXi-4-6ygkQ",
        "outputId": "d3d020bf-9ce2-4a78-b7f9-aa5075d48d23"
      },
      "outputs": [
        {
          "data": {
            "text/plain": [
              "int"
            ]
          },
          "execution_count": 24,
          "metadata": {},
          "output_type": "execute_result"
        }
      ],
      "source": [
        "a = 1\n",
        "type(a)"
      ]
    },
    {
      "cell_type": "code",
      "execution_count": null,
      "metadata": {
        "hidden": true,
        "id": "Jt6M1J0jygkQ",
        "outputId": "8ce525cf-7596-4c10-f23a-5e253b5c061d"
      },
      "outputs": [
        {
          "data": {
            "text/plain": [
              "float"
            ]
          },
          "execution_count": 25,
          "metadata": {},
          "output_type": "execute_result"
        }
      ],
      "source": [
        "b = 2.5\n",
        "type(b)"
      ]
    },
    {
      "cell_type": "code",
      "execution_count": null,
      "metadata": {
        "hidden": true,
        "id": "2MprOZbeygkQ",
        "outputId": "344c09fe-41c6-4c0c-9895-081189e7c843"
      },
      "outputs": [
        {
          "data": {
            "text/plain": [
              "str"
            ]
          },
          "execution_count": 26,
          "metadata": {},
          "output_type": "execute_result"
        }
      ],
      "source": [
        "c = 'Hello'\n",
        "type(c)"
      ]
    },
    {
      "cell_type": "code",
      "execution_count": null,
      "metadata": {
        "hidden": true,
        "id": "pjKpEvQlygkR",
        "outputId": "4d847e3b-67db-4af9-9baf-59c2559d3aaa"
      },
      "outputs": [
        {
          "data": {
            "text/plain": [
              "bool"
            ]
          },
          "execution_count": 27,
          "metadata": {},
          "output_type": "execute_result"
        }
      ],
      "source": [
        "d = False\n",
        "type(d)"
      ]
    },
    {
      "cell_type": "code",
      "execution_count": null,
      "metadata": {
        "hidden": true,
        "id": "NrBeSi3uygkb",
        "outputId": "6b68a96a-e0de-4e34-8506-e66adcc8e2e3"
      },
      "outputs": [
        {
          "data": {
            "text/plain": [
              "list"
            ]
          },
          "execution_count": 28,
          "metadata": {},
          "output_type": "execute_result"
        }
      ],
      "source": [
        "e = [1,2,3]\n",
        "type(e)"
      ]
    },
    {
      "cell_type": "code",
      "execution_count": null,
      "metadata": {
        "hidden": true,
        "id": "ISXxm1Ebygkc",
        "outputId": "a004453d-37f2-49ec-a0ee-5fb76f97b52f"
      },
      "outputs": [
        {
          "data": {
            "text/plain": [
              "tuple"
            ]
          },
          "execution_count": 29,
          "metadata": {},
          "output_type": "execute_result"
        }
      ],
      "source": [
        "f = (10,20,30)\n",
        "type(f)"
      ]
    },
    {
      "cell_type": "code",
      "execution_count": null,
      "metadata": {
        "hidden": true,
        "id": "unzvh-3oygkd",
        "outputId": "a7abbcef-f346-47fc-fbe6-633db7360545"
      },
      "outputs": [
        {
          "data": {
            "text/plain": [
              "set"
            ]
          },
          "execution_count": 30,
          "metadata": {},
          "output_type": "execute_result"
        }
      ],
      "source": [
        "g = {1,2,3}\n",
        "type(g)"
      ]
    },
    {
      "cell_type": "code",
      "execution_count": null,
      "metadata": {
        "hidden": true,
        "id": "0PF3QZmAygke",
        "outputId": "150cefe2-1ee5-4622-accc-c19ef78c4a05"
      },
      "outputs": [
        {
          "data": {
            "text/plain": [
              "dict"
            ]
          },
          "execution_count": 32,
          "metadata": {},
          "output_type": "execute_result"
        }
      ],
      "source": [
        "h = {1:10, 2:20, 3:30}\n",
        "type(h)"
      ]
    },
    {
      "cell_type": "markdown",
      "metadata": {
        "heading_collapsed": true,
        "id": "mvFlioYeygke"
      },
      "source": [
        "## Data types and structures"
      ]
    },
    {
      "cell_type": "markdown",
      "metadata": {
        "hidden": true,
        "id": "5osAhb6bygkP"
      },
      "source": [
        "<img width=\"60%\" src=\"https://assets.isu.pub/document-structure/231006102530-ad6c0bf75c891f69b52412347d822f2a/v1/c156808c6bb9315f9b270a33af7f40f9.jpeg\" alt=\"data_types.png\">"
      ]
    },
    {
      "cell_type": "markdown",
      "metadata": {
        "hidden": true,
        "id": "2VCTRpqaygkf"
      },
      "source": [
        "A data structure allows us to organize and arrange our data to perform operations on them. Python has the following built-in data structures: **List**, **dictionary**, **tuple** and **set**. These are all considered **non-primitive** data structures.\n",
        "\n",
        "Data Structures can be **mutable** or **immutable**. Mutability refers to data inside the data structure that can be modified. For example, we can either change, update, or delete the data when needed. An immutable data structure will not allow modification once the data has been set.\n",
        "\n",
        "For example,  a List is a mutable data structure whereas a tuple is an example of an immutable data structure."
      ]
    },
    {
      "cell_type": "markdown",
      "metadata": {
        "heading_collapsed": true,
        "hidden": true,
        "id": "dDiGG05lygkg"
      },
      "source": [
        "### Strings"
      ]
    },
    {
      "cell_type": "markdown",
      "metadata": {
        "hidden": true,
        "id": "tNL9z0uRygkg"
      },
      "source": [
        "<div class=\"alert alert-info\"><li>Strings can be specified using both <i>single</i> or <i>double</i> quotes. <li>Strings are immutable.</div>"
      ]
    },
    {
      "cell_type": "code",
      "execution_count": null,
      "metadata": {
        "hidden": true,
        "id": "aBKB_-xHygkg",
        "outputId": "0b652b77-bdd1-4b08-fda9-2a15867eeb5d"
      },
      "outputs": [
        {
          "data": {
            "text/plain": [
              "''"
            ]
          },
          "execution_count": 14,
          "metadata": {},
          "output_type": "execute_result"
        }
      ],
      "source": [
        "# This is an empty string\n",
        "s = ''\n",
        "s"
      ]
    },
    {
      "cell_type": "code",
      "execution_count": null,
      "metadata": {
        "id": "UWJU_AgWygkh",
        "outputId": "1a51fc3e-ed17-42f0-f172-0eec88d17ec2"
      },
      "outputs": [
        {
          "name": "stdout",
          "output_type": "stream",
          "text": [
            "x: orange\n",
            "y: yellow\n",
            "\n",
            "x == y: False\n",
            "x is y: False\n",
            "x != y: True\n",
            "x < y: True\n",
            "x > y False\n"
          ]
        }
      ],
      "source": [
        "x = \"orange\"  # using double quotes\n",
        "y = 'yellow'  # using single quotes\n",
        "\n",
        "print(\"x:\", x)\n",
        "print(\"y:\", y)\n",
        "\n",
        "# equal to\n",
        "print(\"\\nx == y:\", x == y)\n",
        "\n",
        "# is statement is equivalent to ==\n",
        "print(\"x is y:\", x is y)\n",
        "\n",
        "# not equal to\n",
        "print(\"x != y:\", x != y)\n",
        "\n",
        "# less than, returns true as 'o' comes before 'y'\n",
        "print(\"x < y:\", x < y)\n",
        "\n",
        "# greater than, returns false as 'o' comes before 'y'\n",
        "print(\"x > y\", x > y)"
      ]
    },
    {
      "cell_type": "code",
      "execution_count": null,
      "metadata": {
        "id": "cfx4Aj9Yygki",
        "outputId": "056cf317-b90f-4190-e301-5982bb5f3704"
      },
      "outputs": [
        {
          "name": "stdout",
          "output_type": "stream",
          "text": [
            "1=='1': False\n"
          ]
        }
      ],
      "source": [
        "# 1 is an integer while '1' is a string\n",
        "print(\"1=='1':\", 1 == '1')"
      ]
    },
    {
      "cell_type": "code",
      "execution_count": null,
      "metadata": {
        "hidden": true,
        "id": "8J4_u1YAygkj",
        "outputId": "53beb278-b3a9-4d22-f204-f85539ab6852"
      },
      "outputs": [
        {
          "name": "stdout",
          "output_type": "stream",
          "text": [
            "s1: abcdef\n",
            "s2: abcdef\n",
            "s1 == s2: True\n",
            "s1 is s2: True\n",
            "\n",
            "s3: abc-def\n",
            "s4: abc-def\n",
            "s3 == s4: True\n",
            "s3 is s4: False\n"
          ]
        }
      ],
      "source": [
        "# A String Peculiarity\n",
        "\n",
        "s1 = 'abcdef'\n",
        "s2 = 'abcdef'\n",
        "print('s1:', s1)\n",
        "print('s2:', s2)\n",
        "print(\"s1 == s2:\", s1 == s2)  # returns True\n",
        "print(\"s1 is s2:\", s1 is s2)  # returns True\n",
        "\n",
        "s3 = 'abc-def'\n",
        "s4 = 'abc-def'\n",
        "print('\\ns3:', s3)\n",
        "print('s4:', s4)\n",
        "print(\"s3 == s4:\", s3 == s4)  # returns True\n",
        "\n",
        "# returns False because of the introduction of special character\n",
        "print(\"s3 is s4:\", s3 is s4)"
      ]
    },
    {
      "cell_type": "markdown",
      "metadata": {
        "hidden": true,
        "id": "QYCKg87Jygkj"
      },
      "source": [
        "<div class=\"alert alert-info\"><li><b>len()</b> is used to determine the length of specified variable, string, list, etc. <li>Spaces are also counted.</div>\n"
      ]
    },
    {
      "cell_type": "code",
      "execution_count": null,
      "metadata": {
        "hidden": true,
        "id": "CvZIwH-sygkk",
        "outputId": "308c7ab3-4b67-4e9b-b148-d682388d7e86"
      },
      "outputs": [
        {
          "name": "stdout",
          "output_type": "stream",
          "text": [
            "s: This is a sample text.\n",
            "\n",
            "Length of the string 's' is: 22\n"
          ]
        }
      ],
      "source": [
        "s = \"This is a sample text.\"\n",
        "print(\"s:\", s)\n",
        "\n",
        "# special characters and white spaces are also counted\n",
        "print(\"\\nLength of the string 's' is:\", len(s))"
      ]
    },
    {
      "cell_type": "markdown",
      "metadata": {
        "hidden": true,
        "id": "7vM07uwQygkm"
      },
      "source": [
        "<div class=\"alert alert-info\"><li><b>in</b> operator is used to check whether a substring is present in the main string</div>"
      ]
    },
    {
      "cell_type": "code",
      "execution_count": null,
      "metadata": {
        "hidden": true,
        "id": "eq-TcP73ygkm",
        "outputId": "8edaa216-729e-4be7-8fe3-2a949ef398bc"
      },
      "outputs": [
        {
          "name": "stdout",
          "output_type": "stream",
          "text": [
            "a: This is a sample string\n",
            "\n",
            "'sample' in a: True\n",
            "'test' in a: False\n",
            "'sample' not in a: False\n"
          ]
        }
      ],
      "source": [
        "a = \"This is a sample string\"\n",
        "print(\"a:\", a)\n",
        "\n",
        "print(\"\\n'sample' in a:\", 'sample' in a)\n",
        "print(\"'test' in a:\", 'test' in a)\n",
        "print(\"'sample' not in a:\", 'sample' not in a)  # not in means not a substring"
      ]
    },
    {
      "cell_type": "markdown",
      "metadata": {
        "hidden": true,
        "id": "2qn3NALBygkn"
      },
      "source": [
        "<div class=\"alert alert-info\"><li>Indexes in string</div>"
      ]
    },
    {
      "cell_type": "code",
      "execution_count": null,
      "metadata": {
        "hidden": true,
        "id": "ZqMSv7Plygkn",
        "outputId": "14e98fb2-3909-441c-d248-899ddbeea6be"
      },
      "outputs": [
        {
          "name": "stdout",
          "output_type": "stream",
          "text": [
            "s: Some text\n",
            "len(s): 9\n",
            "\n",
            "First character, s[0]: S\n",
            "\n",
            "Character at index position 7, s[7]: x\n",
            "\n",
            "Last character, ,s[length-1]: t\n",
            "\n",
            "Last character using negative indexing, s[-1]: t\n",
            "\n",
            "Character at index position 4 from the end, s[-4]: t\n",
            "\n",
            "First character, s[-(length)]: S\n"
          ]
        }
      ],
      "source": [
        "s = \"Some text\"\n",
        "print(\"s:\", s)\n",
        "length = len(s)\n",
        "print(\"len(s):\", length)\n",
        "\n",
        "print(\"\\nFirst character, s[0]:\", s[0])  # first character\n",
        "\n",
        "# fetches the character at index position 7 in the string\n",
        "print(\"\\nCharacter at index position 7, s[7]:\", s[7])\n",
        "\n",
        "# last character\n",
        "print(\"\\nLast character, ,s[length-1]:\", s[length - 1])\n",
        "\n",
        "# Negative indexing is also possible, fetches last element\n",
        "print(\"\\nLast character using negative indexing, s[-1]:\", s[-1])\n",
        "\n",
        "# fetches 4th element from the end (equivalent to index position 7 from the beginning)\n",
        "print(\"\\nCharacter at index position 4 from the end, s[-4]:\", s[-4])\n",
        "\n",
        "# fetches first element (equivalent to s[0])\n",
        "print(\"\\nFirst character, s[-(length)]:\", s[-(length)])"
      ]
    },
    {
      "cell_type": "code",
      "execution_count": null,
      "metadata": {
        "hidden": true,
        "id": "Y96kLxXqygko",
        "outputId": "32e75c84-1b60-4dd2-d500-b63e549cdb7d"
      },
      "outputs": [
        {
          "name": "stdout",
          "output_type": "stream",
          "text": [
            "s: this is a sample string.\n",
            "\n",
            "s[1:12]: his is a sa\n",
            "s[1:12:2]: hsi  a\n",
            "s[::-1]: .gnirts elpmas a si siht\n"
          ]
        }
      ],
      "source": [
        "s = \"this is a sample string.\"\n",
        "print(\"s:\", s)\n",
        "\n",
        "# extracts substring from index position 1 to index position 11\n",
        "print(\"\\ns[1:12]:\", s[1:12])\n",
        "\n",
        "# extracts substring from index position 1 to index position 11 while skipping two places\n",
        "print(\"s[1:12:2]:\", s[1:12:2])\n",
        "\n",
        "# reverses the string\n",
        "print(\"s[::-1]:\", s[::-1])"
      ]
    },
    {
      "cell_type": "markdown",
      "metadata": {
        "hidden": true,
        "id": "Ev2SG8foygko"
      },
      "source": [
        "<div class=\"alert alert-info\"><li>Escape sequences are specified using <b>backslash (\\\\)</b>.\n",
        "<li><b>\\n</b> is used as a wildcard in order to print a new blank line.</div>"
      ]
    },
    {
      "cell_type": "code",
      "execution_count": null,
      "metadata": {
        "hidden": true,
        "id": "9JAOWJNsygkp",
        "outputId": "f047e6f3-a62a-46b7-fdd1-6b7b491ef812"
      },
      "outputs": [
        {
          "name": "stdout",
          "output_type": "stream",
          "text": [
            "Text 1\n",
            "Text 2\n"
          ]
        }
      ],
      "source": [
        "print(\"Text 1\\nText 2\")  # two separate lines are printed"
      ]
    },
    {
      "cell_type": "code",
      "execution_count": null,
      "metadata": {
        "hidden": true,
        "id": "vuK-DaaNygkp",
        "outputId": "66ce057b-20b9-43c2-bed8-ee760700b311"
      },
      "outputs": [
        {
          "name": "stdout",
          "output_type": "stream",
          "text": [
            "Text 1\\nText 2\n"
          ]
        }
      ],
      "source": [
        "# In order to print \\n as text, we insert a backslash as an escape sequence.\n",
        "print(\"Text 1\\\\nText 2\")"
      ]
    },
    {
      "cell_type": "code",
      "execution_count": null,
      "metadata": {
        "hidden": true,
        "id": "b4LUUdTmygkq",
        "outputId": "5e85c193-b046-4d5b-cf9f-5e8052ad41d6"
      },
      "outputs": [
        {
          "name": "stdout",
          "output_type": "stream",
          "text": [
            "Text 1\\nText 2\n"
          ]
        }
      ],
      "source": [
        "# Letter 'r' can also be placed before the string as an alternative to escape sequence (works similar to above)\n",
        "print(r\"Text 1\\nText 2\")"
      ]
    },
    {
      "cell_type": "code",
      "execution_count": null,
      "metadata": {
        "hidden": true,
        "id": "G6Rb1_skygkr",
        "outputId": "be85e520-cc73-4bb1-f96e-97b7bc8eec2a"
      },
      "outputs": [
        {
          "name": "stdout",
          "output_type": "stream",
          "text": [
            "Text 1\tText 2\n"
          ]
        }
      ],
      "source": [
        "# \\t represents a tab\n",
        "print(\"Text 1\\tText 2\")"
      ]
    },
    {
      "cell_type": "markdown",
      "metadata": {
        "hidden": true,
        "id": "_cW7n42-ygkr"
      },
      "source": [
        "<div class=\"alert alert-info\"><li><b>Three quotes</b> (single or double) are used to define a <b>paragraph</b>, example:</div>"
      ]
    },
    {
      "cell_type": "code",
      "execution_count": null,
      "metadata": {
        "hidden": true,
        "id": "d3tnIcRMygky",
        "outputId": "1febfb29-3b0a-4533-d5e4-d10c48fe0118"
      },
      "outputs": [
        {
          "name": "stdout",
          "output_type": "stream",
          "text": [
            "This is a test paragraph using double quotes.\n",
            "This is another line.\n",
            "\n",
            "This is a second paragraph using single quotes.\n",
            "Multiple lines can be used.\n",
            "\n",
            "This is a third paragraph. Multiple lines can be used. If we use \\ in the end of line, it continues to remain in the same line.\n",
            "\n",
            "Class of paragraph: <class 'str'>\n",
            "Length of paragraph: 68\n"
          ]
        }
      ],
      "source": [
        "paragraph = \"\"\"This is a test paragraph using double quotes.\n",
        "This is another line.\\n\"\"\"\n",
        "print(paragraph)\n",
        "\n",
        "second_paragraph = '''This is a second paragraph using single quotes.\n",
        "Multiple lines can be used.\\n'''\n",
        "print(second_paragraph)\n",
        "\n",
        "third_paragraph = '''This is a third paragraph. \\\n",
        "Multiple lines can be used. \\\n",
        "If we use \\ in the end of line, it continues to remain in the same line.\\n'''\n",
        "print(third_paragraph)\n",
        "\n",
        "# paragraph is used mostly for documentation. It is of String datatype.\n",
        "print(\"Class of paragraph:\", type(paragraph))\n",
        "print(\"Length of paragraph:\", len(paragraph))"
      ]
    },
    {
      "cell_type": "markdown",
      "metadata": {
        "hidden": true,
        "id": "jKRYpLUuygky"
      },
      "source": [
        "<div class=\"alert alert-info\"><li><b>Multiplication</b> of strings</div>"
      ]
    },
    {
      "cell_type": "code",
      "execution_count": null,
      "metadata": {
        "hidden": true,
        "id": "SptAD_-8ygky",
        "outputId": "464872ac-be9d-4e6a-ae48-b2f6aa6c4ff7"
      },
      "outputs": [
        {
          "name": "stdout",
          "output_type": "stream",
          "text": [
            "Hey! Hey! Hey! \n"
          ]
        }
      ],
      "source": [
        "s1 = 'Hey! '\n",
        "print(s1 * 3)  # 3 copies of string s1"
      ]
    },
    {
      "cell_type": "markdown",
      "metadata": {
        "hidden": true,
        "id": "TVl-TdEdygkz"
      },
      "source": [
        "<div class=\"alert alert-info\"><li>Strings can be <b>concatenated</b> using the <b>+</b> sign.</div>"
      ]
    },
    {
      "cell_type": "code",
      "execution_count": null,
      "metadata": {
        "hidden": true,
        "id": "Utg5i988ygkz",
        "outputId": "1ba66b3a-c2ef-4fa6-8c31-09431895de2c"
      },
      "outputs": [
        {
          "data": {
            "text/plain": [
              "'This is a concatenated string.'"
            ]
          },
          "execution_count": 26,
          "metadata": {},
          "output_type": "execute_result"
        }
      ],
      "source": [
        "\"This is a \" + 'concatenated string.'"
      ]
    },
    {
      "cell_type": "markdown",
      "metadata": {
        "hidden": true,
        "id": "w3NzQXkLygkz"
      },
      "source": [
        "<div class=\"alert alert-info\"><li><b>Functions</b> on String</div>"
      ]
    },
    {
      "cell_type": "code",
      "execution_count": null,
      "metadata": {
        "hidden": true,
        "id": "1J79abrWygk0",
        "outputId": "36baeb62-48b6-45ef-d267-0dbd7be04c13"
      },
      "outputs": [
        {
          "name": "stdout",
          "output_type": "stream",
          "text": [
            "s: this is a sample string.\n",
            "\n",
            "s.upper(): THIS IS A SAMPLE STRING.\n",
            "s.lower(): this is a sample string.\n",
            "s.capitalize(): This is a sample string.\n",
            "s.title(): This Is A Sample String.\n"
          ]
        }
      ],
      "source": [
        "s = \"this is a sample string.\"\n",
        "print(\"s:\", s)\n",
        "\n",
        "# converts string into upper case\n",
        "print(\"\\ns.upper():\", s.upper())\n",
        "\n",
        "# converts string into lower case\n",
        "print(\"s.lower():\", s.lower())\n",
        "\n",
        "# capitalize the first letter\n",
        "print(\"s.capitalize():\", s.capitalize())\n",
        "\n",
        "# returns the string with first capital letter of each word\n",
        "print(\"s.title():\", s.title())"
      ]
    },
    {
      "cell_type": "code",
      "execution_count": null,
      "metadata": {
        "hidden": true,
        "id": "74saExNuygk0",
        "outputId": "7b951a00-6557-45c4-d12c-955678a3f0d3"
      },
      "outputs": [
        {
          "name": "stdout",
          "output_type": "stream",
          "text": [
            "s: this is a sample string.\n",
            "\n",
            "s.replace(\" \",\"_\"): this_is_a_sample_string.\n",
            "s.replace('sample','test'): this is a test string.\n",
            "\n",
            "s.count('s'): 4\n",
            "\n",
            "s.split(): ['this', 'is', 'a', 'sample', 'string.']\n",
            "s.split('s'): ['thi', ' i', ' a ', 'ample ', 'tring.']\n"
          ]
        }
      ],
      "source": [
        "s = \"this is a sample string.\"\n",
        "print(\"s:\", s)\n",
        "\n",
        "# replaces blank space with underscore\n",
        "print('\\ns.replace(\" \",\"_\"):', s.replace(\" \", \"_\"))\n",
        "\n",
        "# replaces sample with test\n",
        "print(\"s.replace('sample','test'):\", s.replace('sample', 'test'))\n",
        "\n",
        "# returns the number of occurrences, without overlap\n",
        "print(\"\\ns.count('s'):\", s.count('s'))\n",
        "\n",
        "# splits the string (on blank spaces), returns a list\n",
        "print(\"\\ns.split():\", s.split())\n",
        "\n",
        "# splits the string (on character 's')\n",
        "print(\"s.split('s'):\", s.split('s'))"
      ]
    },
    {
      "cell_type": "code",
      "execution_count": null,
      "metadata": {
        "hidden": true,
        "id": "dD2458aEygk1",
        "outputId": "f29d994a-5924-4b0f-cef6-2dc32139b070"
      },
      "outputs": [
        {
          "name": "stdout",
          "output_type": "stream",
          "text": [
            "s: this is a sample string.\n",
            "\n",
            "s.find('amp'): 11\n",
            "s.index('amp'): 11\n",
            "\n",
            "s.startswith('this'): True\n",
            "s.endswith('this'): False\n"
          ]
        }
      ],
      "source": [
        "s = \"this is a sample string.\"\n",
        "print(\"s:\", s)\n",
        "\n",
        "# returns the starting index position of the first occurence\n",
        "print(\"\\ns.find('amp'):\", s.find('amp'))\n",
        "\n",
        "# returns the index of specified string\n",
        "print(\"s.index('amp'):\", s.index('amp'))\n",
        "\n",
        "# checks the start of the string\n",
        "print(\"\\ns.startswith('this'):\", s.startswith('this'))\n",
        "\n",
        "# checks the end of the string\n",
        "print(\"s.endswith('this'):\", s.endswith('this'))"
      ]
    },
    {
      "cell_type": "code",
      "execution_count": null,
      "metadata": {
        "hidden": true,
        "id": "p8TcPfvYygk1",
        "outputId": "66366ee9-a63d-4d78-9533-0580ef0e3c34"
      },
      "outputs": [
        {
          "name": "stdout",
          "output_type": "stream",
          "text": [
            "a:    String with spaces      \n",
            "len(a): 28\n",
            "\n",
            "a.lstrip():String with spaces      \n",
            "len(a.lstrip()): 24\n",
            "\n",
            "a.rstrip():    String with spaces\n",
            "len(a.rstrip()): 22\n",
            "\n",
            "a.strip():String with spaces\n",
            "len(a.strip()): 18\n"
          ]
        }
      ],
      "source": [
        "a = \"    String with spaces      \"\n",
        "print(\"a:\" + a)\n",
        "print(\"len(a):\", len(a))\n",
        "\n",
        "# lstrip removes the white spaces from the left side\n",
        "print(\"\\na.lstrip():\" + a.lstrip())\n",
        "print(\"len(a.lstrip()):\", len(a.lstrip()))\n",
        "\n",
        "# rstrip removes the white spaces from the right side\n",
        "print(\"\\na.rstrip():\" + a.rstrip())\n",
        "print(\"len(a.rstrip()):\", len(a.rstrip()))\n",
        "\n",
        "# strip() removes the white spaces from the left and right end\n",
        "print(\"\\na.strip():\" + a.strip())\n",
        "print(\"len(a.strip()):\", len(a.strip()))"
      ]
    },
    {
      "cell_type": "code",
      "execution_count": null,
      "metadata": {
        "hidden": true,
        "id": "ltyoTnAxygk1",
        "outputId": "14a6dcbd-50e9-41cd-c1d3-9c0b5cc291e8"
      },
      "outputs": [
        {
          "name": "stdout",
          "output_type": "stream",
          "text": [
            "s: 00543\n",
            "s.lstrip('0'): 543\n"
          ]
        }
      ],
      "source": [
        "s = \"00543\"\n",
        "print(\"s:\", s)\n",
        "print(\"s.lstrip('0'):\", s.lstrip('0'))"
      ]
    },
    {
      "cell_type": "code",
      "execution_count": null,
      "metadata": {
        "hidden": true,
        "id": "9C6FaKhgygk2",
        "outputId": "7d7fff96-c903-4dff-9e5e-b2de28405499"
      },
      "outputs": [
        {
          "name": "stdout",
          "output_type": "stream",
          "text": [
            "s: SamPlE TeXt\n",
            "s.swapcase(): sAMpLe tExT\n"
          ]
        }
      ],
      "source": [
        "s = 'SamPlE TeXt'\n",
        "print('s:', s)\n",
        "\n",
        "# Swaps cases for all the letters of the string\n",
        "print('s.swapcase():', s.swapcase())"
      ]
    },
    {
      "cell_type": "code",
      "execution_count": null,
      "metadata": {
        "hidden": true,
        "id": "xFiSx09Vygk2",
        "outputId": "069a874a-21cb-498f-8986-db149b338f6d"
      },
      "outputs": [
        {
          "name": "stdout",
          "output_type": "stream",
          "text": [
            "s: 12345ABCdef\n",
            "s.isalnum(): True\n"
          ]
        }
      ],
      "source": [
        "s = '12345ABCdef'\n",
        "print('s:', s)\n",
        "\n",
        "# Checks whether the string is alphanumeric\n",
        "print('s.isalnum():', s.isalnum())"
      ]
    },
    {
      "cell_type": "code",
      "execution_count": null,
      "metadata": {
        "hidden": true,
        "id": "1jyxkdMRygk3",
        "outputId": "d97dbaad-4f6e-4d65-eb69-275b694ddf0d"
      },
      "outputs": [
        {
          "name": "stdout",
          "output_type": "stream",
          "text": [
            "s: 56893\n",
            "s.isnumeric(): True\n"
          ]
        }
      ],
      "source": [
        "s = '56893'\n",
        "print('s:', s)\n",
        "\n",
        "# Checks whether the string is numeric\n",
        "print('s.isnumeric():', s.isnumeric())"
      ]
    },
    {
      "cell_type": "code",
      "execution_count": null,
      "metadata": {
        "hidden": true,
        "id": "Xu3GrC0Qygk3",
        "outputId": "09319421-141c-47ec-e47e-5a1e8aa45e80"
      },
      "outputs": [
        {
          "name": "stdout",
          "output_type": "stream",
          "text": [
            "s: Learning_Python\n",
            "s.isalpha(): False\n"
          ]
        }
      ],
      "source": [
        "s = 'Learning_Python'\n",
        "print('s:', s)\n",
        "\n",
        "# Checks whether the string is alphabetic\n",
        "print('s.isalpha():', s.isalpha())"
      ]
    },
    {
      "cell_type": "code",
      "execution_count": null,
      "metadata": {
        "hidden": true,
        "id": "PVK-3IePygk3",
        "outputId": "92161b16-b0b0-4e45-8678-b34ac1c626cd"
      },
      "outputs": [
        {
          "name": "stdout",
          "output_type": "stream",
          "text": [
            "s: Coding\n",
            "s.isalpha(): True\n",
            "s.islower(): False\n",
            "s.isupper(): False\n",
            "s.istitle(): True\n",
            "s.isspace(): False\n"
          ]
        }
      ],
      "source": [
        "s = 'Coding'\n",
        "print('s:', s)\n",
        "\n",
        "# Checks whether the string is alphabetic\n",
        "print('s.isalpha():', s.isalpha())\n",
        "\n",
        "# Checks whether the string has lowercase\n",
        "print('s.islower():', s.islower())\n",
        "\n",
        "# Checks whether the string has uppercase\n",
        "print('s.isupper():', s.isupper())\n",
        "\n",
        "# Checks whether the string has a title cased\n",
        "print('s.istitle():', s.istitle())\n",
        "\n",
        "# Checks whether all characters in string are whitespace\n",
        "print('s.isspace():', s.isspace())"
      ]
    },
    {
      "cell_type": "markdown",
      "metadata": {
        "hidden": true,
        "id": "TMjzhykRygk4"
      },
      "source": [
        "<div class=\"alert alert-info\"><b>String Partition</b>, different than <b>split()</b>\n",
        "<li>The partition() method divides a string into three around a separator: <b>prefix, separator, suffix</b><li>Returns a tuple</div>"
      ]
    },
    {
      "cell_type": "code",
      "execution_count": null,
      "metadata": {
        "hidden": true,
        "id": "wwCMY_Kdygk5",
        "outputId": "3dfc9cbf-bf50-4b6f-9033-76970861cab7"
      },
      "outputs": [
        {
          "name": "stdout",
          "output_type": "stream",
          "text": [
            "s: Test-String\n",
            "s.partition('-'): ('Test', '-', 'String')\n",
            "\n",
            "s: Test-Long-String\n",
            "s.partition('-'): ('Test', '-', 'Long-String')\n"
          ]
        }
      ],
      "source": [
        "# includes the first occurrence of the separator sandwiched between the first half and the end half\n",
        "s = 'Test-String'\n",
        "print(\"s:\", s)\n",
        "print(\"s.partition('-'):\", s.partition('-'))\n",
        "\n",
        "# except the first occurrence of separator, the other separators are excluded\n",
        "s = 'Test-Long-String'\n",
        "print(\"\\ns:\", s)\n",
        "print(\"s.partition('-'):\", s.partition('-'))"
      ]
    },
    {
      "cell_type": "markdown",
      "metadata": {
        "hidden": true,
        "id": "cs5bkJwrygk5"
      },
      "source": [
        "<div class=\"alert alert-info\"><b>String Substitution</b>\n",
        "<li>Variables can be printed within a string using <b>format()</b> or <b>f-strings</b></div>"
      ]
    },
    {
      "cell_type": "code",
      "execution_count": null,
      "metadata": {
        "hidden": true,
        "id": "8rxPQiSMygk5",
        "outputId": "773f590e-2974-48d2-ed57-e466516f0334"
      },
      "outputs": [
        {
          "name": "stdout",
          "output_type": "stream",
          "text": [
            "I want two colors\n",
            "\n",
            "I want three colors\n",
            "\n",
            "I want four colors\n"
          ]
        }
      ],
      "source": [
        "# {} are used for substituting text\n",
        "s = \"I want {} colors\".format(\"two\")\n",
        "print(s)\n",
        "\n",
        "# Variable is passed within {}\n",
        "print(\"\\nI want {n} colors\".format(n=\"three\"))\n",
        "\n",
        "# Using f-strings, .format() can be also be replaced using f in the starting\n",
        "n = 'four'\n",
        "print(f\"\\nI want {n} colors\")"
      ]
    },
    {
      "cell_type": "code",
      "execution_count": null,
      "metadata": {
        "hidden": true,
        "id": "nQlq59Xfygk6",
        "outputId": "ba936a2f-94b3-4a1c-b22a-d6767473a348"
      },
      "outputs": [
        {
          "name": "stdout",
          "output_type": "stream",
          "text": [
            "My 2 favourite colors are blue and pink\n",
            "\n",
            "My 2 favourite colors are blue and pink\n",
            "\n",
            "My 2 favourite colors are blue and pink\n",
            "\n",
            "My 2 favourite colors are blue and pink\n"
          ]
        }
      ],
      "source": [
        "color1 = 'blue'\n",
        "color2 = 'pink'\n",
        "number = 2\n",
        "\n",
        "# Using .format()\n",
        "print('My {} favourite colors are {} and {}'.format(number, color1, color2))\n",
        "\n",
        "# Using .format(), passing arguments 0,1,2, and so on\n",
        "print('\\nMy {0} favourite colors are {1} and {2}'.format(number, color1, color2))\n",
        "\n",
        "# Using .format(), passing variables instead of arguments\n",
        "print('\\nMy {a} favourite colors are {b} and {c}'.format(a=number,\n",
        "                                                         b=color1,\n",
        "                                                         c=color2))\n",
        "\n",
        "# Best Implementation, using f-strings\n",
        "print(f'\\nMy {number} favourite colors are {color1} and {color2}')"
      ]
    },
    {
      "cell_type": "code",
      "execution_count": null,
      "metadata": {
        "hidden": true,
        "id": "m7-Q8BClygk6",
        "outputId": "b47e35de-7dcc-40bf-e4da-e8a790cbea23"
      },
      "outputs": [
        {
          "name": "stdout",
          "output_type": "stream",
          "text": [
            "My text has string: Hello!\n",
            "My text has string containing % sign and Hello!\n",
            "\n",
            "My text has number: 42\n",
            "My text has number with 0 decimal places: 42\n",
            "My text has number with 4 decimal places: 42.4000\n"
          ]
        }
      ],
      "source": [
        "# C-style substitution and formatting\n",
        "print(\"My text has string: %s\" % (\"Hello!\"))\n",
        "\n",
        "# % sign acts as an escape sequence\n",
        "print(\"My text has string containing %% sign and %s\" % (\"Hello!\"))\n",
        "\n",
        "print(\"\\nMy text has number: %d\" % (42.4))\n",
        "print(\"My text has number with 0 decimal places: %.0f\" % (42.4))\n",
        "print(\"My text has number with 4 decimal places: %.4f\" % (42.4))"
      ]
    },
    {
      "cell_type": "code",
      "execution_count": null,
      "metadata": {
        "hidden": true,
        "id": "kX8Ea7QYygk6",
        "outputId": "9e451007-d343-4e08-c43d-ee2669a3b480"
      },
      "outputs": [
        {
          "name": "stdout",
          "output_type": "stream",
          "text": [
            "Values are: pi=3.1415926 and e=2.7182818\n",
            "\n",
            "Values are: pi=3.14 and e=2.718\n"
          ]
        }
      ],
      "source": [
        "pi = 3.1415926\n",
        "e = 2.7182818\n",
        "print(f'Values are: pi={pi} and e={e}')\n",
        "\n",
        "values = [pi, e]\n",
        "print(f'\\nValues are: pi={values[0]:.2f} and e={values[1]:.3f}')"
      ]
    },
    {
      "cell_type": "code",
      "source": [
        "from ipywidgets import Textarea, interact\n",
        "\n",
        "def manipulate_string(text):\n",
        "  \"\"\"Demonstrates string manipulation.\"\"\"\n",
        "  print(f\"Original String: {text}\")\n",
        "  print(f\"Uppercase: {text.upper()}\")\n",
        "  print(f\"Lowercase: {text.lower()}\")\n",
        "  print(f\"Capitalized: {text.capitalize()}\")\n",
        "  print(f\"Title Cased: {text.title()}\")\n",
        "  print(f\"Length: {len(text)}\")\n",
        "\n",
        "print(\"Experiment with string manipulation:\")\n",
        "\n",
        "interact(manipulate_string, text=Textarea(value='Enter your text here', description='String:'));"
      ],
      "metadata": {
        "colab": {
          "base_uri": "https://localhost:8080/",
          "height": 184,
          "referenced_widgets": [
            "3304227c43244cb6bf6fd632eb0b2f5c",
            "6d543d6cf4db48b9988f6ae4a0b812e9",
            "da91547452a6417b9f1af0a62602ace9",
            "f060cb8b91bc41bcabacf606db94a519",
            "ff3711a58ea349bd90814798f467f611",
            "790d1bf7caae4f6b940e244fbed54eb3",
            "015d5fa8f56b4f2d94485b2e943c3ee3"
          ]
        },
        "id": "uh3pbh_qG_rJ",
        "outputId": "f3911e8c-d59b-4078-baba-d2835ce9e2d4"
      },
      "execution_count": null,
      "outputs": [
        {
          "output_type": "stream",
          "name": "stdout",
          "text": [
            "Experiment with string manipulation:\n"
          ]
        },
        {
          "output_type": "display_data",
          "data": {
            "text/plain": [
              "interactive(children=(Textarea(value='Enter your text here', description='String:'), Output()), _dom_classes=(…"
            ],
            "application/vnd.jupyter.widget-view+json": {
              "version_major": 2,
              "version_minor": 0,
              "model_id": "3304227c43244cb6bf6fd632eb0b2f5c"
            }
          },
          "metadata": {}
        }
      ]
    },
    {
      "cell_type": "markdown",
      "metadata": {
        "heading_collapsed": true,
        "hidden": true,
        "id": "uwN7t9JAygk7"
      },
      "source": [
        "### Lists"
      ]
    },
    {
      "cell_type": "markdown",
      "metadata": {
        "hidden": true,
        "id": "vUSsRB9pygk7"
      },
      "source": [
        "<div class=\"alert alert-info\"><li>A List is created using square brackets []. <li>Lists are mutable</div>"
      ]
    },
    {
      "cell_type": "code",
      "execution_count": null,
      "metadata": {
        "hidden": true,
        "id": "pcVggWvEygk7",
        "outputId": "d693aef3-69a1-46cb-d37e-35cc7146a255"
      },
      "outputs": [
        {
          "data": {
            "text/plain": [
              "[]"
            ]
          },
          "execution_count": 42,
          "metadata": {},
          "output_type": "execute_result"
        }
      ],
      "source": [
        "# This is an empty List\n",
        "a = []\n",
        "a"
      ]
    },
    {
      "cell_type": "markdown",
      "metadata": {
        "hidden": true,
        "id": "yJX3K9Wiygk8"
      },
      "source": [
        " <div class=\"alert alert-info\"><li>A list can have multiple elements of same or different data type.</div>"
      ]
    },
    {
      "cell_type": "code",
      "execution_count": null,
      "metadata": {
        "hidden": true,
        "id": "gDIvlNkDygk8",
        "outputId": "85f96534-818f-4e20-e854-bf40cd7d560e"
      },
      "outputs": [
        {
          "name": "stdout",
          "output_type": "stream",
          "text": [
            "a: [12, 'abc', 8.95, 'xyz', [2, 6]]\n",
            "b: [4, 7, 2, 4]\n",
            "\n",
            "c: [12, 'abc', 8.95, 'xyz', [2, 6], 4, 7, 2, 4]\n",
            "Length of c: 9\n",
            "\n",
            "'abc' in a: True\n",
            "35 in b: False\n",
            "12 not in a: False\n",
            "\n",
            "2*b: [4, 7, 2, 4, 4, 7, 2, 4]\n",
            "\n",
            "min(b): 2\n",
            "max(b): 7\n",
            "sum(b): 17\n"
          ]
        }
      ],
      "source": [
        "a = [12, 'abc', 8.95, \"xyz\", [2, 6]]\n",
        "print(\"a:\", a)\n",
        "b = [4, 7, 2, 4]\n",
        "print(\"b:\", b)\n",
        "\n",
        "# concatenation of two lists\n",
        "c = a + b\n",
        "print(\"\\nc:\", c)\n",
        "print(\"Length of c:\", len(c))\n",
        "\n",
        "print(\"\\n'abc' in a:\", 'abc' in a)\n",
        "print(\"35 in b:\", 35 in b)\n",
        "print(\"12 not in a:\", 12 not in a)\n",
        "\n",
        "# Multiplication, two copies of list b\n",
        "print(\"\\n2*b:\", 2 * b)\n",
        "\n",
        "# minimum in list (list must not have strings)\n",
        "print(\"\\nmin(b):\", min(b))\n",
        "\n",
        "# maximum in list (list must not have strings)\n",
        "print(\"max(b):\", max(b))\n",
        "\n",
        "# sum of list elements (list must not have strings)\n",
        "print(\"sum(b):\", sum(b))"
      ]
    },
    {
      "cell_type": "markdown",
      "metadata": {
        "hidden": true,
        "id": "cHTILkowygk8"
      },
      "source": [
        " <div class=\"alert alert-info\">List functions:<li>append()<li>extend()<li>insert()<li>pop()</div>"
      ]
    },
    {
      "cell_type": "code",
      "execution_count": null,
      "metadata": {
        "hidden": true,
        "id": "WuubDVIMygk9",
        "outputId": "593c774a-07d4-4666-d2fc-474b0cbb8c80"
      },
      "outputs": [
        {
          "name": "stdout",
          "output_type": "stream",
          "text": [
            "Original List: [1, 2, 3, 4, 5]\n",
            "List after append(): [1, 2, 3, 4, 5, 6]\n",
            "List after extend(): [1, 2, 3, 4, 5, 6, 7, 8, 9]\n",
            "List after pop(): [1, 2, 3, 4, 5, 6, 7, 8]\n",
            "List after insert(): [1, 2, 3, 4, 'Text', 5, 6, 7, 8]\n"
          ]
        }
      ],
      "source": [
        "a = [1, 2, 3, 4, 5]\n",
        "print(\"Original List: {}\".format(a))\n",
        "\n",
        "# Append method is used to add new elements in the pre-exisiting list.\n",
        "a.append(6)\n",
        "print(\"List after append(): {}\".format(a))\n",
        "\n",
        "# extend method is used to extend the list\n",
        "a.extend([7, 8, 9])\n",
        "print(\"List after extend(): {}\".format(a))\n",
        "\n",
        "# Pop method is used to remove the last element from the list.\n",
        "a.pop()\n",
        "print(\"List after pop(): {}\".format(a))\n",
        "\n",
        "# Insert into position\n",
        "a.insert(4, 'Text')\n",
        "print(\"List after insert(): {}\".format(a))"
      ]
    },
    {
      "cell_type": "markdown",
      "metadata": {
        "hidden": true,
        "id": "JCxnMif8ygk9"
      },
      "source": [
        " <div class=\"alert alert-info\">Accessing List elements</div>"
      ]
    },
    {
      "cell_type": "code",
      "execution_count": null,
      "metadata": {
        "hidden": true,
        "id": "V8gxlL8Tygk9",
        "outputId": "ca0d35f5-0c9b-4725-bde5-f8727ce2cd89"
      },
      "outputs": [
        {
          "name": "stdout",
          "output_type": "stream",
          "text": [
            "a: [1, 2, 3, 4, 5]\n",
            "Length of a (L): 5\n",
            "\n",
            "a[2]: 3\n",
            "a[0]: 1\n",
            "a[L-1]: 5\n",
            "\n",
            "List after setting new value: [1, 2, 6, 4, 5]\n",
            "List after pop(2): [1, 2, 4, 5]\n",
            "Final List after deleting an element: [2, 4, 5]\n"
          ]
        }
      ],
      "source": [
        "# A specific element can be referred from a list. For instance:\n",
        "a = [1, 2, 3, 4, 5]\n",
        "print(\"a:\", a)\n",
        "\n",
        "# The length of the list. Indexing starts from zero.\n",
        "L = (len(a))\n",
        "print(\"Length of a (L): {}\".format(L))\n",
        "\n",
        "# Accessing Indexes\n",
        "print(\"\\na[2]:\", a[2])  # Third element\n",
        "print(\"a[0]:\", a[0])  # First element\n",
        "print(\"a[L-1]:\", a[L - 1])  # Last element\n",
        "\n",
        "# Setting a value in list (mutable)\n",
        "# For example, set a value of 6 at index position 2\n",
        "a[2] = 6  # 3 is changed to 6\n",
        "print(\"\\nList after setting new value: {}\".format(a))\n",
        "\n",
        "# A specific element can be removed from a list using its index position in the pop function.\n",
        "# For example, remove element 6\n",
        "a.pop(2)  # a.pop(index)\n",
        "print(\"List after pop(2): {}\".format(a))\n",
        "\n",
        "# An element can be deleted from a list using del function by specifying its index position\n",
        "del (a[0])\n",
        "print(\"Final List after deleting an element: {}\".format(a))"
      ]
    },
    {
      "cell_type": "code",
      "execution_count": null,
      "metadata": {
        "hidden": true,
        "id": "t1ri5qRcygk-",
        "outputId": "cfcdc628-cf68-4ba3-95e2-a4a7644ff8b2"
      },
      "outputs": [
        {
          "name": "stdout",
          "output_type": "stream",
          "text": [
            "a: ['Ravi', 'Rahul', 'Rohan']\n",
            "\n",
            "a[2][2]: h\n",
            "a[1][3]: u\n",
            "a[0][2]: v\n"
          ]
        }
      ],
      "source": [
        "a = [\"Ravi\", \"Rahul\", \"Rohan\"]\n",
        "print(\"a:\", a)\n",
        "\n",
        "print(\"\\na[2][2]:\", a[2][2])  # Third element, Third character\n",
        "print(\"a[1][3]:\", a[1][3])  # Second element, Fourth character\n",
        "print(\"a[0][2]:\", a[0][2])  # First element, Third character"
      ]
    },
    {
      "cell_type": "code",
      "execution_count": null,
      "metadata": {
        "hidden": true,
        "id": "T7qEujpgygk-",
        "outputId": "182c5d4b-0319-4e33-8fdb-8b8c0cd4251b"
      },
      "outputs": [
        {
          "name": "stdout",
          "output_type": "stream",
          "text": [
            "b: [12, 'abc', ['Text', 5.34, 23, True], 'xyz', [2, 6]]\n",
            "\n",
            "b[1]: abc\n",
            "b[2]: ['Text', 5.34, 23, True]\n",
            "b[2][1]: 5.34\n",
            "b[2][0][3]: t\n"
          ]
        }
      ],
      "source": [
        "# Nesting\n",
        "b = [12, 'abc', [\"Text\", 5.34, 23, True], \"xyz\", [2, 6]]\n",
        "print(\"b:\", b)\n",
        "\n",
        "print(\"\\nb[1]:\", b[1])\n",
        "print(\"b[2]:\", b[2])\n",
        "print(\"b[2][1]:\", b[2][1])\n",
        "print(\"b[2][0][3]:\", b[2][0][3])"
      ]
    },
    {
      "cell_type": "code",
      "execution_count": null,
      "metadata": {
        "hidden": true,
        "id": "iMcKzg_Fygk-",
        "outputId": "d3743da7-ea7b-4b89-c954-d6f2780d2ebe"
      },
      "outputs": [
        {
          "name": "stdout",
          "output_type": "stream",
          "text": [
            "a: [1, 5, 8, 2, 5, 2]\n",
            "\n",
            "a[3:5]: [2, 5]\n",
            "a[1:]: [5, 8, 2, 5, 2]\n",
            "a[:3]: [1, 5, 8]\n"
          ]
        }
      ],
      "source": [
        "a = [1, 5, 8, 2, 5, 2]\n",
        "print(\"a:\", a)\n",
        "\n",
        "# fetches elements from index position 3 to index position 4\n",
        "print(\"\\na[3:5]:\",\n",
        "      a[3:5])\n",
        "\n",
        "# fetches elements from index position 1 till end\n",
        "print(\"a[1:]:\", a[1:])\n",
        "\n",
        "# fetches elements from starting till index position 2\n",
        "print(\"a[:3]:\", a[:3])"
      ]
    },
    {
      "cell_type": "markdown",
      "metadata": {
        "hidden": true,
        "id": "UTAIhViKyglA"
      },
      "source": [
        " <div class=\"alert alert-info\">Other list functions:<li>count()<li>index()<li>remove()<li>reverse()<li>sort()</div>"
      ]
    },
    {
      "cell_type": "code",
      "execution_count": null,
      "metadata": {
        "hidden": true,
        "id": "NwJUeNMMyglA",
        "outputId": "967104ad-4b5c-4976-9d78-560fa715dda0"
      },
      "outputs": [
        {
          "name": "stdout",
          "output_type": "stream",
          "text": [
            "a: [1, 5, 8, 2, 5, 2]\n",
            "\n",
            "a.count(5): 2\n",
            "a.index(5): 1\n",
            "\n",
            "List after removing 5:  [1, 8, 2, 5, 2]\n"
          ]
        }
      ],
      "source": [
        "a = [1, 5, 8, 2, 5, 2]\n",
        "print(\"a:\", a)\n",
        "\n",
        "# returns the number of occurences of element 5\n",
        "print(\"\\na.count(5):\", a.count(5))\n",
        "\n",
        "# returns the first index position of element 5\n",
        "print(\"a.index(5):\", a.index(5))\n",
        "\n",
        "# removes the first occurence of element 5\n",
        "a.remove(5)\n",
        "print(\"\\nList after removing 5: \", a)"
      ]
    },
    {
      "cell_type": "code",
      "execution_count": null,
      "metadata": {
        "hidden": true,
        "id": "4EzhalCtyglA",
        "outputId": "10bbc032-a0c6-41af-8449-da5737e6da2f"
      },
      "outputs": [
        {
          "name": "stdout",
          "output_type": "stream",
          "text": [
            "a: [1, 5, 8, 2, 5, 2]\n",
            "After a.reverse(), a: [2, 5, 2, 8, 5, 1]\n"
          ]
        }
      ],
      "source": [
        "a = [1, 5, 8, 2, 5, 2]\n",
        "print(\"a:\", a)\n",
        "\n",
        "a.reverse()  # reverses the list\n",
        "print(\"After a.reverse(), a:\", a)"
      ]
    },
    {
      "cell_type": "code",
      "execution_count": null,
      "metadata": {
        "hidden": true,
        "id": "_5WOz85fyglB",
        "outputId": "aed16745-e3a0-40dc-d298-f33e74558d6b"
      },
      "outputs": [
        {
          "name": "stdout",
          "output_type": "stream",
          "text": [
            "a: [1, 5, 8, 2, 5, 2]\n",
            "\n",
            "List after sorting in ascending order:  [1, 2, 2, 5, 5, 8]\n",
            "\n",
            "List after sorting in descending order:  [8, 5, 5, 2, 2, 1]\n"
          ]
        }
      ],
      "source": [
        "a = [1, 5, 8, 2, 5, 2]\n",
        "print(\"a:\", a)\n",
        "\n",
        "# sorts the list in ascending order\n",
        "a.sort()\n",
        "print(\"\\nList after sorting in ascending order: \", a)\n",
        "\n",
        "# sorts the list in descending order\n",
        "a.sort(reverse=True)\n",
        "print(\"\\nList after sorting in descending order: \", a)"
      ]
    },
    {
      "cell_type": "markdown",
      "metadata": {
        "hidden": true,
        "id": "6X0qAp17yglB"
      },
      "source": [
        "<div class=\"alert alert-info\">Using <b>key</b> argument in <b>sort()</b><li>accepts a function for producing a sort key from an item</div>"
      ]
    },
    {
      "cell_type": "code",
      "execution_count": null,
      "metadata": {
        "hidden": true,
        "id": "dsJ4dZ2cyglB",
        "outputId": "aa6271ff-2d55-44b1-a393-7953e1e97470"
      },
      "outputs": [
        {
          "name": "stdout",
          "output_type": "stream",
          "text": [
            "s: peter piper picked a peck of pickled pepper and a peck of pickled pepper peter piper picked\n",
            "\n",
            "After split, s:\n",
            " ['peter', 'piper', 'picked', 'a', 'peck', 'of', 'pickled', 'pepper', 'and', 'a', 'peck', 'of', 'pickled', 'pepper', 'peter', 'piper', 'picked']\n",
            "\n",
            "After normal sorting, s:\n",
            " ['a', 'a', 'and', 'of', 'of', 'peck', 'peck', 'pepper', 'pepper', 'peter', 'peter', 'picked', 'picked', 'pickled', 'pickled', 'piper', 'piper']\n",
            "\n",
            "List after sorting using key argument, s:\n",
            " ['a', 'a', 'of', 'of', 'and', 'peck', 'peck', 'peter', 'peter', 'piper', 'piper', 'pepper', 'pepper', 'picked', 'picked', 'pickled', 'pickled']\n"
          ]
        }
      ],
      "source": [
        "s = '''peter piper picked a peck of pickled pepper and a peck of pickled pepper peter piper picked'''\n",
        "print('s:', s)\n",
        "\n",
        "s = s.split()\n",
        "print('\\nAfter split, s:\\n', s)\n",
        "\n",
        "# Normal Sorting, lexicographic order is returned\n",
        "s.sort()\n",
        "print('\\nAfter normal sorting, s:\\n', s)\n",
        "\n",
        "# Sorting based on length, bigger words will be returned in end\n",
        "s.sort(key=len)\n",
        "print(\"\\nList after sorting using key argument, s:\\n\", s)"
      ]
    },
    {
      "cell_type": "code",
      "source": [
        "from ipywidgets import Text, Textarea, Button, VBox, Output, IntText, Dropdown\n",
        "from IPython.display import display\n",
        "\n",
        "output_list = Output()\n",
        "\n",
        "def update_list(list_str, action, value, index):\n",
        "    \"\"\"Updates a list based on user action and displays the result.\"\"\"\n",
        "    try:\n",
        "        my_list = eval(list_str) # Evaluate the string as a Python list\n",
        "        if not isinstance(my_list, list):\n",
        "            raise ValueError(\"Input is not a valid list.\")\n",
        "\n",
        "        with output_list:\n",
        "            output_list.clear_output()\n",
        "            print(f\"Original list: {my_list}\")\n",
        "            if action == 'append':\n",
        "                my_list.append(value)\n",
        "                print(f\"After append({value}): {my_list}\")\n",
        "            elif action == 'pop':\n",
        "                if my_list:\n",
        "                    if index is not None and 0 <= index < len(my_list):\n",
        "                        my_list.pop(index)\n",
        "                        print(f\"After pop({index}): {my_list}\")\n",
        "                    elif index is None or index == \"\":\n",
        "                        my_list.pop()\n",
        "                        print(f\"After pop(): {my_list}\")\n",
        "                    else:\n",
        "                         print(\"Invalid index for pop.\")\n",
        "                else:\n",
        "                    print(\"List is empty, cannot pop.\")\n",
        "            elif action == 'insert':\n",
        "                 if index is not None and 0 <= index <= len(my_list):\n",
        "                    my_list.insert(index, value)\n",
        "                    print(f\"After insert({index}, {value}): {my_list}\")\n",
        "                 else:\n",
        "                    print(\"Invalid index for insert.\")\n",
        "            else:\n",
        "                print(\"Invalid action.\")\n",
        "    except Exception as e:\n",
        "        with output_list:\n",
        "            output_list.clear_output()\n",
        "            print(f\"Error: {e}\")\n",
        "\n",
        "\n",
        "list_input = Textarea(value='[1, 2, 3, 4, 5]', description='Enter a list (e.g., [1, \"a\", 3.14]):')\n",
        "action_dropdown = Dropdown(options=['append', 'pop', 'insert'], description='Action:')\n",
        "value_input = Text(value='', description='Value (for append/insert):')\n",
        "index_input = IntText(value=0, description='Index (for pop/insert):')\n",
        "update_button = Button(description='Perform Action')\n",
        "\n",
        "def on_button_click(b):\n",
        "    idx = index_input.value if action_dropdown.value != 'append' else None\n",
        "    val = value_input.value if action_dropdown.value != 'pop' else None\n",
        "    update_list(list_input.value, action_dropdown.value, val, idx)\n",
        "\n",
        "update_button.on_click(on_button_click)\n",
        "\n",
        "interactive_list_exercise = VBox([list_input, action_dropdown, value_input, index_input, update_button, output_list])\n",
        "\n",
        "print(\"Experiment with list manipulation:\")\n",
        "display(interactive_list_exercise)"
      ],
      "metadata": {
        "colab": {
          "base_uri": "https://localhost:8080/",
          "height": 243,
          "referenced_widgets": [
            "01af012c514047d8b1fc6173fbb5a378",
            "48c537e96eec4e9c850cbadbd05869f7",
            "cb8678457249440dba2f54594c0281c2",
            "0c7b7f8d0e9242239fba6ee22ecc5f1a",
            "e88898191dc34670b6e67cb9321d29eb",
            "b9753ff7180f4fdcb895af33bf210ea4",
            "bd56fd8ae7764a2c9acdb220457ee7bd",
            "d30f73bcb0cb473d9380388055747b20",
            "636c14b2faa64d4b86787c3c46b6f4d1",
            "e32e40b624e94b42bc4194feeb68cc89",
            "1d961d5c12d64b1d905f13f0327c43d5",
            "aaedbf529bcd450998834609a4520eb2",
            "3723f17ac3f64c56b831e18b28cbffcd",
            "9108f790b08047178c8d12238b39ceee",
            "c12e24839d1f4a3f8dad43158c69c365",
            "002eb53b0cb649a2b6f261b6d8c9867d",
            "83a3eca014f348dc83acfead20de4803",
            "6e6a1e129bf141caabaf03e022f75661",
            "0a24db28c45c40e0bffaa5e88e5f1692"
          ]
        },
        "id": "XGV9tttFGwLH",
        "outputId": "b8ac4e45-2ea5-4c47-9012-8f301ee3efbe"
      },
      "execution_count": null,
      "outputs": [
        {
          "output_type": "stream",
          "name": "stdout",
          "text": [
            "Experiment with list manipulation:\n"
          ]
        },
        {
          "output_type": "display_data",
          "data": {
            "text/plain": [
              "VBox(children=(Textarea(value='[1, 2, 3, 4, 5]', description='Enter a list (e.g., [1, \"a\", 3.14]):'), Dropdown…"
            ],
            "application/vnd.jupyter.widget-view+json": {
              "version_major": 2,
              "version_minor": 0,
              "model_id": "01af012c514047d8b1fc6173fbb5a378"
            }
          },
          "metadata": {}
        }
      ]
    },
    {
      "cell_type": "markdown",
      "metadata": {
        "heading_collapsed": true,
        "hidden": true,
        "id": "UM3c7ZuuyglC"
      },
      "source": [
        "### Tuples"
      ]
    },
    {
      "cell_type": "markdown",
      "metadata": {
        "hidden": true,
        "id": "6qpiKzRiyglC"
      },
      "source": [
        "<div class=\"alert alert-info\"><li>Tuples are exactly similar to Lists, but they are immutable. <li>Tuples are defined inside parenthesis ().<li>Functions like reverse(), remove() and sort() will not work since tuples are not mutable in nature.\n",
        "</div>"
      ]
    },
    {
      "cell_type": "code",
      "execution_count": null,
      "metadata": {
        "hidden": true,
        "id": "o2CIj5h2yglC",
        "outputId": "18bf382e-d57d-4a25-ce4a-e3c54aad1ab6"
      },
      "outputs": [
        {
          "data": {
            "text/plain": [
              "()"
            ]
          },
          "execution_count": 53,
          "metadata": {},
          "output_type": "execute_result"
        }
      ],
      "source": [
        "# Empty Tuple\n",
        "()"
      ]
    },
    {
      "cell_type": "code",
      "execution_count": null,
      "metadata": {
        "hidden": true,
        "id": "5H0AvBiUyglC",
        "outputId": "07a9daef-6f95-4128-e477-a1fce6e6c627"
      },
      "outputs": [
        {
          "name": "stdout",
          "output_type": "stream",
          "text": [
            "a: (1, 5, 8, 2, 5, 2)\n",
            "Length:  6\n",
            "Sum:  23\n",
            "\n",
            "a.count(5):  2\n",
            "a.index(8):  2\n"
          ]
        }
      ],
      "source": [
        "a = (1, 5, 8, 2, 5, 2)\n",
        "print(\"a:\", a)\n",
        "print(\"Length: \", len(a))\n",
        "\n",
        "# sum of a tuple containing integers\n",
        "print(\"Sum: \", sum(a))\n",
        "\n",
        "# returns the number of occurences of element 5\n",
        "print(\"\\na.count(5): \", a.count(5))\n",
        "\n",
        "# returns the first index position of element 8\n",
        "print(\"a.index(8): \", a.index(8))"
      ]
    },
    {
      "cell_type": "markdown",
      "metadata": {
        "hidden": true,
        "id": "_SPQ5-A5yglD"
      },
      "source": [
        "<div class=\"alert alert-info\"><li><b>sorted()</b> returns a sorted list and can be called on any iterable series<li>The <b>type()</b> defines the class of the object.\n",
        "</div>"
      ]
    },
    {
      "cell_type": "code",
      "execution_count": null,
      "metadata": {
        "hidden": true,
        "id": "7iPXpzhHyglD",
        "outputId": "7908aefc-ccb6-4204-8105-5a3c2a434979"
      },
      "outputs": [
        {
          "name": "stdout",
          "output_type": "stream",
          "text": [
            "a: (1, 5, 8, 2, 5, 2)\n",
            "Object Type: <class 'tuple'>\n",
            "\n",
            "sorted(a):  [1, 2, 2, 5, 5, 8]\n",
            "Object Type: <class 'list'>\n",
            "\n",
            "sorted(a, reverse=True):  [8, 5, 5, 2, 2, 1]\n"
          ]
        }
      ],
      "source": [
        "a = (1, 5, 8, 2, 5, 2)\n",
        "print(\"a:\", a)\n",
        "print('Object Type:',type(a))\n",
        "\n",
        "# sorted in ascending order, returns list\n",
        "b = sorted(a)\n",
        "print(\"\\nsorted(a): \", b)\n",
        "print('Object Type:',type(b))\n",
        "\n",
        "# sorted in descending order\n",
        "c = sorted(a, reverse=True)\n",
        "print(\"\\nsorted(a, reverse=True): \", c)"
      ]
    },
    {
      "cell_type": "code",
      "execution_count": null,
      "metadata": {
        "hidden": true,
        "id": "uc6Uy3yWyglD",
        "outputId": "a9f0d1d1-813c-48e9-b051-4c7beb0683a3"
      },
      "outputs": [
        {
          "name": "stdout",
          "output_type": "stream",
          "text": [
            "Iterable Series: (1, 5, 8, 2, 5, 2)\n",
            "\n",
            "reversed(a):  <reversed object at 0x0000024AECF839A0>\n",
            "Object Type: <class 'reversed'>\n",
            "\n",
            "Reversed List: [2, 5, 2, 8, 5, 1]\n",
            "Object Type: <class 'list'>\n"
          ]
        }
      ],
      "source": [
        "a = (1, 5, 8, 2, 5, 2)\n",
        "print('Iterable Series: {}'.format(a))\n",
        "\n",
        "# reverses any iterable series (here tuple), returns an object\n",
        "d = reversed(a)\n",
        "print(\"\\nreversed(a): \", d)\n",
        "print('Object Type:', type(d))\n",
        "\n",
        "# object converted explicitly into list\n",
        "d = list(d)\n",
        "print('\\nReversed List: {}'.format(d))\n",
        "print('Object Type:', type(d))"
      ]
    },
    {
      "cell_type": "markdown",
      "metadata": {
        "hidden": true,
        "id": "67wn6y0-yglD"
      },
      "source": [
        "<div class=\"alert alert-info\"><b>Defining Tuple in different ways</b></div>"
      ]
    },
    {
      "cell_type": "code",
      "execution_count": null,
      "metadata": {
        "hidden": true,
        "id": "pcPRZmHbyglD",
        "outputId": "9938812f-044b-48b3-e6d7-72a2d055200b"
      },
      "outputs": [
        {
          "name": "stdout",
          "output_type": "stream",
          "text": [
            "(100,) is a tuple: <class 'tuple'>\n"
          ]
        }
      ],
      "source": [
        "# only one element, using comma in the end\n",
        "a = (100, )\n",
        "print('{} is a tuple: {}'.format(a, type(a)))"
      ]
    },
    {
      "cell_type": "code",
      "execution_count": null,
      "metadata": {
        "hidden": true,
        "id": "6nGZi8wryglE",
        "outputId": "da33adcd-b32b-47e9-d86b-3f8a1a3752e9"
      },
      "outputs": [
        {
          "name": "stdout",
          "output_type": "stream",
          "text": [
            "(1, 2, 3, 4, 5) is a tuple: <class 'tuple'>\n"
          ]
        }
      ],
      "source": [
        "# multiple elements without parenthesis\n",
        "b = 1, 2, 3, 4, 5\n",
        "print('{} is a tuple: {}'.format(b, type(b)))"
      ]
    },
    {
      "cell_type": "code",
      "execution_count": null,
      "metadata": {
        "hidden": true,
        "scrolled": true,
        "id": "O_9uca-fyglE",
        "outputId": "6889fe18-7f45-4a7e-eb74-5d18960f34a3"
      },
      "outputs": [
        {
          "name": "stdout",
          "output_type": "stream",
          "text": [
            "a: 10 & b: 20\n",
            "\n",
            "After Swapping\n",
            "a: 20 & b: 10\n"
          ]
        }
      ],
      "source": [
        "a, b = 10, 20\n",
        "print(f'a: {a} & b: {b}')\n",
        "\n",
        "# Swapping elements\n",
        "a, b = b, a\n",
        "print(f'\\nAfter Swapping\\na: {a} & b: {b}')"
      ]
    },
    {
      "cell_type": "code",
      "execution_count": null,
      "metadata": {
        "hidden": true,
        "id": "WH4ht5E6yglF",
        "outputId": "877ba2f6-03fe-4d2c-a698-f791a268b8ab"
      },
      "outputs": [
        {
          "name": "stdout",
          "output_type": "stream",
          "text": [
            "a: ('A', 'p', 'p', 'l', 'e')\n"
          ]
        }
      ],
      "source": [
        "# Separating elements\n",
        "a = tuple('Apple')\n",
        "print('a: {}'.format(a))"
      ]
    },
    {
      "cell_type": "markdown",
      "metadata": {
        "hidden": true,
        "id": "HK4zWHUmyglF"
      },
      "source": [
        "<div class=\"alert alert-info\"><b>Tuple Unpacking</b>\n",
        "<li>The partition() method divides a string into three around a separator: prefix, separator, suffix<li>Using tuple unpacking, the result can be destructured.<li>Underscore(_) can be used as a dummy name in place of the separator</div>"
      ]
    },
    {
      "cell_type": "code",
      "execution_count": null,
      "metadata": {
        "hidden": true,
        "id": "qZJgmv1hyglG",
        "outputId": "7ca0bcf8-e162-4426-8820-c15dd787eff8"
      },
      "outputs": [
        {
          "name": "stdout",
          "output_type": "stream",
          "text": [
            "a: Jack-Martin\n",
            "After removing -, name is: Jack Martin\n"
          ]
        }
      ],
      "source": [
        "# tuple unpacks values into variables\n",
        "a = 'Jack-Martin'\n",
        "print(\"a:\", a)\n",
        "first_name, separator, last_name = a.partition('-')  # returns a tuple\n",
        "print(f'After removing {separator}, name is: {first_name} {last_name}')"
      ]
    },
    {
      "cell_type": "code",
      "execution_count": null,
      "metadata": {
        "hidden": true,
        "id": "Jiy5laWvyglG",
        "outputId": "2d99f779-ef1c-41ef-cb6b-d35401c45417"
      },
      "outputs": [
        {
          "name": "stdout",
          "output_type": "stream",
          "text": [
            "a: Jack|24\n",
            "Name is: Jack\n",
            "Age is: 24\n"
          ]
        }
      ],
      "source": [
        "# Using _ to ignore invaluable variables\n",
        "a = 'Jack|24'\n",
        "print(\"a:\", a)\n",
        "name, _, age = a.partition('|')\n",
        "print('Name is: {}\\nAge is: {}'.format(name, age))"
      ]
    },
    {
      "cell_type": "code",
      "source": [
        "from ipywidgets import IntText, Textarea, Button, Output, VBox\n",
        "from IPython.display import display\n",
        "import ast\n",
        "\n",
        "def access_tuple(tuple_str, index):\n",
        "    \"\"\"Demonstrates tuple element access.\"\"\"\n",
        "    try:\n",
        "        # Use ast.literal_eval for safe evaluation of the tuple string\n",
        "        my_tuple = ast.literal_eval(tuple_str)\n",
        "        if not isinstance(my_tuple, tuple):\n",
        "            raise ValueError(\"Input is not a valid tuple.\")\n",
        "\n",
        "        # Corrected variable name from output_list to output_tuple\n",
        "        with output_tuple:\n",
        "            output_tuple.clear_output() # Clear previous output\n",
        "            print(f\"Original tuple: {my_tuple}\")\n",
        "            if -len(my_tuple) <= index < len(my_tuple):\n",
        "                print(f\"Element at index {index}: {my_tuple[index]}\")\n",
        "            else:\n",
        "                print(\"Index out of range.\")\n",
        "    except (ValueError, SyntaxError) as e: # Catch specific errors for literal_eval\n",
        "        with output_tuple:\n",
        "            output_tuple.clear_output()\n",
        "            print(f\"Error: Invalid tuple format or {e}\")\n",
        "    except Exception as e: # Catch any other unexpected errors\n",
        "        with output_tuple:\n",
        "            output_tuple.clear_output()\n",
        "            print(f\"An unexpected error occurred: {e}\")\n",
        "\n",
        "\n",
        "tuple_input = Textarea(value='(10, 20, 30, 40, 50)', description='Enter a tuple (e.g., (1, \"b\", 2.7)):')\n",
        "index_input_tuple = IntText(value=0, description='Index:')\n",
        "update_button_tuple = Button(description='Access Element')\n",
        "output_tuple = Output() # This is correctly defined here\n",
        "\n",
        "def on_tuple_button_click(b):\n",
        "    access_tuple(tuple_input.value, index_input_tuple.value)\n",
        "\n",
        "update_button_tuple.on_click(on_tuple_button_click)\n",
        "\n",
        "interactive_tuple_access = VBox([tuple_input, index_input_tuple, update_button_tuple, output_tuple])\n",
        "\n",
        "print(\"Experiment with tuple element access:\")\n",
        "display(interactive_tuple_access)"
      ],
      "metadata": {
        "colab": {
          "base_uri": "https://localhost:8080/",
          "height": 179,
          "referenced_widgets": [
            "af7c8ff313964367897aa50ba8d7e871",
            "2fe83d4b086e43adae33bcf43feae463",
            "7f9653a1f7fa4fe4b65029ade9bfb909",
            "ca6d61959a29460eacfc43dc34a000e7",
            "38f2a2a5990f4f8aa18e34c8b6eae1de",
            "a79e6cf1165344bcab0e525852e300e5",
            "fa23b1e922074937a31fd7d05e52b811",
            "409df87ca07442869a0953fd3e48e56a",
            "2e0566e53a8a40a28ebccd0c5b8e3f95",
            "d090ffb7e534490c8e31afb7ebd38505",
            "6e69ee37843648129e99954eec4523bd",
            "9b378ad5c8ae46f6aef33a57620bdb5f",
            "c2969cdf9a1049adb2a2dda17080bae8"
          ]
        },
        "id": "P582xEPKHuU0",
        "outputId": "dd55d6d9-8149-4e96-9667-23d8b8b2d1c9"
      },
      "execution_count": null,
      "outputs": [
        {
          "output_type": "stream",
          "name": "stdout",
          "text": [
            "Experiment with tuple element access:\n"
          ]
        },
        {
          "output_type": "display_data",
          "data": {
            "text/plain": [
              "VBox(children=(Textarea(value='(10, 20, 30, 40, 50)', description='Enter a tuple (e.g., (1, \"b\", 2.7)):'), Int…"
            ],
            "application/vnd.jupyter.widget-view+json": {
              "version_major": 2,
              "version_minor": 0,
              "model_id": "af7c8ff313964367897aa50ba8d7e871"
            }
          },
          "metadata": {}
        }
      ]
    },
    {
      "cell_type": "markdown",
      "metadata": {
        "heading_collapsed": true,
        "hidden": true,
        "id": "igIbX_izyglH"
      },
      "source": [
        "### Dictionary"
      ]
    },
    {
      "cell_type": "markdown",
      "metadata": {
        "hidden": true,
        "id": "W6L9OxBEyglH"
      },
      "source": [
        "<div class=\"alert alert-info\">\n",
        "<li>Dictionaries are defined using a Key-Value pair in curly brackets {}<li>A key-value can be an integer, string, etc.<li>Keys must be unique and immutable objects <b>(lists cannot be the keys)</b><li>If we try to access or modify keys that don't exist in the dictionary, it raise a KeyError and break up our code execution.</div>"
      ]
    },
    {
      "cell_type": "code",
      "execution_count": null,
      "metadata": {
        "hidden": true,
        "id": "OD1CEBopyglH",
        "outputId": "f5b9557f-9706-4bbe-c867-dde000df52c0"
      },
      "outputs": [
        {
          "data": {
            "text/plain": [
              "{}"
            ]
          },
          "execution_count": 63,
          "metadata": {},
          "output_type": "execute_result"
        }
      ],
      "source": [
        "empty_dict = {}\n",
        "empty_dict"
      ]
    },
    {
      "cell_type": "code",
      "execution_count": null,
      "metadata": {
        "hidden": true,
        "id": "R7tyvMEQyglI",
        "outputId": "d56af1c7-5243-419f-f7d6-d2e66ef09ad7"
      },
      "outputs": [
        {
          "name": "stdout",
          "output_type": "stream",
          "text": [
            "d1: {0: 'Zero', 1: 'One', 2: 'Two', 3: 'Three', 4: 'Four', 5: 'Five'}\n",
            "d2: {4: 'four', 5: 'five', 6: 'six', 7: 'seven', 8: 'eight'}\n",
            "\n",
            "After Updating Dictionary,\n",
            "d1: {0: 'Zero', 1: 'One', 2: 'Two', 3: 'Three', 4: 'four', 5: 'five', 6: 'six', 7: 'seven', 8: 'eight'}\n",
            "\n",
            "Updating Dictionary using the | operator: {0: 'Zero', 1: 'One', 2: 'Two', 3: 'Three', 4: 'four', 5: 'five', 6: 'six', 7: 'seven', 8: 'eight'}\n",
            "\n",
            "Updating Dictionary using the ** operator: {0: 'Zero', 1: 'One', 2: 'Two', 3: 'Three', 4: 'four', 5: 'five', 6: 'six', 7: 'seven', 8: 'eight'}\n"
          ]
        }
      ],
      "source": [
        "d1 = {0: \"Zero\", 1: \"One\", 2: \"Two\", 3: \"Three\", 4: \"Four\", 5: \"Five\"}\n",
        "\n",
        "# 0,1,2, etc are the keys. Zero, One, Two, etc are the values.\n",
        "print(\"d1:\", d1)\n",
        "\n",
        "d2 = {4: \"four\", 5: \"five\", 6: \"six\", 7: \"seven\", 8: \"eight\"}\n",
        "print(\"d2:\", d2)\n",
        "\n",
        "# d1 dictionary is updated with keys and values of dictionary d2, only unique values are stored\n",
        "d1.update(d2)\n",
        "print(\"\\nAfter Updating Dictionary,\\nd1:\", d1)\n",
        "\n",
        "# Some other ways to merge the dictionaries\n",
        "print('\\nUpdating Dictionary using the | operator:',d1|d2)\n",
        "print('\\nUpdating Dictionary using the ** operator:',{**d1,**d2})"
      ]
    },
    {
      "cell_type": "markdown",
      "metadata": {
        "hidden": true,
        "id": "Z6d7Ii0uyglI"
      },
      "source": [
        "<div class=\"alert alert-info\"><li>A key in dictionary can hold multiple datatypes (Boolean, Integer, Float, String, Tuple) i.e. datatype should be immutable<li>A value in dictionary can hold multiple datatypes (List, Tuple, Boolean, Integer, Float, String) i.e. both immutable and mutable</div>\n"
      ]
    },
    {
      "cell_type": "code",
      "execution_count": null,
      "metadata": {
        "hidden": true,
        "id": "IiAjZHSDyglJ",
        "outputId": "c435a600-5c06-438f-e399-9941b41f6ac7"
      },
      "outputs": [
        {
          "name": "stdout",
          "output_type": "stream",
          "text": [
            "Dictionary a: {'Text': 'String', 18: 'Integer', True: 'Boolean', (1, 2, 3): 'Tuple', 3.5: 'Float_duplicate'}\n",
            "\n",
            "a[True]: Boolean\n",
            "\n",
            "Dictionary a: {'Text': 'String', 18: 'Integer', True: 'Boolean', (1, 2, 3): 'Tuple', 3.5: 'Float_duplicate', 'New Key': 'New Value'}\n"
          ]
        }
      ],
      "source": [
        "a = {\n",
        "    \"Text\": \"String\",\n",
        "    18: \"Integer\",\n",
        "    True: \"Boolean\",\n",
        "    (1, 2, 3): \"Tuple\",\n",
        "    3.5: \"Float\",\n",
        "    3.5: \"Float_duplicate\"\n",
        "}\n",
        "\n",
        "# 3.5 is the duplicate key, the returned value will be the last defined value\n",
        "print(\"Dictionary a:\", a)\n",
        "\n",
        "# Accessing the dictionary elements using keys\n",
        "print(\"\\na[True]:\", a[True])\n",
        "\n",
        "# Adding new Key-Values pairs in dictionary\n",
        "a[\"New Key\"] = \"New Value\"\n",
        "\n",
        "# Printing order of dictionary is not ordered\n",
        "print(\"\\nDictionary a:\", a)"
      ]
    },
    {
      "cell_type": "code",
      "execution_count": null,
      "metadata": {
        "hidden": true,
        "id": "A-gn2H5JyglJ",
        "outputId": "5b34b25f-fa62-4513-e433-a0abe3823622"
      },
      "outputs": [
        {
          "name": "stdout",
          "output_type": "stream",
          "text": [
            "\n",
            "Dictionary b: {'Name': 'Jack', 'Age': 34, 'Amount': 76890.56, 'Access': False, 'Address': (22, 'ABC', 'XYZ'), 'Mobile': [12345, 95748, '45225']}\n",
            "\n",
            "b.keys(): dict_keys(['Name', 'Age', 'Amount', 'Access', 'Address', 'Mobile'])\n",
            "\n",
            "b.values(): dict_values(['Jack', 34, 76890.56, False, (22, 'ABC', 'XYZ'), [12345, 95748, '45225']])\n",
            "\n",
            "b.items(): dict_items([('Name', 'Jack'), ('Age', 34), ('Amount', 76890.56), ('Access', False), ('Address', (22, 'ABC', 'XYZ')), ('Mobile', [12345, 95748, '45225'])])\n"
          ]
        }
      ],
      "source": [
        "b = {\n",
        "    \"Name\": \"Jack\",\n",
        "    \"Age\": 34,\n",
        "    \"Amount\": 76890.56,\n",
        "    \"Access\": False,\n",
        "    \"Address\": (22, 'ABC', 'XYZ'),\n",
        "    \"Mobile\": [12345, 95748, \"45225\"]\n",
        "}\n",
        "print(\"\\nDictionary b:\", b)\n",
        "\n",
        "# retrieving the list of keys\n",
        "print(\"\\nb.keys():\", b.keys())\n",
        "\n",
        "# retrieving the list of values\n",
        "print(\"\\nb.values():\", b.values())\n",
        "\n",
        "# returns the list of all items (tuples)\n",
        "print(\"\\nb.items():\", b.items())"
      ]
    },
    {
      "cell_type": "code",
      "execution_count": null,
      "metadata": {
        "hidden": true,
        "id": "STq3RGwOyglK",
        "outputId": "3c2bebc4-aa94-40c4-a1e4-e616c3811cd9"
      },
      "outputs": [
        {
          "name": "stdout",
          "output_type": "stream",
          "text": [
            "x:  (('a', 1), ('b', 2), ('c', 3), ('d', 4), ('e', 5)) \n",
            "Tuple converted into dictionary:  {'a': 1, 'b': 2, 'c': 3, 'd': 4, 'e': 5}\n"
          ]
        }
      ],
      "source": [
        "# Converting a tuple into dictionary\n",
        "x = (('a', 1), ('b', 2), ('c', 3), ('d', 4), ('e', 5))\n",
        "y = dict(x)\n",
        "print(\"x: \", x, \"\\nTuple converted into dictionary: \", y)"
      ]
    },
    {
      "cell_type": "code",
      "execution_count": null,
      "metadata": {
        "hidden": true,
        "id": "ZpFiY3njyglK",
        "outputId": "5b02e4ff-22e3-41b7-9a2f-830cec06133d"
      },
      "outputs": [
        {
          "name": "stdout",
          "output_type": "stream",
          "text": [
            "{'Access': False,\n",
            " 'Address': (22, 'ABC', 'XYZ'),\n",
            " 'Age': 34,\n",
            " 'Amount': 76890.56,\n",
            " 'Mobile': [12345, 95748, '45225'],\n",
            " 'Name': 'Jack'}\n"
          ]
        }
      ],
      "source": [
        "# Using pprint library (Pretty Printing) for viewing dictionary neatly\n",
        "from pprint import pprint as pp\n",
        "\n",
        "a = {\n",
        "    \"Name\": \"Jack\",\n",
        "    \"Age\": 34,\n",
        "    \"Amount\": 76890.56,\n",
        "    \"Access\": False,\n",
        "    \"Address\": (22, 'ABC', 'XYZ'),\n",
        "    \"Mobile\": [12345, 95748, \"45225\"]\n",
        "}\n",
        "\n",
        "# Keys are arranged in a sorted manner\n",
        "pp(a)"
      ]
    },
    {
      "cell_type": "code",
      "source": [
        "from ipywidgets import Text, Dropdown, Button, VBox, Output, Textarea, Layout\n",
        "\n",
        "output_dict = Output()\n",
        "\n",
        "def manipulate_dictionary(dict_str, action, key_str, value_str):\n",
        "    \"\"\"\n",
        "    Manipulates a dictionary based on user action and displays the result.\n",
        "    Safely parses dictionary, key, and value inputs.\n",
        "    \"\"\"\n",
        "    with output_dict:\n",
        "        output_dict.clear_output() # Clear previous output first\n",
        "\n",
        "        try:\n",
        "            # Safely parse the dictionary string\n",
        "            my_dict = ast.literal_eval(dict_str)\n",
        "            if not isinstance(my_dict, dict):\n",
        "                raise ValueError(\"Input for dictionary is not a valid Python dictionary format.\")\n",
        "\n",
        "            # Safely parse the key string\n",
        "            try:\n",
        "                processed_key = ast.literal_eval(key_str)\n",
        "            except (ValueError, SyntaxError):\n",
        "                processed_key = key_str # Treat as plain string if not a literal\n",
        "\n",
        "            # Safely parse the value string (only for add/update action)\n",
        "            processed_value = value_str # Default to string\n",
        "            if action == 'add/update':\n",
        "                try:\n",
        "                    processed_value = ast.literal_eval(value_str)\n",
        "                except (ValueError, SyntaxError):\n",
        "                    processed_value = value_str # Treat as plain string if not a literal\n",
        "                except Exception as e:\n",
        "                    print(f\"Error parsing value '{value_str}': {e}. Treating as plain string.\")\n",
        "                    processed_value = value_str # Fallback on unexpected error\n",
        "\n",
        "\n",
        "            # Perform the dictionary operation\n",
        "            print(f\"Original dictionary: {my_dict}\")\n",
        "\n",
        "            if action == 'add/update':\n",
        "                my_dict[processed_key] = processed_value\n",
        "                print(f\"After adding/updating key '{processed_key}': {my_dict}\")\n",
        "            elif action == 'access':\n",
        "                if processed_key in my_dict:\n",
        "                    print(f\"Value for key '{processed_key}': {my_dict[processed_key]}\")\n",
        "                else:\n",
        "                    print(f\"Key '{processed_key}' not found.\")\n",
        "            elif action == 'delete':\n",
        "                if processed_key in my_dict:\n",
        "                    del my_dict[processed_key]\n",
        "                    print(f\"After deleting key '{processed_key}': {my_dict}\")\n",
        "                else:\n",
        "                    print(f\"Key '{processed_key}' not found, cannot delete.\")\n",
        "            else:\n",
        "                print(\"Invalid action selected.\")\n",
        "\n",
        "        except (ValueError, SyntaxError) as e:\n",
        "            print(f\"Input Error: {e}. Please ensure dictionary, key, and value are valid Python literal formats or plain strings.\")\n",
        "        except Exception as e:\n",
        "            print(f\"An unexpected error occurred: {e}\")\n",
        "\n",
        "\n",
        "# --- Widget Definitions ---\n",
        "dict_input = Textarea(value='{\"a\": 1, \"b\": 2, \"c\": 3}', description='Enter a dictionary:')\n",
        "action_dropdown_dict = Dropdown(options=['add/update', 'access', 'delete'], description='Action:')\n",
        "key_input = Text(value='a', description='Key:')\n",
        "value_input_dict = Text(value='new_value', description='Value (for add/update):')\n",
        "update_button_dict = Button(description='Perform Action')\n",
        "\n",
        "# --- Function to update visibility of value_input_dict ---\n",
        "def update_value_input_visibility(change):\n",
        "    if change['new'] == 'add/update':\n",
        "        value_input_dict.layout.visibility = 'visible'\n",
        "    else:\n",
        "        value_input_dict.layout.visibility = 'hidden'\n",
        "\n",
        "# --- Attach observer to the dropdown ---\n",
        "action_dropdown_dict.observe(update_value_input_visibility, names='value')\n",
        "\n",
        "# --- Set initial visibility based on default dropdown value ---\n",
        "# The default value is 'add/update', so it should be visible initially.\n",
        "# If the default was 'access', we'd set it to 'hidden' here.\n",
        "value_input_dict.layout = Layout(visibility='visible')\n",
        "\n",
        "\n",
        "# --- Event Handler ---\n",
        "def on_dict_button_click(b):\n",
        "    manipulate_dictionary(\n",
        "        dict_input.value,\n",
        "        action_dropdown_dict.value,\n",
        "        key_input.value,\n",
        "        value_input_dict.value\n",
        "    )\n",
        "\n",
        "update_button_dict.on_click(on_dict_button_click)\n",
        "\n",
        "# --- Layout and Display ---\n",
        "interactive_dict_exercise = VBox([\n",
        "    dict_input,\n",
        "    action_dropdown_dict,\n",
        "    key_input,\n",
        "    value_input_dict,\n",
        "    update_button_dict,\n",
        "    output_dict\n",
        "])\n",
        "\n",
        "print(\"Experiment with dictionary manipulation:\")\n",
        "display(interactive_dict_exercise)\n"
      ],
      "metadata": {
        "colab": {
          "base_uri": "https://localhost:8080/",
          "height": 243,
          "referenced_widgets": [
            "61535115dc954a9085f5fe8200dc95ef",
            "9f5c52694e294d66974abbc20c88b122",
            "db38bbab4302409b9b296371562b29cc",
            "711c3dc56deb42ac986ddc8df0f04434",
            "eddd60f5a73c4b0585cc1e7c4be294a3",
            "60b47e8dfe9840d792484ae8032a8f42",
            "500f9591241f42b4b67d8d570179f3ba",
            "6aeacc268f6941fba0ffdee6f63cc60b",
            "cd3431ce0cd54dd6b14a7e7029d9d0a4",
            "59a22a4b8d1d455ab0db17e6b4888a36",
            "507d9f82aedd472d8afcf3d54e3e3342",
            "5a0a872dcaa0492ba409087309613d88",
            "d02639cb59964527bad9a48ca1ded491",
            "33600a799b184faf94abaf99b552a3be",
            "086a3405ee67470b8a36a1bcf30b3d00",
            "0df34eb65ac7488a852bee3a4928ebab",
            "dfaae3e2979748d9a5ce43f28c498250",
            "794e110d811d40fa9dd973cb85cf2a92",
            "cf51aba6e6ea49199b046088ba4890f1"
          ]
        },
        "id": "LlshlT9QIOO5",
        "outputId": "7fe9f558-1027-473d-baa9-98053394efc4"
      },
      "execution_count": null,
      "outputs": [
        {
          "output_type": "stream",
          "name": "stdout",
          "text": [
            "Experiment with dictionary manipulation:\n"
          ]
        },
        {
          "output_type": "display_data",
          "data": {
            "text/plain": [
              "VBox(children=(Textarea(value='{\"a\": 1, \"b\": 2, \"c\": 3}', description='Enter a dictionary:'), Dropdown(descrip…"
            ],
            "application/vnd.jupyter.widget-view+json": {
              "version_major": 2,
              "version_minor": 0,
              "model_id": "61535115dc954a9085f5fe8200dc95ef"
            }
          },
          "metadata": {}
        }
      ]
    },
    {
      "cell_type": "markdown",
      "metadata": {
        "heading_collapsed": true,
        "hidden": true,
        "id": "RCSv2wN1yglK"
      },
      "source": [
        "### Sets"
      ]
    },
    {
      "cell_type": "markdown",
      "metadata": {
        "hidden": true,
        "id": "500Hh6fayglL"
      },
      "source": [
        "<div class=\"alert alert-info\">Sets contains unique elements</div>"
      ]
    },
    {
      "cell_type": "code",
      "execution_count": null,
      "metadata": {
        "hidden": true,
        "id": "eDEj-LB6yglL",
        "outputId": "6f2e0d34-88dd-4c3b-e921-52ba81aaae1a"
      },
      "outputs": [
        {
          "data": {
            "text/plain": [
              "set()"
            ]
          },
          "execution_count": 69,
          "metadata": {},
          "output_type": "execute_result"
        }
      ],
      "source": [
        "# Empty Set\n",
        "set()"
      ]
    },
    {
      "cell_type": "code",
      "execution_count": null,
      "metadata": {
        "hidden": true,
        "id": "YUCBAXUuyglL",
        "outputId": "a683f7e2-ce4e-4fea-e563-452148f12398"
      },
      "outputs": [
        {
          "name": "stdout",
          "output_type": "stream",
          "text": [
            "Set s1: {1, 2, 3, 4, 5}\n",
            "Set s2: {1, 2, 3, 4, 5} , only unique elements are contained in the set\n",
            "\n",
            "After adding element in List s1: {1, 2, 3, 4, 5, 6}\n",
            "After removing element in List s1: {1, 2, 3, 5}\n",
            "\n",
            "6 in s1: False\n",
            "\n",
            "s2 (Copy of set s1):  {1, 2, 3, 5}\n",
            "s2:  set()\n"
          ]
        }
      ],
      "source": [
        "s1 = {1, 2, 3, 4, 5}\n",
        "print(\"Set s1: {}\".format(s1))\n",
        "\n",
        "# elements are repeated\n",
        "s2 = {2, 5, 1, 5, 3, 2, 5, 3, 4, 1, 2, 4, 4, 5, 2, 1, 1, 3}\n",
        "print(\"Set s2: {} , only unique elements are contained in the set\".format(s2))\n",
        "\n",
        "# Adding an element in set using add()\n",
        "s1.add(6)\n",
        "print(\"\\nAfter adding element in List s1: {}\".format(s1))\n",
        "\n",
        "# Removing an element in set using remove()\n",
        "s1.remove(6)\n",
        "\n",
        "# always succeeds without raising KeyError\n",
        "s1.discard(4)\n",
        "print(\"After removing element in List s1: {}\".format(s1))\n",
        "\n",
        "# Check if element is present in the set\n",
        "print(\"\\n6 in s1:\", 6 in s1)\n",
        "\n",
        "# Making a copy of set\n",
        "s2 = s1.copy()\n",
        "print(\"\\ns2 (Copy of set s1): \", s2)\n",
        "\n",
        "# Clearing contents of set s2\n",
        "s2.clear()\n",
        "print(\"s2: \", s2)  # Empty Set"
      ]
    },
    {
      "cell_type": "code",
      "execution_count": null,
      "metadata": {
        "hidden": true,
        "id": "Hc7t-vI4yglL",
        "outputId": "24aa54ee-f4f6-4011-8056-ba5ec832578c"
      },
      "outputs": [
        {
          "name": "stdout",
          "output_type": "stream",
          "text": [
            "Set a:  {1, 2, 3, 4, 5} \n",
            "Set coverted into list:  [1, 2, 3, 4, 5]\n",
            "\n",
            "List a:  [3, 4, 2, 4, 3, 2, 4, 1, 1, 1, 4, 5, 3, 4, 2, 2, 3] \n",
            "List coverted into set:  {1, 2, 3, 4, 5}\n"
          ]
        }
      ],
      "source": [
        "# Converting a set into list using the list constructor\n",
        "a = {3, 4, 2, 4, 3, 2, 4, 1, 1, 1, 4, 5, 3, 4, 2, 2, 3}\n",
        "b = list(a)\n",
        "print(\"Set a: \", a, \"\\nSet coverted into list: \", b)\n",
        "\n",
        "# Converting a list into set using the set constructor\n",
        "a = [3, 4, 2, 4, 3, 2, 4, 1, 1, 1, 4, 5, 3, 4, 2, 2, 3]\n",
        "b = set(a)\n",
        "print(\"\\nList a: \", a, \"\\nList coverted into set: \", b)"
      ]
    },
    {
      "cell_type": "markdown",
      "metadata": {
        "hidden": true,
        "id": "5r36hD3NyglM"
      },
      "source": [
        "<div class=\"alert alert-info\">Set functions</div>"
      ]
    },
    {
      "cell_type": "code",
      "execution_count": null,
      "metadata": {
        "hidden": true,
        "id": "6J8PtZYlyglM",
        "outputId": "be400a05-4d66-4287-9667-319756daece1"
      },
      "outputs": [
        {
          "name": "stdout",
          "output_type": "stream",
          "text": [
            "a: {1, 2, 3, 4}\n",
            "b: {3, 4, 5, 6}\n",
            "c: {5, 6}\n",
            "\n",
            "a.union(b): {1, 2, 3, 4, 5, 6}\n",
            "a.intersection(b): {3, 4}\n",
            "a & b: {3, 4}\n",
            "a.symmetric_difference(b): {1, 2, 5, 6}\n",
            "a^b: {1, 2, 5, 6}\n",
            "a.difference(b): {1, 2}\n",
            "a-b: {1, 2}\n",
            "b.difference(a): {5, 6}\n",
            "\n",
            "set(a).issuperset(c): False\n",
            "set(b).issuperset(c): True\n",
            "set(c).issubset(a): False\n",
            "set(c).issubset(b): True\n",
            "set(c).isdisjoint(a): True\n"
          ]
        }
      ],
      "source": [
        "a = {1, 2, 3, 4}\n",
        "b = {3, 4, 5, 6}\n",
        "c = {5, 6}\n",
        "print(\"a:\", a)\n",
        "print(\"b:\", b)\n",
        "print(\"c:\", c)\n",
        "\n",
        "# A union B\n",
        "print(\"\\na.union(b):\", a.union(b))\n",
        "\n",
        "# A intersection B\n",
        "print(\"a.intersection(b):\", a.intersection(b))\n",
        "\n",
        "# A intersection B can also be represented as A & B\n",
        "print(\"a & b:\", a & b)\n",
        "\n",
        "# ~(A intersection B), all other uncommon elements\n",
        "print(\"a.symmetric_difference(b):\", a.symmetric_difference(b))\n",
        "\n",
        "# Symmetric difference using ^\n",
        "print(\"a^b:\", a^b)\n",
        "\n",
        "# A prime\n",
        "print(\"a.difference(b):\", a.difference(b))\n",
        "\n",
        "# A prime using -\n",
        "print(\"a-b:\", a-b)\n",
        "\n",
        "# B prime\n",
        "print(\"b.difference(a):\", b.difference(a))\n",
        "\n",
        "print(\"\\nset(a).issuperset(c):\", set(a).issuperset(c))\n",
        "print(\"set(b).issuperset(c):\", set(b).issuperset(c))\n",
        "print(\"set(c).issubset(a):\", set(c).issubset(a))\n",
        "print(\"set(c).issubset(b):\", set(c).issubset(b))\n",
        "print(\"set(c).isdisjoint(a):\", set(c).isdisjoint(a))"
      ]
    },
    {
      "cell_type": "code",
      "execution_count": null,
      "metadata": {
        "hidden": true,
        "id": "4kjKOQnKyglM",
        "outputId": "311f0545-fd86-434b-cd82-de6c5575c405"
      },
      "outputs": [
        {
          "name": "stdout",
          "output_type": "stream",
          "text": [
            "d: {50, 20, 70, 40, 10, 30}\n",
            "e: {40, 10, 11, 45, 20, 22, 58, 60}\n",
            "\n",
            "After updating, d: {70, 40, 10, 11, 45, 50, 20, 22, 58, 60, 30}\n"
          ]
        }
      ],
      "source": [
        "d = {10, 20, 30, 40, 20, 10, 20, 30, 50, 70}\n",
        "e = {10, 22, 45, 40, 20, 10, 20, 11, 58, 60}\n",
        "print(\"d:\", d)\n",
        "print(\"e:\", e)\n",
        "\n",
        "# Update a set with the union of itself and others\n",
        "d.update(e)\n",
        "print(\"\\nAfter updating, d:\", d)"
      ]
    },
    {
      "cell_type": "markdown",
      "metadata": {
        "heading_collapsed": true,
        "hidden": true,
        "id": "fRhx31FwyglM"
      },
      "source": [
        "### Frozensets"
      ]
    },
    {
      "cell_type": "markdown",
      "metadata": {
        "hidden": true,
        "id": "MY-98OhYyglN"
      },
      "source": [
        "Frozen sets are a native data type in Python that have the qualities of sets, but are immutable like tuples. The primary reason to use them is to write more clear, functional code. By defining a variable as a frozen set, we’re telling future readers: do not modify this!"
      ]
    },
    {
      "cell_type": "code",
      "execution_count": null,
      "metadata": {
        "hidden": true,
        "id": "_jXhDoWryglN",
        "outputId": "7408de4f-ea0e-43c0-b579-18d3dad2f48c"
      },
      "outputs": [
        {
          "name": "stdout",
          "output_type": "stream",
          "text": [
            "{1, 2, 3}\n"
          ]
        }
      ],
      "source": [
        "scores = {1, 2}\n",
        "scores.add(3)\n",
        "print(scores)"
      ]
    },
    {
      "cell_type": "code",
      "source": [
        "scores = {1, 2}\n",
        "frozen_scores = frozenset(scores)\n",
        "\n",
        "# AttributeError: 'frozenset' object has no attribute 'add'\n",
        "frozen_scores.add(3) # This line caused the error\n",
        "\n",
        "print(\"Original set:\", scores)\n",
        "print(\"Frozenset:\", frozen_scores)\n",
        "\n",
        "# To add an element, you would need to create a new frozenset\n",
        "new_frozen_scores = frozenset(frozen_scores.union({3}))\n",
        "print(\"New frozenset after adding 3:\", new_frozen_scores)"
      ],
      "metadata": {
        "colab": {
          "base_uri": "https://localhost:8080/",
          "height": 211
        },
        "id": "H2HnC15wERQQ",
        "outputId": "98e28f80-f5c3-4211-8a51-028d91e3ec59"
      },
      "execution_count": null,
      "outputs": [
        {
          "output_type": "error",
          "ename": "AttributeError",
          "evalue": "'frozenset' object has no attribute 'add'",
          "traceback": [
            "\u001b[0;31m---------------------------------------------------------------------------\u001b[0m",
            "\u001b[0;31mAttributeError\u001b[0m                            Traceback (most recent call last)",
            "\u001b[0;32m/tmp/ipython-input-4-3017092905.py\u001b[0m in \u001b[0;36m<cell line: 0>\u001b[0;34m()\u001b[0m\n\u001b[1;32m      3\u001b[0m \u001b[0;34m\u001b[0m\u001b[0m\n\u001b[1;32m      4\u001b[0m \u001b[0;31m# AttributeError: 'frozenset' object has no attribute 'add'\u001b[0m\u001b[0;34m\u001b[0m\u001b[0;34m\u001b[0m\u001b[0m\n\u001b[0;32m----> 5\u001b[0;31m \u001b[0mfrozen_scores\u001b[0m\u001b[0;34m.\u001b[0m\u001b[0madd\u001b[0m\u001b[0;34m(\u001b[0m\u001b[0;36m3\u001b[0m\u001b[0;34m)\u001b[0m \u001b[0;31m# This line caused the error\u001b[0m\u001b[0;34m\u001b[0m\u001b[0;34m\u001b[0m\u001b[0m\n\u001b[0m\u001b[1;32m      6\u001b[0m \u001b[0;34m\u001b[0m\u001b[0m\n\u001b[1;32m      7\u001b[0m \u001b[0mprint\u001b[0m\u001b[0;34m(\u001b[0m\u001b[0;34m\"Original set:\"\u001b[0m\u001b[0;34m,\u001b[0m \u001b[0mscores\u001b[0m\u001b[0;34m)\u001b[0m\u001b[0;34m\u001b[0m\u001b[0;34m\u001b[0m\u001b[0m\n",
            "\u001b[0;31mAttributeError\u001b[0m: 'frozenset' object has no attribute 'add'"
          ]
        }
      ]
    },
    {
      "cell_type": "code",
      "execution_count": null,
      "metadata": {
        "hidden": true,
        "id": "Zp8CofSryglO",
        "outputId": "578a45c3-c3b2-4d51-8e70-4c0d35893066"
      },
      "outputs": [
        {
          "name": "stdout",
          "output_type": "stream",
          "text": [
            "frozenset({1, 2, 3, 4})\n",
            "frozenset({'H', 'e', 'l', 'o'})\n"
          ]
        }
      ],
      "source": [
        "myList = [1, 1, 2, 3, 4]\n",
        "frozenList = frozenset(myList)\n",
        "print(frozenList)  # frozenset({1, 2, 3, 4})\n",
        "\n",
        "myString = \"Hello\"\n",
        "frozenString = frozenset(myString)\n",
        "print(frozenString)  # frozenset({'e', 'l', 'H', 'o'})"
      ]
    },
    {
      "cell_type": "code",
      "source": [
        "from ipywidgets import Textarea, Dropdown, Button, VBox, Output\n",
        "\n",
        "output_set = Output()\n",
        "\n",
        "def perform_set_operation(set1_str, set2_str, operation):\n",
        "    \"\"\"Performs set operations and displays the result.\"\"\"\n",
        "    try:\n",
        "        set1 = eval(set1_str) # Evaluate the string as a Python set\n",
        "        set2 = eval(set2_str)\n",
        "        if not isinstance(set1, set) or not isinstance(set2, set):\n",
        "            raise ValueError(\"Inputs must be valid sets.\")\n",
        "\n",
        "        with output_set:\n",
        "            output_set.clear_output()\n",
        "            print(f\"Set 1: {set1}\")\n",
        "            print(f\"Set 2: {set2}\")\n",
        "            if operation == 'union':\n",
        "                print(f\"Union: {set1.union(set2)}\")\n",
        "            elif operation == 'intersection':\n",
        "                print(f\"Intersection: {set1.intersection(set2)}\")\n",
        "            elif operation == 'difference (set1 - set2)':\n",
        "                print(f\"Difference (set1 - set2): {set1.difference(set2)}\")\n",
        "            elif operation == 'symmetric difference':\n",
        "                print(f\"Symmetric Difference: {set1.symmetric_difference(set2)}\")\n",
        "            else:\n",
        "                print(\"Invalid operation.\")\n",
        "    except Exception as e:\n",
        "        with output_set:\n",
        "            output_set.clear_output()\n",
        "            print(f\"Error: {e}\")\n",
        "\n",
        "set1_input = Textarea(value='{1, 2, 3, 4}', description='Enter Set 1 (e.g., {1, 2, 3}):')\n",
        "set2_input = Textarea(value='{3, 4, 5, 6}', description='Enter Set 2 (e.g., {3, 4, 5}):')\n",
        "operation_dropdown_set = Dropdown(options=['union', 'intersection', 'difference (set1 - set2)', 'symmetric difference'], description='Operation:')\n",
        "perform_button_set = Button(description='Perform Operation')\n",
        "\n",
        "def on_set_button_click(b):\n",
        "    perform_set_operation(set1_input.value, set2_input.value, operation_dropdown_set.value)\n",
        "\n",
        "perform_button_set.on_click(on_set_button_click)\n",
        "\n",
        "interactive_set_exercise = VBox([set1_input, set2_input, operation_dropdown_set, perform_button_set, output_set])\n",
        "\n",
        "print(\"Experiment with set operations:\")\n",
        "display(interactive_set_exercise)"
      ],
      "metadata": {
        "colab": {
          "base_uri": "https://localhost:8080/",
          "height": 190,
          "referenced_widgets": [
            "27887aeb5d004b35b4df4648199473ab",
            "04b33174fe074b6d9bfec37f239e4244",
            "f620635d867749c7acb29511d2ca854f",
            "3800c32612344780879e31e4274d420a",
            "3435f2d7ac1b47a786a250545c6a7c71",
            "81a45ef9ad4a4c1182b04913923a2e4e",
            "0e4541fec2f84b9a9789ae7246fe38a2",
            "41f36b6382d84c9ea84a0b3eed11e5f7",
            "8cae90a14f3c4b27b8c53fac785a091e",
            "0d33fc5fec254fc785fef96258ecb561",
            "a99fbba08e714181a9e429edaffe2438",
            "39f075f6f6284ba49c0967e5cf64cd90",
            "3ee05eaa2dfa4f29a84f920581adfa40",
            "f251e585e44d4671bcd790801bfcf759",
            "3421602ee8c44b58bbbe2ec68e0457bd",
            "73bcce007bfd4ae381cac81fbd8f8213"
          ]
        },
        "id": "cwQDe4kqHmcI",
        "outputId": "a5cdf7aa-7a31-4d45-e761-cdabab222c82"
      },
      "execution_count": null,
      "outputs": [
        {
          "output_type": "stream",
          "name": "stdout",
          "text": [
            "Experiment with set operations:\n"
          ]
        },
        {
          "output_type": "display_data",
          "data": {
            "text/plain": [
              "VBox(children=(Textarea(value='{1, 2, 3, 4}', description='Enter Set 1 (e.g., {1, 2, 3}):'), Textarea(value='{…"
            ],
            "application/vnd.jupyter.widget-view+json": {
              "version_major": 2,
              "version_minor": 0,
              "model_id": "27887aeb5d004b35b4df4648199473ab"
            }
          },
          "metadata": {}
        }
      ]
    },
    {
      "cell_type": "markdown",
      "metadata": {
        "heading_collapsed": true,
        "id": "EZ3T0dUUyglP"
      },
      "source": [
        "## isinstance()"
      ]
    },
    {
      "cell_type": "markdown",
      "metadata": {
        "hidden": true,
        "id": "NcbDRzy7yglP"
      },
      "source": [
        "<div class=\"alert alert-info\"><b>isinstance()</b> checks the type of objects</div>"
      ]
    },
    {
      "cell_type": "code",
      "execution_count": null,
      "metadata": {
        "hidden": true,
        "id": "SDeVLHzGyglP",
        "outputId": "94e7a1b0-5b67-47c3-99d8-314674165d02"
      },
      "outputs": [
        {
          "data": {
            "text/plain": [
              "True"
            ]
          },
          "execution_count": 22,
          "metadata": {},
          "output_type": "execute_result"
        }
      ],
      "source": [
        "name = 'Jamwine'\n",
        "isinstance(name, str)"
      ]
    },
    {
      "cell_type": "code",
      "execution_count": null,
      "metadata": {
        "hidden": true,
        "id": "po9p7oVqyglP",
        "outputId": "354c5c7d-6602-4c15-a02d-22b598cd14c9"
      },
      "outputs": [
        {
          "data": {
            "text/plain": [
              "False"
            ]
          },
          "execution_count": 23,
          "metadata": {},
          "output_type": "execute_result"
        }
      ],
      "source": [
        "record_id = '12345'\n",
        "isinstance(record_id, int)"
      ]
    },
    {
      "cell_type": "markdown",
      "metadata": {
        "heading_collapsed": true,
        "id": "TvAB562RyglQ"
      },
      "source": [
        "## Explicit Type conversion (Type Casting)"
      ]
    },
    {
      "cell_type": "markdown",
      "metadata": {
        "hidden": true,
        "id": "4OQQ5bFMyglQ"
      },
      "source": [
        "<div class=\"alert alert-info\">Objects created explicitly using constructors int(), str(), list(), float(), bool(), tuple()</div>"
      ]
    },
    {
      "cell_type": "code",
      "execution_count": null,
      "metadata": {
        "hidden": true,
        "id": "Qrr1c0L8yglQ",
        "outputId": "c74be576-62a5-4884-976a-b7ddcd810bc3"
      },
      "outputs": [
        {
          "name": "stdout",
          "output_type": "stream",
          "text": [
            "int(4):  4\n",
            "int(4.5):  4\n",
            "int('78'):  78\n",
            "int(True):  1\n",
            "\n",
            "str('Hey'):  Hey\n",
            "str(53):  53\n",
            "str(46.2):  46.2\n",
            "str(True):  True\n",
            "\n",
            "float(3.6):  3.6\n",
            "float('21.64'):  21.64\n",
            "float(435):  435.0\n",
            "float(True):  1.0\n",
            "\n",
            "bool(1):  True\n",
            "bool(0):  False\n",
            "\n",
            "list([3,6,'fan']):  [3, 6, 'fan']\n",
            "tuple([2,8,'test', False]):  (2, 8, 'test', False)\n",
            "tuple('String123'):  ('S', 't', 'r', 'i', 'n', 'g', '1', '2', '3')\n",
            "\n",
            "Default Values\n",
            "int():  0\n",
            "float():  0.0\n",
            "str():  \n",
            "list():  []\n",
            "bool():  False\n"
          ]
        }
      ],
      "source": [
        "print(\"int(4): \", int(4))\n",
        "print(\"int(4.5): \", int(4.5))  # type conversion from float to integer\n",
        "print(\"int('78'): \", int('78'))  # type conversion from string to integer\n",
        "print(\"int(True): \", int(True))  # type conversion from boolean to integer\n",
        "\n",
        "print(\"\\nstr('Hey'): \", str('Hey'))\n",
        "print(\"str(53): \", str(53))  # type conversion from integer to string\n",
        "print(\"str(46.2): \", str(46.2))  # type conversion from float to string\n",
        "print(\"str(True): \", str(True))  # type conversion from boolean to string\n",
        "\n",
        "print(\"\\nfloat(3.6): \", float(3.6))\n",
        "print(\"float('21.64'): \",\n",
        "      float('21.64'))  # type conversion from string to float\n",
        "print(\"float(435): \", float(435))  # type conversion from integer to float\n",
        "print(\"float(True): \", float(True))  # type conversion from boolean to float\n",
        "\n",
        "print(\"\\nbool(1): \", bool(1))\n",
        "print(\"bool(0): \", bool(0))\n",
        "\n",
        "print(\"\\nlist([3,6,'fan']): \", list([3, 6, 'fan']))\n",
        "print(\"tuple([2,8,'test', False]): \", tuple([2, 8, 'test', False]))\n",
        "print(\"tuple('String123'): \", tuple('String123'))\n",
        "\n",
        "# Default Values\n",
        "print(\"\\nDefault Values\\nint(): \", int())  # 0\n",
        "print(\"float(): \", float())  #0.0\n",
        "print(\"str(): \", str())  # '' (blank string)\n",
        "print(\"list(): \", list())  # [] (blank list)\n",
        "print(\"bool(): \", bool())  # False"
      ]
    },
    {
      "cell_type": "markdown",
      "metadata": {
        "heading_collapsed": true,
        "id": "EXvYLc7-yglR"
      },
      "source": [
        "## Advanced Numbers: Octal, Hexadecimal, Binary, Complex"
      ]
    },
    {
      "cell_type": "code",
      "execution_count": null,
      "metadata": {
        "hidden": true,
        "id": "36v7gag6yglR",
        "outputId": "3d4d17a7-5ee4-4c95-9db5-c73d7729fa56"
      },
      "outputs": [
        {
          "name": "stdout",
          "output_type": "stream",
          "text": [
            "Decimal Value: 50\n"
          ]
        }
      ],
      "source": [
        "# Normal Integer\n",
        "i = 50\n",
        "print(\"Decimal Value:\", i)"
      ]
    },
    {
      "cell_type": "code",
      "execution_count": null,
      "metadata": {
        "hidden": true,
        "id": "mi954BpryglR",
        "outputId": "e6ea2c0d-0569-48b7-b076-9c2086a4a321"
      },
      "outputs": [
        {
          "name": "stdout",
          "output_type": "stream",
          "text": [
            "Octal Value: 0o62 , type of o: <class 'str'>\n",
            "\n",
            "Octal to integer: 0o62 is 50\n"
          ]
        }
      ],
      "source": [
        "# converting integer to octal value\n",
        "o = oct(i)\n",
        "print(\"Octal Value:\", o, \", type of o:\", type(o))\n",
        "\n",
        "# converting octal to integer value\n",
        "print(\"\\nOctal to integer: 0o62 is {}\".format(0o62))"
      ]
    },
    {
      "cell_type": "markdown",
      "metadata": {
        "hidden": true,
        "id": "rKTMLRLHyglR"
      },
      "source": [
        "number prefixed by **0o** (zero and a lowercase \"o\" or uppercase \"O\") represents an **octal number**"
      ]
    },
    {
      "cell_type": "code",
      "execution_count": null,
      "metadata": {
        "hidden": true,
        "id": "SbIEEwN_yglS",
        "outputId": "dea066b5-bae0-43c0-906a-fa7fd9e73d6b"
      },
      "outputs": [
        {
          "name": "stdout",
          "output_type": "stream",
          "text": [
            "Hexadecimal Value: 0x32 , type of h: <class 'str'>\n",
            "\n",
            "Hexadecimal to integer: 0x32 is 50\n"
          ]
        }
      ],
      "source": [
        "# converting integer to hex value\n",
        "h = hex(i)\n",
        "print(\"Hexadecimal Value:\", h, \", type of h:\", type(h))\n",
        "\n",
        "# converting hex to integer value\n",
        "print(\"\\nHexadecimal to integer: 0x32 is {}\".format(0x32))"
      ]
    },
    {
      "cell_type": "markdown",
      "metadata": {
        "hidden": true,
        "id": "BmWx4OsXyglS"
      },
      "source": [
        "number prefixed by **0x** (zero and a lowercase \"x\" or uppercase \"X\") represents a **hexadecimal number**"
      ]
    },
    {
      "cell_type": "code",
      "execution_count": null,
      "metadata": {
        "hidden": true,
        "id": "Pa6qyqA_yglS",
        "outputId": "defe2715-edba-4654-f451-7fc69b4dad6b"
      },
      "outputs": [
        {
          "name": "stdout",
          "output_type": "stream",
          "text": [
            "Binary Value: 0b110010 , type of b: <class 'str'>\n",
            "\n",
            "Binary to integer: 0b110010 is 50\n"
          ]
        }
      ],
      "source": [
        "# converting integer to binary value\n",
        "b = bin(i)\n",
        "print(\"Binary Value:\", b, \", type of b:\", type(b))\n",
        "\n",
        "# converting binary to integer value\n",
        "print(\"\\nBinary to integer: 0b110010 is {}\".format(0b110010))"
      ]
    },
    {
      "cell_type": "markdown",
      "metadata": {
        "hidden": true,
        "id": "74xDgFe4yglS"
      },
      "source": [
        "number prefixed by **0b** (zero and a lowercase \"b\" or uppercase \"B\") represents a **binary number**"
      ]
    },
    {
      "cell_type": "code",
      "execution_count": null,
      "metadata": {
        "hidden": true,
        "id": "MKiR551eyglS",
        "outputId": "973c8383-08e8-4079-c729-3236ab93d75e"
      },
      "outputs": [
        {
          "name": "stdout",
          "output_type": "stream",
          "text": [
            "Complex Number: (5+6j) , type of x: <class 'complex'>\n",
            "Defining complex number using complex(): (4+3j)\n",
            "\n",
            "Float Representation:\n",
            "4e8 is 400000000.0\n",
            "-9.53e18 is -9.53e+18\n",
            "float(nan) is nan\n",
            "float(inf) is inf\n",
            "float(-inf) is -inf\n"
          ]
        }
      ],
      "source": [
        "# Real & Imaginary Number\n",
        "x = 5 + 6j\n",
        "print(\"Complex Number:\", x, \", type of x:\", type(x))\n",
        "print(\"Defining complex number using complex():\", complex(4, 3))\n",
        "\n",
        "# Float numbers representation\n",
        "print('\\nFloat Representation:\\n4e8 is {}'.format(4e8))\n",
        "print('-9.53e18 is {}'.format(-9.53e18))\n",
        "print('float(nan) is', float('nan'))\n",
        "print('float(inf) is', float('inf'))\n",
        "print('float(-inf) is', float('-inf'))"
      ]
    },
    {
      "cell_type": "code",
      "execution_count": null,
      "metadata": {
        "hidden": true,
        "id": "QvzrocxcyglT",
        "outputId": "eec6b501-8777-4401-de02-abf4c5d00a3b"
      },
      "outputs": [
        {
          "name": "stdout",
          "output_type": "stream",
          "text": [
            "String Representation:\n",
            "Unicode: \\u0e21 is ม\n",
            "Octal: \\521 is ő\n",
            "Hex: \\x521 is R1\n"
          ]
        }
      ],
      "source": [
        "# String representation\n",
        "print('String Representation:\\nUnicode: \\\\u0e21 is {}'.format('\\u0e21'))\n",
        "print('Octal: \\\\521 is {}'.format('\\521'))\n",
        "print('Hex: \\\\x521 is {}'.format('\\x521'))"
      ]
    },
    {
      "cell_type": "code",
      "execution_count": null,
      "metadata": {
        "hidden": true,
        "id": "xbc2ZfsayglT",
        "outputId": "052175af-21a2-4f2c-a0f0-b3f49df7cb18"
      },
      "outputs": [
        {
          "data": {
            "text/plain": [
              "False"
            ]
          },
          "execution_count": 84,
          "metadata": {},
          "output_type": "execute_result"
        }
      ],
      "source": [
        "# None keyword is different than float('nan')\n",
        "None == float('nan')"
      ]
    },
    {
      "cell_type": "markdown",
      "metadata": {
        "heading_collapsed": true,
        "id": "wFAi0y1YyglT"
      },
      "source": [
        "## Multiple Variables Assignment"
      ]
    },
    {
      "cell_type": "markdown",
      "metadata": {
        "hidden": true,
        "id": "Ii55zs12yglT"
      },
      "source": [
        "<div class=\"alert alert-info\"><li>Multiple variables of different datatypes can also be assigned together\n",
        "</div>"
      ]
    },
    {
      "cell_type": "code",
      "execution_count": null,
      "metadata": {
        "hidden": true,
        "id": "NbnuY5YOyglT",
        "outputId": "679fa1e2-73e9-4d12-bb64-37b5ad9b7900"
      },
      "outputs": [
        {
          "name": "stdout",
          "output_type": "stream",
          "text": [
            "a: 4\n",
            "b: 5.5\n",
            "c: Hello\n"
          ]
        }
      ],
      "source": [
        "a, b, c = 4, 5.5, 'Hello'\n",
        "print('a:',a)\n",
        "print('b:',b)\n",
        "print('c:',c)"
      ]
    },
    {
      "cell_type": "code",
      "execution_count": null,
      "metadata": {
        "hidden": true,
        "id": "SLn25R-syglU",
        "outputId": "7fd7e508-c79f-4ac1-9a68-a7729d15b08b"
      },
      "outputs": [
        {
          "name": "stdout",
          "output_type": "stream",
          "text": [
            "a: 1\n",
            "b: 2\n",
            "c: [3, 4, 5]\n"
          ]
        }
      ],
      "source": [
        "# Variables a and b are extracted individually, other elements are returned within the list\n",
        "a, b, *c = [1, 2, 3, 4, 5]\n",
        "print('a:',a)\n",
        "print('b:',b)\n",
        "print('c:',c)"
      ]
    },
    {
      "cell_type": "code",
      "execution_count": null,
      "metadata": {
        "hidden": true,
        "id": "OeKcA8CZyglU",
        "outputId": "8bed0945-6b92-44f6-ecac-b199ee6be93e"
      },
      "outputs": [
        {
          "name": "stdout",
          "output_type": "stream",
          "text": [
            "a: 1\n",
            "b: Hello\n",
            "c: ['Hi', 'Hey']\n",
            "d: 4.5\n",
            "e: True\n",
            "f: ('Ten', 20, 30.5, False)\n",
            "\n",
            "Class of a: <class 'int'>\n",
            "Class of b: <class 'str'>\n",
            "Class of c: <class 'list'>\n",
            "Class of d: <class 'float'>\n",
            "Class of e: <class 'bool'>\n",
            "Class of f: <class 'tuple'>\n"
          ]
        }
      ],
      "source": [
        "# multiple assignment to various variables\n",
        "a, b, c, d, e, f = 1, 'Hello', [\"Hi\",\n",
        "                                \"Hey\"], 4.5, True, (\"Ten\", 20, 30.5, False)\n",
        "print(\"a:\", a)\n",
        "print(\"b:\", b)\n",
        "print(\"c:\", c)\n",
        "print(\"d:\", d)\n",
        "print(\"e:\", e)\n",
        "print(\"f:\", f)\n",
        "\n",
        "print(\"\\nClass of a:\", type(a))\n",
        "print(\"Class of b:\", type(b))\n",
        "print(\"Class of c:\", type(c))\n",
        "print(\"Class of d:\", type(d))\n",
        "print(\"Class of e:\", type(e))\n",
        "print(\"Class of f:\", type(f))"
      ]
    },
    {
      "cell_type": "code",
      "execution_count": null,
      "metadata": {
        "hidden": true,
        "id": "DFFiZ6zxyglU",
        "outputId": "49ad9daf-a078-4720-b755-f1e01e46272a"
      },
      "outputs": [
        {
          "name": "stdout",
          "output_type": "stream",
          "text": [
            "a: (1, 2, 3, 4, 5)\n"
          ]
        }
      ],
      "source": [
        "# Tuple\n",
        "a = 1, 2, 3, 4, 5\n",
        "print('a:', a)"
      ]
    },
    {
      "cell_type": "code",
      "execution_count": null,
      "metadata": {
        "hidden": true,
        "id": "WCYhxtBKyglU",
        "outputId": "c3fa6d69-1e6b-432c-e927-5ee1340a5601"
      },
      "outputs": [
        {
          "name": "stdout",
          "output_type": "stream",
          "text": [
            "a: Ten\n",
            "b: 20\n",
            "c: 30.5\n",
            "d: False\n"
          ]
        }
      ],
      "source": [
        "# Unpacking tuple\n",
        "a, b, c, d = (\"Ten\", 20, 30.5, False)\n",
        "print(\"a:\", a)\n",
        "print(\"b:\", b)\n",
        "print(\"c:\", c)\n",
        "print(\"d:\", d)"
      ]
    },
    {
      "cell_type": "markdown",
      "metadata": {
        "heading_collapsed": true,
        "id": "gpMSTlYRyglV"
      },
      "source": [
        "## `is` statement and id()"
      ]
    },
    {
      "cell_type": "markdown",
      "metadata": {
        "hidden": true,
        "id": "BgcESVZcyglV"
      },
      "source": [
        "<div class=\"alert alert-info\"><li><b>id()</b> return a unique identifier for an object within the memory<li><b>==</b> is the <b>equality comparison</b><li><b>is</b> the <b>identity comparison</b></div>"
      ]
    },
    {
      "cell_type": "code",
      "execution_count": null,
      "metadata": {
        "hidden": true,
        "id": "fr_gpEcnyglV",
        "outputId": "ffcd9e90-f7fb-4019-fcd4-8461ffa7a021"
      },
      "outputs": [
        {
          "name": "stdout",
          "output_type": "stream",
          "text": [
            "a: [1, 2, 3]\n",
            "b: [1, 2, 3]\n",
            "\n",
            "a==b: True\n",
            "a is b: False\n",
            "\n",
            "id(a): 2520830847488\n",
            "id(b): 2520830847424\n",
            "id(a)==id(b): False\n"
          ]
        }
      ],
      "source": [
        "a = [1, 2, 3]\n",
        "b = [1, 2, 3]\n",
        "print('a:',a)\n",
        "print('b:',b)\n",
        "\n",
        "print('\\na==b:', a == b)  # Values are equivalent\n",
        "print('a is b:', a is b)  # Separate objects\n",
        "\n",
        "print('\\nid(a):', id(a))\n",
        "print('id(b):', id(b))\n",
        "\n",
        "# id of 'b' is not same as id of 'a' as they both refer to the different object in memory\n",
        "print(\"id(a)==id(b):\", id(a)==id(b))"
      ]
    },
    {
      "cell_type": "code",
      "execution_count": null,
      "metadata": {
        "hidden": true,
        "id": "NsQqTuLqyglV",
        "outputId": "6ec3466d-59c3-4b28-9119-3abbd97944e2"
      },
      "outputs": [
        {
          "name": "stdout",
          "output_type": "stream",
          "text": [
            "x: 4\n",
            "y: 5\n",
            "x+y: 9\n",
            "\n",
            "a: 1 , id of a is: 2520354875696\n",
            "b: 1 , id of b is: 2520354875696\n",
            "id(a)==id(b): True\n",
            "\n",
            "b: 2 , id of b is: 2520354875728\n",
            "id(a)==id(b): False\n"
          ]
        }
      ],
      "source": [
        "x = 4\n",
        "y = 5\n",
        "print('x:', x)\n",
        "print('y:', y)\n",
        "print(\"x+y:\", x + y)\n",
        "\n",
        "# demonstrating the id function\n",
        "a = 1\n",
        "print(\"\\na:\", a, \", id of a is:\", id(a))\n",
        "\n",
        "# variable 'b' is pointing to 'a'\n",
        "b = a\n",
        "print(\"b:\", b, \", id of b is:\", id(b))\n",
        "\n",
        "# id of 'b' is same as id of 'a' as they both refer to the same object in memory\n",
        "print(\"id(a)==id(b):\", id(a) == id(b))\n",
        "\n",
        "# value of variable 'b' is changed\n",
        "b = 2\n",
        "# id of 'b' will be changed\n",
        "print(\"\\nb:\", b, \", id of b is:\", id(b))\n",
        "print(\"id(a)==id(b):\", id(a) == id(b))"
      ]
    },
    {
      "cell_type": "markdown",
      "metadata": {
        "hidden": true,
        "id": "1ILTx8YayglW"
      },
      "source": [
        "* `not` is also used to check empty objects\n",
        "* **a is not b** is a special operator which is equivalent to **not a is b**"
      ]
    },
    {
      "cell_type": "code",
      "execution_count": null,
      "metadata": {
        "hidden": true,
        "id": "L7C2DIXsyglW",
        "outputId": "504445dc-be9a-4d44-8e61-d1b69f46793a"
      },
      "outputs": [
        {
          "name": "stdout",
          "output_type": "stream",
          "text": [
            "a: [1, 2, 3]\n",
            "not a: False\n"
          ]
        }
      ],
      "source": [
        "a = [1, 2, 3]\n",
        "print('a:',a)\n",
        "\n",
        "# a is not empty, returns False\n",
        "print('not a:', not a)"
      ]
    },
    {
      "cell_type": "code",
      "execution_count": null,
      "metadata": {
        "hidden": true,
        "id": "3TEqXFOlyglX",
        "outputId": "4569fb51-0c00-475e-d7cb-f748fd58e806"
      },
      "outputs": [
        {
          "name": "stdout",
          "output_type": "stream",
          "text": [
            "a: []\n",
            "not a: True\n"
          ]
        }
      ],
      "source": [
        "a = []\n",
        "print('a:',a)\n",
        "\n",
        "# a is empty, returns True\n",
        "print('not a:', not a)"
      ]
    },
    {
      "cell_type": "code",
      "execution_count": null,
      "metadata": {
        "hidden": true,
        "id": "HTYvGjPZyglX",
        "outputId": "c99e8548-8770-4d76-f3ee-4ca9952c0736"
      },
      "outputs": [
        {
          "name": "stdout",
          "output_type": "stream",
          "text": [
            "a: [1, 2, 3]\n",
            "b: [1, 2, 3]\n",
            "\n",
            "a is a: True\n",
            "a is not a: False\n",
            "\n",
            "a is b: False\n",
            "a is not b: True\n",
            "not a is b: True\n"
          ]
        }
      ],
      "source": [
        "a = [1, 2, 3]\n",
        "b = [1, 2, 3]\n",
        "print('a:', a)\n",
        "print('b:', b)\n",
        "\n",
        "print('\\na is a:', a is a)\n",
        "print('a is not a:', a is not a)\n",
        "\n",
        "print('\\na is b:', a is b)\n",
        "print('a is not b:', a is not b)\n",
        "print('not a is b:', not a is b)"
      ]
    },
    {
      "cell_type": "markdown",
      "metadata": {
        "hidden": true,
        "id": "5EY69aicyglX"
      },
      "source": [
        "<div class=\"alert alert-info\">Difference between Referencing and Cloning</div>"
      ]
    },
    {
      "cell_type": "code",
      "execution_count": null,
      "metadata": {
        "hidden": true,
        "id": "wvxa3_pEyglY",
        "outputId": "145e88b6-604e-4fef-acc1-1909061c35f1"
      },
      "outputs": [
        {
          "name": "stdout",
          "output_type": "stream",
          "text": [
            "A: [1, 2, 3]\n",
            "B: [1, 2, 3]\n",
            "C: [1, 2, 3]\n",
            "\n",
            "Changing a[2]=5,\n",
            "\n",
            "A: [1, 2, 5]\n",
            "B: [1, 2, 5]\n",
            "C: [1, 2, 3]\n"
          ]
        }
      ],
      "source": [
        "a = [1, 2, 3]\n",
        "print('A:', a)\n",
        "\n",
        "# list B is referencing to list A\n",
        "b = a\n",
        "print('B:', b)\n",
        "\n",
        "# List C is created by cloning list A, a new list is created and not referenced\n",
        "c = a[:]\n",
        "print('C:', c)\n",
        "\n",
        "# change in List A\n",
        "print('\\nChanging a[2]=5,')\n",
        "a[2] = 5\n",
        "\n",
        "print('\\nA:', a)\n",
        "\n",
        "# notice that list B also changes at the same position since both are referencing to the same list in memory.\n",
        "print('B:', b)\n",
        "\n",
        "# notice that list C doesn't changes because both are the different lists and they are not referencing to the same list in memory.\n",
        "print('C:', c)"
      ]
    },
    {
      "cell_type": "markdown",
      "metadata": {
        "heading_collapsed": true,
        "id": "v-I4zkm1yglY"
      },
      "source": [
        "## Input at runtime"
      ]
    },
    {
      "cell_type": "code",
      "execution_count": null,
      "metadata": {
        "hidden": true,
        "id": "HdjD9Fr6yglY",
        "outputId": "c8af1b81-a445-4f9c-f93f-12ee152daf0b"
      },
      "outputs": [
        {
          "name": "stdout",
          "output_type": "stream",
          "text": [
            "Enter number: 63\n",
            "User entered: 63. It is a string\n",
            "<class 'str'>\n",
            "\n",
            "After conversion, 63 is a integer\n",
            "<class 'int'>\n"
          ]
        }
      ],
      "source": [
        "# input function is used for inputting through keyboard\n",
        "a = input(\"Enter number: \")\n",
        "print(\"User entered: {}. It is a string\".format(a))\n",
        "print(type(a))  # result is of string data type\n",
        "\n",
        "# In order to convert string into number, we can use object constructor int()\n",
        "b = int(a)\n",
        "print(\"\\nAfter conversion, {} is a integer\".format(b))\n",
        "print(type(b))"
      ]
    },
    {
      "cell_type": "markdown",
      "metadata": {
        "id": "OuKBfL2_yglY"
      },
      "source": [
        "## Conditional statements if-else, elif statements"
      ]
    },
    {
      "cell_type": "markdown",
      "metadata": {
        "id": "FCTyZZRKyglZ"
      },
      "source": [
        "* Indentation is critical in order to avoid error"
      ]
    },
    {
      "cell_type": "code",
      "execution_count": null,
      "metadata": {
        "id": "eQ3LokCeyglZ",
        "outputId": "2465d54c-6b31-4317-d437-a991894787cd"
      },
      "outputs": [
        {
          "name": "stdout",
          "output_type": "stream",
          "text": [
            "x == 5 is correct\n"
          ]
        }
      ],
      "source": [
        "x = 2 + 3\n",
        "\n",
        "if x == 5:\n",
        "    print(\"x == 5 is correct\")\n",
        "else:\n",
        "    print(\"x == 5 is incorrect\")"
      ]
    },
    {
      "cell_type": "code",
      "execution_count": null,
      "metadata": {
        "id": "of6g6haAyglZ",
        "outputId": "4cab2c91-b246-4636-b087-318b3f800aa2"
      },
      "outputs": [
        {
          "name": "stdout",
          "output_type": "stream",
          "text": [
            "Enter Marks: 85\n",
            "Marks scored: 85\n",
            "Grade A\n"
          ]
        }
      ],
      "source": [
        "# input() is enclosed inside int() which converts string into integer\n",
        "marks = int(input(\"Enter Marks: \"))\n",
        "print(\"Marks scored: {}\".format(marks))\n",
        "\n",
        "if marks >= 75:  # if statement\n",
        "    print(\"Grade A\")\n",
        "elif marks >= 60 and marks < 75:  # else if statement\n",
        "    print(\"Grade B\")\n",
        "else:  # else statement\n",
        "    print(\"Grade C\")"
      ]
    },
    {
      "cell_type": "code",
      "execution_count": null,
      "metadata": {
        "id": "6hYPGEyeyglZ",
        "outputId": "27f50ccd-f7f1-49b7-94b2-2f4e0c92d3d7"
      },
      "outputs": [
        {
          "name": "stdout",
          "output_type": "stream",
          "text": [
            "Value of x: 8\n",
            "Value of y: 11\n",
            "\n",
            "y == 11 is Correct\n",
            "\n",
            "Value of z: 19\n"
          ]
        }
      ],
      "source": [
        "#any ammount of whitespace on a single line is ok\n",
        "x = 4 +       2 +      2\n",
        "\n",
        "# Defining x in multiple rows by using backslash `\\`\n",
        "y = 2 +        4 +\\\n",
        "5\n",
        "\n",
        "print(f\"Value of x: {x}\")\n",
        "print(f\"Value of y: {y}\")\n",
        "\n",
        "print() # Printing blank line\n",
        "\n",
        "# Single line expression\n",
        "print(\"y == 11 is Correct\") if y == 11 else print(\"y == 11 is Incorrect\")\n",
        "\n",
        "z = 0\n",
        "if x%2 == 0: z = x+y\n",
        "else: z = y-x\n",
        "print()\n",
        "print(f\"Value of z: {z}\")"
      ]
    },
    {
      "cell_type": "markdown",
      "metadata": {
        "heading_collapsed": true,
        "id": "EUX36C95yglZ"
      },
      "source": [
        "## range()"
      ]
    },
    {
      "cell_type": "code",
      "execution_count": null,
      "metadata": {
        "hidden": true,
        "id": "PMnq9IaBygla",
        "outputId": "ecb6a527-869b-4232-fe99-9b8041d949a7"
      },
      "outputs": [
        {
          "name": "stdout",
          "output_type": "stream",
          "text": [
            "range(0, 5) [0, 1, 2, 3, 4]\n",
            "range(4, 8) [4, 5, 6, 7]\n",
            "range(1, 10, 2) [1, 3, 5, 7, 9]\n"
          ]
        }
      ],
      "source": [
        "# range(n) generates a sequence from 0 to n-1\n",
        "# list(range(n)) is used to represent the range in form of a list\n",
        "\n",
        "print(range(5), list(range(5)))\n",
        "print(range(4, 8), list(range(4, 8)))\n",
        "print(range(1, 10, 2), list(range(1, 10, 2)))"
      ]
    },
    {
      "cell_type": "markdown",
      "metadata": {
        "heading_collapsed": true,
        "id": "BrWtcwgmygla"
      },
      "source": [
        "## For Loop"
      ]
    },
    {
      "cell_type": "code",
      "execution_count": null,
      "metadata": {
        "hidden": true,
        "id": "4oh_kUtFygla",
        "outputId": "2da00799-48c6-4e17-bb79-1ecaeeaddf03"
      },
      "outputs": [
        {
          "name": "stdout",
          "output_type": "stream",
          "text": [
            "a:  [5, 2, 6, 2, 5, 1, 5]\n",
            "5\n",
            "2\n",
            "6\n",
            "2\n",
            "5\n",
            "1\n",
            "5\n"
          ]
        }
      ],
      "source": [
        "a = [5, 2, 6, 2, 5, 1, 5]\n",
        "print(\"a: \", a)\n",
        "\n",
        "for i in a:  # iterates over each element in list\n",
        "    print(i)"
      ]
    },
    {
      "cell_type": "code",
      "execution_count": null,
      "metadata": {
        "hidden": true,
        "id": "uAz8r8wvygla",
        "outputId": "b39fd99d-476f-44e4-9d93-6a3086df5b4b"
      },
      "outputs": [
        {
          "name": "stdout",
          "output_type": "stream",
          "text": [
            "a:  [5, 2, 6, 2, 5, 1, 5]\n",
            "Element 0: 5\n",
            "Element 1: 2\n",
            "Element 2: 6\n",
            "Element 3: 2\n",
            "Element 4: 5\n",
            "Element 5: 1\n",
            "Element 6: 5\n"
          ]
        }
      ],
      "source": [
        "a = [5, 2, 6, 2, 5, 1, 5]\n",
        "print(\"a: \", a)\n",
        "\n",
        "for i in range(len(a)):  # iterates over each index in list\n",
        "    print(\"Element {}: {}\".format(i, a[i]))"
      ]
    },
    {
      "cell_type": "code",
      "execution_count": null,
      "metadata": {
        "hidden": true,
        "id": "KqX2TcNSyglb",
        "outputId": "a32979cd-b72d-4b11-ed84-69cd2446edf9"
      },
      "outputs": [
        {
          "name": "stdout",
          "output_type": "stream",
          "text": [
            "a:  [10, 20, 30, 40, 50]\n",
            "b:  [100, 200, 300, 400, 500]\n"
          ]
        }
      ],
      "source": [
        "a = [10, 20, 30, 40, 50]\n",
        "b = []\n",
        "print(\"a: \", a)\n",
        "\n",
        "for i in a:\n",
        "    b.append((i * 10))\n",
        "print(\"b: \", b)"
      ]
    },
    {
      "cell_type": "code",
      "execution_count": null,
      "metadata": {
        "hidden": true,
        "id": "LP6NHP1-yglb",
        "outputId": "d3649312-7134-4fc4-ff57-c13a586528f9"
      },
      "outputs": [
        {
          "name": "stdout",
          "output_type": "stream",
          "text": [
            "a:  [10, 20, 30, 40, 50]\n",
            "b:  [100, 200, 300, 400, 500]\n"
          ]
        }
      ],
      "source": [
        "# List Comprehension using for loop\n",
        "\n",
        "a = [10, 20, 30, 40, 50]\n",
        "print(\"a: \", a)\n",
        "\n",
        "b = [i * 10 for i in a]\n",
        "print(\"b: \", b)"
      ]
    },
    {
      "cell_type": "code",
      "execution_count": null,
      "metadata": {
        "hidden": true,
        "id": "9UC1-uZXyglb",
        "outputId": "f7a3ee85-e091-4156-a309-7421c8964aed"
      },
      "outputs": [
        {
          "name": "stdout",
          "output_type": "stream",
          "text": [
            "a:  [1, 2, 3, 4, 5, 6, 7, 8, 9]\n",
            "b:  [1, 4, 27, 16, 125, 36, 343, 64, 729]\n"
          ]
        }
      ],
      "source": [
        "# Example: number squared for even and cubed for odd\n",
        "\n",
        "a = [1, 2, 3, 4, 5, 6, 7, 8, 9]\n",
        "print(\"a: \", a)\n",
        "\n",
        "b = [num**2 if num % 2 == 0 else num**3 for num in a]\n",
        "print(\"b: \", b)"
      ]
    },
    {
      "cell_type": "code",
      "execution_count": null,
      "metadata": {
        "hidden": true,
        "id": "SIrB_jXiyglb",
        "outputId": "782364c5-7b23-49a8-f406-ac05ae983198"
      },
      "outputs": [
        {
          "data": {
            "text/plain": [
              "{10: 100, 20: 400, 30: 900, 40: 1600, 50: 2500}"
            ]
          },
          "execution_count": 107,
          "metadata": {},
          "output_type": "execute_result"
        }
      ],
      "source": [
        "# Dictionary Comprehension\n",
        "\n",
        "a = [10, 20, 30, 40, 50]\n",
        "{x: x**2 for x in a}"
      ]
    },
    {
      "cell_type": "code",
      "execution_count": null,
      "metadata": {
        "hidden": true,
        "id": "DbHt0euHyglc",
        "outputId": "72b300be-ffec-4cf9-a036-0099f2829214"
      },
      "outputs": [
        {
          "name": "stdout",
          "output_type": "stream",
          "text": [
            "{10, 11, 13, 15, 17, 18, 19}\n"
          ]
        }
      ],
      "source": [
        "# Set Comprehension\n",
        "\n",
        "a = {x for x in range(10,20) if x not in [12,14,16]}\n",
        "print(a)"
      ]
    },
    {
      "cell_type": "markdown",
      "metadata": {
        "heading_collapsed": true,
        "id": "-NllYaKqyglc"
      },
      "source": [
        "## enumerate()"
      ]
    },
    {
      "cell_type": "code",
      "execution_count": null,
      "metadata": {
        "hidden": true,
        "id": "TzjxmCLWygld",
        "outputId": "9f109c16-e61f-4259-e7ae-c63d8a9697cf"
      },
      "outputs": [
        {
          "name": "stdout",
          "output_type": "stream",
          "text": [
            "a:  [5, 2, 6, 2, 5, 1, 5]\n",
            "Element 1: 5\n",
            "Element 2: 2\n",
            "Element 3: 6\n",
            "Element 4: 2\n",
            "Element 5: 5\n",
            "Element 6: 1\n",
            "Element 7: 5\n"
          ]
        }
      ],
      "source": [
        "a = [5, 2, 6, 2, 5, 1, 5]\n",
        "print(\"a: \", a)\n",
        "\n",
        "# enumerate() yields (index,value) tuples\n",
        "for i, k in enumerate(a, start=1):\n",
        "    print(\"Element {}: {}\".format(i, k))"
      ]
    },
    {
      "cell_type": "code",
      "execution_count": null,
      "metadata": {
        "hidden": true,
        "id": "RNgrD33oygld",
        "outputId": "0e5c21e8-9976-4158-9e78-1f729af9f837"
      },
      "outputs": [
        {
          "data": {
            "text/plain": [
              "[(1, 5), (2, 2), (3, 6), (4, 2), (5, 5), (6, 1), (7, 5)]"
            ]
          },
          "execution_count": 109,
          "metadata": {},
          "output_type": "execute_result"
        }
      ],
      "source": [
        "# enumerate function can also be used directly on the list\n",
        "list(enumerate(a, start=1))"
      ]
    },
    {
      "cell_type": "markdown",
      "metadata": {
        "heading_collapsed": true,
        "id": "70MqZQKeygld"
      },
      "source": [
        "## While loop"
      ]
    },
    {
      "cell_type": "code",
      "execution_count": null,
      "metadata": {
        "hidden": true,
        "id": "iojww2wwygle",
        "outputId": "3393a8cd-5a86-4ddc-cacb-9b741e70f2f0"
      },
      "outputs": [
        {
          "name": "stdout",
          "output_type": "stream",
          "text": [
            "a:  [5, 2, 6, 2, 5, 1, 5]\n",
            "Element 0: 5\n",
            "Element 1: 2\n",
            "Element 2: 6\n",
            "Element 3: 2\n",
            "Element 4: 5\n",
            "Element 5: 1\n",
            "Element 6: 5\n"
          ]
        }
      ],
      "source": [
        "a = [5, 2, 6, 2, 5, 1, 5]\n",
        "print(\"a: \", a)\n",
        "\n",
        "i = 0\n",
        "while i < len(a):\n",
        "    print(\"Element {}: {}\".format(i, a[i]))\n",
        "    i = i + 1"
      ]
    },
    {
      "cell_type": "code",
      "execution_count": null,
      "metadata": {
        "hidden": true,
        "id": "XBFe6KeUygle",
        "outputId": "f2d0ab77-c7a9-40b8-9a8d-cd4ffc6b61da"
      },
      "outputs": [
        {
          "name": "stdout",
          "output_type": "stream",
          "text": [
            "Original list: ['String', 84.1, 'text', 45.32, 23, 'Number', 24, 36.4, 'Some text', 31]\n",
            "\n",
            "After Data cleaning,\n",
            "List with numbers: [84.1, 45.32, 23, 24, 36.4, 31]\n",
            "List with strings: ['String', 'text', 'Number', 'Some text']\n"
          ]
        }
      ],
      "source": [
        "# Data cleaning program (list containing numbers and string are filtered)\n",
        "\n",
        "i = 0\n",
        "main_list = [\n",
        "    \"String\", 84.1, \"text\", 45.32, 23, \"Number\", 24, 36.4, \"Some text\", 31\n",
        "]\n",
        "new_list = []\n",
        "length = len(main_list)\n",
        "print(\"Original list: {}\".format(main_list))\n",
        "\n",
        "while i < length:\n",
        "    if isinstance(main_list[i], int) or isinstance(main_list[i], float):\n",
        "        new_list.append(main_list[i])\n",
        "        main_list.pop(i)\n",
        "        length -= 1\n",
        "        i -= 1\n",
        "    i += 1\n",
        "\n",
        "print(\"\\nAfter Data cleaning,\\nList with numbers: {}\".format(new_list))\n",
        "print(\"List with strings: {}\".format(main_list))"
      ]
    },
    {
      "cell_type": "markdown",
      "metadata": {
        "heading_collapsed": true,
        "id": "109ffogkygle"
      },
      "source": [
        "## Break and continue statements"
      ]
    },
    {
      "cell_type": "code",
      "execution_count": null,
      "metadata": {
        "hidden": true,
        "id": "vq1FOWZxyglf",
        "outputId": "264af55f-80d3-4509-ffc9-4b8c5b1167cb"
      },
      "outputs": [
        {
          "name": "stdout",
          "output_type": "stream",
          "text": [
            "0\n",
            "1\n",
            "2\n",
            "3\n",
            "5\n",
            "6\n",
            "7\n"
          ]
        }
      ],
      "source": [
        "for i in range(10):\n",
        "    if (i == 4):\n",
        "        continue  # element 4 is skipped\n",
        "    if (i == 8):\n",
        "        break  # loop stops as it reaches 8\n",
        "    print(i)"
      ]
    },
    {
      "cell_type": "markdown",
      "metadata": {
        "heading_collapsed": true,
        "id": "xjbE06pOyglf"
      },
      "source": [
        "## Creating Functions using `def`"
      ]
    },
    {
      "cell_type": "markdown",
      "metadata": {
        "hidden": true,
        "id": "gzHfX_sUyglf"
      },
      "source": [
        "<div class=\"alert alert-info\"><li>Functions are defined for code-reusability<li>Indentation is critical</div>"
      ]
    },
    {
      "cell_type": "code",
      "execution_count": null,
      "metadata": {
        "hidden": true,
        "id": "imB04fwGyglf",
        "outputId": "95a9d3f3-74ef-451e-c335-834ccf41eea2"
      },
      "outputs": [
        {
          "name": "stdout",
          "output_type": "stream",
          "text": [
            "Hello Learner!\n"
          ]
        }
      ],
      "source": [
        "# Function definition\n",
        "def hello():\n",
        "    print(\"Hello Learner!\")\n",
        "\n",
        "# Function calling\n",
        "hello()"
      ]
    },
    {
      "cell_type": "code",
      "execution_count": null,
      "metadata": {
        "hidden": true,
        "id": "7Ylufcbcyglg",
        "outputId": "5276b42f-8033-4be3-9c74-3313f1280c27"
      },
      "outputs": [
        {
          "name": "stdout",
          "output_type": "stream",
          "text": [
            "Hello Jamwine!\n"
          ]
        }
      ],
      "source": [
        "# Adding a parameter name\n",
        "def hello(name): print(f\"Hello {name}!\")\n",
        "# Writing the function in a singlr line, as the function has only a single line\n",
        "\n",
        "hello('Jamwine')"
      ]
    },
    {
      "cell_type": "code",
      "execution_count": null,
      "metadata": {
        "hidden": true,
        "id": "hwVp3pj6yglg",
        "outputId": "ce8beef3-f900-4105-ed38-63a05d08774f"
      },
      "outputs": [
        {
          "name": "stdout",
          "output_type": "stream",
          "text": [
            "Returning function data_clean: ['String', 'text', 'Number', 'Some text'] [] \n",
            "\n",
            "Help on function data_clean in module __main__:\n",
            "\n",
            "data_clean(main_list)\n",
            "    List containing numbers and string are filtered\n",
            "\n"
          ]
        }
      ],
      "source": [
        "# Compiling the Data cleaning program inside function\n",
        "\n",
        "def data_clean(main_list):  # function declaration\n",
        "    '''\n",
        "    List containing numbers and string are filtered\n",
        "    ''' # Documentation of function is enclosed in paragraph\n",
        "    i = 0\n",
        "    new_list = []  # Local variable\n",
        "    length = len(main_list)\n",
        "    while i < length:\n",
        "        if isinstance(main_list[i], int) or isinstance(main_list[i], float):\n",
        "            new_list.append(main_list[i])\n",
        "            main_list.pop(i)\n",
        "            length -= 1\n",
        "            i -= 1\n",
        "        i += 1\n",
        "    return main_list, new_list  # return statement returns the value\n",
        "\n",
        "\n",
        "# function calling\n",
        "b, c = data_clean(a)\n",
        "print(\"Returning function data_clean:\", b, c, \"\\n\")\n",
        "\n",
        "# On calling the help(), we can see the documentation of the function.\n",
        "help(data_clean)"
      ]
    },
    {
      "cell_type": "code",
      "execution_count": null,
      "metadata": {
        "hidden": true,
        "id": "_pMyrpF0yglg",
        "outputId": "aedf0c53-072a-4723-bafc-2df5f9b1096a"
      },
      "outputs": [
        {
          "name": "stdout",
          "output_type": "stream",
          "text": [
            "Original list: ['String', 84.1, 'text', 45.32, 23, 'Number', 24, 36.4, 'Some text', 31] \n",
            "\n",
            "Returning function sum_list: 243.82 \n",
            "\n",
            "Help on function sum_list in module __main__:\n",
            "\n",
            "sum_list(x)\n",
            "    Sum of list elements\n",
            "\n"
          ]
        }
      ],
      "source": [
        "def sum_list(x):\n",
        "    '''\n",
        "    Sum of list elements\n",
        "    '''\n",
        "    total = 0\n",
        "    for i in x:\n",
        "        if isinstance(i, int) or isinstance(i, float):\n",
        "            total = total + i\n",
        "        else:\n",
        "            pass  # pass statement means do nothing\n",
        "    return total\n",
        "\n",
        "\n",
        "a = [\"String\", 84.1, \"text\", 45.32, 23, \"Number\", 24, 36.4, \"Some text\", 31]\n",
        "print(\"Original list: {}\".format(a), \"\\n\")\n",
        "\n",
        "d = sum_list(a)\n",
        "print(\"Returning function sum_list:\", d, \"\\n\")\n",
        "\n",
        "help(sum_list)"
      ]
    },
    {
      "cell_type": "code",
      "execution_count": null,
      "metadata": {
        "hidden": true,
        "id": "7yvXW7a7yglh",
        "outputId": "cdc27489-7db0-4e4f-e729-7feaa828cb84"
      },
      "outputs": [
        {
          "name": "stdout",
          "output_type": "stream",
          "text": [
            "Calling function when only one parameter is defined:  8\n",
            "Calling function when both parameters are defined:  12\n"
          ]
        }
      ],
      "source": [
        "def add(a, b=5):\n",
        "    total = a + b\n",
        "    return total\n",
        "\n",
        "\n",
        "# default value for b is taken\n",
        "print(\"Calling function when only one parameter is defined: \", add(3))\n",
        "\n",
        "# default value is replaced\n",
        "print(\"Calling function when both parameters are defined: \", add(4, 8))"
      ]
    },
    {
      "cell_type": "markdown",
      "metadata": {
        "hidden": true,
        "id": "5gZ2GPCAyglh"
      },
      "source": [
        "<div class=\"alert alert-info\"><li>Defining <b>Histogram</b> using dictionary</div>"
      ]
    },
    {
      "cell_type": "code",
      "execution_count": null,
      "metadata": {
        "hidden": true,
        "id": "M7XTc8HMyglh",
        "outputId": "bd1a0d98-9163-493c-b4a8-9a59ba01a13c"
      },
      "outputs": [
        {
          "name": "stdout",
          "output_type": "stream",
          "text": [
            "String: This is a sample text string\n",
            "\n",
            "Histogram h1: {'T': 1, 'h': 1, 'i': 3, 's': 4, ' ': 5, 'a': 2, 'm': 1, 'p': 1, 'l': 1, 'e': 2, 't': 3, 'x': 1, 'r': 1, 'n': 1, 'g': 1}\n",
            "No. of times 'i' present in h1: 3\n",
            "No. of times 's' present in h1: 4\n"
          ]
        }
      ],
      "source": [
        "def histogram(x):\n",
        "    a = dict()\n",
        "    for i in x:\n",
        "        if i not in a:\n",
        "            a[i] = 1\n",
        "        else:\n",
        "            a[i] += 1\n",
        "    return a\n",
        "\n",
        "\n",
        "# Example_1\n",
        "s = 'This is a sample text string'\n",
        "print(\"String:\", s)\n",
        "\n",
        "h1 = histogram(s)\n",
        "print(\"\\nHistogram h1:\", h1)\n",
        "print(\"No. of times 'i' present in h1: %d\" % (h1.get('i'))\n",
        "      )  # fetching a particular frequency of an individual element using get()\n",
        "print(\"No. of times 's' present in h1: %d\" % (h1.get('s')))"
      ]
    },
    {
      "cell_type": "code",
      "execution_count": null,
      "metadata": {
        "hidden": true,
        "id": "gP7saQ62yglh",
        "outputId": "fa845ba3-536d-48b2-91c5-24cc6bcf2e2a"
      },
      "outputs": [
        {
          "name": "stdout",
          "output_type": "stream",
          "text": [
            "List: [9, 9, 2, 7, 0, 7, 4, 6, 8, 8, 7, 9, 0, 4, 7, 8, 0, 9, 5, 2, 7, 9, 0, 3, 7, 1, 7, 0, 5, 2, 7, 9, 9, 8, 6, 3, 1, 2, 6, 5, 9, 3, 1, 8, 1, 2, 5, 6, 9, 0, 6, 3, 2, 9, 0, 9, 1, 2, 5, 1, 6, 4, 8, 7, 6, 5, 9, 1, 9, 8, 2, 2, 6, 5, 3, 7, 4, 0, 0, 3, 9, 7, 6, 9, 0, 2, 7, 8, 4, 0, 4, 2, 7, 3, 7, 8, 4, 4, 5, 2]\n",
            "\n",
            "Histogram h2: {9: 15, 2: 12, 7: 14, 0: 11, 4: 8, 6: 9, 8: 9, 5: 8, 3: 7, 1: 7}\n",
            "No. of times '3' present in h2: 7\n",
            "No. of times '7' present in h2: 14\n"
          ]
        }
      ],
      "source": [
        "# Example_2\n",
        "import random as rd\n",
        "\n",
        "l = []\n",
        "for i in range(100):\n",
        "    k = rd.randint(0, 9)\n",
        "    l.append(k)\n",
        "print(\"List:\", l)\n",
        "\n",
        "h2 = histogram(l)\n",
        "print(\"\\nHistogram h2:\", h2)\n",
        "print(\"No. of times '3' present in h2: %d\" % (h2.get(3)))\n",
        "print(\"No. of times '7' present in h2: %d\" % (h2.get(7)))"
      ]
    },
    {
      "cell_type": "markdown",
      "metadata": {
        "heading_collapsed": true,
        "id": "Ohz7VEn8yglh"
      },
      "source": [
        "## Lambda Statement"
      ]
    },
    {
      "cell_type": "markdown",
      "metadata": {
        "hidden": true,
        "id": "6GB0dW8jygli"
      },
      "source": [
        "<div class=\"alert alert-info\">Lambda functions are:<li>used to create small anonymous functions with <b>lambda</b> keyword <li>defined when the functions are used very less<li>used wherever function objects are needed<li>created with any number of arguments but only one expression</div>"
      ]
    },
    {
      "cell_type": "code",
      "execution_count": null,
      "metadata": {
        "hidden": true,
        "id": "ORKj3QOXygli",
        "outputId": "a4dd068f-7a5b-4fb3-9fda-f9a7d56ee910"
      },
      "outputs": [
        {
          "name": "stdout",
          "output_type": "stream",
          "text": [
            "a:  [1, 2, 3, 4, 5]\n",
            "\n",
            "Result using function: 61.0\n",
            "Result using lambda expression: 61.0\n"
          ]
        }
      ],
      "source": [
        "# Example 1\n",
        "a = [1, 2, 3, 4, 5]\n",
        "print(\"a: \", a)\n",
        "\n",
        "\n",
        "# some function for calculation\n",
        "def expr(x):\n",
        "    return ((x**x + x) / x) - x  # some expression\n",
        "\n",
        "\n",
        "print(\"\\nResult using function:\", expr(4))\n",
        "\n",
        "# the above function can be illustrated using lambda function\n",
        "a = lambda x: ((x**x + x) / x) - x\n",
        "print(\"Result using lambda expression:\", a(4))"
      ]
    },
    {
      "cell_type": "code",
      "execution_count": null,
      "metadata": {
        "code_folding": [],
        "hidden": true,
        "id": "ykLwc_rRygli",
        "outputId": "fc0195b0-c2d3-496d-a164-e0740f838e3f"
      },
      "outputs": [
        {
          "name": "stdout",
          "output_type": "stream",
          "text": [
            "Lambda object: <function <lambda> at 0x0000024AEE6329D0>\n",
            "\n",
            "Calculating Sum using lambda function: 7\n"
          ]
        }
      ],
      "source": [
        "# Example 2\n",
        "s = lambda x, y: x + y\n",
        "print(\"Lambda object:\", s)\n",
        "\n",
        "print('\\nCalculating Sum using lambda function:', s(3, 4))"
      ]
    },
    {
      "cell_type": "markdown",
      "metadata": {
        "heading_collapsed": true,
        "id": "7qOk0V9Zygli"
      },
      "source": [
        "## join()"
      ]
    },
    {
      "cell_type": "markdown",
      "metadata": {
        "hidden": true,
        "id": "Hie1_Lkxygli"
      },
      "source": [
        "**join()** is used to join a list of strings using some **string** in between its elements (works opposite to the **split()**)"
      ]
    },
    {
      "cell_type": "code",
      "execution_count": null,
      "metadata": {
        "hidden": true,
        "id": "RZomHcI1yglj",
        "outputId": "aeb45d59-4ede-40a4-d2b6-f323aa5807a9"
      },
      "outputs": [
        {
          "name": "stdout",
          "output_type": "stream",
          "text": [
            "String: This is a sample text\n",
            "After split(): ['This', 'is', 'a', 'sample', 'text']\n",
            "\n",
            "Joining list by - using join(): This-is-a-sample-text\n",
            "\n",
            "Joining list by  |  using join(): This | is | a | sample | text\n",
            "\n",
            "Joining list by   using join(): This is a sample text\n",
            "\n",
            "Joining list by _ using join(): This_is_a_sample_text\n",
            "\n",
            "Joining list by ' ' using lambda expression: This is a sample text\n"
          ]
        }
      ],
      "source": [
        "s = \"This is a sample text\"\n",
        "print(\"String:\", s)\n",
        "\n",
        "s = s.split()\n",
        "print(\"After split():\", s)\n",
        "\n",
        "a = '-'\n",
        "print(f\"\\nJoining list by {a} using join(): {a.join(s)}\")\n",
        "\n",
        "b = ' | '\n",
        "print(f\"\\nJoining list by {b} using join(): {b.join(s)}\")\n",
        "\n",
        "c = ' '  # empty string with space\n",
        "print(f\"\\nJoining list by {c} using join(): {c.join(s)}\")\n",
        "\n",
        "d = '_'\n",
        "print(f\"\\nJoining list by {d} using join(): {d.join(s)}\")\n",
        "\n",
        "# using lambda\n",
        "x = lambda a: ' '.join(a)\n",
        "print(\"\\nJoining list by ' ' using lambda expression:\", x(s))"
      ]
    },
    {
      "cell_type": "markdown",
      "metadata": {
        "heading_collapsed": true,
        "id": "CianrBf8yglj"
      },
      "source": [
        "## pow()"
      ]
    },
    {
      "cell_type": "markdown",
      "metadata": {
        "hidden": true,
        "id": "3cQcred-yglj"
      },
      "source": [
        "The function **pow()** takes two arguments, equivalent to `x^y`. With three arguments it is equivalent to `(x^y)%z`, but may be more efficient for long integers."
      ]
    },
    {
      "cell_type": "code",
      "execution_count": null,
      "metadata": {
        "hidden": true,
        "id": "Ae_n5-uNyglj",
        "outputId": "d72b22d0-626b-47f3-bdec-75691aaed852"
      },
      "outputs": [
        {
          "name": "stdout",
          "output_type": "stream",
          "text": [
            "2 ^ 5:  32\n",
            "2 ^ 5:  32\n",
            "(2 ^ 5) % 3:  2\n"
          ]
        }
      ],
      "source": [
        "print(\"2 ^ 5: \", 2**5)\n",
        "print(\"2 ^ 5: \", pow(2, 5))\n",
        "print(\"(2 ^ 5) % 3: \", pow(2, 5, 3))"
      ]
    },
    {
      "cell_type": "markdown",
      "metadata": {
        "heading_collapsed": true,
        "id": "nTrEKyk0yglj"
      },
      "source": [
        "## abs()"
      ]
    },
    {
      "cell_type": "markdown",
      "metadata": {
        "hidden": true,
        "id": "2iiO27mWyglj"
      },
      "source": [
        "The function **abs()** returns the absolute value of a number. The argument may be an integer or a floating point number. If the argument is a complex number, its magnitude is returned."
      ]
    },
    {
      "cell_type": "code",
      "execution_count": null,
      "metadata": {
        "hidden": true,
        "id": "E-xdXJFsyglk",
        "outputId": "da8a82ce-915a-43cc-9269-d5624b9a5cbf"
      },
      "outputs": [
        {
          "name": "stdout",
          "output_type": "stream",
          "text": [
            "abs(-57):  57\n",
            "abs(2.39):  2.39\n",
            "abs(12+2j):  12.165525060596439\n"
          ]
        }
      ],
      "source": [
        "print(\"abs(-57): \", abs(-57))\n",
        "print(\"abs(2.39): \", abs(2.39))\n",
        "print(\"abs(12+2j): \", abs(12 + 2j))"
      ]
    },
    {
      "cell_type": "markdown",
      "metadata": {
        "heading_collapsed": true,
        "id": "8Auka8_Lyglk"
      },
      "source": [
        "## round()"
      ]
    },
    {
      "cell_type": "markdown",
      "metadata": {
        "hidden": true,
        "id": "rmRKzEeOyglk"
      },
      "source": [
        "The function **round()** will round a number to a given precision in decimal digits (default 0 digits). It does not convert integers to floats."
      ]
    },
    {
      "cell_type": "code",
      "execution_count": null,
      "metadata": {
        "hidden": true,
        "id": "01PU_hFnyglk",
        "outputId": "32023fe4-05e4-4018-b3d4-e8c3fb214d46"
      },
      "outputs": [
        {
          "name": "stdout",
          "output_type": "stream",
          "text": [
            "round(3.14):  3\n",
            "round(3.14,1):  3.1\n",
            "round(6.1495,2):  6.15\n",
            "\n",
            "round(314, -1):  310\n",
            "round(314,-2):  300\n",
            "\n",
            "round(2379,-1):  2380\n",
            "round(2379,-2):  2400\n",
            "round(2379,-3):  2000\n"
          ]
        }
      ],
      "source": [
        "print(\"round(3.14): \", round(3.14))\n",
        "print(\"round(3.14,1): \", round(3.14, 1))\n",
        "print(\"round(6.1495,2): \", round(6.1495, 2))\n",
        "\n",
        "print(\"\\nround(314, -1): \", round(314, -1))\n",
        "print(\"round(314,-2): \", round(314, -2))\n",
        "\n",
        "print(\"\\nround(2379,-1): \", round(2379, -1))\n",
        "print(\"round(2379,-2): \", round(2379, -2))\n",
        "print(\"round(2379,-3): \", round(2379, -3))"
      ]
    },
    {
      "cell_type": "markdown",
      "metadata": {
        "heading_collapsed": true,
        "id": "79o5mxs9yglk"
      },
      "source": [
        "## divmod()"
      ]
    },
    {
      "cell_type": "markdown",
      "metadata": {
        "hidden": true,
        "id": "RnnGkWDhyglk"
      },
      "source": [
        "**divmod()** takes two arguments and returns a tuple of two values, quotient and remainder  "
      ]
    },
    {
      "cell_type": "code",
      "execution_count": null,
      "metadata": {
        "hidden": true,
        "id": "7oBtsjwvyglk",
        "outputId": "e39fb666-0eed-47e3-f395-201bef9ad434"
      },
      "outputs": [
        {
          "name": "stdout",
          "output_type": "stream",
          "text": [
            "a: 5\n",
            "b: 2\n",
            "a//b: 2\n",
            "a%b: 1\n",
            "\n",
            "Quotient using divmod(): 2\n",
            "Remainder using divmod(): 1\n"
          ]
        }
      ],
      "source": [
        "a = 5\n",
        "b = 2\n",
        "print(\"a:\", a)\n",
        "print(\"b:\", b)\n",
        "print(\"a//b:\", a // b)  # Quotient\n",
        "print(\"a%b:\", a % b)  # Remainder\n",
        "\n",
        "quot, rem = divmod(a, b)\n",
        "print(\"\\nQuotient using divmod():\", quot)\n",
        "print(\"Remainder using divmod():\", rem)"
      ]
    },
    {
      "cell_type": "markdown",
      "metadata": {
        "heading_collapsed": true,
        "id": "vPeOtcM1ygll"
      },
      "source": [
        "## zip()"
      ]
    },
    {
      "cell_type": "markdown",
      "metadata": {
        "hidden": true,
        "id": "owncZF-Pygll"
      },
      "source": [
        "**zip()** is used for packing elements, contains one element from each sequence."
      ]
    },
    {
      "cell_type": "code",
      "execution_count": null,
      "metadata": {
        "hidden": true,
        "id": "LK-MNkfqygll",
        "outputId": "14c21d82-0bc8-4a8b-d229-faf40c0116b5"
      },
      "outputs": [
        {
          "name": "stdout",
          "output_type": "stream",
          "text": [
            "x:  [('H', '1'), ('e', '2'), ('l', '3'), ('l', '4'), ('o', '5')]\n",
            "Type:  <class 'zip'>\n"
          ]
        }
      ],
      "source": [
        "x = zip(\"Hello\", \"12345\")\n",
        "print(\"x: \", list(x))  # result is changed into list\n",
        "print(\"Type: \", type(x))  # zip is a class"
      ]
    },
    {
      "cell_type": "code",
      "execution_count": null,
      "metadata": {
        "hidden": true,
        "id": "fJDWerO3ygll",
        "outputId": "683ff087-8b4a-478a-d84b-b625d7111cf2"
      },
      "outputs": [
        {
          "name": "stdout",
          "output_type": "stream",
          "text": [
            "y:  [(1, 'abc'), (2, 'pqr'), (3, 'xyz')]\n"
          ]
        }
      ],
      "source": [
        "# contains three elements (shorter length is considered)\n",
        "y = list(zip([1, 2, 3, 4], ('abc', 'pqr', 'xyz')))\n",
        "print(\"y: \", y)"
      ]
    },
    {
      "cell_type": "code",
      "execution_count": null,
      "metadata": {
        "hidden": true,
        "id": "72Yrv92qygll",
        "outputId": "16b9775e-7251-4ac3-ca61-d9bd52b53ee3"
      },
      "outputs": [
        {
          "name": "stdout",
          "output_type": "stream",
          "text": [
            "y:  [(1, 'abc'), (2, 'pqr'), (3, 'xyz')]\n",
            "\n",
            "After unzip, \n",
            "a: (1, 2, 3) \n",
            "b: ('abc', 'pqr', 'xyz')\n"
          ]
        }
      ],
      "source": [
        "# in order to get back the lists, we can unzip the list of tuples using the asterisk\n",
        "print(\"y: \", y)\n",
        "\n",
        "a, b = zip(*y)\n",
        "print(\"\\nAfter unzip, \\na: {} \\nb: {}\".format(a, b))"
      ]
    },
    {
      "cell_type": "code",
      "execution_count": null,
      "metadata": {
        "hidden": true,
        "id": "EKlw5784yglm",
        "outputId": "a14fa1ea-3247-4390-dadd-312c2e0a71db"
      },
      "outputs": [
        {
          "name": "stdout",
          "output_type": "stream",
          "text": [
            "Using zip() on dictionaries:\n",
            "d1: {'a': 1, 'b': 2}\n",
            "d2: {'c': 4, 'd': 5}\n",
            "\n",
            "list(zip(d1,d2)): [('a', 'c'), ('b', 'd')]\n",
            "list(zip(d2,d1.values())): [('c', 1), ('d', 2)]\n"
          ]
        }
      ],
      "source": [
        "# zip() in dictionaries\n",
        "print(f\"Using zip() on dictionaries:\")\n",
        "\n",
        "d1 = {'a': 1, 'b': 2}\n",
        "print(f\"d1: {d1}\")\n",
        "d2 = {'c': 4, 'd': 5}\n",
        "print(f\"d2: {d2}\")\n",
        "\n",
        "print(f\"\\nlist(zip(d1,d2)): {list(zip(d1,d2))}\")\n",
        "print(f\"list(zip(d2,d1.values())): {list(zip(d2,d1.values()))}\")"
      ]
    },
    {
      "cell_type": "code",
      "execution_count": null,
      "metadata": {
        "hidden": true,
        "id": "d7DCA9fAyglm",
        "outputId": "1de66523-6157-4757-f558-10968942d134"
      },
      "outputs": [
        {
          "name": "stdout",
          "output_type": "stream",
          "text": [
            "Concatenating strings with connector using zip(): ['A-a', 'B-b']\n"
          ]
        }
      ],
      "source": [
        "# Example: two strings from L1 and L2 concatenated together with a connector between them\n",
        "def concatenate(L1, L2, connector):\n",
        "    return [word1 + connector + word2 for (word1, word2) in zip(L1, L2)]\n",
        "\n",
        "print(\"Concatenating strings with connector using zip():\",\n",
        "      concatenate(['A', 'B'], ['a', 'b'], '-'))"
      ]
    },
    {
      "cell_type": "code",
      "execution_count": null,
      "metadata": {
        "hidden": true,
        "id": "gUkQqqlnyglm",
        "outputId": "3a86521b-3acb-4bf8-c516-08f63d74b72b"
      },
      "outputs": [
        {
          "data": {
            "text/plain": [
              "[[1, 4, 7], [2, 5, 8], [3, 6, 9]]"
            ]
          },
          "execution_count": 174,
          "metadata": {},
          "output_type": "execute_result"
        }
      ],
      "source": [
        "# Transpose of a matrix\n",
        "\n",
        "a = [[1, 2, 3], [4, 5, 6], [7, 8, 9]]\n",
        "transpose = [list(i) for i in zip(*a)]\n",
        "transpose"
      ]
    },
    {
      "cell_type": "markdown",
      "metadata": {
        "heading_collapsed": true,
        "id": "eM-ZtNbpyglm"
      },
      "source": [
        "## map()"
      ]
    },
    {
      "cell_type": "markdown",
      "metadata": {
        "hidden": true,
        "id": "MdPOijuwyglm"
      },
      "source": [
        "**map()** is used to apply the function on the specified sequence"
      ]
    },
    {
      "cell_type": "code",
      "execution_count": null,
      "metadata": {
        "hidden": true,
        "id": "xnKnlGOUyglm",
        "outputId": "6a2c8ee1-00a3-4433-ece1-49a7cfbe5add"
      },
      "outputs": [
        {
          "name": "stdout",
          "output_type": "stream",
          "text": [
            "List: [1, 2, 3, 4, 5, 6, 7, 8, 9]\n",
            "\n",
            "Function is applied to all the elements of list using map(): [3, 4, 5, 6, 7, 8, 9, 10, 11]\n",
            "Applying Lambda expression to all the elements of list using map(): [3, 4, 5, 6, 7, 8, 9, 10, 11]\n"
          ]
        }
      ],
      "source": [
        "a = [1, 2, 3, 4, 5, 6, 7, 8, 9]\n",
        "print(\"List:\", a)\n",
        "\n",
        "# function that adds 2 to each element\n",
        "def add_two(x):\n",
        "    x = x + 2\n",
        "    return x\n",
        "\n",
        "print(\"\\nFunction is applied to all the elements of list using map():\",\n",
        "      list(map(add_two, a)))\n",
        "\n",
        "# lambda function is mostly integrated in these cases in order to reduce the complexity of the program\n",
        "c = list(map(lambda x: x + 2, a))\n",
        "print(\"Applying Lambda expression to all the elements of list using map():\", c)"
      ]
    },
    {
      "cell_type": "code",
      "execution_count": null,
      "metadata": {
        "hidden": true,
        "id": "DNAWh9yYygln",
        "outputId": "74c1fff1-a60a-4799-ab92-6180510235a7"
      },
      "outputs": [
        {
          "name": "stdout",
          "output_type": "stream",
          "text": [
            "map() with multiple iterables: [15, 18, 21, 24]\n"
          ]
        }
      ],
      "source": [
        "# multiple iterables\n",
        "a = [1, 2, 3, 4]\n",
        "b = [5, 6, 7, 8]\n",
        "c = [9, 10, 11, 12]\n",
        "\n",
        "print(f\"map() with multiple iterables: {list(map(lambda x,y,z:x+y+z,a,b,c))}\")"
      ]
    },
    {
      "cell_type": "code",
      "execution_count": null,
      "metadata": {
        "hidden": true,
        "id": "I8XuQEsOygln",
        "outputId": "98e98709-e42f-4f4e-ba0d-0f0f13f210f8"
      },
      "outputs": [
        {
          "name": "stdout",
          "output_type": "stream",
          "text": [
            "Phrase: This is a testing phrase\n",
            "Words Length:  [4, 2, 1, 7, 6]\n"
          ]
        }
      ],
      "source": [
        "# map() for finding the length of each word in the phrase (broken by spaces) and return the values in a list\n",
        "def word_lengths(phrase):\n",
        "    return list(map(len, phrase.split()))\n",
        "\n",
        "phrase = \"This is a testing phrase\"\n",
        "print(\"Phrase:\", phrase)\n",
        "print(\"Words Length: \", word_lengths(phrase))"
      ]
    },
    {
      "cell_type": "markdown",
      "metadata": {
        "heading_collapsed": true,
        "id": "t1kzO6Z6ygln"
      },
      "source": [
        "## filter()"
      ]
    },
    {
      "cell_type": "markdown",
      "metadata": {
        "hidden": true,
        "id": "3o0NLSJXygln"
      },
      "source": [
        "**filter()** is used to filter the elements by applying the function on the particular sequence"
      ]
    },
    {
      "cell_type": "code",
      "execution_count": null,
      "metadata": {
        "hidden": true,
        "id": "UXA0vOgSygln",
        "outputId": "0f51be08-4be8-4881-ccbd-9a45cb5104f9"
      },
      "outputs": [
        {
          "name": "stdout",
          "output_type": "stream",
          "text": [
            "a: [1, 2, 3, 4, 5, 6, 7, 8, 9]\n",
            "Filter elements in list using filter(): [3, 6, 9]\n"
          ]
        }
      ],
      "source": [
        "def div_3(x):\n",
        "    if (x % 3 == 0):\n",
        "        return x\n",
        "\n",
        "\n",
        "a = [1, 2, 3, 4, 5, 6, 7, 8, 9]\n",
        "print(\"a:\", a)\n",
        "print(\"Filter elements in list using filter():\", list(filter(div_3, a)))"
      ]
    },
    {
      "cell_type": "code",
      "execution_count": null,
      "metadata": {
        "hidden": true,
        "id": "Tr1Iv3DFyglo",
        "outputId": "0eeabd1a-e1c2-4a30-bcb8-58d811141be3"
      },
      "outputs": [
        {
          "name": "stdout",
          "output_type": "stream",
          "text": [
            "Words: ['hello', 'are', 'cat', 'dog', 'ham', 'hi', 'go', 'to', 'heart']\n",
            "Filtering Words starting with 'h' from the list: ['hello', 'ham', 'hi', 'heart']\n"
          ]
        }
      ],
      "source": [
        "def filter_words(word_list, letter):\n",
        "    return list(filter(lambda word: word[0] == letter, word_list))\n",
        "\n",
        "\n",
        "words = ['hello', 'are', 'cat', 'dog', 'ham', 'hi', 'go', 'to', 'heart']\n",
        "print(\"Words:\", words)\n",
        "print(\"Filtering Words starting with 'h' from the list:\",\n",
        "      filter_words(words, 'h'))"
      ]
    },
    {
      "cell_type": "markdown",
      "metadata": {
        "heading_collapsed": true,
        "id": "dB-4NqwJyglo"
      },
      "source": [
        "## reduce()"
      ]
    },
    {
      "cell_type": "markdown",
      "metadata": {
        "hidden": true,
        "id": "SZcm3cKXyglo"
      },
      "source": [
        "The function **reduce(function, sequence)** continually applies the function to the sequence. It then returns a single value.\n",
        "\n",
        "If $seq = [ s1, s2, s3, ... , sn ]$, calling $reduce(function, sequence)$ works like this:\n",
        "\n",
        "* At first the first two elements of seq will be applied to function, i.e. func(s1,s2). The list on which reduce() works looks now like this: $[ function(s1, s2), s3, ... , sn ]$\n",
        "\n",
        "\n",
        "* In the next step the function will be applied on the previous result and the third element of the list, i.e. $function(function(s1, s2),s3)$. The list looks like this now: $[ function(function(s1, s2),s3), ... , sn ]$\n",
        "\n",
        "\n",
        "* It continues like this until just one element is left and return this element as the result of $reduce()$"
      ]
    },
    {
      "cell_type": "code",
      "execution_count": null,
      "metadata": {
        "hidden": true,
        "id": "VdSixXb3yglo",
        "outputId": "95a60b0c-f671-467a-c8e7-0edfa10ed24f"
      },
      "outputs": [
        {
          "name": "stdout",
          "output_type": "stream",
          "text": [
            "arr: [77, 41, 42, 13]\n",
            "Sum of all elements using reduce():  173\n"
          ]
        }
      ],
      "source": [
        "from functools import reduce\n",
        "\n",
        "arr = [77, 41, 42, 13]\n",
        "print('arr:', arr)\n",
        "\n",
        "# similar to sum()\n",
        "print(\"Sum of all elements using reduce(): \", reduce(lambda x, y: x + y, arr))"
      ]
    },
    {
      "cell_type": "code",
      "execution_count": null,
      "metadata": {
        "hidden": true,
        "id": "W_WxmtQJyglo",
        "outputId": "06595c66-1456-4f04-fd9a-c94efd32da24"
      },
      "outputs": [
        {
          "name": "stdout",
          "output_type": "stream",
          "text": [
            "arr: [77, 41, 42, 13]\n",
            "\n",
            "myfunc() result using reduce():  65\n"
          ]
        }
      ],
      "source": [
        "# Example: Get Difference of two elements if the first element is bigger, else add two elements\n",
        "def myfunc(a, b):\n",
        "    return a - b if (a > b) else a + b\n",
        "\n",
        "\n",
        "arr = [77, 41, 42, 13]\n",
        "print('arr:', arr)\n",
        "\n",
        "print(\"\\nmyfunc() result using reduce(): \", reduce(myfunc, arr))"
      ]
    },
    {
      "cell_type": "code",
      "execution_count": null,
      "metadata": {
        "hidden": true,
        "id": "QZk6fb7Yyglp",
        "outputId": "277e5950-cf57-4cce-8641-c9c8f13aebcf"
      },
      "outputs": [
        {
          "name": "stdout",
          "output_type": "stream",
          "text": [
            "\n",
            "digits_to_num() result: 34321\n"
          ]
        }
      ],
      "source": [
        "# Example: Converting a list of digits into number\n",
        "def digits_to_num(digits):\n",
        "    return reduce(lambda x, y: x * 10 + y, digits)\n",
        "\n",
        "\n",
        "print(\"\\ndigits_to_num() result:\", digits_to_num([3, 4, 3, 2, 1]))"
      ]
    },
    {
      "cell_type": "markdown",
      "metadata": {
        "heading_collapsed": true,
        "id": "Ny12z4yfyglp"
      },
      "source": [
        "## All / Any"
      ]
    },
    {
      "cell_type": "markdown",
      "metadata": {
        "hidden": true,
        "id": "2JLbOTEsyglp"
      },
      "source": [
        "* **all** returns True if all values are True, else returns False\n",
        "* **any** returns True if any value is True, else returns False"
      ]
    },
    {
      "cell_type": "code",
      "execution_count": null,
      "metadata": {
        "hidden": true,
        "id": "Oz-XwrNlyglp",
        "outputId": "80789c12-81a4-4005-aafe-a10363a50e4b"
      },
      "outputs": [
        {
          "name": "stdout",
          "output_type": "stream",
          "text": [
            "all([True,False,False]): False\n",
            "any([True,False,False]): True\n"
          ]
        }
      ],
      "source": [
        "print('all([True,False,False]):', all([True, False, False]))\n",
        "print('any([True,False,False]):', any([True, False, False]))"
      ]
    },
    {
      "cell_type": "markdown",
      "metadata": {
        "heading_collapsed": true,
        "id": "HYlht1VOyglq"
      },
      "source": [
        "## Reading and Writing files"
      ]
    },
    {
      "cell_type": "markdown",
      "metadata": {
        "hidden": true,
        "id": "gIXKHXtqyglq"
      },
      "source": [
        "<div class=\"alert alert-info\"><li><b>write()</b> method is used to write<li><b>read()</b> method reads from the current position until the end of the file<li><b>readLines()</b> method is for reading all text on file and return a list of lines<li><b>readline()</b> method reads a single line from the current position<li><b>close()</b> method to manually close the file</div>"
      ]
    },
    {
      "cell_type": "markdown",
      "metadata": {
        "id": "_Bjk-25Iyglq"
      },
      "source": [
        "* **r**: Opens a file for **input** (reading). If the file does not exist, an **IOError** exception is raised.\n",
        "\n",
        "\n",
        "* **r+**: Opens a file for **input** and **output**. If the file does not exist, causes an **IOError** exception.\n",
        "\n",
        "\n",
        "* **w**: Opens a file for **output** (writing). If the file exists, it is **overwritten**. If the file does not exist, one is **created**.\n",
        "\n",
        "\n",
        "* **w+**: Opens a file for **input** and **output**. If the file exists, it is **overwritten**; otherwise one is **created**.\n",
        "\n",
        "\n",
        "* **a**: **Appends** all output to the end of the file; it **does not overwrite** information currently present. If the indicated file does not exist, it is **created**.\n",
        "\n",
        "\n",
        "* **ab**, **rb**, **r+b**, **wb**, **w+b**: Opens a file for **binary**, non-textual input or output. (Note: these modes are supported only on the Windows and macOS platforms. \\*nix systems don't care about the data type.)"
      ]
    },
    {
      "cell_type": "markdown",
      "metadata": {
        "id": "fihSFOldyglq"
      },
      "source": [
        "Python has a **built-in garbage collector**, so we don't really need to manually close our files; once an object is no longer referenced within memory, the object's memory space is automatically reclaimed. This applies to all objects in Python, including files.\n",
        "\n",
        "However, it's recommended to manually close files in large systems; it won't hurt anything and it's good to get into the habit in case we ever have to work in a language that doesn't have garbage collection. In addition, Python for other platforms, such as **Jython** or **IronPython**, may require us to manually close files to immediately free up resources, rather than waiting for garbage collection. Also, there are times when system operations have problems and a file is left open accidentally, resulting in a potential memory leak.\n",
        "\n",
        "The location of the file we are working with can be indicated as either an **absolute path** (a specific location on a drive) or a **relative path** (the file location in relation to the current directory); if no path is provided, the current directory is assumed."
      ]
    },
    {
      "cell_type": "code",
      "execution_count": null,
      "metadata": {
        "hidden": true,
        "id": "ixTbU5NXyglq",
        "outputId": "1f749f72-0e90-47e5-d778-5715577e65cc"
      },
      "outputs": [
        {
          "name": "stdout",
          "output_type": "stream",
          "text": [
            "Test1.txt created using write()\n"
          ]
        }
      ],
      "source": [
        "# Creating file Test1.txt\n",
        "\n",
        "# w represents writing mode, wf is the alias name\n",
        "with open('Test1.txt', 'w') as wf:\n",
        "    # write() is used to write text on file\n",
        "    wf.write(\"This is a sample test line\")\n",
        "    wf.write(\"\\nThis is a next line. \")\n",
        "    wf.write(\"Continuing last line.\")\n",
        "    print('Test1.txt created using write()')"
      ]
    },
    {
      "cell_type": "code",
      "execution_count": null,
      "metadata": {
        "hidden": true,
        "id": "tiIUGiKEyglr",
        "outputId": "d692c166-7dc6-490c-ea87-fd198a7e9f76"
      },
      "outputs": [
        {
          "name": "stdout",
          "output_type": "stream",
          "text": [
            "Reading Test1.txt created using read():\n",
            "\n",
            " This is a sample test line\n",
            "This is a next line. Continuing last line.\n"
          ]
        }
      ],
      "source": [
        "# Reading file Test1.txt\n",
        "\n",
        "# r represents reading mode\n",
        "with open('Test1.txt', 'r') as twf:\n",
        "    # read() is used to read text on file\n",
        "    print('Reading Test1.txt created using read():\\n\\n', twf.read())"
      ]
    },
    {
      "cell_type": "markdown",
      "metadata": {
        "id": "z2SddcaOyglr"
      },
      "source": [
        "Python treats a file as a **data stream**: each file is read and stored as a sequential flow of **byte**s. Each file has an **end-of-file (EOF) marker** denoting when the last byte of data has been read from it. Frequently, programs will read a file in pieces rather than loading the entire file into memory at one time. When the end-of-file marker is reached, the program knows there is nothing further to read and can continue with whatever processing it needs to do."
      ]
    },
    {
      "cell_type": "code",
      "execution_count": null,
      "metadata": {
        "hidden": true,
        "id": "6KK-t_3eyglr",
        "outputId": "470f375e-9114-46e6-b116-17a6109756a1"
      },
      "outputs": [
        {
          "name": "stdout",
          "output_type": "stream",
          "text": [
            "Appending text in Test1.txt\n",
            "\n",
            "Reading Test1.txt using readlines():\n",
            "\n",
            " ['This is a sample test line\\n', 'This is a next line. Continuing last line. This is the appended text.']\n"
          ]
        }
      ],
      "source": [
        "# Appending in file Test1.txt\n",
        "\n",
        "# a represents appending in the existing file\n",
        "with open('Test1.txt', 'a') as twf:\n",
        "    twf.write(\" This is the appended text.\")\n",
        "    print('Appending text in Test1.txt')\n",
        "\n",
        "# Reading file Test1.txt\n",
        "with open('Test1.txt', 'r') as twf:\n",
        "    # readlines() is used to read text on file and returns a list of lines\n",
        "    print('\\nReading Test1.txt using readlines():\\n\\n', twf.readlines())"
      ]
    },
    {
      "cell_type": "code",
      "execution_count": null,
      "metadata": {
        "hidden": true,
        "id": "C8GQjPH_yglr",
        "outputId": "bfa33b05-81b1-4d2c-b342-89acb57199ad"
      },
      "outputs": [
        {
          "name": "stdout",
          "output_type": "stream",
          "text": [
            "Copying from one file into another file:\n",
            " This is a sample test line\n",
            "\n",
            "Reading partial characters: This is a next line. Co\n",
            "\n",
            "Moving pointer in the file: 75\n",
            "Reading Line:  is the appended text.\n",
            "\n",
            "Name of the file: Test2.txt\n",
            "Mode of the file: r\n"
          ]
        }
      ],
      "source": [
        "# copying from one file into another\n",
        "with open('Test1.txt', 'r') as rf:\n",
        "    with open('Test2.txt', 'w') as wf:\n",
        "        for line in rf:\n",
        "            wf.write(line)\n",
        "\n",
        "with open('Test2.txt', 'r') as twf:\n",
        "    #  readline() is used to read the first line\n",
        "    print(\"Copying from one file into another file:\\n\", twf.readline())\n",
        "\n",
        "    # reading next 23 characters from the last reading position\n",
        "    print(\"Reading partial characters:\", twf.read(23))\n",
        "\n",
        "    print(\"\\nMoving pointer in the file:\", twf.seek(75))\n",
        "    print(\"Reading Line:\", twf.read())\n",
        "\n",
        "print(\"\\nName of the file:\", twf.name)  # fetching the name of file\n",
        "print(\"Mode of the file:\", twf.mode)  # fetching the mode of file\n",
        "twf.close()  # closing file"
      ]
    },
    {
      "cell_type": "markdown",
      "metadata": {
        "id": "j_5NvLRLyglr"
      },
      "source": [
        "**Seeking** is the process of moving a pointer within a file to an arbitrary position. This allows us to get data from anywhere within the file without having to start at the beginning every time.\n",
        "\n",
        "The **seek()** method can take several arguments. The first argument (**offset**) is the starting position of the pointer. The second, optional, argument is the **seek direction** from where the offset starts. The default value is `0` which indicates an offset relative to the beginning of the file, `1` is relative to the current position within the file, and `2` is relative to the end of the file.\n",
        "\n",
        "The **tell()** method returns the **current position of the pointer** within the file. This can be useful for **troubleshooting** (to make sure the pointer is actually in the location we think it is) or as a returned value for a function."
      ]
    },
    {
      "cell_type": "markdown",
      "metadata": {
        "id": "t2RN99h5ygls"
      },
      "source": [
        "As a best practice, it is advised that, instead of using `0`, `1`, or `2` for the **offset** starting position, we should import the `os` library and use the values `os.SEEK_SET`, `os.SEEK_CUR`, and `os.SEEK_END`. This is because the `os` library will use whatever values the operating system uses for **seeking**, rather than hardcoded numbers, just in case the OS does something different."
      ]
    },
    {
      "cell_type": "markdown",
      "metadata": {
        "heading_collapsed": true,
        "id": "xV2JKBxHygls"
      },
      "source": [
        "## Error handling"
      ]
    },
    {
      "cell_type": "markdown",
      "metadata": {
        "hidden": true,
        "id": "_njGxHAIygls"
      },
      "source": [
        "<div class=\"alert alert-info\"><li>Raise an exception to interrupt program flow<li>Handle an exception to resume control<li>Unhandled exceptions will terminate the program<li>Exception objects contain information about the exceptional event<li>Illustration of <b>try</b> and <b>except</b> blocks<li><b>Finally</b> block always executes in the end</div>"
      ]
    },
    {
      "cell_type": "code",
      "execution_count": null,
      "metadata": {
        "hidden": true,
        "id": "8Ex9SJ8Mygls",
        "outputId": "70da5eee-358c-4609-e30d-2325d377a30e"
      },
      "outputs": [
        {
          "name": "stdout",
          "output_type": "stream",
          "text": [
            "Error! Division by Zero is not possible\n",
            "Error! Text cannot be converted into Float datatype\n",
            "Error! String and Integer cannot be added\n"
          ]
        }
      ],
      "source": [
        "# Errors are catched using try & except blocks\n",
        "\n",
        "# Scenario 1:\n",
        "try:\n",
        "    b = 34 / 0\n",
        "except:\n",
        "    print('Error! Division by Zero is not possible')\n",
        "\n",
        "# Scenario 2:\n",
        "try:\n",
        "    float(\"Text\")\n",
        "except:\n",
        "    print('Error! Text cannot be converted into Float datatype')\n",
        "\n",
        "# Scenario 3:\n",
        "try:\n",
        "    'Text' + 32\n",
        "except:\n",
        "    print('Error! String and Integer cannot be added')"
      ]
    },
    {
      "cell_type": "markdown",
      "metadata": {
        "heading_collapsed": true,
        "id": "QqAN8J39ygls"
      },
      "source": [
        "## Built-in Exceptions"
      ]
    },
    {
      "cell_type": "markdown",
      "metadata": {
        "hidden": true,
        "id": "rNgUI9-0ygls"
      },
      "source": [
        "Exceptions are events that modify a program's flow, either intentionally or due to errors. Some examples are trying to open a file that doesn't exist, or when the program reaches a marker, such as the completion of a loop.\n",
        "\n",
        "<table>\n",
        "    <tr>\n",
        "        <th>Exception</th>\n",
        "        <th>Explanation</th>\n",
        "    </tr>\n",
        "    <tr>\n",
        "        <td>KeyboardInterrupt</td>\n",
        "        <td>Raised when user hits Ctrl-C, the interrupt key</td>\n",
        "    </tr>\n",
        "    <tr>\n",
        "        <td>OverflowError</td>\n",
        "        <td>Raised when a floating-point expression evaluates to a value that is too large</td>\n",
        "    </tr>\n",
        "    <tr>\n",
        "        <td>ZeroDivisionError</td>\n",
        "        <td>Raised when attempting to divide by 0</td>\n",
        "    </tr>\n",
        "    <tr>\n",
        "        <td>IOError</td>\n",
        "        <td>Raised when an I/O operation fails for an I/O-related reason</td>\n",
        "    </tr>\n",
        "    <tr>\n",
        "        <td>IndexError</td>\n",
        "        <td>Raised when a sequence index is outside the range of valid indexes</td>\n",
        "    </tr>\n",
        "    <tr>\n",
        "        <td>NameError</td>\n",
        "        <td>Raised when attempting to evaluate an unassigned identifier (name)</td>\n",
        "    </tr>\n",
        "    <tr>\n",
        "        <td>TypeError</td>\n",
        "        <td>Raised when an operation of function is applied to an object of the wrong type</td>\n",
        "    </tr>\n",
        "    <tr>\n",
        "        <td>ValueError</td>\n",
        "        <td>Raised when operation or function has an argument of the right type but incorrect value</td>\n",
        "    </tr>\n",
        "    <tr>\n",
        "        <td>KeyError</td>\n",
        "        <td>Raised when lookup in a mapping fails</td>\n",
        "    </tr>\n",
        "    <tr>\n",
        "        <td>AttributeError</td>\n",
        "        <td>Raised when calling a non-existent method of a class</td>\n",
        "    </tr>\n",
        "</table>"
      ]
    },
    {
      "cell_type": "code",
      "execution_count": null,
      "metadata": {
        "hidden": true,
        "id": "U-755UYsyglt"
      },
      "outputs": [],
      "source": [
        "def convert(s):\n",
        "    '''Convert to an integer'''\n",
        "    error = 0\n",
        "    try:\n",
        "        print(f\"Conversion Succeeded, x={s}\")\n",
        "        return int(s)\n",
        "    except (ValueError, TypeError) as e:\n",
        "        print(f'Conversion Failed: {str(e)}')\n",
        "        error = 1\n",
        "        raise  # Exceptional conditions can be signaled using raise, without an argument it re-raises the current exception\n",
        "    finally:\n",
        "        if error == 0:\n",
        "            print('Successful !!')\n",
        "        elif error == 1:\n",
        "            print(f'Error is due to the wrong input: {s}')"
      ]
    },
    {
      "cell_type": "code",
      "execution_count": null,
      "metadata": {
        "hidden": true,
        "id": "2QgLjkBIyglt",
        "outputId": "45a29da3-3677-4072-83af-30cfc14d6204"
      },
      "outputs": [
        {
          "name": "stdout",
          "output_type": "stream",
          "text": [
            "Conversion Succeeded, x=34\n",
            "Successful !!\n"
          ]
        },
        {
          "data": {
            "text/plain": [
              "34"
            ]
          },
          "execution_count": 49,
          "metadata": {},
          "output_type": "execute_result"
        }
      ],
      "source": [
        "convert('34')"
      ]
    },
    {
      "cell_type": "code",
      "execution_count": null,
      "metadata": {
        "hidden": true,
        "id": "LFAV6z-jyglt",
        "outputId": "ddbbdd84-c28b-4516-d32d-0ede19bf7241"
      },
      "outputs": [
        {
          "name": "stdout",
          "output_type": "stream",
          "text": [
            "Conversion Succeeded, x=34.3\n",
            "Successful !!\n"
          ]
        },
        {
          "data": {
            "text/plain": [
              "34"
            ]
          },
          "execution_count": 50,
          "metadata": {},
          "output_type": "execute_result"
        }
      ],
      "source": [
        "convert(34.3)"
      ]
    },
    {
      "cell_type": "code",
      "execution_count": null,
      "metadata": {
        "hidden": true,
        "id": "j33oT9PUyglt",
        "outputId": "e534f82d-5605-4a4f-bf45-de1170ccb65e"
      },
      "outputs": [
        {
          "name": "stdout",
          "output_type": "stream",
          "text": [
            "Conversion Succeeded, x=37.5\n",
            "Conversion Failed: invalid literal for int() with base 10: '37.5'\n",
            "Error is due to the wrong input: 37.5\n"
          ]
        },
        {
          "ename": "ValueError",
          "evalue": "invalid literal for int() with base 10: '37.5'",
          "output_type": "error",
          "traceback": [
            "\u001b[1;31m---------------------------------------------------------------------------\u001b[0m",
            "\u001b[1;31mValueError\u001b[0m                                Traceback (most recent call last)",
            "\u001b[1;32m<ipython-input-51-420cf37228e6>\u001b[0m in \u001b[0;36m<module>\u001b[1;34m\u001b[0m\n\u001b[1;32m----> 1\u001b[1;33m \u001b[0mconvert\u001b[0m\u001b[1;33m(\u001b[0m\u001b[1;34m\"37.5\"\u001b[0m\u001b[1;33m)\u001b[0m  \u001b[1;31m# Throws ValueError\u001b[0m\u001b[1;33m\u001b[0m\u001b[1;33m\u001b[0m\u001b[0m\n\u001b[0m",
            "\u001b[1;32m<ipython-input-48-e310ef28c8f9>\u001b[0m in \u001b[0;36mconvert\u001b[1;34m(s)\u001b[0m\n\u001b[0;32m      4\u001b[0m     \u001b[1;32mtry\u001b[0m\u001b[1;33m:\u001b[0m\u001b[1;33m\u001b[0m\u001b[1;33m\u001b[0m\u001b[0m\n\u001b[0;32m      5\u001b[0m         \u001b[0mprint\u001b[0m\u001b[1;33m(\u001b[0m\u001b[1;34mf\"Conversion Succeeded, x={s}\"\u001b[0m\u001b[1;33m)\u001b[0m\u001b[1;33m\u001b[0m\u001b[1;33m\u001b[0m\u001b[0m\n\u001b[1;32m----> 6\u001b[1;33m         \u001b[1;32mreturn\u001b[0m \u001b[0mint\u001b[0m\u001b[1;33m(\u001b[0m\u001b[0ms\u001b[0m\u001b[1;33m)\u001b[0m\u001b[1;33m\u001b[0m\u001b[1;33m\u001b[0m\u001b[0m\n\u001b[0m\u001b[0;32m      7\u001b[0m     \u001b[1;32mexcept\u001b[0m \u001b[1;33m(\u001b[0m\u001b[0mValueError\u001b[0m\u001b[1;33m,\u001b[0m \u001b[0mTypeError\u001b[0m\u001b[1;33m)\u001b[0m \u001b[1;32mas\u001b[0m \u001b[0me\u001b[0m\u001b[1;33m:\u001b[0m\u001b[1;33m\u001b[0m\u001b[1;33m\u001b[0m\u001b[0m\n\u001b[0;32m      8\u001b[0m         \u001b[0mprint\u001b[0m\u001b[1;33m(\u001b[0m\u001b[1;34mf'Conversion Failed: {str(e)}'\u001b[0m\u001b[1;33m)\u001b[0m\u001b[1;33m\u001b[0m\u001b[1;33m\u001b[0m\u001b[0m\n",
            "\u001b[1;31mValueError\u001b[0m: invalid literal for int() with base 10: '37.5'"
          ]
        }
      ],
      "source": [
        "convert(\"37.5\")  # Throws ValueError"
      ]
    },
    {
      "cell_type": "code",
      "execution_count": null,
      "metadata": {
        "hidden": true,
        "id": "2VLUyBdzyglu",
        "outputId": "f2004ae4-7e04-49fc-a535-f07695129dd2"
      },
      "outputs": [
        {
          "name": "stdout",
          "output_type": "stream",
          "text": [
            "Conversion Succeeded, x=[34, 45]\n",
            "Conversion Failed: int() argument must be a string, a bytes-like object or a number, not 'list'\n",
            "Error is due to the wrong input: [34, 45]\n"
          ]
        },
        {
          "ename": "TypeError",
          "evalue": "int() argument must be a string, a bytes-like object or a number, not 'list'",
          "output_type": "error",
          "traceback": [
            "\u001b[1;31m---------------------------------------------------------------------------\u001b[0m",
            "\u001b[1;31mTypeError\u001b[0m                                 Traceback (most recent call last)",
            "\u001b[1;32m<ipython-input-52-5449839815b9>\u001b[0m in \u001b[0;36m<module>\u001b[1;34m\u001b[0m\n\u001b[1;32m----> 1\u001b[1;33m \u001b[0mconvert\u001b[0m\u001b[1;33m(\u001b[0m\u001b[1;33m[\u001b[0m\u001b[1;36m34\u001b[0m\u001b[1;33m,\u001b[0m \u001b[1;36m45\u001b[0m\u001b[1;33m]\u001b[0m\u001b[1;33m)\u001b[0m  \u001b[1;31m# Throws TypeError\u001b[0m\u001b[1;33m\u001b[0m\u001b[1;33m\u001b[0m\u001b[0m\n\u001b[0m",
            "\u001b[1;32m<ipython-input-48-e310ef28c8f9>\u001b[0m in \u001b[0;36mconvert\u001b[1;34m(s)\u001b[0m\n\u001b[0;32m      4\u001b[0m     \u001b[1;32mtry\u001b[0m\u001b[1;33m:\u001b[0m\u001b[1;33m\u001b[0m\u001b[1;33m\u001b[0m\u001b[0m\n\u001b[0;32m      5\u001b[0m         \u001b[0mprint\u001b[0m\u001b[1;33m(\u001b[0m\u001b[1;34mf\"Conversion Succeeded, x={s}\"\u001b[0m\u001b[1;33m)\u001b[0m\u001b[1;33m\u001b[0m\u001b[1;33m\u001b[0m\u001b[0m\n\u001b[1;32m----> 6\u001b[1;33m         \u001b[1;32mreturn\u001b[0m \u001b[0mint\u001b[0m\u001b[1;33m(\u001b[0m\u001b[0ms\u001b[0m\u001b[1;33m)\u001b[0m\u001b[1;33m\u001b[0m\u001b[1;33m\u001b[0m\u001b[0m\n\u001b[0m\u001b[0;32m      7\u001b[0m     \u001b[1;32mexcept\u001b[0m \u001b[1;33m(\u001b[0m\u001b[0mValueError\u001b[0m\u001b[1;33m,\u001b[0m \u001b[0mTypeError\u001b[0m\u001b[1;33m)\u001b[0m \u001b[1;32mas\u001b[0m \u001b[0me\u001b[0m\u001b[1;33m:\u001b[0m\u001b[1;33m\u001b[0m\u001b[1;33m\u001b[0m\u001b[0m\n\u001b[0;32m      8\u001b[0m         \u001b[0mprint\u001b[0m\u001b[1;33m(\u001b[0m\u001b[1;34mf'Conversion Failed: {str(e)}'\u001b[0m\u001b[1;33m)\u001b[0m\u001b[1;33m\u001b[0m\u001b[1;33m\u001b[0m\u001b[0m\n",
            "\u001b[1;31mTypeError\u001b[0m: int() argument must be a string, a bytes-like object or a number, not 'list'"
          ]
        }
      ],
      "source": [
        "convert([34, 45])  # Throws TypeError"
      ]
    },
    {
      "cell_type": "markdown",
      "metadata": {
        "id": "_chCxmM-yglu"
      },
      "source": [
        "### Exception class hierarchy"
      ]
    },
    {
      "cell_type": "markdown",
      "metadata": {
        "id": "KYBuX57Uyglu"
      },
      "source": [
        "When an exception occurs, it starts at the innermost level possible (a child) and travels upward (through the parents), waiting to be caught. This means a couple of things to a programmer:\n",
        "\n",
        "* If we don't know what exception may occur, we can always just catch a higher-level exception. For example, if we didn't know that **ZeroDivisionError** was its own exception, we could have used the **ArithmeticError** for the exception and caught that. **ZeroDivisionError** is a child of **ArithmeticError**, which in turn is a child of **Exception**, which in turn is a child of **BaseException**, which is the default class that all other exceptions derive from.\n",
        "\n",
        "\n",
        "* Multiple exceptions can be treated the same way. Suppose we plan on using **ZeroDivisionError** and we want to include **FloatingPointError**. If we wanted to have the same action taken for both errors, simply catch the parent exception, **ArithmeticError**. That way, when either a floating-point or a zero-division error occurs, we don't have to have a separate case for each one. Naturally, if we have a need or desire to catch each one separately, perhaps because we want different actions to be taken, then writing exceptions for each case is fine. Also, catching the parent exception means all children exceptions of that parent, even ones we didn't intend to catch.\n",
        "\n",
        "\n",
        "The following exceptions list shows the hierarchy of exceptions from the Python Library Reference:\n",
        "```python\n",
        "BaseException\n",
        " +-- SystemExit\n",
        " +-- KeyboardInterrupt\n",
        " +-- GeneratorExit\n",
        " +-- Exception\n",
        "      +-- StopIteration\n",
        "      +-- StopAsyncIteration\n",
        "      +-- ArithmeticError\n",
        "      |    +-- FloatingPointError\n",
        "      |    +-- OverflowError\n",
        "      |    +-- ZeroDivisionError\n",
        "      +-- AssertionError\n",
        "      +-- AttributeError\n",
        "      +-- BufferError\n",
        "      +-- EOFError\n",
        "      +-- ImportError\n",
        "      |    +-- ModuleNotFoundError\n",
        "      +-- LookupError\n",
        "      |    +-- IndexError\n",
        "      |    +-- KeyError\n",
        "      +-- MemoryError\n",
        "      +-- NameError\n",
        "      |    +-- UnboundLocalError\n",
        "      +-- OSError\n",
        "      |    +-- BlockingIOError\n",
        "      |    +-- ChildProcessError\n",
        "      |    +-- ConnectionError\n",
        "      |    |    +-- BrokenPipeError\n",
        "      |    |    +-- ConnectionAbortedError\n",
        "      |    |    +-- ConnectionRefusedError\n",
        "      |    |    +-- ConnectionResetError\n",
        "      |    +-- FileExistsError\n",
        "      |    +-- FileNotFoundError\n",
        "      |    +-- InterruptedError\n",
        "      |    +-- IsADirectoryError\n",
        "      |    +-- NotADirectoryError\n",
        "      |    +-- PermissionError\n",
        "      |    +-- ProcessLookupError\n",
        "      |    +-- TimeoutError\n",
        "      +-- ReferenceError\n",
        "      +-- RuntimeError\n",
        "      |    +-- NotImplementedError\n",
        "      |    +-- RecursionError\n",
        "      +-- SyntaxError\n",
        "      |    +-- IndentationError\n",
        "      |         +-- TabError\n",
        "      +-- SystemError\n",
        "      +-- TypeError\n",
        "      +-- ValueError\n",
        "      |    +-- UnicodeError\n",
        "      |         +-- UnicodeDecodeError\n",
        "      |         +-- UnicodeEncodeError\n",
        "      |         +-- UnicodeTranslateError\n",
        "      +-- Warning\n",
        "           +-- DeprecationWarning\n",
        "           +-- PendingDeprecationWarning\n",
        "           +-- RuntimeWarning\n",
        "           +-- SyntaxWarning\n",
        "           +-- UserWarning\n",
        "           +-- FutureWarning\n",
        "           +-- ImportWarning\n",
        "           +-- UnicodeWarning\n",
        "           +-- BytesWarning\n",
        "           +-- ResourceWarning\n",
        "```"
      ]
    },
    {
      "cell_type": "markdown",
      "metadata": {
        "id": "vGdS8Jgbyglu"
      },
      "source": [
        "### User-Defined Exception"
      ]
    },
    {
      "cell_type": "markdown",
      "metadata": {
        "id": "Txhkb9D_yglu"
      },
      "source": [
        "Making our own exceptions involves object-oriented programming. To make a custom exception, simply inherit the base exception and define what it will do. The following example gives an example of creating a custom exception:"
      ]
    },
    {
      "cell_type": "code",
      "execution_count": null,
      "metadata": {
        "id": "tGDI_e_Jyglv",
        "outputId": "0de8b097-035e-4457-ae6e-863a50c6ed9c"
      },
      "outputs": [
        {
          "name": "stdout",
          "output_type": "stream",
          "text": [
            "1.7320508075688772\n"
          ]
        },
        {
          "ename": "NegativeNumberError",
          "evalue": "Square root of negative number not permitted",
          "output_type": "error",
          "traceback": [
            "\u001b[1;31m---------------------------------------------------------------------------\u001b[0m",
            "\u001b[1;31mNegativeNumberError\u001b[0m                       Traceback (most recent call last)",
            "Input \u001b[1;32mIn [6]\u001b[0m, in \u001b[0;36m<cell line: 14>\u001b[1;34m()\u001b[0m\n\u001b[0;32m     11\u001b[0m     \u001b[38;5;28;01mreturn\u001b[39;00m math\u001b[38;5;241m.\u001b[39msqrt(number)\n\u001b[0;32m     13\u001b[0m \u001b[38;5;28mprint\u001b[39m(squareRoot(\u001b[38;5;241m3\u001b[39m))\n\u001b[1;32m---> 14\u001b[0m \u001b[38;5;28mprint\u001b[39m(\u001b[43msquareRoot\u001b[49m\u001b[43m(\u001b[49m\u001b[38;5;241;43m-\u001b[39;49m\u001b[38;5;241;43m3\u001b[39;49m\u001b[43m)\u001b[49m)\n",
            "Input \u001b[1;32mIn [6]\u001b[0m, in \u001b[0;36msquareRoot\u001b[1;34m(number)\u001b[0m\n\u001b[0;32m      8\u001b[0m \u001b[38;5;124;03m\"\"\"Computes square root of number. Raises NegativeNumberError if number is less than 0.\"\"\"\u001b[39;00m \n\u001b[0;32m      9\u001b[0m \u001b[38;5;28;01mif\u001b[39;00m number \u001b[38;5;241m<\u001b[39m \u001b[38;5;241m0\u001b[39m:\n\u001b[1;32m---> 10\u001b[0m     \u001b[38;5;28;01mraise\u001b[39;00m NegativeNumberError(\u001b[38;5;124m\"\u001b[39m\u001b[38;5;124mSquare root of negative number not permitted\u001b[39m\u001b[38;5;124m\"\u001b[39m) \n\u001b[0;32m     11\u001b[0m \u001b[38;5;28;01mreturn\u001b[39;00m math\u001b[38;5;241m.\u001b[39msqrt(number)\n",
            "\u001b[1;31mNegativeNumberError\u001b[0m: Square root of negative number not permitted"
          ]
        }
      ],
      "source": [
        "import math\n",
        "\n",
        "class NegativeNumberError(ValueError):\n",
        "    \"\"\"Attempted improper operation on negative number.\"\"\"\n",
        "    pass\n",
        "\n",
        "def squareRoot(number):\n",
        "    \"\"\"Computes square root of number. Raises NegativeNumberError if number is less than 0.\"\"\"\n",
        "    if number < 0:\n",
        "        raise NegativeNumberError(\"Square root of negative number not permitted\")\n",
        "    return math.sqrt(number)\n",
        "\n",
        "print(squareRoot(3))\n",
        "print(squareRoot(-3))"
      ]
    },
    {
      "cell_type": "markdown",
      "metadata": {
        "heading_collapsed": true,
        "id": "iCiZH1Nmyglv"
      },
      "source": [
        "## Iterator"
      ]
    },
    {
      "cell_type": "markdown",
      "metadata": {
        "hidden": true,
        "id": "ioQZ5g9tyglv"
      },
      "source": [
        "* **Iterable objects** (list, tuple, etc.) can be passed to the built-in **iter()** to get an iterator.\n",
        "* Iterator objects can be passed to the built-in **next()** to fetch the next item."
      ]
    },
    {
      "cell_type": "code",
      "execution_count": null,
      "metadata": {
        "hidden": true,
        "id": "nMvcN81Ryglv",
        "outputId": "5d400914-70c8-49b6-aece-7ebe386b2ac6"
      },
      "outputs": [
        {
          "name": "stdout",
          "output_type": "stream",
          "text": [
            "Iterable List:  ['Cow', 'Hen', 'Dog', 'Cat']\n",
            "Iterator: <list_iterator object at 0x0000024AEE8484F0>\n",
            "\n",
            "Cow\n",
            "Hen\n",
            "Dog\n",
            "Cat\n"
          ]
        }
      ],
      "source": [
        "iterable = ['Cow', 'Hen', 'Dog', 'Cat']\n",
        "iterator = iter(iterable)\n",
        "print('Iterable List: ', iterable)\n",
        "print('Iterator:', iterator)  # object\n",
        "print()\n",
        "while 1:\n",
        "    try:\n",
        "        print(next(iterator))\n",
        "    except StopIteration as e:\n",
        "        break"
      ]
    },
    {
      "cell_type": "markdown",
      "metadata": {
        "heading_collapsed": true,
        "id": "ent5Tr98yglw"
      },
      "source": [
        "## Generators"
      ]
    },
    {
      "cell_type": "markdown",
      "metadata": {
        "hidden": true,
        "id": "IMS0Mxgyyglw"
      },
      "source": [
        "* **specify iterable sequences:** all generators are iterators\n",
        "* **are lazily evaluated:** the next value in the sequence is computed on demand\n",
        "* **can model infinite sequences:** such as data streams with no definite end\n",
        "* **are composable into pipelines:** for natural stream processing\n",
        "* Generators adapt the Just in Time Computations.\n",
        "* Generator functions contains atleast one use of the **yield** keyword.\n",
        "* Each call to a generator function creates a new generator object.\n",
        "* These are generally used for infinite (or large) sequences, sensor readings, mathematical series, massive files, etc"
      ]
    },
    {
      "cell_type": "code",
      "execution_count": null,
      "metadata": {
        "hidden": true,
        "id": "JgKDwF2uyglw",
        "outputId": "add9cb4e-8655-4160-ad84-6e9f977404ea"
      },
      "outputs": [
        {
          "name": "stdout",
          "output_type": "stream",
          "text": [
            "Generator: <generator object testgen at 0x000001FF1FFC5890>\n",
            "\n",
            "1\n",
            "2\n",
            "3\n"
          ]
        }
      ],
      "source": [
        "def testgen():\n",
        "    yield 1\n",
        "    yield 2\n",
        "    yield 3\n",
        "\n",
        "\n",
        "g = testgen()\n",
        "print('Generator:', g)  # object\n",
        "print()\n",
        "\n",
        "# works similar to iterator\n",
        "print(next(g))\n",
        "\n",
        "# printing remaining elements\n",
        "for each in g:\n",
        "    print(each)"
      ]
    },
    {
      "cell_type": "code",
      "execution_count": null,
      "metadata": {
        "hidden": true,
        "id": "yR2x9XR8yglx"
      },
      "outputs": [],
      "source": [
        "def distinct(iterable):\n",
        "    ''' Return unique items by eliminating duplicates\n",
        "\n",
        "    Args:\n",
        "        iterable: The source series\n",
        "\n",
        "    Yields:\n",
        "        Unique elements in order from 'iterable'\n",
        "    '''\n",
        "    seen = set()\n",
        "    for item in iterable:\n",
        "        if item in seen:\n",
        "            continue\n",
        "        yield item\n",
        "        seen.add(item)"
      ]
    },
    {
      "cell_type": "code",
      "execution_count": null,
      "metadata": {
        "hidden": true,
        "id": "bI2tZOrIyglx"
      },
      "outputs": [],
      "source": [
        "items = [3, 1, 4, 1, 1, 2, 5, 1, 3, 6, 1, 6, 1, 7, 3, 1, 3, 2, 4]"
      ]
    },
    {
      "cell_type": "code",
      "execution_count": null,
      "metadata": {
        "hidden": true,
        "id": "GH_OxHUIyglx",
        "outputId": "e9ef4ee3-4eea-4cbd-aba4-2b22af353f52"
      },
      "outputs": [
        {
          "data": {
            "text/plain": [
              "<generator object distinct at 0x000001FF201DD890>"
            ]
          },
          "execution_count": 183,
          "metadata": {},
          "output_type": "execute_result"
        }
      ],
      "source": [
        "distinct(items)"
      ]
    },
    {
      "cell_type": "code",
      "execution_count": null,
      "metadata": {
        "hidden": true,
        "id": "M-2zUU3dygly",
        "outputId": "b6b2c614-f590-416a-e8c4-c6509b9dbc91"
      },
      "outputs": [
        {
          "data": {
            "text/plain": [
              "[3, 1, 4, 2, 5, 6, 7]"
            ]
          },
          "execution_count": 184,
          "metadata": {},
          "output_type": "execute_result"
        }
      ],
      "source": [
        "distinct_items = list(distinct(items))\n",
        "distinct_items"
      ]
    },
    {
      "cell_type": "code",
      "execution_count": null,
      "metadata": {
        "hidden": true,
        "id": "bFLWjcErygly"
      },
      "outputs": [],
      "source": [
        "def take(count, iterable):\n",
        "    ''' Takes item from the front of an iterable\n",
        "\n",
        "    Args:\n",
        "        count: The maximum number of items to retrieve\n",
        "        iterable: The source series\n",
        "\n",
        "    Yields:\n",
        "        At most 'count' items from an 'iterable'\n",
        "    '''\n",
        "    counter = 0\n",
        "    for item in iterable:\n",
        "        if counter == count:\n",
        "            return\n",
        "        counter += 1\n",
        "        yield item"
      ]
    },
    {
      "cell_type": "code",
      "execution_count": null,
      "metadata": {
        "hidden": true,
        "id": "XwZnkty2ygly",
        "outputId": "2b9015d6-80e0-4a63-8632-2b535d66fc3f"
      },
      "outputs": [
        {
          "data": {
            "text/plain": [
              "<generator object take at 0x000001FF1F9483C0>"
            ]
          },
          "execution_count": 186,
          "metadata": {},
          "output_type": "execute_result"
        }
      ],
      "source": [
        "n_unique_items = take(5, distinct_items)\n",
        "n_unique_items"
      ]
    },
    {
      "cell_type": "code",
      "execution_count": null,
      "metadata": {
        "hidden": true,
        "id": "zhvhXPcEygly",
        "outputId": "9afd5340-e2af-4fcb-e8e9-b22eaffda602"
      },
      "outputs": [
        {
          "data": {
            "text/plain": [
              "[3, 1, 4, 2, 5]"
            ]
          },
          "execution_count": 187,
          "metadata": {},
          "output_type": "execute_result"
        }
      ],
      "source": [
        "list(n_unique_items)"
      ]
    },
    {
      "cell_type": "code",
      "execution_count": null,
      "metadata": {
        "hidden": true,
        "id": "DMmteqNUyglz",
        "outputId": "b4ee39eb-6c82-4864-91cd-99cb46bfbfc8"
      },
      "outputs": [
        {
          "data": {
            "text/plain": [
              "[3, 1, 4, 2]"
            ]
          },
          "execution_count": 188,
          "metadata": {},
          "output_type": "execute_result"
        }
      ],
      "source": [
        "# Defining a pipeline by using defined distinct() and take()\n",
        "\n",
        "def run_pipeline(n, items):\n",
        "    return [item for item in take(n, distinct(items))]\n",
        "\n",
        "pipe = run_pipeline(4, items)\n",
        "pipe"
      ]
    },
    {
      "cell_type": "markdown",
      "metadata": {
        "hidden": true,
        "id": "XsgAMFxgyglz"
      },
      "source": [
        "The **next()** will yield the next number from the iterable."
      ]
    },
    {
      "cell_type": "code",
      "execution_count": null,
      "metadata": {
        "hidden": true,
        "id": "4nQl88payglz"
      },
      "outputs": [],
      "source": [
        "def run_pipeline(n, items):\n",
        "    for item in take(n, distinct(items)):\n",
        "        yield item"
      ]
    },
    {
      "cell_type": "code",
      "execution_count": null,
      "metadata": {
        "hidden": true,
        "id": "Dc9v9S8Fygl0",
        "outputId": "e71965fc-b469-4a17-86ce-d77b31f6bc96"
      },
      "outputs": [
        {
          "name": "stdout",
          "output_type": "stream",
          "text": [
            "3 1 4 2 \n"
          ]
        }
      ],
      "source": [
        "pipe = run_pipeline(4, items)\n",
        "\n",
        "while 1:\n",
        "    try:\n",
        "        print(next(pipe), end = ' ')\n",
        "    except StopIteration as e:\n",
        "        print(e)\n",
        "        break"
      ]
    },
    {
      "cell_type": "code",
      "execution_count": null,
      "metadata": {
        "hidden": true,
        "id": "amK6dKdnygl0",
        "outputId": "76ee04c7-e624-4294-8507-525311592659"
      },
      "outputs": [
        {
          "ename": "StopIteration",
          "evalue": "",
          "output_type": "error",
          "traceback": [
            "\u001b[1;31m---------------------------------------------------------------------------\u001b[0m",
            "\u001b[1;31mStopIteration\u001b[0m                             Traceback (most recent call last)",
            "\u001b[1;32m<ipython-input-215-e491198df0d4>\u001b[0m in \u001b[0;36m<module>\u001b[1;34m\u001b[0m\n\u001b[1;32m----> 1\u001b[1;33m \u001b[0mnext\u001b[0m\u001b[1;33m(\u001b[0m\u001b[0mpipe\u001b[0m\u001b[1;33m)\u001b[0m\u001b[1;33m\u001b[0m\u001b[1;33m\u001b[0m\u001b[0m\n\u001b[0m",
            "\u001b[1;31mStopIteration\u001b[0m: "
          ]
        }
      ],
      "source": [
        "next(pipe)"
      ]
    },
    {
      "cell_type": "markdown",
      "metadata": {
        "hidden": true,
        "id": "rc676dOoygl0"
      },
      "source": [
        "Since there are no items left, the iteration stops with the **StopIteration error**."
      ]
    },
    {
      "cell_type": "code",
      "execution_count": null,
      "metadata": {
        "hidden": true,
        "id": "kGROSJvXygl0",
        "outputId": "c31425d6-120b-482c-a840-4168d07aa013"
      },
      "outputs": [
        {
          "name": "stdout",
          "output_type": "stream",
          "text": [
            "Model:  <generator object <genexpr> at 0x000001FF1FD42F90>\n",
            "Class of Model:  <class 'generator'>\n",
            "Sum of model: 333332833333500000\n"
          ]
        }
      ],
      "source": [
        "# Defining model specifications\n",
        "\n",
        "# Tuple is used instead of list to create a generator object\n",
        "squares = (x * x for x in range(1, int(10e5)))\n",
        "\n",
        "# returns generator object, saves memory by just defining and not running it\n",
        "print('Model: ', squares)\n",
        "print('Class of Model: ', type(squares))\n",
        "print('Sum of model: ', sum(squares))"
      ]
    },
    {
      "cell_type": "code",
      "execution_count": null,
      "metadata": {
        "hidden": true,
        "id": "3Xre-Rxtygl0",
        "outputId": "556ab7b9-fcb0-4e80-bad3-74679fd261ba"
      },
      "outputs": [
        {
          "name": "stdout",
          "output_type": "stream",
          "text": [
            "a: [1, 2, 3]\n",
            "b: [4, 5, 6]\n",
            "\n",
            "Chain Object: <itertools.chain object at 0x000001FF1FB1ACA0>\n"
          ]
        },
        {
          "data": {
            "text/plain": [
              "[1, 2, 3, 4, 5, 6]"
            ]
          },
          "execution_count": 217,
          "metadata": {},
          "output_type": "execute_result"
        }
      ],
      "source": [
        "a = [1, 2, 3]\n",
        "b = [4, 5, 6]\n",
        "print('a:',a)\n",
        "print('b:',b)\n",
        "\n",
        "from itertools import chain\n",
        "\n",
        "c = chain(a, b)  # joining two lists\n",
        "print('\\nChain Object:', c)  # object\n",
        "list(c)"
      ]
    },
    {
      "cell_type": "markdown",
      "metadata": {
        "heading_collapsed": true,
        "id": "4hSo_e1qygl1"
      },
      "source": [
        "## Decorator"
      ]
    },
    {
      "cell_type": "markdown",
      "metadata": {
        "hidden": true,
        "id": "KG0Gp-6nygl1"
      },
      "source": [
        "A **decorator** is any callable Python object that is used to modify a function or a class. It **takes a function, adds some functionality, and returns** it. Decorators are a very powerful and useful tool in Python since it allows programmers to modify/control the behavior of function or class.\n",
        "\n",
        "In Decorators, functions are passed as an argument into another function and then called inside the **wrapper function**.\n",
        "Decorators are usually called before the definition of a function we want to decorate.\n",
        "\n",
        "There are two different kinds of decorators in Python: **Function decorators** and **Class decorators**.\n",
        "\n",
        "When using Multiple Decorators to a single function, the decorators will be applied in the order they’ve been called.\n",
        "By recalling that decorator function, we can re-use the decorator.\n"
      ]
    },
    {
      "cell_type": "code",
      "execution_count": null,
      "metadata": {
        "hidden": true,
        "id": "9fcJlLPmygl1",
        "outputId": "a2e281e0-ea43-4ee3-8481-df9cba158519"
      },
      "outputs": [
        {
          "name": "stdout",
          "output_type": "stream",
          "text": [
            "Before calling sqr\n",
            "25\n",
            "After calling sqr\n"
          ]
        }
      ],
      "source": [
        "#Decorators\n",
        "def test_decorator(func):\n",
        "\n",
        "    def function_wrapper(x):\n",
        "        print(\"Before calling \" + func.__name__)\n",
        "        res = func(x)\n",
        "        print(res)\n",
        "        print(\"After calling \" + func.__name__)\n",
        "\n",
        "    return function_wrapper\n",
        "\n",
        "\n",
        "@test_decorator\n",
        "def sqr(n):\n",
        "    return n**2\n",
        "\n",
        "\n",
        "sqr(5)"
      ]
    },
    {
      "cell_type": "code",
      "execution_count": null,
      "metadata": {
        "hidden": true,
        "id": "T6ekoBcJygl2",
        "outputId": "6aa28206-fece-45e5-b4f3-edc127d0f033"
      },
      "outputs": [
        {
          "data": {
            "text/plain": [
              "['testing', 'multiple', 'decorators']"
            ]
          },
          "execution_count": 234,
          "metadata": {},
          "output_type": "execute_result"
        }
      ],
      "source": [
        "# Multiple Decorators\n",
        "def lowercase_decorator(function):\n",
        "\n",
        "    def wrapper():\n",
        "        func = function()\n",
        "        make_lowercase = func.lower()\n",
        "        return make_lowercase\n",
        "\n",
        "    return wrapper\n",
        "\n",
        "\n",
        "def split_string(function):\n",
        "\n",
        "    def wrapper():\n",
        "        func = function()\n",
        "        split_string = func.split()\n",
        "        return split_string\n",
        "\n",
        "    return wrapper\n",
        "\n",
        "\n",
        "@split_string\n",
        "@lowercase_decorator\n",
        "def test_func():\n",
        "    return 'TESTING MULTIPLE DECORATORS'\n",
        "\n",
        "\n",
        "test_func()"
      ]
    },
    {
      "cell_type": "markdown",
      "metadata": {
        "heading_collapsed": true,
        "hidden": true,
        "id": "vMZ17nRkygl2"
      },
      "source": [
        "### Memoization using Decorators"
      ]
    },
    {
      "cell_type": "markdown",
      "metadata": {
        "hidden": true,
        "id": "VJmmA2S2ygl2"
      },
      "source": [
        "**Memoization** is a technique which allows us to optimize a Python function by caching its output based on the parameters we supply to it. Once we memoize a function, it will only compute its output once for each set of parameters we call it with.\n",
        "\n",
        "Every call after the first will be quickly retrieved from a **cache**.\n",
        "\n",
        "If we want to speed up the parts in our program that are expensive, memoization can be a great technique to use.\n",
        "There are several approaches to Memoization:\n",
        "* Using global\n",
        "* Using objects\n",
        "* Using default parameter\n",
        "* Using a Callable Class"
      ]
    },
    {
      "cell_type": "code",
      "execution_count": null,
      "metadata": {
        "hidden": true,
        "id": "_C6dWBp9ygl2",
        "outputId": "2709a406-9bcc-47da-c04f-9f4bebd4bc20"
      },
      "outputs": [
        {
          "name": "stdout",
          "output_type": "stream",
          "text": [
            "6765\n"
          ]
        }
      ],
      "source": [
        "#fibonacci series using Memoization through decorators\n",
        "def memoization_func(t):\n",
        "    dict_one = {}\n",
        "\n",
        "    def h(z):\n",
        "        if z not in dict_one:\n",
        "            dict_one[z] = t(z)\n",
        "        return dict_one[z]\n",
        "\n",
        "    return h\n",
        "\n",
        "\n",
        "@memoization_func\n",
        "def fib(n):\n",
        "    if n == 0:\n",
        "        return 0\n",
        "    elif n == 1:\n",
        "        return 1\n",
        "    else:\n",
        "        return fib(n - 1) + fib(n - 2)\n",
        "\n",
        "\n",
        "print(fib(20))"
      ]
    },
    {
      "cell_type": "markdown",
      "metadata": {
        "id": "8ApWg6bWygl3"
      },
      "source": [
        "## Objects and Classes"
      ]
    },
    {
      "cell_type": "markdown",
      "metadata": {
        "id": "l6YpXl6wygl3"
      },
      "source": [
        "* The **class** statement creates a class object and gives it a name, as well as creating a new namespace.\n",
        "* Variable assignments and methods within the class create class **attributes**. These attributes are accessed by qualifying the name using dot syntax: `ClassName.Attribute`.\n",
        "* Class attributes export the state of an object and its associated behavior. These attributes are shared by all instances of a class.\n",
        "* Calling a class creates a new **instance** of the class. This is where the multiple copies part comes in.\n",
        "* Each instance gets (\"inherits\") the default attributes of its class, while also getting its own namespace. This prevents instance objects from overlapping and confusing the program.\n",
        "* Using the term **self** identifies a particular instance, allowing for per-instance attributes. This allows items such as variables to be associated with a particular instance."
      ]
    },
    {
      "cell_type": "code",
      "execution_count": null,
      "metadata": {
        "id": "pLkhtv0gygl3",
        "outputId": "d23f5d9f-869d-451b-fd8f-6dfbfd64988a"
      },
      "outputs": [
        {
          "data": {
            "text/plain": [
              "['__add__',\n",
              " '__class__',\n",
              " '__class_getitem__',\n",
              " '__contains__',\n",
              " '__delattr__',\n",
              " '__delitem__',\n",
              " '__dir__',\n",
              " '__doc__',\n",
              " '__eq__',\n",
              " '__format__',\n",
              " '__ge__',\n",
              " '__getattribute__',\n",
              " '__getitem__',\n",
              " '__gt__',\n",
              " '__hash__',\n",
              " '__iadd__',\n",
              " '__imul__',\n",
              " '__init__',\n",
              " '__init_subclass__',\n",
              " '__iter__',\n",
              " '__le__',\n",
              " '__len__',\n",
              " '__lt__',\n",
              " '__mul__',\n",
              " '__ne__',\n",
              " '__new__',\n",
              " '__reduce__',\n",
              " '__reduce_ex__',\n",
              " '__repr__',\n",
              " '__reversed__',\n",
              " '__rmul__',\n",
              " '__setattr__',\n",
              " '__setitem__',\n",
              " '__sizeof__',\n",
              " '__str__',\n",
              " '__subclasshook__',\n",
              " 'append',\n",
              " 'clear',\n",
              " 'copy',\n",
              " 'count',\n",
              " 'extend',\n",
              " 'index',\n",
              " 'insert',\n",
              " 'pop',\n",
              " 'remove',\n",
              " 'reverse',\n",
              " 'sort']"
            ]
          },
          "execution_count": 236,
          "metadata": {},
          "output_type": "execute_result"
        }
      ],
      "source": [
        "a = [1, 2, 3, 4, 5]\n",
        "dir(a)  # returns the list of all Python's objects classes"
      ]
    },
    {
      "cell_type": "markdown",
      "metadata": {
        "heading_collapsed": true,
        "id": "CSdRMlkDygl3"
      },
      "source": [
        "### Encapsulation"
      ]
    },
    {
      "cell_type": "markdown",
      "metadata": {
        "hidden": true,
        "id": "tqKv8klAygl3"
      },
      "source": [
        "The idea of **encapsulation** is to have methods and variables within the bounds of a given unit. In the case of Python, this unit is called a **class** and the members of a class become locally bound to that class. These members have a defined **scope**, such as **global scope** or **local scope**.\n",
        "\n",
        "**Attributes** refer to **variables** declared in a class, while **behaviors** are associated with the **methods** in the class.\n",
        "\n",
        "Encapsulation is also used for hiding data and its internal representation. **Access modifiers** represented by keywords such as **public**, **private** and **protected** are used for information hiding.\n",
        "\n",
        "The use of *single and double underscore*s for this purpose in Python is a substitute for this practice. For example:"
      ]
    },
    {
      "cell_type": "markdown",
      "metadata": {
        "hidden": true,
        "id": "CuaYwNMqygl3"
      },
      "source": [
        "<div class=\"alert alert-info\"><b>self method</b> is used to refer to the parameters of the instance of a class</div>"
      ]
    },
    {
      "cell_type": "code",
      "execution_count": null,
      "metadata": {
        "hidden": true,
        "id": "kf1c89jPygl3"
      },
      "outputs": [],
      "source": [
        "class Jamwine:\n",
        "\n",
        "    # __init__ is a special method used to create an instance\n",
        "    def __init__(self):\n",
        "        # Data Attributes for initializing objects\n",
        "        self._a = 2.  # Protected member ‘a’\n",
        "        self.__b = 5.2  # Private member ‘b’"
      ]
    },
    {
      "cell_type": "code",
      "execution_count": null,
      "metadata": {
        "hidden": true,
        "id": "tEb8GS1rygl4",
        "outputId": "f0709cbe-6a02-4e7b-d41c-8bfee4801f69"
      },
      "outputs": [
        {
          "name": "stdout",
          "output_type": "stream",
          "text": [
            "<__main__.Jamwine object at 0x000001FF1FB10520>\n"
          ]
        }
      ],
      "source": [
        "# Object created for class Jamwine\n",
        "jw = Jamwine()\n",
        "print(jw)"
      ]
    },
    {
      "cell_type": "markdown",
      "metadata": {
        "hidden": true,
        "id": "X2RxIhwvygl4"
      },
      "source": [
        "self.\\_a is a protected member and can be accessed by the class and its subclasses."
      ]
    },
    {
      "cell_type": "code",
      "execution_count": null,
      "metadata": {
        "hidden": true,
        "id": "cvc29N2Eygl4",
        "outputId": "ed54f23b-4877-4407-94c7-3185421c67eb"
      },
      "outputs": [
        {
          "name": "stdout",
          "output_type": "stream",
          "text": [
            "2.0\n"
          ]
        }
      ],
      "source": [
        "# Accessing jw attributes\n",
        "print(jw._a)"
      ]
    },
    {
      "cell_type": "markdown",
      "metadata": {
        "hidden": true,
        "id": "-WwIwZztygl4"
      },
      "source": [
        "Private members in Python are conventionally used with preceding double underscores: \\_\\_.\n",
        "\n",
        "self.\\_\\_b is a private member of the class Alpha and can only be accessed from within the class Jamwine."
      ]
    },
    {
      "cell_type": "code",
      "execution_count": null,
      "metadata": {
        "hidden": true,
        "id": "fp9ZjkVZygl4",
        "outputId": "8fa1b8c5-8fd9-4ec3-fbde-6b2ddcb76e88"
      },
      "outputs": [
        {
          "ename": "AttributeError",
          "evalue": "'Jamwine' object has no attribute '__b'",
          "output_type": "error",
          "traceback": [
            "\u001b[1;31m---------------------------------------------------------------------------\u001b[0m",
            "\u001b[1;31mAttributeError\u001b[0m                            Traceback (most recent call last)",
            "\u001b[1;32m<ipython-input-241-e43198752831>\u001b[0m in \u001b[0;36m<module>\u001b[1;34m\u001b[0m\n\u001b[1;32m----> 1\u001b[1;33m \u001b[0mprint\u001b[0m\u001b[1;33m(\u001b[0m\u001b[0mjw\u001b[0m\u001b[1;33m.\u001b[0m\u001b[0m__b\u001b[0m\u001b[1;33m)\u001b[0m\u001b[1;33m\u001b[0m\u001b[1;33m\u001b[0m\u001b[0m\n\u001b[0m",
            "\u001b[1;31mAttributeError\u001b[0m: 'Jamwine' object has no attribute '__b'"
          ]
        }
      ],
      "source": [
        "print(jw.__b)"
      ]
    },
    {
      "cell_type": "markdown",
      "metadata": {
        "hidden": true,
        "id": "yPL-1fAsygl5"
      },
      "source": [
        "**jw.\\_a** is accessible while **jw.\\_\\_b** is not accessible directly."
      ]
    },
    {
      "cell_type": "code",
      "execution_count": null,
      "metadata": {
        "hidden": true,
        "id": "tYkZvP8zygl5",
        "outputId": "1a2151c6-17a6-4606-a213-867c6cfe13fe"
      },
      "outputs": [
        {
          "data": {
            "text/plain": [
              "['_Jamwine__b',\n",
              " '__class__',\n",
              " '__delattr__',\n",
              " '__dict__',\n",
              " '__dir__',\n",
              " '__doc__',\n",
              " '__eq__',\n",
              " '__format__',\n",
              " '__ge__',\n",
              " '__getattribute__',\n",
              " '__gt__',\n",
              " '__hash__',\n",
              " '__init__',\n",
              " '__init_subclass__',\n",
              " '__le__',\n",
              " '__lt__',\n",
              " '__module__',\n",
              " '__ne__',\n",
              " '__new__',\n",
              " '__reduce__',\n",
              " '__reduce_ex__',\n",
              " '__repr__',\n",
              " '__setattr__',\n",
              " '__sizeof__',\n",
              " '__str__',\n",
              " '__subclasshook__',\n",
              " '__weakref__',\n",
              " '_a']"
            ]
          },
          "execution_count": 242,
          "metadata": {},
          "output_type": "execute_result"
        }
      ],
      "source": [
        "dir(jw)"
      ]
    },
    {
      "cell_type": "markdown",
      "metadata": {
        "hidden": true,
        "id": "FT8FNCdaygl5"
      },
      "source": [
        "Within `jw` object:  **\\_a** is available, however **\\_\\_b** is not available directly, it can be accessed from class as **\\_Jamwine\\_\\_b**."
      ]
    },
    {
      "cell_type": "markdown",
      "metadata": {
        "hidden": true,
        "id": "Xs5m9jaHygl5"
      },
      "source": [
        "It should be noted that these private and protected members can still be accessed from outside of the class by using public methods to access them or by a practice known as **name mangling**. Name mangling is the use of two leading underscores and one trailing underscore, for example:"
      ]
    },
    {
      "cell_type": "code",
      "execution_count": null,
      "metadata": {
        "hidden": true,
        "id": "7hPbSTkJygl5",
        "outputId": "776c981b-7335-42dc-8d53-79c5e7eca455"
      },
      "outputs": [
        {
          "data": {
            "text/plain": [
              "5.2"
            ]
          },
          "execution_count": 245,
          "metadata": {},
          "output_type": "execute_result"
        }
      ],
      "source": [
        "# Syntax: object._Class__attribute\n",
        "jw._Jamwine__b"
      ]
    },
    {
      "cell_type": "markdown",
      "metadata": {
        "heading_collapsed": true,
        "id": "dfIDO0Ygygl6"
      },
      "source": [
        "### Special Methods"
      ]
    },
    {
      "cell_type": "markdown",
      "metadata": {
        "hidden": true,
        "id": "0ntiBQRHygl6"
      },
      "source": [
        "<div class=\"alert alert-info\"><li><b>__init__</b><li><b>__str__</b><li><b>__name__</b></div>\n",
        "\n",
        "> **\\_\\_init\\_\\_** is a special method used to create an instance\n",
        "\n",
        "\n",
        "> **\\_\\_str\\_\\_** is a special method used to return a string representation of an object\n",
        "\n",
        "\n",
        "> Before executing code in a module (file), Python will define a few special variables\n",
        ">* If the Python interpreter is running the file as the main program, it sets the special **\\_\\_name\\_\\_** variable to have a value `__main__`\n",
        ">* If the file is being imported from another module, **\\_\\_name\\_\\_** will be set to that **module’s (file’s) name**\n",
        "\n",
        "> To direct the Python interpreter when it first reads a file, add the following conditional (to the bottom) of our script:\n",
        ">\n",
        ">`if __name__ == \"__main__\":\n",
        ">      main()`\n",
        "> * This will run the main function, if the file is loaded as the main program"
      ]
    },
    {
      "cell_type": "code",
      "execution_count": null,
      "metadata": {
        "hidden": true,
        "scrolled": true,
        "id": "KiVzcMtsygl6",
        "outputId": "d34c5d9a-b286-43df-83b1-6471b806793a"
      },
      "outputs": [
        {
          "name": "stdout",
          "output_type": "stream",
          "text": [
            "Name is:  James\n",
            "Age is:  24\n",
            "City is:  Dubai\n",
            "\n",
            "b.name: Jack\n",
            "c.city: Delhi\n",
            "d: | Jim | 21 | California |\n",
            "\n",
            "__main__\n"
          ]
        }
      ],
      "source": [
        "class Student():\n",
        "\n",
        "    def __init__(self, name, age, city):\n",
        "        self.name = name\n",
        "        self.age = age\n",
        "        self.city = city\n",
        "\n",
        "    def details(self):\n",
        "        print(\"Name is: \", self.name)\n",
        "        print(\"Age is: \", self.age)\n",
        "        print(\"City is: \", self.city)\n",
        "\n",
        "    def __str__(self):\n",
        "        return \"| %s | %s | %s |\" % (self.name, self.age, self.city)\n",
        "\n",
        "\n",
        "a = Student(\"James\", 24, \"Dubai\")\n",
        "b = Student(\"Jack\", 23, \"New York\")\n",
        "c = Student(\"Julia\", 24, \"Delhi\")\n",
        "d = Student(\"Jim\", 21, \"California\")\n",
        "\n",
        "a.details()\n",
        "print(\"\\nb.name:\", b.name)\n",
        "print(\"c.city:\", c.city)\n",
        "print(\"d:\", d)\n",
        "\n",
        "# Special method __name__ evaluates to '__main__' or the actual module name, depending on how the enclosing module is being used\n",
        "print()\n",
        "print(__name__)"
      ]
    },
    {
      "cell_type": "code",
      "execution_count": null,
      "metadata": {
        "hidden": true,
        "id": "zWdwUUf1ygl6",
        "outputId": "65fb10aa-2165-4796-fbc2-8d677413145b"
      },
      "outputs": [
        {
          "data": {
            "text/plain": [
              "<__main__.M at 0x1ff1f615dc0>"
            ]
          },
          "execution_count": 256,
          "metadata": {},
          "output_type": "execute_result"
        }
      ],
      "source": [
        "class M():\n",
        "\n",
        "    def abc(self):\n",
        "        print('Public method!')\n",
        "\n",
        "    def _xyz(self):\n",
        "        print(\"Protected method!\")\n",
        "\n",
        "    def __pqr(self):\n",
        "        print(\"Private method!\")\n",
        "\n",
        "m = M()\n",
        "m"
      ]
    },
    {
      "cell_type": "code",
      "execution_count": null,
      "metadata": {
        "hidden": true,
        "id": "AZllzwc4ygl7",
        "outputId": "c5be8e3d-d022-43db-e70b-ced4a3e9ab73"
      },
      "outputs": [
        {
          "name": "stdout",
          "output_type": "stream",
          "text": [
            "Public method!\n"
          ]
        }
      ],
      "source": [
        "m.abc()"
      ]
    },
    {
      "cell_type": "code",
      "execution_count": null,
      "metadata": {
        "hidden": true,
        "id": "ddoT2O_Xygl7",
        "outputId": "3f79a3c2-c0b3-46dd-a49b-884595cc33ef"
      },
      "outputs": [
        {
          "name": "stdout",
          "output_type": "stream",
          "text": [
            "Protected method\n"
          ]
        }
      ],
      "source": [
        "m._xyz()"
      ]
    },
    {
      "cell_type": "code",
      "execution_count": null,
      "metadata": {
        "hidden": true,
        "id": "17gk3ICuygl7",
        "outputId": "27ce99ee-7fb1-4bc5-94fb-11f68b7b4e6c"
      },
      "outputs": [
        {
          "ename": "AttributeError",
          "evalue": "'M' object has no attribute '__pqr'",
          "output_type": "error",
          "traceback": [
            "\u001b[1;31m---------------------------------------------------------------------------\u001b[0m",
            "\u001b[1;31mAttributeError\u001b[0m                            Traceback (most recent call last)",
            "\u001b[1;32m<ipython-input-259-7d1c3ff30916>\u001b[0m in \u001b[0;36m<module>\u001b[1;34m\u001b[0m\n\u001b[1;32m----> 1\u001b[1;33m \u001b[0mm\u001b[0m\u001b[1;33m.\u001b[0m\u001b[0m__pqr\u001b[0m\u001b[1;33m(\u001b[0m\u001b[1;33m)\u001b[0m\u001b[1;33m\u001b[0m\u001b[1;33m\u001b[0m\u001b[0m\n\u001b[0m",
            "\u001b[1;31mAttributeError\u001b[0m: 'M' object has no attribute '__pqr'"
          ]
        }
      ],
      "source": [
        "m.__pqr() # cannot be accessed directly"
      ]
    },
    {
      "cell_type": "code",
      "execution_count": null,
      "metadata": {
        "hidden": true,
        "id": "TJoO_8rIygl8",
        "outputId": "8b33103e-6ba0-4fb3-a258-489097e05f42"
      },
      "outputs": [
        {
          "name": "stdout",
          "output_type": "stream",
          "text": [
            "Private method\n"
          ]
        }
      ],
      "source": [
        "m._M__pqr() # name mangling"
      ]
    },
    {
      "cell_type": "code",
      "execution_count": null,
      "metadata": {
        "hidden": true,
        "scrolled": true,
        "id": "f7jImaM0ygl8",
        "outputId": "797f3b5e-3df8-482b-f670-d4244e6af777"
      },
      "outputs": [
        {
          "name": "stdout",
          "output_type": "stream",
          "text": [
            "Public method!\n",
            "Public method!\n",
            "Protected method\n",
            "Private method\n"
          ]
        }
      ],
      "source": [
        "# Example of Inheritance\n",
        "\n",
        "class N(M):\n",
        "\n",
        "    def mno(self):\n",
        "        print('Public method!')\n",
        "\n",
        "\n",
        "n = N()\n",
        "n.mno()\n",
        "\n",
        "# Inherited from M()\n",
        "n.abc()\n",
        "n._xyz()\n",
        "n._M__pqr()"
      ]
    },
    {
      "cell_type": "markdown",
      "metadata": {
        "heading_collapsed": true,
        "id": "9Vk6XGq9ygl8"
      },
      "source": [
        "### Inheritance"
      ]
    },
    {
      "cell_type": "markdown",
      "metadata": {
        "hidden": true,
        "id": "-e5Kwk2gygl9"
      },
      "source": [
        "As the structure of inheritance gets more complicated, Python adheres to something called the **Method Resolution Order (MRO)** that determines the flow of execution. MRO is a set of rules, or an algorithm, that Python uses to implement **monotonicity**, which refers to the order or sequence in which the interpreter will look for the variables and functions to implement. This also helps in determining the scope of the different members of the given class."
      ]
    },
    {
      "cell_type": "code",
      "execution_count": null,
      "metadata": {
        "hidden": true,
        "scrolled": true,
        "id": "ybzNtTGSygl9",
        "outputId": "b55de5e2-b8ed-4c25-ee56-1b690bd146a1"
      },
      "outputs": [
        {
          "name": "stdout",
          "output_type": "stream",
          "text": [
            "Jon.gender: male\n",
            "Jon.eyes: 2\n",
            "\n",
            "Jon.nose: 1\n",
            "\n",
            "Jon.get_legs(): 2\n",
            "Jon.get_legs: <bound method Human.get_legs of <__main__.man object at 0x000001FF1F6FF2B0>>\n",
            "Jon.get_ears: 2\n",
            "\n",
            "Jeny.gender: female\n",
            "Jeny.hands: 2\n"
          ]
        }
      ],
      "source": [
        "class Human():  # defining class Human\n",
        "    # attributes\n",
        "    legs = 2\n",
        "    ears = 2\n",
        "    hands = 2\n",
        "    eyes = 2\n",
        "\n",
        "    # function (callable)\n",
        "    def get_legs(self):\n",
        "        return self.legs\n",
        "\n",
        "    @property\n",
        "    def get_ears(self):  # property (not a function, hence not callable)\n",
        "        return self.ears\n",
        "\n",
        "\n",
        "# defining class man, Human is inherited by defining inside parenthesis\n",
        "class man(Human):\n",
        "    gender = 'male'\n",
        "\n",
        "\n",
        "# defining class woman, Human is the parent class\n",
        "class woman(Human):\n",
        "    gender = 'female'\n",
        "\n",
        "\n",
        "# object created\n",
        "Jon = man()\n",
        "print(\"Jon.gender:\", Jon.gender)\n",
        "print(\"Jon.eyes:\", Jon.eyes)\n",
        "\n",
        "Jon.nose = 1\n",
        "print(\"\\nJon.nose:\", Jon.nose)\n",
        "\n",
        "# parenthesis is required when we are calling the function\n",
        "print(\"\\nJon.get_legs():\", Jon.get_legs())\n",
        "\n",
        "# parenthesis is omitted, bound method message appears depicting the function\n",
        "print(\"Jon.get_legs:\", Jon.get_legs)\n",
        "\n",
        "# although parenthesis is omitted, bound method message would not appear as '@property' is defined above the method which makes it a property\n",
        "print(\"Jon.get_ears:\", Jon.get_ears)\n",
        "\n",
        "Jeny = woman()\n",
        "print(\"\\nJeny.gender:\", Jeny.gender)\n",
        "print(\"Jeny.hands:\", Jeny.hands)"
      ]
    },
    {
      "cell_type": "markdown",
      "metadata": {
        "heading_collapsed": true,
        "id": "Huf546VJygl9"
      },
      "source": [
        "### mro()"
      ]
    },
    {
      "cell_type": "markdown",
      "metadata": {
        "hidden": true,
        "id": "jo2XDDhHygl9"
      },
      "source": [
        "**mro()** stands for **Method Resolution Order**. It returns a **list** of types the class is derived from, in the order they are searched for methods.\n",
        "\n",
        "**mro()** and **\\_\\_mro\\_\\_** work only on new style classes. Python normally uses a **depth-first order** when searching inheriting classes, but when two classes inherit from the same class, Python removes the first mention of that class from the MRO."
      ]
    },
    {
      "cell_type": "code",
      "execution_count": null,
      "metadata": {
        "hidden": true,
        "id": "bb8PR2V3ygl9"
      },
      "outputs": [],
      "source": [
        "# Example for Inheritance\n",
        "\n",
        "class A:\n",
        "    def a(self):\n",
        "        return \"Function inside A\"\n",
        "\n",
        "class B:\n",
        "    def a(self):\n",
        "        return \"Function inside B\""
      ]
    },
    {
      "cell_type": "code",
      "execution_count": null,
      "metadata": {
        "hidden": true,
        "id": "XNipa5srygl-",
        "outputId": "c4cc9fe9-e8e6-4669-e0eb-ae59fa29ea95"
      },
      "outputs": [
        {
          "name": "stdout",
          "output_type": "stream",
          "text": [
            "Function inside A\n"
          ]
        }
      ],
      "source": [
        "# Class C inherits from classes A and B\n",
        "class C(A, B):\n",
        "    pass\n",
        "\n",
        "c = C()\n",
        "print(c.a()) # a() is called from class A as A is inherited first"
      ]
    },
    {
      "cell_type": "code",
      "execution_count": null,
      "metadata": {
        "hidden": true,
        "id": "rtF8h1_wygl-",
        "outputId": "670362b9-bc95-40e9-d044-00ae0bbf5cc3"
      },
      "outputs": [
        {
          "data": {
            "text/plain": [
              "[__main__.C, __main__.A, __main__.B, object]"
            ]
          },
          "execution_count": 361,
          "metadata": {},
          "output_type": "execute_result"
        }
      ],
      "source": [
        "C.mro()"
      ]
    },
    {
      "cell_type": "code",
      "execution_count": null,
      "metadata": {
        "hidden": true,
        "id": "GUMnTuk3ygl-",
        "outputId": "9e83080d-ac41-4004-ebaf-f320a706a7e0"
      },
      "outputs": [
        {
          "name": "stdout",
          "output_type": "stream",
          "text": [
            "Function inside B\n"
          ]
        }
      ],
      "source": [
        "# Class D inherits from classes B and A\n",
        "class D(B, A):\n",
        "    pass\n",
        "\n",
        "d = D()\n",
        "print(d.a()) # a() is called from class B as B is inherited first"
      ]
    },
    {
      "cell_type": "code",
      "execution_count": null,
      "metadata": {
        "hidden": true,
        "id": "F1W_uk6Tygl_",
        "outputId": "13bddba4-a2fa-4cd9-d985-833b9ddc422a"
      },
      "outputs": [
        {
          "data": {
            "text/plain": [
              "(__main__.D, __main__.B, __main__.A, object)"
            ]
          },
          "execution_count": 364,
          "metadata": {},
          "output_type": "execute_result"
        }
      ],
      "source": [
        "D.__mro__"
      ]
    },
    {
      "cell_type": "code",
      "execution_count": null,
      "metadata": {
        "hidden": true,
        "id": "H2wOKvrUygl_",
        "outputId": "6fb51243-007f-4084-ae0b-50cc2a9703f5"
      },
      "outputs": [
        {
          "name": "stdout",
          "output_type": "stream",
          "text": [
            "Function inside A\n"
          ]
        }
      ],
      "source": [
        "# Class E inherits from classes C and B\n",
        "class E(C, B):\n",
        "    pass\n",
        "\n",
        "e = E()\n",
        "print(e.a()) # a() is called from class C, which again was referred from class A"
      ]
    },
    {
      "cell_type": "markdown",
      "metadata": {
        "hidden": true,
        "id": "5e3fS0IUygl_"
      },
      "source": [
        "Since there was no value present inside `class C` either, the function call above would go to `A`. That is because `class C` will point to `class A`as having higher precedence while inheriting."
      ]
    },
    {
      "cell_type": "code",
      "execution_count": null,
      "metadata": {
        "hidden": true,
        "id": "hEBWuNXmygl_",
        "outputId": "933465ed-e50c-4f92-8d34-afd388835c1f"
      },
      "outputs": [
        {
          "data": {
            "text/plain": [
              "[__main__.E, __main__.C, __main__.A, __main__.B, object]"
            ]
          },
          "execution_count": 358,
          "metadata": {},
          "output_type": "execute_result"
        }
      ],
      "source": [
        "E.mro()"
      ]
    },
    {
      "cell_type": "code",
      "execution_count": null,
      "metadata": {
        "hidden": true,
        "id": "-oKNcoARygl_",
        "outputId": "043c6255-a816-4b83-fe6c-3f7b698303a6"
      },
      "outputs": [
        {
          "ename": "TypeError",
          "evalue": "Cannot create a consistent method resolution\norder (MRO) for bases B, C",
          "output_type": "error",
          "traceback": [
            "\u001b[1;31m---------------------------------------------------------------------------\u001b[0m",
            "\u001b[1;31mTypeError\u001b[0m                                 Traceback (most recent call last)",
            "\u001b[1;32m<ipython-input-329-2737dc05c68f>\u001b[0m in \u001b[0;36m<module>\u001b[1;34m\u001b[0m\n\u001b[0;32m      1\u001b[0m \u001b[1;31m# Class F inherits from classes B and C\u001b[0m\u001b[1;33m\u001b[0m\u001b[1;33m\u001b[0m\u001b[0m\n\u001b[1;32m----> 2\u001b[1;33m \u001b[1;32mclass\u001b[0m \u001b[0mF\u001b[0m\u001b[1;33m(\u001b[0m\u001b[0mB\u001b[0m\u001b[1;33m,\u001b[0m \u001b[0mC\u001b[0m\u001b[1;33m)\u001b[0m\u001b[1;33m:\u001b[0m\u001b[1;33m\u001b[0m\u001b[1;33m\u001b[0m\u001b[0m\n\u001b[0m\u001b[0;32m      3\u001b[0m     \u001b[1;32mpass\u001b[0m\u001b[1;33m\u001b[0m\u001b[1;33m\u001b[0m\u001b[0m\n\u001b[0;32m      4\u001b[0m \u001b[1;33m\u001b[0m\u001b[0m\n\u001b[0;32m      5\u001b[0m \u001b[0mf\u001b[0m \u001b[1;33m=\u001b[0m \u001b[0mF\u001b[0m\u001b[1;33m(\u001b[0m\u001b[1;33m)\u001b[0m\u001b[1;33m\u001b[0m\u001b[1;33m\u001b[0m\u001b[0m\n",
            "\u001b[1;31mTypeError\u001b[0m: Cannot create a consistent method resolution\norder (MRO) for bases B, C"
          ]
        }
      ],
      "source": [
        "# Class F inherits from classes B and C\n",
        "class F(B, C):\n",
        "    pass\n",
        "\n",
        "f = F()\n",
        "print(f.a()) # this throws an error"
      ]
    },
    {
      "cell_type": "markdown",
      "metadata": {
        "hidden": true,
        "id": "x9png_jCygmA"
      },
      "source": [
        "`Class C` is its immediate superclass, but since this is **multiple inheritance**, the rules are more complicated and it also has to check the classes passed to it for precedence.\n",
        "\n",
        "In this particular case, `class F` is unable to resolve the order that should be followed, while resolving the value for the variable in cases where the variable is not present in the class of the given object.\n",
        "\n",
        "It results in a **TypeError** because it's unable to create **method resolution order (MRO)**. MRO is Python’s way of resolving the order of precedence of classes while dealing with inheritance."
      ]
    },
    {
      "cell_type": "code",
      "execution_count": null,
      "metadata": {
        "hidden": true,
        "id": "ak4UH8LFygmA",
        "outputId": "bc7ae56c-667c-4af9-fff2-4ab95052407f"
      },
      "outputs": [
        {
          "ename": "NameError",
          "evalue": "name 'F' is not defined",
          "output_type": "error",
          "traceback": [
            "\u001b[1;31m---------------------------------------------------------------------------\u001b[0m",
            "\u001b[1;31mNameError\u001b[0m                                 Traceback (most recent call last)",
            "\u001b[1;32m<ipython-input-359-1e151cdffe94>\u001b[0m in \u001b[0;36m<module>\u001b[1;34m\u001b[0m\n\u001b[1;32m----> 1\u001b[1;33m \u001b[0mF\u001b[0m\u001b[1;33m.\u001b[0m\u001b[0mmro\u001b[0m\u001b[1;33m(\u001b[0m\u001b[1;33m)\u001b[0m\u001b[1;33m\u001b[0m\u001b[1;33m\u001b[0m\u001b[0m\n\u001b[0m",
            "\u001b[1;31mNameError\u001b[0m: name 'F' is not defined"
          ]
        }
      ],
      "source": [
        "F.mro() # throws error because class F was not defined due to TypeError"
      ]
    },
    {
      "cell_type": "code",
      "execution_count": null,
      "metadata": {
        "hidden": true,
        "id": "__V8QP6ZygmA",
        "outputId": "13de8dd4-ef3c-486a-a542-90b4160215bc"
      },
      "outputs": [
        {
          "name": "stdout",
          "output_type": "stream",
          "text": [
            "Function inside B\n"
          ]
        }
      ],
      "source": [
        "# Class G inherits from classes D, B and A\n",
        "class G(D, B, A):\n",
        "    pass\n",
        "\n",
        "g = G()\n",
        "print(g.a()) # the precedence order of inheritance (D, B, A) is appropriate: a() will called from class B"
      ]
    },
    {
      "cell_type": "code",
      "execution_count": null,
      "metadata": {
        "hidden": true,
        "id": "7d1XCJCWygmA",
        "outputId": "915a683a-0c1a-4cb7-aad7-616113813c08"
      },
      "outputs": [
        {
          "data": {
            "text/plain": [
              "(__main__.G, __main__.D, __main__.B, __main__.A, object)"
            ]
          },
          "execution_count": 365,
          "metadata": {},
          "output_type": "execute_result"
        }
      ],
      "source": [
        "G.__mro__"
      ]
    },
    {
      "cell_type": "markdown",
      "metadata": {
        "hidden": true,
        "id": "8iuT8wXcygmB"
      },
      "source": [
        "More OOPS Examples: https://github.com/udacity/DSND_Term2/tree/master/lessons/ObjectOrientedProgramming/JupyterNotebooks\n"
      ]
    },
    {
      "cell_type": "markdown",
      "metadata": {
        "heading_collapsed": true,
        "id": "LGnUXjNqygmB"
      },
      "source": [
        "### issubclass()"
      ]
    },
    {
      "cell_type": "markdown",
      "metadata": {
        "hidden": true,
        "id": "hhydXP3EygmB"
      },
      "source": [
        "Two classes are passed as arguments to this function and a Boolean result is returned"
      ]
    },
    {
      "cell_type": "code",
      "execution_count": null,
      "metadata": {
        "hidden": true,
        "id": "NltjxTIrygmB",
        "outputId": "27976751-9615-457d-b8ef-49ee4cd20cef"
      },
      "outputs": [
        {
          "name": "stdout",
          "output_type": "stream",
          "text": [
            "issubclass(man, Human):  True\n",
            "issubclass(woman, Human):  True\n",
            "issubclass(Human, woman):  False\n",
            "issubclass(Human, man):  False\n",
            "issubclass(man, man):  True\n",
            "issubclass(man, woman):  False\n"
          ]
        }
      ],
      "source": [
        "print(\"issubclass(man, Human): \", issubclass(man, Human))\n",
        "print(\"issubclass(woman, Human): \", issubclass(woman, Human))\n",
        "print(\"issubclass(Human, woman): \", issubclass(Human, woman))\n",
        "print(\"issubclass(Human, man): \", issubclass(Human, man))\n",
        "print(\"issubclass(man, man): \", issubclass(man, man))\n",
        "print(\"issubclass(man, woman): \", issubclass(man, woman))"
      ]
    },
    {
      "cell_type": "markdown",
      "metadata": {
        "hidden": true,
        "id": "tfdXHc2EygmB"
      },
      "source": [
        "**isinstance()** determines if some object is an instance of some class"
      ]
    },
    {
      "cell_type": "code",
      "execution_count": null,
      "metadata": {
        "hidden": true,
        "id": "6n_tqPAGygmB",
        "outputId": "5bedf15a-49ef-45df-c635-df01686a5ce2"
      },
      "outputs": [
        {
          "name": "stdout",
          "output_type": "stream",
          "text": [
            "isinstance(Jon, man):  True\n",
            "isinstance(Jon, woman):  False\n",
            "\n",
            "isinstance(Jeny, man):  False\n",
            "isinstance(Jeny, woman):  True\n",
            "\n",
            "isinstance(Jon, Human):  True\n",
            "isinstance(Jeny, Human):  True\n"
          ]
        }
      ],
      "source": [
        "print(\"isinstance(Jon, man): \", isinstance(Jon, man))\n",
        "print(\"isinstance(Jon, woman): \", isinstance(Jon, woman))\n",
        "\n",
        "print(\"\\nisinstance(Jeny, man): \", isinstance(Jeny, man))\n",
        "print(\"isinstance(Jeny, woman): \", isinstance(Jeny, woman))\n",
        "\n",
        "print(\"\\nisinstance(Jon, Human): \", isinstance(Jon, Human))\n",
        "print(\"isinstance(Jeny, Human): \", isinstance(Jeny, Human))"
      ]
    },
    {
      "cell_type": "markdown",
      "metadata": {
        "heading_collapsed": true,
        "id": "tL3Z8BuWygmB"
      },
      "source": [
        "### super()"
      ]
    },
    {
      "cell_type": "markdown",
      "metadata": {
        "hidden": true,
        "id": "EZPi9ZY1ygmC"
      },
      "source": [
        "The **super()** is a built-in function that can be called inside the derived class and gives access to the methods and variables of the parent classes or sibling classes. **Sibling classes** are the classes that share the same parent class.\n",
        "\n",
        "When we call the super() function, we get an object that represents the parent class in return."
      ]
    },
    {
      "cell_type": "code",
      "execution_count": null,
      "metadata": {
        "hidden": true,
        "id": "KLOy0m3CygmC"
      },
      "outputs": [],
      "source": [
        "class Fruit():\n",
        "    def __init__(self, fruit):\n",
        "        print('Fruit type: ', fruit)\n",
        "\n",
        "class FruitFlavourWithoutSuper(Fruit):\n",
        "    def __init__(self):\n",
        "        print('Apple is sweet')\n",
        "\n",
        "class FruitFlavourWithSuper(Fruit):\n",
        "    def __init__(self):\n",
        "        super().__init__('Orange')\n",
        "        print('Orange is sweet')"
      ]
    },
    {
      "cell_type": "code",
      "execution_count": null,
      "metadata": {
        "hidden": true,
        "id": "eTTPYlbVygmC",
        "outputId": "898db97e-e0ef-4fdc-960a-7e9ef54efc56"
      },
      "outputs": [
        {
          "name": "stdout",
          "output_type": "stream",
          "text": [
            "Apple is sweet\n"
          ]
        }
      ],
      "source": [
        "apple = FruitFlavourWithoutSuper()"
      ]
    },
    {
      "cell_type": "markdown",
      "metadata": {
        "hidden": true,
        "id": "5DtMnJixygmC"
      },
      "source": [
        "When we initialize the child class, we don’t initialize the base class with it. super() function helps us to achieve this and add the initialization of base class with the derived class."
      ]
    },
    {
      "cell_type": "code",
      "execution_count": null,
      "metadata": {
        "hidden": true,
        "id": "GewR4jo3ygmC",
        "outputId": "d9c19497-abbb-4c7f-e274-28bf207afb52"
      },
      "outputs": [
        {
          "name": "stdout",
          "output_type": "stream",
          "text": [
            "Fruit type:  Orange\n",
            "Orange is sweet\n"
          ]
        }
      ],
      "source": [
        "orange = FruitFlavourWithSuper()"
      ]
    },
    {
      "cell_type": "markdown",
      "metadata": {
        "heading_collapsed": true,
        "id": "_Ls1RJzHygmC"
      },
      "source": [
        "### Polymorphism"
      ]
    },
    {
      "cell_type": "markdown",
      "metadata": {
        "hidden": true,
        "id": "zoxfMFAVygmD"
      },
      "source": [
        "**Polymorphism** refers to something that can have *many forms*, (in this case - a given **object**). Everything in Python is inherently an object, it can be an operator, method or any object of some class. For example:\n"
      ]
    },
    {
      "cell_type": "code",
      "execution_count": null,
      "metadata": {
        "hidden": true,
        "id": "OHbmRLGkygmD",
        "outputId": "1939f0b9-67dc-4dc6-f57c-ab566ba39129"
      },
      "outputs": [
        {
          "name": "stdout",
          "output_type": "stream",
          "text": [
            "xyzxyzxyzxyzxyz 15 [1, 2, 3, 1, 2, 3, 1, 2, 3, 1, 2, 3, 1, 2, 3]\n"
          ]
        }
      ],
      "source": [
        "a = \"xyz\"\n",
        "new_a = a * 5\n",
        "\n",
        "b = 3\n",
        "new_b = b * 5\n",
        "\n",
        "c = [1,2,3]\n",
        "new_c = c * 5\n",
        "\n",
        "print(new_a, new_b, new_c)"
      ]
    },
    {
      "cell_type": "markdown",
      "metadata": {
        "hidden": true,
        "id": "eXceUFg-ygmD"
      },
      "source": [
        "In this example, the same operation is performed on a string, integer and a list. And the result behaves differently in all three cases."
      ]
    },
    {
      "cell_type": "code",
      "execution_count": null,
      "metadata": {
        "hidden": true,
        "id": "kdnbSqFiygmD",
        "outputId": "b4079cde-0d87-4ec2-b3b7-e5b793a7d883"
      },
      "outputs": [
        {
          "name": "stdout",
          "output_type": "stream",
          "text": [
            "xyz xyzxyzxyz\n",
            "3 9\n",
            "[1, 2, 3] [1, 2, 3, 1, 2, 3, 1, 2, 3]\n"
          ]
        }
      ],
      "source": [
        "def thrice(obj):\n",
        "    return obj*3\n",
        "\n",
        "print(a, thrice(a))\n",
        "print(b, thrice(b))\n",
        "print(c, thrice(c))"
      ]
    },
    {
      "cell_type": "markdown",
      "metadata": {
        "heading_collapsed": true,
        "id": "gtFdyMmxygmD"
      },
      "source": [
        "### Abstaction"
      ]
    },
    {
      "cell_type": "markdown",
      "metadata": {
        "hidden": true,
        "id": "bZU5IV8cygmE"
      },
      "source": [
        "**Abstraction** can be seen both as a means for hiding important information as well as unnecessary information in a block of code. The core of abstraction in Python is the implementation of something called `abstract classes and methods`, which can be implemented by inheriting from something called the **abc module**.\n",
        "\n",
        "**abc** here stands for **abstract base class**, and its simplest implementation can be done by first importing it and using it as a parent class which is imported in some class that has to be abstract."
      ]
    },
    {
      "cell_type": "code",
      "execution_count": null,
      "metadata": {
        "hidden": true,
        "id": "9jeq3BhUygmE"
      },
      "outputs": [],
      "source": [
        "from abc import ABC, abstractmethod\n",
        "\n",
        "# Class Bank\n",
        "class Bank(ABC):\n",
        "\n",
        "    def __init__(self, bal):\n",
        "        self.bal = bal\n",
        "\n",
        "    # Define a function basicinfo()\n",
        "    def basicinfo(self):\n",
        "        print(\"Banking details\")\n",
        "\n",
        "    # Define an abstract function withdraw()\n",
        "    @abstractmethod\n",
        "    def withdraw(self):\n",
        "        pass\n",
        "\n",
        "# Class Swiss\n",
        "class Swiss(Bank):\n",
        "\n",
        "    def __init__(self, bal):\n",
        "        super().__init__(bal)\n",
        "\n",
        "    # Define a function basicinfo()\n",
        "    def basicinfo(self):\n",
        "        print(\"This is the Swiss Bank\")\n",
        "\n",
        "    # Define a function withdraw()\n",
        "    def withdraw(self, bal, amount):\n",
        "        bal = bal - amount\n",
        "        print(\"Withdraw amount: \", amount)\n",
        "        print(\"New balance: \", bal)"
      ]
    },
    {
      "cell_type": "code",
      "execution_count": null,
      "metadata": {
        "hidden": true,
        "id": "X0vXExCeygmE",
        "outputId": "106aa800-fac9-45d7-bccc-908a8a4e2658"
      },
      "outputs": [
        {
          "name": "stdout",
          "output_type": "stream",
          "text": [
            "This is the Swiss Bank\n",
            "Withdraw amount:  20\n",
            "New balance:  980\n"
          ]
        }
      ],
      "source": [
        "# Driver Code\n",
        "s = Swiss(1000)\n",
        "s.basicinfo()\n",
        "s.withdraw(1000, 20)"
      ]
    },
    {
      "cell_type": "markdown",
      "metadata": {
        "id": "n2QTfrLAygmE"
      },
      "source": [
        "### `@property`"
      ]
    },
    {
      "cell_type": "markdown",
      "metadata": {
        "id": "lXdHPNq2ygmE"
      },
      "source": [
        "A **property** decorator is a way to create methods that can be accessed like **attribute**s. It allows us to define methods that look like regular instance variables, but which execute custom code behind the scenes when accessed, set, or deleted. This can be useful in situations where we want to add additional logic or validation to the way an attribute is accessed or manipulated."
      ]
    },
    {
      "cell_type": "markdown",
      "metadata": {
        "id": "R51w16XhygmE"
      },
      "source": [
        "**Properties** are found in other languages as **getters** and **setters**. As those terms indicate, they are used to get data and set (modify) data. For example:"
      ]
    },
    {
      "cell_type": "code",
      "execution_count": null,
      "metadata": {
        "id": "A6AOkln1ygmE"
      },
      "outputs": [],
      "source": [
        "class Rectangle:\n",
        "    def __init__(self, width, height):\n",
        "        self._width = width\n",
        "        self._height = height\n",
        "\n",
        "    @property\n",
        "    def width(self):\n",
        "        return self._width\n",
        "\n",
        "    @width.setter\n",
        "    def width(self, value):\n",
        "        if value <= 0:\n",
        "            raise ValueError(\"Width must be positive\")\n",
        "        else:\n",
        "            self._width = value\n",
        "\n",
        "    @property\n",
        "    def height(self):\n",
        "        return self._height\n",
        "\n",
        "    @height.setter\n",
        "    def height(self, value):\n",
        "        if value <= 0:\n",
        "            raise ValueError(\"Height must be positive\")\n",
        "        else:\n",
        "            self._height = value\n",
        "\n",
        "    def area(self):\n",
        "        return self.width * self.height"
      ]
    },
    {
      "cell_type": "markdown",
      "metadata": {
        "id": "yq2WMZuCygmF"
      },
      "source": [
        "In the above code, we have defined a `Rectangle` class with `width` and `height` attributes that are decorated with the **@property** decorator. We have also defined setter methods for each attribute using the `@width.setter` and `@height.setter` decorators.\n",
        "\n",
        "When we set the `width` or `height` attribute, the corresponding setter method is automatically called, which checks that the new value is positive. If it is not, a `ValueError` is raised. When we get the `width` or `height` attribute, the corresponding getter method is automatically called, which simply returns the stored value.\n",
        "\n",
        "Now we can create a `Rectangle` object and set its `width` and `height` attributes, and the setter methods will automatically be called to validate the input:"
      ]
    },
    {
      "cell_type": "code",
      "execution_count": null,
      "metadata": {
        "id": "o5XVEKX5ygmF",
        "outputId": "507b1a1b-7f5f-4b1b-fbba-f9a2cbdca952"
      },
      "outputs": [
        {
          "name": "stdout",
          "output_type": "stream",
          "text": [
            "12\n",
            "20\n"
          ]
        },
        {
          "ename": "ValueError",
          "evalue": "Width must be positive",
          "output_type": "error",
          "traceback": [
            "\u001b[1;31m---------------------------------------------------------------------------\u001b[0m",
            "\u001b[1;31mValueError\u001b[0m                                Traceback (most recent call last)",
            "Input \u001b[1;32mIn [10]\u001b[0m, in \u001b[0;36m<cell line: 5>\u001b[1;34m()\u001b[0m\n\u001b[0;32m      3\u001b[0m r\u001b[38;5;241m.\u001b[39mwidth \u001b[38;5;241m=\u001b[39m \u001b[38;5;241m5\u001b[39m      \u001b[38;5;66;03m# Setter method called\u001b[39;00m\n\u001b[0;32m      4\u001b[0m \u001b[38;5;28mprint\u001b[39m(r\u001b[38;5;241m.\u001b[39marea())  \u001b[38;5;66;03m# Output: 20\u001b[39;00m\n\u001b[1;32m----> 5\u001b[0m \u001b[43mr\u001b[49m\u001b[38;5;241;43m.\u001b[39;49m\u001b[43mwidth\u001b[49m \u001b[38;5;241m=\u001b[39m \u001b[38;5;241m-\u001b[39m\u001b[38;5;241m2\u001b[39m\n",
            "Input \u001b[1;32mIn [9]\u001b[0m, in \u001b[0;36mRectangle.width\u001b[1;34m(self, value)\u001b[0m\n\u001b[0;32m     10\u001b[0m \u001b[38;5;129m@width\u001b[39m\u001b[38;5;241m.\u001b[39msetter\n\u001b[0;32m     11\u001b[0m \u001b[38;5;28;01mdef\u001b[39;00m \u001b[38;5;21mwidth\u001b[39m(\u001b[38;5;28mself\u001b[39m, value):\n\u001b[0;32m     12\u001b[0m     \u001b[38;5;28;01mif\u001b[39;00m value \u001b[38;5;241m<\u001b[39m\u001b[38;5;241m=\u001b[39m \u001b[38;5;241m0\u001b[39m:\n\u001b[1;32m---> 13\u001b[0m         \u001b[38;5;28;01mraise\u001b[39;00m \u001b[38;5;167;01mValueError\u001b[39;00m(\u001b[38;5;124m\"\u001b[39m\u001b[38;5;124mWidth must be positive\u001b[39m\u001b[38;5;124m\"\u001b[39m)\n\u001b[0;32m     14\u001b[0m     \u001b[38;5;28;01melse\u001b[39;00m:\n\u001b[0;32m     15\u001b[0m         \u001b[38;5;28mself\u001b[39m\u001b[38;5;241m.\u001b[39m_width \u001b[38;5;241m=\u001b[39m value\n",
            "\u001b[1;31mValueError\u001b[0m: Width must be positive"
          ]
        }
      ],
      "source": [
        "r = Rectangle(3, 4)\n",
        "print(r.area())  # Output: 12\n",
        "r.width = 5      # Setter method called\n",
        "print(r.area())  # Output: 20\n",
        "r.width = -2     # ValueError raised by setter method"
      ]
    },
    {
      "cell_type": "code",
      "execution_count": null,
      "metadata": {
        "id": "Zgf8k1ETygmF",
        "outputId": "aee985af-7cae-42d5-9d46-f54db429a3ce"
      },
      "outputs": [
        {
          "data": {
            "text/plain": [
              "4"
            ]
          },
          "execution_count": 11,
          "metadata": {},
          "output_type": "execute_result"
        }
      ],
      "source": [
        "# Accessing the height attribute directly\n",
        "r.height"
      ]
    },
    {
      "cell_type": "markdown",
      "metadata": {
        "id": "iR3I-3V5ygmF"
      },
      "source": [
        "### `@staticmethod`"
      ]
    },
    {
      "cell_type": "markdown",
      "metadata": {
        "id": "vVe04X2wygmF"
      },
      "source": [
        "The **@staticmethod** decorator is used to define a **static** method inside a class. A static method is a method that belongs to the class rather than an instance of the class. This means that it can be called on the class itself, rather than on an instance of the class. For example:"
      ]
    },
    {
      "cell_type": "code",
      "execution_count": null,
      "metadata": {
        "id": "_si-rYFiygmF"
      },
      "outputs": [],
      "source": [
        "class MathUtils:\n",
        "    @staticmethod\n",
        "    def add_numbers(a, b):\n",
        "        return a + b\n",
        "\n",
        "    @staticmethod\n",
        "    def multiply_numbers(a, b):\n",
        "        return a * b"
      ]
    },
    {
      "cell_type": "markdown",
      "metadata": {
        "id": "0r9nGaODygmG"
      },
      "source": [
        "To use these static methods, we can call them on the class itself, rather than on an instance of the class:"
      ]
    },
    {
      "cell_type": "code",
      "execution_count": null,
      "metadata": {
        "id": "d-Z3KkMKygmG",
        "outputId": "2665dadb-246e-4892-839f-6a22e979a8d9"
      },
      "outputs": [
        {
          "name": "stdout",
          "output_type": "stream",
          "text": [
            "7\n",
            "12\n"
          ]
        }
      ],
      "source": [
        "print(MathUtils.add_numbers(3, 4))       # Output: 7\n",
        "print(MathUtils.multiply_numbers(3, 4))  # Output: 12"
      ]
    },
    {
      "cell_type": "markdown",
      "metadata": {
        "id": "l9TY3ILCygmG"
      },
      "source": [
        "In the above code, we call the add_numbers and multiply_numbers static methods on the MathUtils class directly, passing in the necessary arguments.\n",
        "\n",
        "Note that static methods do not have access to instance-specific data or methods, as they are not bound to any particular instance of the class. They can only access class-level data and methods."
      ]
    },
    {
      "cell_type": "markdown",
      "metadata": {
        "id": "CGsWsG-_ygmG"
      },
      "source": [
        "### `@classmethod`"
      ]
    },
    {
      "cell_type": "markdown",
      "metadata": {
        "id": "3kkpS2FOygmG"
      },
      "source": [
        "The **@classmethod** decorator is used to define a class method inside a class. A class method is a method that belongs to the class itself, rather than an instance of the class. It receives the class itself as the first argument instead of an instance of the class. For example:"
      ]
    },
    {
      "cell_type": "code",
      "execution_count": null,
      "metadata": {
        "id": "wDprJ5AGygmG"
      },
      "outputs": [],
      "source": [
        "class Person:\n",
        "    num_people = 0\n",
        "\n",
        "    def __init__(self, name):\n",
        "        self.name = name\n",
        "        Person.num_people += 1\n",
        "\n",
        "    @classmethod\n",
        "    def get_num_people(cls):\n",
        "        return cls.num_people"
      ]
    },
    {
      "cell_type": "markdown",
      "metadata": {
        "id": "l3kQT3HCygmG"
      },
      "source": [
        "In the above code, we have defined a `Person` class with a class-level variable `num_people` that keeps track of the number of Person objects that have been created. We have also defined a class method `get_num_people` using the `@classmethod` decorator. This method takes the class itself as its first argument, conventionally named **cls**, and returns the value of the `num_people` class-level variable.\n",
        "\n",
        "To use the `get_num_people` class method, we can call it on the class itself, rather than on an instance of the class:"
      ]
    },
    {
      "cell_type": "code",
      "execution_count": null,
      "metadata": {
        "id": "-L-z70CiygmH",
        "outputId": "eb866244-4245-448d-ce72-13341f13b5c5"
      },
      "outputs": [
        {
          "name": "stdout",
          "output_type": "stream",
          "text": [
            "2\n"
          ]
        }
      ],
      "source": [
        "p1 = Person(\"Alice\")\n",
        "p2 = Person(\"Bob\")\n",
        "print(Person.get_num_people())  # Output: 2"
      ]
    },
    {
      "cell_type": "markdown",
      "metadata": {
        "id": "MU6eAFZ_ygmH"
      },
      "source": [
        "In the above code, we create two Person objects `p1` and `p2`, and then call the `get_num_people` class method on the `Person` class itself to get the number of Person objects that have been created.\n",
        "\n",
        "Note that class methods have access to the class-level data and methods, but not to instance-specific data or methods, as they are not bound to any particular instance of the class."
      ]
    },
    {
      "cell_type": "markdown",
      "metadata": {
        "heading_collapsed": true,
        "id": "Nz5Ls5_-ygmH"
      },
      "source": [
        "## Modules, libraries and packages"
      ]
    },
    {
      "cell_type": "markdown",
      "metadata": {
        "hidden": true,
        "id": "fsVuZVyVygmH"
      },
      "source": [
        "**Modules** and **packages** can easily be confused because of their similarities, but there are a few differences. **Modules are similar to files**, while **packages are like directories** that contain different files. Modules are generally written in a single file, but that's more of a practice than a definition.\n",
        "\n",
        "Packages are essentially a type of module. Any module that contains the  **\\_\\_path\\_\\_** definition is a **package**. Packages, when viewed as a directory, can contain sub-packages and other modules. Modules, on the other hand, can contain classes, functions and data members just like any other Python file.\n",
        "\n",
        "**Library** is a term that's used interchangeably with imported packages. But in general practice, it refers to a **collection of packages**.\n",
        "\n",
        "**Third-party package** add-ons of Python can be found in the **Python Package Index**. To install packages that aren't a part of the standard library programmers use **pip (package installer for Python)**. It is installed with Python by default. For example: `pip install \"SomeProject\"`"
      ]
    },
    {
      "cell_type": "markdown",
      "metadata": {
        "hidden": true,
        "id": "9BsOrStbygmH"
      },
      "source": [
        "### Subpackages"
      ]
    },
    {
      "cell_type": "markdown",
      "metadata": {
        "hidden": true,
        "id": "ED8fjQ2PygmI"
      },
      "source": [
        "If we are to assume that packages are similar to a folder or directory in our operating system, then the **package can also contain other directories**. Packages, both built-in and user-defined, can contain other folders within them that need to be accessed. These are named **sub-packages**. We use `dot-notation` to access sub-packages within a package during `import`.\n",
        "\n",
        "For example, in a package such as `matplotlib`, the contents that are used most commonly are present inside the subpackage `pyplot`. Pyplot eventually may consist of various functions and attributes. The code for importing a sub-package is:\n",
        "`import matplotlib.pyplot`. To make it even more convenient, it is often imported using an **alias**.\n",
        "`import matplotlib.pyplot as plt`"
      ]
    },
    {
      "cell_type": "markdown",
      "metadata": {
        "heading_collapsed": true,
        "id": "gQmq7JBwygmI"
      },
      "source": [
        "## Miscellaneous"
      ]
    },
    {
      "cell_type": "markdown",
      "metadata": {
        "heading_collapsed": true,
        "hidden": true,
        "id": "ujUHJZVFygmI"
      },
      "source": [
        "### \\*args & \\*\\*kwargs"
      ]
    },
    {
      "cell_type": "markdown",
      "metadata": {
        "hidden": true,
        "id": "UZTd33iCygmI"
      },
      "source": [
        "**\\*args** and **\\*\\*kwargs** are used in function definitions that allows to pass an `unspecified number of arguments` to a function.\n",
        "\n",
        "\\*args is used to send a `non-keyworded variable length` argument list to the function.\n",
        "\n",
        "\\*\\*kwargs allows to pass `keyworded variable length` of arguments to a function.\n",
        "\n",
        "\n"
      ]
    },
    {
      "cell_type": "code",
      "execution_count": null,
      "metadata": {
        "hidden": true,
        "id": "JpOhTl5eygmI"
      },
      "outputs": [],
      "source": [
        "def get_quantity(apples, bananas, *args, **kwargs):\n",
        "    print('Number of apples: ',apples)\n",
        "    print('Number of bananas: ', bananas)\n",
        "    result = apples + bananas\n",
        "\n",
        "    # *args is the list of extra arguments\n",
        "    if args:\n",
        "        other_fruits = 0\n",
        "        print('\\nOther fruits (args): ', *args)\n",
        "        other_fruits = sum([arg for arg in args])\n",
        "        print('Total other fruits: ', other_fruits)\n",
        "        result += other_fruits\n",
        "\n",
        "    # *kwargs is the dictionary of extra arguments\n",
        "    if kwargs:\n",
        "        extra_fruits = 0\n",
        "        for k, v in kwargs.items():\n",
        "            print(f'Number of {k}: {v}')\n",
        "            extra_fruits += v\n",
        "        print('Total extra fruits: ', extra_fruits)\n",
        "        result += extra_fruits\n",
        "\n",
        "    print(\"\\nTotal number of fruits: \", result)"
      ]
    },
    {
      "cell_type": "code",
      "execution_count": null,
      "metadata": {
        "hidden": true,
        "id": "Jh9v9oHWygmJ",
        "outputId": "75d490ff-6524-4c0c-c909-29f249e0d2dd"
      },
      "outputs": [
        {
          "name": "stdout",
          "output_type": "stream",
          "text": [
            "Number of apples:  2\n",
            "Number of bananas:  3\n",
            "\n",
            "Total number of fruits:  5\n"
          ]
        }
      ],
      "source": [
        "get_quantity(2, 3)"
      ]
    },
    {
      "cell_type": "code",
      "execution_count": null,
      "metadata": {
        "hidden": true,
        "id": "fHwOsidFygmJ",
        "outputId": "f3eeab2d-78f7-4186-b9b7-2cba81b997a9"
      },
      "outputs": [
        {
          "name": "stdout",
          "output_type": "stream",
          "text": [
            "Number of apples:  2\n",
            "Number of bananas:  3\n",
            "\n",
            "Other fruits (args):  4 5\n",
            "Total other fruits:  9\n",
            "\n",
            "Total number of fruits:  14\n"
          ]
        }
      ],
      "source": [
        "get_quantity(2, 3, 4, 5)"
      ]
    },
    {
      "cell_type": "code",
      "execution_count": null,
      "metadata": {
        "hidden": true,
        "id": "6oTcUqBfygmJ",
        "outputId": "6e110f00-1138-4878-b107-d52dce4c0032"
      },
      "outputs": [
        {
          "name": "stdout",
          "output_type": "stream",
          "text": [
            "Number of apples:  2\n",
            "Number of bananas:  3\n",
            "Number of grapes: 4\n",
            "Number of oranges: 5\n",
            "Total extra fruits:  9\n",
            "\n",
            "Total number of fruits:  14\n"
          ]
        }
      ],
      "source": [
        "extra_fruits = {'grapes': 4, 'oranges': 5}\n",
        "get_quantity(2, 3, **extra_fruits)"
      ]
    },
    {
      "cell_type": "code",
      "execution_count": null,
      "metadata": {
        "hidden": true,
        "scrolled": true,
        "id": "btNrNAjDygmJ",
        "outputId": "9dbf7bdf-39ae-40fb-a776-c70c74c51c96"
      },
      "outputs": [
        {
          "name": "stdout",
          "output_type": "stream",
          "text": [
            "Number of apples:  2\n",
            "Number of bananas:  3\n",
            "\n",
            "Other fruits (args):  7 4 1\n",
            "Total other fruits:  12\n",
            "Number of grapes: 4\n",
            "Number of oranges: 5\n",
            "Number of peaches: 2\n",
            "Total extra fruits:  11\n",
            "\n",
            "Total number of fruits:  28\n"
          ]
        }
      ],
      "source": [
        "other_fruits = (7, 4, 1)\n",
        "extra_fruits = {'grapes': 4, 'oranges': 5, 'peaches': 2}\n",
        "\n",
        "get_quantity(2, 3, *other_fruits, **extra_fruits)"
      ]
    },
    {
      "cell_type": "markdown",
      "metadata": {
        "heading_collapsed": true,
        "hidden": true,
        "id": "fEdM-ijVygmK"
      },
      "source": [
        "### `_` in Python"
      ]
    },
    {
      "cell_type": "code",
      "execution_count": null,
      "metadata": {
        "hidden": true,
        "id": "CItL0yxLygmK",
        "outputId": "d5208156-83cc-43a4-bfe7-3fbc1c5d3d02"
      },
      "outputs": [
        {
          "name": "stdout",
          "output_type": "stream",
          "text": [
            "a: 12\n",
            "d: [11, True]\n"
          ]
        }
      ],
      "source": [
        "a, _, _, d = (\"12\", \"Repeat\", 20, [11, True])\n",
        "print(\"a:\", a)\n",
        "print(\"d:\", d)"
      ]
    },
    {
      "cell_type": "code",
      "execution_count": null,
      "metadata": {
        "hidden": true,
        "id": "s4XeSETzygmK",
        "outputId": "2184e4f8-67db-494f-b23c-cd2c724c8082"
      },
      "outputs": [
        {
          "data": {
            "text/plain": [
              "20"
            ]
          },
          "execution_count": 91,
          "metadata": {},
          "output_type": "execute_result"
        }
      ],
      "source": [
        "# _ storing invaluable information\n",
        "_"
      ]
    },
    {
      "cell_type": "markdown",
      "metadata": {
        "hidden": true,
        "id": "i8eD1ZR1ygmK"
      },
      "source": [
        "<div class=\"alert alert-info\">\n",
        "<li><b>_</b> or <b>underscore</b> is a special variable in Python, which stores the most recent output value of the interpreter.\n",
        "</div>"
      ]
    },
    {
      "cell_type": "code",
      "execution_count": null,
      "metadata": {
        "hidden": true,
        "id": "qvV5NffeygmL",
        "outputId": "ec5c7ded-0dcd-4c78-cd79-a16e44a62eb5"
      },
      "outputs": [
        {
          "name": "stdout",
          "output_type": "stream",
          "text": [
            "20\n",
            "24\n"
          ]
        }
      ],
      "source": [
        "# Restores previous calculation\n",
        "print(_)\n",
        "\n",
        "# _ can be used with other expressions and operators as well\n",
        "print(_ + 4)"
      ]
    },
    {
      "cell_type": "markdown",
      "metadata": {
        "heading_collapsed": true,
        "hidden": true,
        "id": "xF9vAfweygmL"
      },
      "source": [
        "### XOR `^`"
      ]
    },
    {
      "cell_type": "code",
      "execution_count": null,
      "metadata": {
        "hidden": true,
        "id": "vmZwQw3rygmL",
        "outputId": "cbe31c68-8109-4af6-e23d-763a66986259"
      },
      "outputs": [
        {
          "name": "stdout",
          "output_type": "stream",
          "text": [
            "0^0: 0\n",
            "0^1: 1\n",
            "1^0: 1\n",
            "1^1: 0\n"
          ]
        }
      ],
      "source": [
        "print('0^0:',0^0)\n",
        "print('0^1:',0^1)\n",
        "print('1^0:',1^0)\n",
        "print('1^1:',1^1)"
      ]
    },
    {
      "cell_type": "markdown",
      "metadata": {
        "heading_collapsed": true,
        "hidden": true,
        "id": "mVWxkpbcygmL"
      },
      "source": [
        "### ord()"
      ]
    },
    {
      "cell_type": "markdown",
      "metadata": {
        "hidden": true,
        "id": "AM8T-StyygmL"
      },
      "source": [
        "**ord()** is used to convert a character to its ASCII value"
      ]
    },
    {
      "cell_type": "code",
      "execution_count": null,
      "metadata": {
        "hidden": true,
        "id": "zAkT1eK2ygmM",
        "outputId": "5e071595-5dc5-46a1-b813-1d6b567be655"
      },
      "outputs": [
        {
          "name": "stdout",
          "output_type": "stream",
          "text": [
            "ASCII value  of a:97\n",
            "ASCII value  of b:98\n",
            "ASCII value  of c:99\n",
            "ASCII value  of d:100\n",
            "ASCII value  of e:101\n",
            "ASCII value  of f:102\n",
            "ASCII value  of g:103\n",
            "ASCII value  of h:104\n",
            "ASCII value  of i:105\n",
            "ASCII value  of j:106\n",
            "ASCII value  of k:107\n",
            "ASCII value  of l:108\n",
            "ASCII value  of m:109\n",
            "ASCII value  of n:110\n",
            "ASCII value  of o:111\n",
            "ASCII value  of p:112\n",
            "ASCII value  of q:113\n",
            "ASCII value  of r:114\n",
            "ASCII value  of s:115\n",
            "ASCII value  of t:116\n",
            "ASCII value  of u:117\n",
            "ASCII value  of v:118\n",
            "ASCII value  of w:119\n",
            "ASCII value  of x:120\n",
            "ASCII value  of y:121\n",
            "ASCII value  of z:122\n",
            "ASCII value  of A:65\n",
            "ASCII value  of B:66\n",
            "ASCII value  of C:67\n",
            "ASCII value  of D:68\n",
            "ASCII value  of E:69\n",
            "ASCII value  of F:70\n",
            "ASCII value  of G:71\n",
            "ASCII value  of H:72\n",
            "ASCII value  of I:73\n",
            "ASCII value  of J:74\n",
            "ASCII value  of K:75\n",
            "ASCII value  of L:76\n",
            "ASCII value  of M:77\n",
            "ASCII value  of N:78\n",
            "ASCII value  of O:79\n",
            "ASCII value  of P:80\n",
            "ASCII value  of Q:81\n",
            "ASCII value  of R:82\n",
            "ASCII value  of S:83\n",
            "ASCII value  of T:84\n",
            "ASCII value  of U:85\n",
            "ASCII value  of V:86\n",
            "ASCII value  of W:87\n",
            "ASCII value  of X:88\n",
            "ASCII value  of Y:89\n",
            "ASCII value  of Z:90\n"
          ]
        }
      ],
      "source": [
        "import string\n",
        "for ch in string.ascii_letters:\n",
        "    print(f\"ASCII value  of {ch}:{ord(ch)}\")"
      ]
    },
    {
      "cell_type": "code",
      "execution_count": null,
      "metadata": {
        "hidden": true,
        "id": "OKs14jCJygmM",
        "outputId": "1ea94df0-0774-4bb6-9121-faab965a9ef3"
      },
      "outputs": [
        {
          "name": "stdout",
          "output_type": "stream",
          "text": [
            "ASCII value  of !:33\n",
            "ASCII value  of \":34\n",
            "ASCII value  of #:35\n",
            "ASCII value  of $:36\n",
            "ASCII value  of %:37\n",
            "ASCII value  of &:38\n",
            "ASCII value  of ':39\n",
            "ASCII value  of (:40\n",
            "ASCII value  of ):41\n",
            "ASCII value  of *:42\n",
            "ASCII value  of +:43\n",
            "ASCII value  of ,:44\n",
            "ASCII value  of -:45\n",
            "ASCII value  of .:46\n",
            "ASCII value  of /:47\n",
            "ASCII value  of ::58\n",
            "ASCII value  of ;:59\n",
            "ASCII value  of <:60\n",
            "ASCII value  of =:61\n",
            "ASCII value  of >:62\n",
            "ASCII value  of ?:63\n",
            "ASCII value  of @:64\n",
            "ASCII value  of [:91\n",
            "ASCII value  of \\:92\n",
            "ASCII value  of ]:93\n",
            "ASCII value  of ^:94\n",
            "ASCII value  of _:95\n",
            "ASCII value  of `:96\n",
            "ASCII value  of {:123\n",
            "ASCII value  of |:124\n",
            "ASCII value  of }:125\n",
            "ASCII value  of ~:126\n"
          ]
        }
      ],
      "source": [
        "import string\n",
        "for ch in string.punctuation:\n",
        "    print(f\"ASCII value  of {ch}:{ord(ch)}\")"
      ]
    },
    {
      "cell_type": "markdown",
      "metadata": {
        "heading_collapsed": true,
        "hidden": true,
        "id": "UVgyJN_AygmM"
      },
      "source": [
        "### Color Text in Python"
      ]
    },
    {
      "cell_type": "code",
      "execution_count": null,
      "metadata": {
        "hidden": true,
        "id": "OdqvjrkQygmM",
        "outputId": "c81ba025-6a87-4525-bdc0-1fa820d68017"
      },
      "outputs": [
        {
          "name": "stdout",
          "output_type": "stream",
          "text": [
            "\u001b[34mSome Colored text\u001b[0m\n"
          ]
        }
      ],
      "source": [
        "from termcolor import colored\n",
        "print(colored(\"Some Colored text\",\"blue\"))"
      ]
    },
    {
      "cell_type": "markdown",
      "metadata": {
        "heading_collapsed": true,
        "hidden": true,
        "id": "MYY_8k-cygmM"
      },
      "source": [
        "### Enum in Python"
      ]
    },
    {
      "cell_type": "code",
      "execution_count": null,
      "metadata": {
        "hidden": true,
        "id": "ufOvmmsiygmN",
        "outputId": "4cb69c67-cd60-4d93-9728-8188212fe2cc"
      },
      "outputs": [
        {
          "name": "stdout",
          "output_type": "stream",
          "text": [
            "JANUARY\n",
            "2\n"
          ]
        }
      ],
      "source": [
        "from enum import Enum\n",
        "\n",
        "class Month(Enum):\n",
        "    JANUARY = 1\n",
        "    FEBRUARY = 2\n",
        "    MARCH = 3\n",
        "\n",
        "print(Month.JANUARY.name)\n",
        "print(Month.FE`BRUARY.value)"
      ]
    },
    {
      "cell_type": "markdown",
      "metadata": {
        "hidden": true,
        "id": "Q1w4ogHfygmN"
      },
      "source": [
        "### nonlocal & global"
      ]
    },
    {
      "cell_type": "markdown",
      "metadata": {
        "id": "vI9lGS-cygmN"
      },
      "source": [
        "**nonlocal** and **global** are keywords used to declare variables that are defined outside of the current function scope.\n",
        "\n",
        "* The **nonlocal** keyword allows a nested function to modify a variable that is defined in its enclosing function but not in the global scope.\n",
        "\n",
        "* The **global** keyword allows a function to access and modify a variable that is defined in the global scope."
      ]
    },
    {
      "cell_type": "code",
      "execution_count": null,
      "metadata": {
        "id": "3HnEd8nhygmN",
        "outputId": "94be9f59-5a9d-41c3-9061-e6d1da631f67"
      },
      "outputs": [
        {
          "name": "stdout",
          "output_type": "stream",
          "text": [
            "20\n"
          ]
        }
      ],
      "source": [
        "# nonlocal Example\n",
        "def outer():\n",
        "    x = 10\n",
        "    def inner():\n",
        "        nonlocal x\n",
        "        x = 20\n",
        "    inner()\n",
        "    print(x)\n",
        "\n",
        "outer()"
      ]
    },
    {
      "cell_type": "markdown",
      "metadata": {
        "id": "2BnIr0D_ygmN"
      },
      "source": [
        "In this example, `x` is defined in the `outer()`, and the `inner()` modifies the value of `x` using the **nonlocal** keyword. When the `outer()` is called, it prints the updated value of `x`, which is `20`."
      ]
    },
    {
      "cell_type": "code",
      "execution_count": null,
      "metadata": {
        "id": "oImBLnUQygmO",
        "outputId": "e45e556d-2b8b-41e4-ac25-5fc6a517c36f"
      },
      "outputs": [
        {
          "name": "stdout",
          "output_type": "stream",
          "text": [
            "20\n"
          ]
        }
      ],
      "source": [
        "# global Example\n",
        "x = 10\n",
        "\n",
        "def my_function():\n",
        "    global x\n",
        "    x = 20\n",
        "\n",
        "my_function()\n",
        "print(x)\n"
      ]
    },
    {
      "cell_type": "markdown",
      "metadata": {
        "id": "DR1Xg8xvygmO"
      },
      "source": [
        "In this example, `x` is defined in the global scope, and the `my_function()` modifies the value of `x` using the **global** keyword. When the `my_function()` is called, it updates the value of `x` to `20`, and when `print(x)` is called, it outputs the updated value of `x`.\n",
        "\n",
        "Note: It's generally considered a good practice to avoid using the **global** keyword whenever possible because it can make the code harder to understand and maintain."
      ]
    },
    {
      "cell_type": "markdown",
      "metadata": {
        "heading_collapsed": true,
        "hidden": true,
        "id": "AntBuuxkygmO"
      },
      "source": [
        "### Python DeBugger (PDB)"
      ]
    },
    {
      "cell_type": "markdown",
      "metadata": {
        "hidden": true,
        "id": "Mf0uFdABygmO"
      },
      "source": [
        "**PDB** is a standard command-line debugger to find errors in our code. It includes features to let us pause our program, look at the values of variables, and watch program execution step-by-step, so we can understand what our program actually does and find bugs in the logic.\n",
        "* PDB's **where** command shows the current call stack\n",
        "* PDB's **next** command lets execution continue to the next line of code\n",
        "* PDB's **continue** command lets program execution continue indefinitely, or until it is stopped with control-c\n",
        "* PDB's **list** command shows the source code at the current location\n",
        "* PDB's **return** command resumes execution until the end of the current execution"
      ]
    },
    {
      "cell_type": "code",
      "execution_count": null,
      "metadata": {
        "hidden": true,
        "id": "bqR9D_-4ygmP"
      },
      "outputs": [],
      "source": [
        "# Used for detecting error in code (for debugging purposes)\n",
        "import pdb\n",
        "\n",
        "x = [3, 1, 2]\n",
        "y = 6\n",
        "z = 7\n",
        "\n",
        "result = y + z\n",
        "print(result)\n",
        "\n",
        "# Set a trace using Python Debugger\n",
        "pdb.set_trace()\n",
        "\n",
        "result2 = y + x  # Error Here\n",
        "print(result2)"
      ]
    },
    {
      "cell_type": "markdown",
      "source": [
        "# Challenges"
      ],
      "metadata": {
        "id": "n1Dane-RJh_I"
      }
    },
    {
      "cell_type": "markdown",
      "source": [
        "\n",
        "\n",
        "General Tips for Pair Programming:\n",
        "\n",
        "* Driver & Navigator: One person ) writes the code, and the other reviews, strategizes, and catches errors.\n",
        "\n",
        "* Switch Roles Regularly: Change roles every 5 minutes or after solving a small part of the problem.\n",
        "\n",
        "* Communicate Constantly: Talk through your thoughts, strategies, and any issues you encounter.\n",
        "\n",
        "* Focus on Understanding: Ensure both partners understand why a solution works, not just that it works.\n",
        "\n"
      ],
      "metadata": {
        "id": "1s-Uj2Q5Jl2n"
      }
    },
    {
      "cell_type": "markdown",
      "source": [
        "## Chellenge 1"
      ],
      "metadata": {
        "id": "b336j_sWJ81o"
      }
    },
    {
      "cell_type": "markdown",
      "source": [
        "Concept Focus: Variables, `input()`,`print()`\n",
        "\n",
        "Problem Statement: Write a Python program that asks the user for their name and then prints a personalized message.\n",
        "\n",
        "Requirements:\n",
        "\n",
        "Ask the user for their name using `input()`.\n",
        "\n",
        "Store the name in a `variable`.\n",
        "\n",
        "Print a greeting like: \"Hello, [Name]! Welcome to your first Python challenge.\"\n",
        "\n"
      ],
      "metadata": {
        "id": "x7Cm9L4ZKOzY"
      }
    },
    {
      "cell_type": "code",
      "source": [
        "# Expected Output\n",
        "\n",
        "# Please enter your name: Alex\n",
        "# Hello, Alex! Good morning :)\n",
        "\n",
        "name = input(\"Enter your name \")\n",
        "print(\"Hello,\" , name+\"! Good Morning\" )\n"
      ],
      "metadata": {
        "id": "JaRWwK2YJkZw",
        "colab": {
          "base_uri": "https://localhost:8080/"
        },
        "outputId": "753a8fd9-0103-413e-87c1-60ac48ecf219"
      },
      "execution_count": null,
      "outputs": [
        {
          "output_type": "stream",
          "name": "stdout",
          "text": [
            "Enter your name Manzar\n",
            "Hello, Manzar! Good Morning\n"
          ]
        }
      ]
    },
    {
      "cell_type": "markdown",
      "source": [
        "## Challenge 2"
      ],
      "metadata": {
        "id": "flKkCs4WpqI_"
      }
    },
    {
      "cell_type": "code",
      "source": [
        "# Design a simple calculator\n",
        "\n",
        "num1 = int(input(\"Enter a number: \"))\n",
        "num2 = int(input(\"Enter another number: \"))\n",
        "opp = int(input(\"What operation would you like? (1 for + , 2 for -, 3 for *, 4 for /): \"))\n",
        "if opp == 1:\n",
        "  print(num1 + num2)\n",
        "elif opp == 2:\n",
        "  print(num1 - num2)\n",
        "elif opp == 3:\n",
        "  print(num1 * num2)\n",
        "elif opp == 4:\n",
        "  print(num1 / num2)\n"
      ],
      "metadata": {
        "id": "DXDOU1uEpseE",
        "colab": {
          "base_uri": "https://localhost:8080/"
        },
        "outputId": "b15c46bf-0a2d-47d8-cf1e-9c9325b7e5b4"
      },
      "execution_count": null,
      "outputs": [
        {
          "output_type": "stream",
          "name": "stdout",
          "text": [
            "Enter a number: 5\n",
            "Enter another number: 4\n",
            "What operation would you like? (1 for + , 2 for -, 3 for *, 4 for /): 4\n",
            "1.25\n"
          ]
        }
      ]
    },
    {
      "cell_type": "markdown",
      "source": [
        "## Chellenge 3"
      ],
      "metadata": {
        "id": "Gaw3z248pwc-"
      }
    },
    {
      "cell_type": "code",
      "source": [
        "#  Create a function that converts Celsius to Fahrenheit. The formula is F=C×(9/5)+32.\n",
        "\n",
        "choice = int(input(\"Would you like to convert from Celcius to Farenheit(1) or Farenheit to Celsius(2)? \"))\n",
        "if choice == 1:\n",
        "  cels = int(input(\"Enter the temperature in Celsius \"))\n",
        "  celstofar = (cels * 1.8) + 32\n",
        "  print(\"The temperature is Farenheit is \" + str(celstofar))\n",
        "else:\n",
        "  far = int(input(\"Enter the temperature in Celsius \"))\n",
        "  fartocels = (far - 32) * (5/9)\n",
        "  print(\"The temperature is Celsius is \" + str(fartocels))"
      ],
      "metadata": {
        "id": "cRoFmitQp0vv",
        "colab": {
          "base_uri": "https://localhost:8080/"
        },
        "outputId": "a9028ae5-ebae-411e-ec29-170a45536463"
      },
      "execution_count": null,
      "outputs": [
        {
          "output_type": "stream",
          "name": "stdout",
          "text": [
            "Would you like to convert from Celcius to Farenheit(1) or Farenheit to Celsius(2)? 2\n",
            "Enter the temperature in Celsius 41\n",
            "The temperature is Celsius is 5.0\n"
          ]
        }
      ]
    },
    {
      "cell_type": "code",
      "source": [
        "# Challenge 4\n",
        "# Write a function that takes a student's score (0-100) and returns their letter grade (e.g., A: 90-100, B: 80-89, C: 70-79, D: 60-69, F: Below 60).\n",
        "\n",
        "score = int(input(\"Enter your score: \"))\n",
        "if score >= 90:\n",
        "  print(\"You got an A\")\n",
        "elif score >= 80:\n",
        "  print(\"You got a B\")\n",
        "elif score >= 70:\n",
        "  print(\"You got a C\")\n",
        "elif score >= 60:\n",
        "  print(\"You got a D\")\n",
        "else:\n",
        "  print(\"You got an F\")"
      ],
      "metadata": {
        "colab": {
          "base_uri": "https://localhost:8080/"
        },
        "id": "SpVq6_tMvRFY",
        "outputId": "ad7f9a17-1189-4ddf-d4da-30a705864ce4"
      },
      "execution_count": null,
      "outputs": [
        {
          "output_type": "stream",
          "name": "stdout",
          "text": [
            "Enter your score: 80\n",
            "You got a B\n"
          ]
        }
      ]
    },
    {
      "cell_type": "code",
      "source": [
        "# Challenge 5\n",
        "# Create a password with strict conditions - at least 8 characters, a capital letter, a lowercase letter, a number, a special character\n",
        "\n",
        "length = False\n",
        "upper = False\n",
        "lower = False\n",
        "number = False\n",
        "special = False\n",
        "\n",
        "password = input(\"Enter a password: \")\n",
        "if len(password) >=8:\n",
        "  length = True\n",
        "\n",
        "for char in password:\n",
        "  if char.isdigit():\n",
        "    number = True\n",
        "\n",
        "for char in password:\n",
        "  if\n",
        "\n",
        "\n",
        "\n"
      ],
      "metadata": {
        "colab": {
          "base_uri": "https://localhost:8080/"
        },
        "id": "1xbd5TS8v65P",
        "outputId": "cc9b8ef7-e419-497c-a140-d9fa2d858e39"
      },
      "execution_count": null,
      "outputs": [
        {
          "name": "stdout",
          "output_type": "stream",
          "text": [
            "Enter a password: pass12\n"
          ]
        }
      ]
    }
  ],
  "metadata": {
    "kernelspec": {
      "display_name": "Python 3 (ipykernel)",
      "language": "python",
      "name": "python3"
    },
    "language_info": {
      "codemirror_mode": {
        "name": "ipython",
        "version": 3
      },
      "file_extension": ".py",
      "mimetype": "text/x-python",
      "name": "python",
      "nbconvert_exporter": "python",
      "pygments_lexer": "ipython3",
      "version": "3.9.7"
    },
    "toc": {
      "base_numbering": 1,
      "nav_menu": {},
      "number_sections": false,
      "sideBar": true,
      "skip_h1_title": false,
      "title_cell": "Table of Contents",
      "title_sidebar": "Contents",
      "toc_cell": false,
      "toc_position": {
        "height": "calc(100% - 180px)",
        "left": "10px",
        "top": "150px",
        "width": "341px"
      },
      "toc_section_display": true,
      "toc_window_display": true
    },
    "varInspector": {
      "cols": {
        "lenName": 16,
        "lenType": 16,
        "lenVar": 40
      },
      "kernels_config": {
        "python": {
          "delete_cmd_postfix": "",
          "delete_cmd_prefix": "del ",
          "library": "var_list.py",
          "varRefreshCmd": "print(var_dic_list())"
        },
        "r": {
          "delete_cmd_postfix": ") ",
          "delete_cmd_prefix": "rm(",
          "library": "var_list.r",
          "varRefreshCmd": "cat(var_dic_list()) "
        }
      },
      "types_to_exclude": [
        "module",
        "function",
        "builtin_function_or_method",
        "instance",
        "_Feature"
      ],
      "window_display": false
    },
    "colab": {
      "provenance": []
    },
    "widgets": {
      "application/vnd.jupyter.widget-state+json": {
        "821c2aeff0d3494d99b2e6093d15d837": {
          "model_module": "@jupyter-widgets/controls",
          "model_name": "VBoxModel",
          "model_module_version": "1.5.0",
          "state": {
            "_dom_classes": [
              "widget-interact"
            ],
            "_model_module": "@jupyter-widgets/controls",
            "_model_module_version": "1.5.0",
            "_model_name": "VBoxModel",
            "_view_count": null,
            "_view_module": "@jupyter-widgets/controls",
            "_view_module_version": "1.5.0",
            "_view_name": "VBoxView",
            "box_style": "",
            "children": [
              "IPY_MODEL_154aa0ce4ac34e85b59f86df25f07273",
              "IPY_MODEL_c4fb10efa2db45f0a93da5fbcf950db3",
              "IPY_MODEL_f5cfa5831d5f460d853f1ad919b73127"
            ],
            "layout": "IPY_MODEL_63d6a731f870428d96a6901c749af12e"
          }
        },
        "154aa0ce4ac34e85b59f86df25f07273": {
          "model_module": "@jupyter-widgets/controls",
          "model_name": "IntSliderModel",
          "model_module_version": "1.5.0",
          "state": {
            "_dom_classes": [],
            "_model_module": "@jupyter-widgets/controls",
            "_model_module_version": "1.5.0",
            "_model_name": "IntSliderModel",
            "_view_count": null,
            "_view_module": "@jupyter-widgets/controls",
            "_view_module_version": "1.5.0",
            "_view_name": "IntSliderView",
            "continuous_update": true,
            "description": "a",
            "description_tooltip": null,
            "disabled": false,
            "layout": "IPY_MODEL_8b81befa90c940db876b13e41339d52e",
            "max": 10,
            "min": -10,
            "orientation": "horizontal",
            "readout": true,
            "readout_format": "d",
            "step": 1,
            "style": "IPY_MODEL_0169dcbf86ab41e09f698948d987208e",
            "value": -1
          }
        },
        "c4fb10efa2db45f0a93da5fbcf950db3": {
          "model_module": "@jupyter-widgets/controls",
          "model_name": "IntSliderModel",
          "model_module_version": "1.5.0",
          "state": {
            "_dom_classes": [],
            "_model_module": "@jupyter-widgets/controls",
            "_model_module_version": "1.5.0",
            "_model_name": "IntSliderModel",
            "_view_count": null,
            "_view_module": "@jupyter-widgets/controls",
            "_view_module_version": "1.5.0",
            "_view_name": "IntSliderView",
            "continuous_update": true,
            "description": "b",
            "description_tooltip": null,
            "disabled": false,
            "layout": "IPY_MODEL_308e7f04569c4d13ac2a1ff656a6eb70",
            "max": 10,
            "min": -10,
            "orientation": "horizontal",
            "readout": true,
            "readout_format": "d",
            "step": 1,
            "style": "IPY_MODEL_d3c028ad80a0434cab76be6b751f88d4",
            "value": 10
          }
        },
        "f5cfa5831d5f460d853f1ad919b73127": {
          "model_module": "@jupyter-widgets/output",
          "model_name": "OutputModel",
          "model_module_version": "1.0.0",
          "state": {
            "_dom_classes": [],
            "_model_module": "@jupyter-widgets/output",
            "_model_module_version": "1.0.0",
            "_model_name": "OutputModel",
            "_view_count": null,
            "_view_module": "@jupyter-widgets/output",
            "_view_module_version": "1.0.0",
            "_view_name": "OutputView",
            "layout": "IPY_MODEL_0a4bab3d935f41b0b0a06b1c4602cedd",
            "msg_id": "",
            "outputs": [
              {
                "output_type": "stream",
                "name": "stdout",
                "text": [
                  "a + b = 9\n",
                  "a - b = -11\n",
                  "a * b = -10\n",
                  "a / b = -0.1\n"
                ]
              }
            ]
          }
        },
        "63d6a731f870428d96a6901c749af12e": {
          "model_module": "@jupyter-widgets/base",
          "model_name": "LayoutModel",
          "model_module_version": "1.2.0",
          "state": {
            "_model_module": "@jupyter-widgets/base",
            "_model_module_version": "1.2.0",
            "_model_name": "LayoutModel",
            "_view_count": null,
            "_view_module": "@jupyter-widgets/base",
            "_view_module_version": "1.2.0",
            "_view_name": "LayoutView",
            "align_content": null,
            "align_items": null,
            "align_self": null,
            "border": null,
            "bottom": null,
            "display": null,
            "flex": null,
            "flex_flow": null,
            "grid_area": null,
            "grid_auto_columns": null,
            "grid_auto_flow": null,
            "grid_auto_rows": null,
            "grid_column": null,
            "grid_gap": null,
            "grid_row": null,
            "grid_template_areas": null,
            "grid_template_columns": null,
            "grid_template_rows": null,
            "height": null,
            "justify_content": null,
            "justify_items": null,
            "left": null,
            "margin": null,
            "max_height": null,
            "max_width": null,
            "min_height": null,
            "min_width": null,
            "object_fit": null,
            "object_position": null,
            "order": null,
            "overflow": null,
            "overflow_x": null,
            "overflow_y": null,
            "padding": null,
            "right": null,
            "top": null,
            "visibility": null,
            "width": null
          }
        },
        "8b81befa90c940db876b13e41339d52e": {
          "model_module": "@jupyter-widgets/base",
          "model_name": "LayoutModel",
          "model_module_version": "1.2.0",
          "state": {
            "_model_module": "@jupyter-widgets/base",
            "_model_module_version": "1.2.0",
            "_model_name": "LayoutModel",
            "_view_count": null,
            "_view_module": "@jupyter-widgets/base",
            "_view_module_version": "1.2.0",
            "_view_name": "LayoutView",
            "align_content": null,
            "align_items": null,
            "align_self": null,
            "border": null,
            "bottom": null,
            "display": null,
            "flex": null,
            "flex_flow": null,
            "grid_area": null,
            "grid_auto_columns": null,
            "grid_auto_flow": null,
            "grid_auto_rows": null,
            "grid_column": null,
            "grid_gap": null,
            "grid_row": null,
            "grid_template_areas": null,
            "grid_template_columns": null,
            "grid_template_rows": null,
            "height": null,
            "justify_content": null,
            "justify_items": null,
            "left": null,
            "margin": null,
            "max_height": null,
            "max_width": null,
            "min_height": null,
            "min_width": null,
            "object_fit": null,
            "object_position": null,
            "order": null,
            "overflow": null,
            "overflow_x": null,
            "overflow_y": null,
            "padding": null,
            "right": null,
            "top": null,
            "visibility": null,
            "width": null
          }
        },
        "0169dcbf86ab41e09f698948d987208e": {
          "model_module": "@jupyter-widgets/controls",
          "model_name": "SliderStyleModel",
          "model_module_version": "1.5.0",
          "state": {
            "_model_module": "@jupyter-widgets/controls",
            "_model_module_version": "1.5.0",
            "_model_name": "SliderStyleModel",
            "_view_count": null,
            "_view_module": "@jupyter-widgets/base",
            "_view_module_version": "1.2.0",
            "_view_name": "StyleView",
            "description_width": "",
            "handle_color": null
          }
        },
        "308e7f04569c4d13ac2a1ff656a6eb70": {
          "model_module": "@jupyter-widgets/base",
          "model_name": "LayoutModel",
          "model_module_version": "1.2.0",
          "state": {
            "_model_module": "@jupyter-widgets/base",
            "_model_module_version": "1.2.0",
            "_model_name": "LayoutModel",
            "_view_count": null,
            "_view_module": "@jupyter-widgets/base",
            "_view_module_version": "1.2.0",
            "_view_name": "LayoutView",
            "align_content": null,
            "align_items": null,
            "align_self": null,
            "border": null,
            "bottom": null,
            "display": null,
            "flex": null,
            "flex_flow": null,
            "grid_area": null,
            "grid_auto_columns": null,
            "grid_auto_flow": null,
            "grid_auto_rows": null,
            "grid_column": null,
            "grid_gap": null,
            "grid_row": null,
            "grid_template_areas": null,
            "grid_template_columns": null,
            "grid_template_rows": null,
            "height": null,
            "justify_content": null,
            "justify_items": null,
            "left": null,
            "margin": null,
            "max_height": null,
            "max_width": null,
            "min_height": null,
            "min_width": null,
            "object_fit": null,
            "object_position": null,
            "order": null,
            "overflow": null,
            "overflow_x": null,
            "overflow_y": null,
            "padding": null,
            "right": null,
            "top": null,
            "visibility": null,
            "width": null
          }
        },
        "d3c028ad80a0434cab76be6b751f88d4": {
          "model_module": "@jupyter-widgets/controls",
          "model_name": "SliderStyleModel",
          "model_module_version": "1.5.0",
          "state": {
            "_model_module": "@jupyter-widgets/controls",
            "_model_module_version": "1.5.0",
            "_model_name": "SliderStyleModel",
            "_view_count": null,
            "_view_module": "@jupyter-widgets/base",
            "_view_module_version": "1.2.0",
            "_view_name": "StyleView",
            "description_width": "",
            "handle_color": null
          }
        },
        "0a4bab3d935f41b0b0a06b1c4602cedd": {
          "model_module": "@jupyter-widgets/base",
          "model_name": "LayoutModel",
          "model_module_version": "1.2.0",
          "state": {
            "_model_module": "@jupyter-widgets/base",
            "_model_module_version": "1.2.0",
            "_model_name": "LayoutModel",
            "_view_count": null,
            "_view_module": "@jupyter-widgets/base",
            "_view_module_version": "1.2.0",
            "_view_name": "LayoutView",
            "align_content": null,
            "align_items": null,
            "align_self": null,
            "border": null,
            "bottom": null,
            "display": null,
            "flex": null,
            "flex_flow": null,
            "grid_area": null,
            "grid_auto_columns": null,
            "grid_auto_flow": null,
            "grid_auto_rows": null,
            "grid_column": null,
            "grid_gap": null,
            "grid_row": null,
            "grid_template_areas": null,
            "grid_template_columns": null,
            "grid_template_rows": null,
            "height": null,
            "justify_content": null,
            "justify_items": null,
            "left": null,
            "margin": null,
            "max_height": null,
            "max_width": null,
            "min_height": null,
            "min_width": null,
            "object_fit": null,
            "object_position": null,
            "order": null,
            "overflow": null,
            "overflow_x": null,
            "overflow_y": null,
            "padding": null,
            "right": null,
            "top": null,
            "visibility": null,
            "width": null
          }
        },
        "8b7202a2496a4cb9a587239ef6b60d60": {
          "model_module": "@jupyter-widgets/controls",
          "model_name": "VBoxModel",
          "model_module_version": "1.5.0",
          "state": {
            "_dom_classes": [
              "widget-interact"
            ],
            "_model_module": "@jupyter-widgets/controls",
            "_model_module_version": "1.5.0",
            "_model_name": "VBoxModel",
            "_view_count": null,
            "_view_module": "@jupyter-widgets/controls",
            "_view_module_version": "1.5.0",
            "_view_name": "VBoxView",
            "box_style": "",
            "children": [
              "IPY_MODEL_be8e441312614f34963c19014628995a",
              "IPY_MODEL_41c5e41ced224256ad123967a402be69",
              "IPY_MODEL_43709b7eddaf43058baf5f5e71d7a736"
            ],
            "layout": "IPY_MODEL_4ecb7f24c39a4df1a5d89a1b86aee5eb"
          }
        },
        "be8e441312614f34963c19014628995a": {
          "model_module": "@jupyter-widgets/controls",
          "model_name": "CheckboxModel",
          "model_module_version": "1.5.0",
          "state": {
            "_dom_classes": [],
            "_model_module": "@jupyter-widgets/controls",
            "_model_module_version": "1.5.0",
            "_model_name": "CheckboxModel",
            "_view_count": null,
            "_view_module": "@jupyter-widgets/controls",
            "_view_module_version": "1.5.0",
            "_view_name": "CheckboxView",
            "description": "a",
            "description_tooltip": null,
            "disabled": false,
            "indent": true,
            "layout": "IPY_MODEL_c8bca044fede4f0983eadd7f6663f144",
            "style": "IPY_MODEL_15e8d1dd2e004a68b26def5a992164c6",
            "value": false
          }
        },
        "41c5e41ced224256ad123967a402be69": {
          "model_module": "@jupyter-widgets/controls",
          "model_name": "CheckboxModel",
          "model_module_version": "1.5.0",
          "state": {
            "_dom_classes": [],
            "_model_module": "@jupyter-widgets/controls",
            "_model_module_version": "1.5.0",
            "_model_name": "CheckboxModel",
            "_view_count": null,
            "_view_module": "@jupyter-widgets/controls",
            "_view_module_version": "1.5.0",
            "_view_name": "CheckboxView",
            "description": "b",
            "description_tooltip": null,
            "disabled": false,
            "indent": true,
            "layout": "IPY_MODEL_672730985b294adbae7c17cfd9aa56c3",
            "style": "IPY_MODEL_402b0779b7084963b889c686be29376b",
            "value": false
          }
        },
        "43709b7eddaf43058baf5f5e71d7a736": {
          "model_module": "@jupyter-widgets/output",
          "model_name": "OutputModel",
          "model_module_version": "1.0.0",
          "state": {
            "_dom_classes": [],
            "_model_module": "@jupyter-widgets/output",
            "_model_module_version": "1.0.0",
            "_model_name": "OutputModel",
            "_view_count": null,
            "_view_module": "@jupyter-widgets/output",
            "_view_module_version": "1.0.0",
            "_view_name": "OutputView",
            "layout": "IPY_MODEL_8e98d2157c934a718248777b9d38a604",
            "msg_id": "",
            "outputs": [
              {
                "output_type": "stream",
                "name": "stdout",
                "text": [
                  "a: False\n",
                  "b: False\n",
                  "a and b: False\n",
                  "a or b: False\n",
                  "not a: True\n",
                  "not b: True\n"
                ]
              }
            ]
          }
        },
        "4ecb7f24c39a4df1a5d89a1b86aee5eb": {
          "model_module": "@jupyter-widgets/base",
          "model_name": "LayoutModel",
          "model_module_version": "1.2.0",
          "state": {
            "_model_module": "@jupyter-widgets/base",
            "_model_module_version": "1.2.0",
            "_model_name": "LayoutModel",
            "_view_count": null,
            "_view_module": "@jupyter-widgets/base",
            "_view_module_version": "1.2.0",
            "_view_name": "LayoutView",
            "align_content": null,
            "align_items": null,
            "align_self": null,
            "border": null,
            "bottom": null,
            "display": null,
            "flex": null,
            "flex_flow": null,
            "grid_area": null,
            "grid_auto_columns": null,
            "grid_auto_flow": null,
            "grid_auto_rows": null,
            "grid_column": null,
            "grid_gap": null,
            "grid_row": null,
            "grid_template_areas": null,
            "grid_template_columns": null,
            "grid_template_rows": null,
            "height": null,
            "justify_content": null,
            "justify_items": null,
            "left": null,
            "margin": null,
            "max_height": null,
            "max_width": null,
            "min_height": null,
            "min_width": null,
            "object_fit": null,
            "object_position": null,
            "order": null,
            "overflow": null,
            "overflow_x": null,
            "overflow_y": null,
            "padding": null,
            "right": null,
            "top": null,
            "visibility": null,
            "width": null
          }
        },
        "c8bca044fede4f0983eadd7f6663f144": {
          "model_module": "@jupyter-widgets/base",
          "model_name": "LayoutModel",
          "model_module_version": "1.2.0",
          "state": {
            "_model_module": "@jupyter-widgets/base",
            "_model_module_version": "1.2.0",
            "_model_name": "LayoutModel",
            "_view_count": null,
            "_view_module": "@jupyter-widgets/base",
            "_view_module_version": "1.2.0",
            "_view_name": "LayoutView",
            "align_content": null,
            "align_items": null,
            "align_self": null,
            "border": null,
            "bottom": null,
            "display": null,
            "flex": null,
            "flex_flow": null,
            "grid_area": null,
            "grid_auto_columns": null,
            "grid_auto_flow": null,
            "grid_auto_rows": null,
            "grid_column": null,
            "grid_gap": null,
            "grid_row": null,
            "grid_template_areas": null,
            "grid_template_columns": null,
            "grid_template_rows": null,
            "height": null,
            "justify_content": null,
            "justify_items": null,
            "left": null,
            "margin": null,
            "max_height": null,
            "max_width": null,
            "min_height": null,
            "min_width": null,
            "object_fit": null,
            "object_position": null,
            "order": null,
            "overflow": null,
            "overflow_x": null,
            "overflow_y": null,
            "padding": null,
            "right": null,
            "top": null,
            "visibility": null,
            "width": null
          }
        },
        "15e8d1dd2e004a68b26def5a992164c6": {
          "model_module": "@jupyter-widgets/controls",
          "model_name": "DescriptionStyleModel",
          "model_module_version": "1.5.0",
          "state": {
            "_model_module": "@jupyter-widgets/controls",
            "_model_module_version": "1.5.0",
            "_model_name": "DescriptionStyleModel",
            "_view_count": null,
            "_view_module": "@jupyter-widgets/base",
            "_view_module_version": "1.2.0",
            "_view_name": "StyleView",
            "description_width": ""
          }
        },
        "672730985b294adbae7c17cfd9aa56c3": {
          "model_module": "@jupyter-widgets/base",
          "model_name": "LayoutModel",
          "model_module_version": "1.2.0",
          "state": {
            "_model_module": "@jupyter-widgets/base",
            "_model_module_version": "1.2.0",
            "_model_name": "LayoutModel",
            "_view_count": null,
            "_view_module": "@jupyter-widgets/base",
            "_view_module_version": "1.2.0",
            "_view_name": "LayoutView",
            "align_content": null,
            "align_items": null,
            "align_self": null,
            "border": null,
            "bottom": null,
            "display": null,
            "flex": null,
            "flex_flow": null,
            "grid_area": null,
            "grid_auto_columns": null,
            "grid_auto_flow": null,
            "grid_auto_rows": null,
            "grid_column": null,
            "grid_gap": null,
            "grid_row": null,
            "grid_template_areas": null,
            "grid_template_columns": null,
            "grid_template_rows": null,
            "height": null,
            "justify_content": null,
            "justify_items": null,
            "left": null,
            "margin": null,
            "max_height": null,
            "max_width": null,
            "min_height": null,
            "min_width": null,
            "object_fit": null,
            "object_position": null,
            "order": null,
            "overflow": null,
            "overflow_x": null,
            "overflow_y": null,
            "padding": null,
            "right": null,
            "top": null,
            "visibility": null,
            "width": null
          }
        },
        "402b0779b7084963b889c686be29376b": {
          "model_module": "@jupyter-widgets/controls",
          "model_name": "DescriptionStyleModel",
          "model_module_version": "1.5.0",
          "state": {
            "_model_module": "@jupyter-widgets/controls",
            "_model_module_version": "1.5.0",
            "_model_name": "DescriptionStyleModel",
            "_view_count": null,
            "_view_module": "@jupyter-widgets/base",
            "_view_module_version": "1.2.0",
            "_view_name": "StyleView",
            "description_width": ""
          }
        },
        "8e98d2157c934a718248777b9d38a604": {
          "model_module": "@jupyter-widgets/base",
          "model_name": "LayoutModel",
          "model_module_version": "1.2.0",
          "state": {
            "_model_module": "@jupyter-widgets/base",
            "_model_module_version": "1.2.0",
            "_model_name": "LayoutModel",
            "_view_count": null,
            "_view_module": "@jupyter-widgets/base",
            "_view_module_version": "1.2.0",
            "_view_name": "LayoutView",
            "align_content": null,
            "align_items": null,
            "align_self": null,
            "border": null,
            "bottom": null,
            "display": null,
            "flex": null,
            "flex_flow": null,
            "grid_area": null,
            "grid_auto_columns": null,
            "grid_auto_flow": null,
            "grid_auto_rows": null,
            "grid_column": null,
            "grid_gap": null,
            "grid_row": null,
            "grid_template_areas": null,
            "grid_template_columns": null,
            "grid_template_rows": null,
            "height": null,
            "justify_content": null,
            "justify_items": null,
            "left": null,
            "margin": null,
            "max_height": null,
            "max_width": null,
            "min_height": null,
            "min_width": null,
            "object_fit": null,
            "object_position": null,
            "order": null,
            "overflow": null,
            "overflow_x": null,
            "overflow_y": null,
            "padding": null,
            "right": null,
            "top": null,
            "visibility": null,
            "width": null
          }
        },
        "3304227c43244cb6bf6fd632eb0b2f5c": {
          "model_module": "@jupyter-widgets/controls",
          "model_name": "VBoxModel",
          "model_module_version": "1.5.0",
          "state": {
            "_dom_classes": [
              "widget-interact"
            ],
            "_model_module": "@jupyter-widgets/controls",
            "_model_module_version": "1.5.0",
            "_model_name": "VBoxModel",
            "_view_count": null,
            "_view_module": "@jupyter-widgets/controls",
            "_view_module_version": "1.5.0",
            "_view_name": "VBoxView",
            "box_style": "",
            "children": [
              "IPY_MODEL_6d543d6cf4db48b9988f6ae4a0b812e9",
              "IPY_MODEL_da91547452a6417b9f1af0a62602ace9"
            ],
            "layout": "IPY_MODEL_f060cb8b91bc41bcabacf606db94a519"
          }
        },
        "6d543d6cf4db48b9988f6ae4a0b812e9": {
          "model_module": "@jupyter-widgets/controls",
          "model_name": "TextareaModel",
          "model_module_version": "1.5.0",
          "state": {
            "_dom_classes": [],
            "_model_module": "@jupyter-widgets/controls",
            "_model_module_version": "1.5.0",
            "_model_name": "TextareaModel",
            "_view_count": null,
            "_view_module": "@jupyter-widgets/controls",
            "_view_module_version": "1.5.0",
            "_view_name": "TextareaView",
            "continuous_update": true,
            "description": "String:",
            "description_tooltip": null,
            "disabled": false,
            "layout": "IPY_MODEL_ff3711a58ea349bd90814798f467f611",
            "placeholder": "​",
            "rows": null,
            "style": "IPY_MODEL_790d1bf7caae4f6b940e244fbed54eb3",
            "value": "Enter your text here"
          }
        },
        "da91547452a6417b9f1af0a62602ace9": {
          "model_module": "@jupyter-widgets/output",
          "model_name": "OutputModel",
          "model_module_version": "1.0.0",
          "state": {
            "_dom_classes": [],
            "_model_module": "@jupyter-widgets/output",
            "_model_module_version": "1.0.0",
            "_model_name": "OutputModel",
            "_view_count": null,
            "_view_module": "@jupyter-widgets/output",
            "_view_module_version": "1.0.0",
            "_view_name": "OutputView",
            "layout": "IPY_MODEL_015d5fa8f56b4f2d94485b2e943c3ee3",
            "msg_id": "",
            "outputs": [
              {
                "output_type": "stream",
                "name": "stdout",
                "text": [
                  "Original String: Enter your text here\n",
                  "Uppercase: ENTER YOUR TEXT HERE\n",
                  "Lowercase: enter your text here\n",
                  "Capitalized: Enter your text here\n",
                  "Title Cased: Enter Your Text Here\n",
                  "Length: 20\n"
                ]
              }
            ]
          }
        },
        "f060cb8b91bc41bcabacf606db94a519": {
          "model_module": "@jupyter-widgets/base",
          "model_name": "LayoutModel",
          "model_module_version": "1.2.0",
          "state": {
            "_model_module": "@jupyter-widgets/base",
            "_model_module_version": "1.2.0",
            "_model_name": "LayoutModel",
            "_view_count": null,
            "_view_module": "@jupyter-widgets/base",
            "_view_module_version": "1.2.0",
            "_view_name": "LayoutView",
            "align_content": null,
            "align_items": null,
            "align_self": null,
            "border": null,
            "bottom": null,
            "display": null,
            "flex": null,
            "flex_flow": null,
            "grid_area": null,
            "grid_auto_columns": null,
            "grid_auto_flow": null,
            "grid_auto_rows": null,
            "grid_column": null,
            "grid_gap": null,
            "grid_row": null,
            "grid_template_areas": null,
            "grid_template_columns": null,
            "grid_template_rows": null,
            "height": null,
            "justify_content": null,
            "justify_items": null,
            "left": null,
            "margin": null,
            "max_height": null,
            "max_width": null,
            "min_height": null,
            "min_width": null,
            "object_fit": null,
            "object_position": null,
            "order": null,
            "overflow": null,
            "overflow_x": null,
            "overflow_y": null,
            "padding": null,
            "right": null,
            "top": null,
            "visibility": null,
            "width": null
          }
        },
        "ff3711a58ea349bd90814798f467f611": {
          "model_module": "@jupyter-widgets/base",
          "model_name": "LayoutModel",
          "model_module_version": "1.2.0",
          "state": {
            "_model_module": "@jupyter-widgets/base",
            "_model_module_version": "1.2.0",
            "_model_name": "LayoutModel",
            "_view_count": null,
            "_view_module": "@jupyter-widgets/base",
            "_view_module_version": "1.2.0",
            "_view_name": "LayoutView",
            "align_content": null,
            "align_items": null,
            "align_self": null,
            "border": null,
            "bottom": null,
            "display": null,
            "flex": null,
            "flex_flow": null,
            "grid_area": null,
            "grid_auto_columns": null,
            "grid_auto_flow": null,
            "grid_auto_rows": null,
            "grid_column": null,
            "grid_gap": null,
            "grid_row": null,
            "grid_template_areas": null,
            "grid_template_columns": null,
            "grid_template_rows": null,
            "height": null,
            "justify_content": null,
            "justify_items": null,
            "left": null,
            "margin": null,
            "max_height": null,
            "max_width": null,
            "min_height": null,
            "min_width": null,
            "object_fit": null,
            "object_position": null,
            "order": null,
            "overflow": null,
            "overflow_x": null,
            "overflow_y": null,
            "padding": null,
            "right": null,
            "top": null,
            "visibility": null,
            "width": null
          }
        },
        "790d1bf7caae4f6b940e244fbed54eb3": {
          "model_module": "@jupyter-widgets/controls",
          "model_name": "DescriptionStyleModel",
          "model_module_version": "1.5.0",
          "state": {
            "_model_module": "@jupyter-widgets/controls",
            "_model_module_version": "1.5.0",
            "_model_name": "DescriptionStyleModel",
            "_view_count": null,
            "_view_module": "@jupyter-widgets/base",
            "_view_module_version": "1.2.0",
            "_view_name": "StyleView",
            "description_width": ""
          }
        },
        "015d5fa8f56b4f2d94485b2e943c3ee3": {
          "model_module": "@jupyter-widgets/base",
          "model_name": "LayoutModel",
          "model_module_version": "1.2.0",
          "state": {
            "_model_module": "@jupyter-widgets/base",
            "_model_module_version": "1.2.0",
            "_model_name": "LayoutModel",
            "_view_count": null,
            "_view_module": "@jupyter-widgets/base",
            "_view_module_version": "1.2.0",
            "_view_name": "LayoutView",
            "align_content": null,
            "align_items": null,
            "align_self": null,
            "border": null,
            "bottom": null,
            "display": null,
            "flex": null,
            "flex_flow": null,
            "grid_area": null,
            "grid_auto_columns": null,
            "grid_auto_flow": null,
            "grid_auto_rows": null,
            "grid_column": null,
            "grid_gap": null,
            "grid_row": null,
            "grid_template_areas": null,
            "grid_template_columns": null,
            "grid_template_rows": null,
            "height": null,
            "justify_content": null,
            "justify_items": null,
            "left": null,
            "margin": null,
            "max_height": null,
            "max_width": null,
            "min_height": null,
            "min_width": null,
            "object_fit": null,
            "object_position": null,
            "order": null,
            "overflow": null,
            "overflow_x": null,
            "overflow_y": null,
            "padding": null,
            "right": null,
            "top": null,
            "visibility": null,
            "width": null
          }
        },
        "01af012c514047d8b1fc6173fbb5a378": {
          "model_module": "@jupyter-widgets/controls",
          "model_name": "VBoxModel",
          "model_module_version": "1.5.0",
          "state": {
            "_dom_classes": [],
            "_model_module": "@jupyter-widgets/controls",
            "_model_module_version": "1.5.0",
            "_model_name": "VBoxModel",
            "_view_count": null,
            "_view_module": "@jupyter-widgets/controls",
            "_view_module_version": "1.5.0",
            "_view_name": "VBoxView",
            "box_style": "",
            "children": [
              "IPY_MODEL_48c537e96eec4e9c850cbadbd05869f7",
              "IPY_MODEL_cb8678457249440dba2f54594c0281c2",
              "IPY_MODEL_0c7b7f8d0e9242239fba6ee22ecc5f1a",
              "IPY_MODEL_e88898191dc34670b6e67cb9321d29eb",
              "IPY_MODEL_b9753ff7180f4fdcb895af33bf210ea4",
              "IPY_MODEL_bd56fd8ae7764a2c9acdb220457ee7bd"
            ],
            "layout": "IPY_MODEL_d30f73bcb0cb473d9380388055747b20"
          }
        },
        "48c537e96eec4e9c850cbadbd05869f7": {
          "model_module": "@jupyter-widgets/controls",
          "model_name": "TextareaModel",
          "model_module_version": "1.5.0",
          "state": {
            "_dom_classes": [],
            "_model_module": "@jupyter-widgets/controls",
            "_model_module_version": "1.5.0",
            "_model_name": "TextareaModel",
            "_view_count": null,
            "_view_module": "@jupyter-widgets/controls",
            "_view_module_version": "1.5.0",
            "_view_name": "TextareaView",
            "continuous_update": true,
            "description": "Enter a list (e.g., [1, \"a\", 3.14]):",
            "description_tooltip": null,
            "disabled": false,
            "layout": "IPY_MODEL_636c14b2faa64d4b86787c3c46b6f4d1",
            "placeholder": "​",
            "rows": null,
            "style": "IPY_MODEL_e32e40b624e94b42bc4194feeb68cc89",
            "value": "[1, 2, 3, 4, 5]"
          }
        },
        "cb8678457249440dba2f54594c0281c2": {
          "model_module": "@jupyter-widgets/controls",
          "model_name": "DropdownModel",
          "model_module_version": "1.5.0",
          "state": {
            "_dom_classes": [],
            "_model_module": "@jupyter-widgets/controls",
            "_model_module_version": "1.5.0",
            "_model_name": "DropdownModel",
            "_options_labels": [
              "append",
              "pop",
              "insert"
            ],
            "_view_count": null,
            "_view_module": "@jupyter-widgets/controls",
            "_view_module_version": "1.5.0",
            "_view_name": "DropdownView",
            "description": "Action:",
            "description_tooltip": null,
            "disabled": false,
            "index": 0,
            "layout": "IPY_MODEL_1d961d5c12d64b1d905f13f0327c43d5",
            "style": "IPY_MODEL_aaedbf529bcd450998834609a4520eb2"
          }
        },
        "0c7b7f8d0e9242239fba6ee22ecc5f1a": {
          "model_module": "@jupyter-widgets/controls",
          "model_name": "TextModel",
          "model_module_version": "1.5.0",
          "state": {
            "_dom_classes": [],
            "_model_module": "@jupyter-widgets/controls",
            "_model_module_version": "1.5.0",
            "_model_name": "TextModel",
            "_view_count": null,
            "_view_module": "@jupyter-widgets/controls",
            "_view_module_version": "1.5.0",
            "_view_name": "TextView",
            "continuous_update": true,
            "description": "Value (for append/insert):",
            "description_tooltip": null,
            "disabled": false,
            "layout": "IPY_MODEL_3723f17ac3f64c56b831e18b28cbffcd",
            "placeholder": "​",
            "style": "IPY_MODEL_9108f790b08047178c8d12238b39ceee",
            "value": ""
          }
        },
        "e88898191dc34670b6e67cb9321d29eb": {
          "model_module": "@jupyter-widgets/controls",
          "model_name": "IntTextModel",
          "model_module_version": "1.5.0",
          "state": {
            "_dom_classes": [],
            "_model_module": "@jupyter-widgets/controls",
            "_model_module_version": "1.5.0",
            "_model_name": "IntTextModel",
            "_view_count": null,
            "_view_module": "@jupyter-widgets/controls",
            "_view_module_version": "1.5.0",
            "_view_name": "IntTextView",
            "continuous_update": false,
            "description": "Index (for pop/insert):",
            "description_tooltip": null,
            "disabled": false,
            "layout": "IPY_MODEL_c12e24839d1f4a3f8dad43158c69c365",
            "step": 1,
            "style": "IPY_MODEL_002eb53b0cb649a2b6f261b6d8c9867d",
            "value": 0
          }
        },
        "b9753ff7180f4fdcb895af33bf210ea4": {
          "model_module": "@jupyter-widgets/controls",
          "model_name": "ButtonModel",
          "model_module_version": "1.5.0",
          "state": {
            "_dom_classes": [],
            "_model_module": "@jupyter-widgets/controls",
            "_model_module_version": "1.5.0",
            "_model_name": "ButtonModel",
            "_view_count": null,
            "_view_module": "@jupyter-widgets/controls",
            "_view_module_version": "1.5.0",
            "_view_name": "ButtonView",
            "button_style": "",
            "description": "Perform Action",
            "disabled": false,
            "icon": "",
            "layout": "IPY_MODEL_83a3eca014f348dc83acfead20de4803",
            "style": "IPY_MODEL_6e6a1e129bf141caabaf03e022f75661",
            "tooltip": ""
          }
        },
        "bd56fd8ae7764a2c9acdb220457ee7bd": {
          "model_module": "@jupyter-widgets/output",
          "model_name": "OutputModel",
          "model_module_version": "1.0.0",
          "state": {
            "_dom_classes": [],
            "_model_module": "@jupyter-widgets/output",
            "_model_module_version": "1.0.0",
            "_model_name": "OutputModel",
            "_view_count": null,
            "_view_module": "@jupyter-widgets/output",
            "_view_module_version": "1.0.0",
            "_view_name": "OutputView",
            "layout": "IPY_MODEL_0a24db28c45c40e0bffaa5e88e5f1692",
            "msg_id": "",
            "outputs": [
              {
                "output_type": "stream",
                "name": "stdout",
                "text": [
                  "Original tuple: (10, 20, 30, 40, 50)\n",
                  "Index out of range.\n"
                ]
              }
            ]
          }
        },
        "d30f73bcb0cb473d9380388055747b20": {
          "model_module": "@jupyter-widgets/base",
          "model_name": "LayoutModel",
          "model_module_version": "1.2.0",
          "state": {
            "_model_module": "@jupyter-widgets/base",
            "_model_module_version": "1.2.0",
            "_model_name": "LayoutModel",
            "_view_count": null,
            "_view_module": "@jupyter-widgets/base",
            "_view_module_version": "1.2.0",
            "_view_name": "LayoutView",
            "align_content": null,
            "align_items": null,
            "align_self": null,
            "border": null,
            "bottom": null,
            "display": null,
            "flex": null,
            "flex_flow": null,
            "grid_area": null,
            "grid_auto_columns": null,
            "grid_auto_flow": null,
            "grid_auto_rows": null,
            "grid_column": null,
            "grid_gap": null,
            "grid_row": null,
            "grid_template_areas": null,
            "grid_template_columns": null,
            "grid_template_rows": null,
            "height": null,
            "justify_content": null,
            "justify_items": null,
            "left": null,
            "margin": null,
            "max_height": null,
            "max_width": null,
            "min_height": null,
            "min_width": null,
            "object_fit": null,
            "object_position": null,
            "order": null,
            "overflow": null,
            "overflow_x": null,
            "overflow_y": null,
            "padding": null,
            "right": null,
            "top": null,
            "visibility": null,
            "width": null
          }
        },
        "636c14b2faa64d4b86787c3c46b6f4d1": {
          "model_module": "@jupyter-widgets/base",
          "model_name": "LayoutModel",
          "model_module_version": "1.2.0",
          "state": {
            "_model_module": "@jupyter-widgets/base",
            "_model_module_version": "1.2.0",
            "_model_name": "LayoutModel",
            "_view_count": null,
            "_view_module": "@jupyter-widgets/base",
            "_view_module_version": "1.2.0",
            "_view_name": "LayoutView",
            "align_content": null,
            "align_items": null,
            "align_self": null,
            "border": null,
            "bottom": null,
            "display": null,
            "flex": null,
            "flex_flow": null,
            "grid_area": null,
            "grid_auto_columns": null,
            "grid_auto_flow": null,
            "grid_auto_rows": null,
            "grid_column": null,
            "grid_gap": null,
            "grid_row": null,
            "grid_template_areas": null,
            "grid_template_columns": null,
            "grid_template_rows": null,
            "height": null,
            "justify_content": null,
            "justify_items": null,
            "left": null,
            "margin": null,
            "max_height": null,
            "max_width": null,
            "min_height": null,
            "min_width": null,
            "object_fit": null,
            "object_position": null,
            "order": null,
            "overflow": null,
            "overflow_x": null,
            "overflow_y": null,
            "padding": null,
            "right": null,
            "top": null,
            "visibility": null,
            "width": null
          }
        },
        "e32e40b624e94b42bc4194feeb68cc89": {
          "model_module": "@jupyter-widgets/controls",
          "model_name": "DescriptionStyleModel",
          "model_module_version": "1.5.0",
          "state": {
            "_model_module": "@jupyter-widgets/controls",
            "_model_module_version": "1.5.0",
            "_model_name": "DescriptionStyleModel",
            "_view_count": null,
            "_view_module": "@jupyter-widgets/base",
            "_view_module_version": "1.2.0",
            "_view_name": "StyleView",
            "description_width": ""
          }
        },
        "1d961d5c12d64b1d905f13f0327c43d5": {
          "model_module": "@jupyter-widgets/base",
          "model_name": "LayoutModel",
          "model_module_version": "1.2.0",
          "state": {
            "_model_module": "@jupyter-widgets/base",
            "_model_module_version": "1.2.0",
            "_model_name": "LayoutModel",
            "_view_count": null,
            "_view_module": "@jupyter-widgets/base",
            "_view_module_version": "1.2.0",
            "_view_name": "LayoutView",
            "align_content": null,
            "align_items": null,
            "align_self": null,
            "border": null,
            "bottom": null,
            "display": null,
            "flex": null,
            "flex_flow": null,
            "grid_area": null,
            "grid_auto_columns": null,
            "grid_auto_flow": null,
            "grid_auto_rows": null,
            "grid_column": null,
            "grid_gap": null,
            "grid_row": null,
            "grid_template_areas": null,
            "grid_template_columns": null,
            "grid_template_rows": null,
            "height": null,
            "justify_content": null,
            "justify_items": null,
            "left": null,
            "margin": null,
            "max_height": null,
            "max_width": null,
            "min_height": null,
            "min_width": null,
            "object_fit": null,
            "object_position": null,
            "order": null,
            "overflow": null,
            "overflow_x": null,
            "overflow_y": null,
            "padding": null,
            "right": null,
            "top": null,
            "visibility": null,
            "width": null
          }
        },
        "aaedbf529bcd450998834609a4520eb2": {
          "model_module": "@jupyter-widgets/controls",
          "model_name": "DescriptionStyleModel",
          "model_module_version": "1.5.0",
          "state": {
            "_model_module": "@jupyter-widgets/controls",
            "_model_module_version": "1.5.0",
            "_model_name": "DescriptionStyleModel",
            "_view_count": null,
            "_view_module": "@jupyter-widgets/base",
            "_view_module_version": "1.2.0",
            "_view_name": "StyleView",
            "description_width": ""
          }
        },
        "3723f17ac3f64c56b831e18b28cbffcd": {
          "model_module": "@jupyter-widgets/base",
          "model_name": "LayoutModel",
          "model_module_version": "1.2.0",
          "state": {
            "_model_module": "@jupyter-widgets/base",
            "_model_module_version": "1.2.0",
            "_model_name": "LayoutModel",
            "_view_count": null,
            "_view_module": "@jupyter-widgets/base",
            "_view_module_version": "1.2.0",
            "_view_name": "LayoutView",
            "align_content": null,
            "align_items": null,
            "align_self": null,
            "border": null,
            "bottom": null,
            "display": null,
            "flex": null,
            "flex_flow": null,
            "grid_area": null,
            "grid_auto_columns": null,
            "grid_auto_flow": null,
            "grid_auto_rows": null,
            "grid_column": null,
            "grid_gap": null,
            "grid_row": null,
            "grid_template_areas": null,
            "grid_template_columns": null,
            "grid_template_rows": null,
            "height": null,
            "justify_content": null,
            "justify_items": null,
            "left": null,
            "margin": null,
            "max_height": null,
            "max_width": null,
            "min_height": null,
            "min_width": null,
            "object_fit": null,
            "object_position": null,
            "order": null,
            "overflow": null,
            "overflow_x": null,
            "overflow_y": null,
            "padding": null,
            "right": null,
            "top": null,
            "visibility": null,
            "width": null
          }
        },
        "9108f790b08047178c8d12238b39ceee": {
          "model_module": "@jupyter-widgets/controls",
          "model_name": "DescriptionStyleModel",
          "model_module_version": "1.5.0",
          "state": {
            "_model_module": "@jupyter-widgets/controls",
            "_model_module_version": "1.5.0",
            "_model_name": "DescriptionStyleModel",
            "_view_count": null,
            "_view_module": "@jupyter-widgets/base",
            "_view_module_version": "1.2.0",
            "_view_name": "StyleView",
            "description_width": ""
          }
        },
        "c12e24839d1f4a3f8dad43158c69c365": {
          "model_module": "@jupyter-widgets/base",
          "model_name": "LayoutModel",
          "model_module_version": "1.2.0",
          "state": {
            "_model_module": "@jupyter-widgets/base",
            "_model_module_version": "1.2.0",
            "_model_name": "LayoutModel",
            "_view_count": null,
            "_view_module": "@jupyter-widgets/base",
            "_view_module_version": "1.2.0",
            "_view_name": "LayoutView",
            "align_content": null,
            "align_items": null,
            "align_self": null,
            "border": null,
            "bottom": null,
            "display": null,
            "flex": null,
            "flex_flow": null,
            "grid_area": null,
            "grid_auto_columns": null,
            "grid_auto_flow": null,
            "grid_auto_rows": null,
            "grid_column": null,
            "grid_gap": null,
            "grid_row": null,
            "grid_template_areas": null,
            "grid_template_columns": null,
            "grid_template_rows": null,
            "height": null,
            "justify_content": null,
            "justify_items": null,
            "left": null,
            "margin": null,
            "max_height": null,
            "max_width": null,
            "min_height": null,
            "min_width": null,
            "object_fit": null,
            "object_position": null,
            "order": null,
            "overflow": null,
            "overflow_x": null,
            "overflow_y": null,
            "padding": null,
            "right": null,
            "top": null,
            "visibility": null,
            "width": null
          }
        },
        "002eb53b0cb649a2b6f261b6d8c9867d": {
          "model_module": "@jupyter-widgets/controls",
          "model_name": "DescriptionStyleModel",
          "model_module_version": "1.5.0",
          "state": {
            "_model_module": "@jupyter-widgets/controls",
            "_model_module_version": "1.5.0",
            "_model_name": "DescriptionStyleModel",
            "_view_count": null,
            "_view_module": "@jupyter-widgets/base",
            "_view_module_version": "1.2.0",
            "_view_name": "StyleView",
            "description_width": ""
          }
        },
        "83a3eca014f348dc83acfead20de4803": {
          "model_module": "@jupyter-widgets/base",
          "model_name": "LayoutModel",
          "model_module_version": "1.2.0",
          "state": {
            "_model_module": "@jupyter-widgets/base",
            "_model_module_version": "1.2.0",
            "_model_name": "LayoutModel",
            "_view_count": null,
            "_view_module": "@jupyter-widgets/base",
            "_view_module_version": "1.2.0",
            "_view_name": "LayoutView",
            "align_content": null,
            "align_items": null,
            "align_self": null,
            "border": null,
            "bottom": null,
            "display": null,
            "flex": null,
            "flex_flow": null,
            "grid_area": null,
            "grid_auto_columns": null,
            "grid_auto_flow": null,
            "grid_auto_rows": null,
            "grid_column": null,
            "grid_gap": null,
            "grid_row": null,
            "grid_template_areas": null,
            "grid_template_columns": null,
            "grid_template_rows": null,
            "height": null,
            "justify_content": null,
            "justify_items": null,
            "left": null,
            "margin": null,
            "max_height": null,
            "max_width": null,
            "min_height": null,
            "min_width": null,
            "object_fit": null,
            "object_position": null,
            "order": null,
            "overflow": null,
            "overflow_x": null,
            "overflow_y": null,
            "padding": null,
            "right": null,
            "top": null,
            "visibility": null,
            "width": null
          }
        },
        "6e6a1e129bf141caabaf03e022f75661": {
          "model_module": "@jupyter-widgets/controls",
          "model_name": "ButtonStyleModel",
          "model_module_version": "1.5.0",
          "state": {
            "_model_module": "@jupyter-widgets/controls",
            "_model_module_version": "1.5.0",
            "_model_name": "ButtonStyleModel",
            "_view_count": null,
            "_view_module": "@jupyter-widgets/base",
            "_view_module_version": "1.2.0",
            "_view_name": "StyleView",
            "button_color": null,
            "font_weight": ""
          }
        },
        "0a24db28c45c40e0bffaa5e88e5f1692": {
          "model_module": "@jupyter-widgets/base",
          "model_name": "LayoutModel",
          "model_module_version": "1.2.0",
          "state": {
            "_model_module": "@jupyter-widgets/base",
            "_model_module_version": "1.2.0",
            "_model_name": "LayoutModel",
            "_view_count": null,
            "_view_module": "@jupyter-widgets/base",
            "_view_module_version": "1.2.0",
            "_view_name": "LayoutView",
            "align_content": null,
            "align_items": null,
            "align_self": null,
            "border": null,
            "bottom": null,
            "display": null,
            "flex": null,
            "flex_flow": null,
            "grid_area": null,
            "grid_auto_columns": null,
            "grid_auto_flow": null,
            "grid_auto_rows": null,
            "grid_column": null,
            "grid_gap": null,
            "grid_row": null,
            "grid_template_areas": null,
            "grid_template_columns": null,
            "grid_template_rows": null,
            "height": null,
            "justify_content": null,
            "justify_items": null,
            "left": null,
            "margin": null,
            "max_height": null,
            "max_width": null,
            "min_height": null,
            "min_width": null,
            "object_fit": null,
            "object_position": null,
            "order": null,
            "overflow": null,
            "overflow_x": null,
            "overflow_y": null,
            "padding": null,
            "right": null,
            "top": null,
            "visibility": null,
            "width": null
          }
        },
        "af7c8ff313964367897aa50ba8d7e871": {
          "model_module": "@jupyter-widgets/controls",
          "model_name": "VBoxModel",
          "model_module_version": "1.5.0",
          "state": {
            "_dom_classes": [],
            "_model_module": "@jupyter-widgets/controls",
            "_model_module_version": "1.5.0",
            "_model_name": "VBoxModel",
            "_view_count": null,
            "_view_module": "@jupyter-widgets/controls",
            "_view_module_version": "1.5.0",
            "_view_name": "VBoxView",
            "box_style": "",
            "children": [
              "IPY_MODEL_2fe83d4b086e43adae33bcf43feae463",
              "IPY_MODEL_7f9653a1f7fa4fe4b65029ade9bfb909",
              "IPY_MODEL_ca6d61959a29460eacfc43dc34a000e7",
              "IPY_MODEL_38f2a2a5990f4f8aa18e34c8b6eae1de"
            ],
            "layout": "IPY_MODEL_a79e6cf1165344bcab0e525852e300e5"
          }
        },
        "2fe83d4b086e43adae33bcf43feae463": {
          "model_module": "@jupyter-widgets/controls",
          "model_name": "TextareaModel",
          "model_module_version": "1.5.0",
          "state": {
            "_dom_classes": [],
            "_model_module": "@jupyter-widgets/controls",
            "_model_module_version": "1.5.0",
            "_model_name": "TextareaModel",
            "_view_count": null,
            "_view_module": "@jupyter-widgets/controls",
            "_view_module_version": "1.5.0",
            "_view_name": "TextareaView",
            "continuous_update": true,
            "description": "Enter a tuple (e.g., (1, \"b\", 2.7)):",
            "description_tooltip": null,
            "disabled": false,
            "layout": "IPY_MODEL_fa23b1e922074937a31fd7d05e52b811",
            "placeholder": "​",
            "rows": null,
            "style": "IPY_MODEL_409df87ca07442869a0953fd3e48e56a",
            "value": "(10, 20, 30, 40, 50)"
          }
        },
        "7f9653a1f7fa4fe4b65029ade9bfb909": {
          "model_module": "@jupyter-widgets/controls",
          "model_name": "IntTextModel",
          "model_module_version": "1.5.0",
          "state": {
            "_dom_classes": [],
            "_model_module": "@jupyter-widgets/controls",
            "_model_module_version": "1.5.0",
            "_model_name": "IntTextModel",
            "_view_count": null,
            "_view_module": "@jupyter-widgets/controls",
            "_view_module_version": "1.5.0",
            "_view_name": "IntTextView",
            "continuous_update": false,
            "description": "Index:",
            "description_tooltip": null,
            "disabled": false,
            "layout": "IPY_MODEL_2e0566e53a8a40a28ebccd0c5b8e3f95",
            "step": 1,
            "style": "IPY_MODEL_d090ffb7e534490c8e31afb7ebd38505",
            "value": 3
          }
        },
        "ca6d61959a29460eacfc43dc34a000e7": {
          "model_module": "@jupyter-widgets/controls",
          "model_name": "ButtonModel",
          "model_module_version": "1.5.0",
          "state": {
            "_dom_classes": [],
            "_model_module": "@jupyter-widgets/controls",
            "_model_module_version": "1.5.0",
            "_model_name": "ButtonModel",
            "_view_count": null,
            "_view_module": "@jupyter-widgets/controls",
            "_view_module_version": "1.5.0",
            "_view_name": "ButtonView",
            "button_style": "",
            "description": "Access Element",
            "disabled": false,
            "icon": "",
            "layout": "IPY_MODEL_6e69ee37843648129e99954eec4523bd",
            "style": "IPY_MODEL_9b378ad5c8ae46f6aef33a57620bdb5f",
            "tooltip": ""
          }
        },
        "38f2a2a5990f4f8aa18e34c8b6eae1de": {
          "model_module": "@jupyter-widgets/output",
          "model_name": "OutputModel",
          "model_module_version": "1.0.0",
          "state": {
            "_dom_classes": [],
            "_model_module": "@jupyter-widgets/output",
            "_model_module_version": "1.0.0",
            "_model_name": "OutputModel",
            "_view_count": null,
            "_view_module": "@jupyter-widgets/output",
            "_view_module_version": "1.0.0",
            "_view_name": "OutputView",
            "layout": "IPY_MODEL_c2969cdf9a1049adb2a2dda17080bae8",
            "msg_id": "",
            "outputs": [
              {
                "output_type": "stream",
                "name": "stdout",
                "text": [
                  "Original tuple: (10, 20, 30, 40, 50)\n",
                  "Element at index 3: 40\n"
                ]
              }
            ]
          }
        },
        "a79e6cf1165344bcab0e525852e300e5": {
          "model_module": "@jupyter-widgets/base",
          "model_name": "LayoutModel",
          "model_module_version": "1.2.0",
          "state": {
            "_model_module": "@jupyter-widgets/base",
            "_model_module_version": "1.2.0",
            "_model_name": "LayoutModel",
            "_view_count": null,
            "_view_module": "@jupyter-widgets/base",
            "_view_module_version": "1.2.0",
            "_view_name": "LayoutView",
            "align_content": null,
            "align_items": null,
            "align_self": null,
            "border": null,
            "bottom": null,
            "display": null,
            "flex": null,
            "flex_flow": null,
            "grid_area": null,
            "grid_auto_columns": null,
            "grid_auto_flow": null,
            "grid_auto_rows": null,
            "grid_column": null,
            "grid_gap": null,
            "grid_row": null,
            "grid_template_areas": null,
            "grid_template_columns": null,
            "grid_template_rows": null,
            "height": null,
            "justify_content": null,
            "justify_items": null,
            "left": null,
            "margin": null,
            "max_height": null,
            "max_width": null,
            "min_height": null,
            "min_width": null,
            "object_fit": null,
            "object_position": null,
            "order": null,
            "overflow": null,
            "overflow_x": null,
            "overflow_y": null,
            "padding": null,
            "right": null,
            "top": null,
            "visibility": null,
            "width": null
          }
        },
        "fa23b1e922074937a31fd7d05e52b811": {
          "model_module": "@jupyter-widgets/base",
          "model_name": "LayoutModel",
          "model_module_version": "1.2.0",
          "state": {
            "_model_module": "@jupyter-widgets/base",
            "_model_module_version": "1.2.0",
            "_model_name": "LayoutModel",
            "_view_count": null,
            "_view_module": "@jupyter-widgets/base",
            "_view_module_version": "1.2.0",
            "_view_name": "LayoutView",
            "align_content": null,
            "align_items": null,
            "align_self": null,
            "border": null,
            "bottom": null,
            "display": null,
            "flex": null,
            "flex_flow": null,
            "grid_area": null,
            "grid_auto_columns": null,
            "grid_auto_flow": null,
            "grid_auto_rows": null,
            "grid_column": null,
            "grid_gap": null,
            "grid_row": null,
            "grid_template_areas": null,
            "grid_template_columns": null,
            "grid_template_rows": null,
            "height": null,
            "justify_content": null,
            "justify_items": null,
            "left": null,
            "margin": null,
            "max_height": null,
            "max_width": null,
            "min_height": null,
            "min_width": null,
            "object_fit": null,
            "object_position": null,
            "order": null,
            "overflow": null,
            "overflow_x": null,
            "overflow_y": null,
            "padding": null,
            "right": null,
            "top": null,
            "visibility": null,
            "width": null
          }
        },
        "409df87ca07442869a0953fd3e48e56a": {
          "model_module": "@jupyter-widgets/controls",
          "model_name": "DescriptionStyleModel",
          "model_module_version": "1.5.0",
          "state": {
            "_model_module": "@jupyter-widgets/controls",
            "_model_module_version": "1.5.0",
            "_model_name": "DescriptionStyleModel",
            "_view_count": null,
            "_view_module": "@jupyter-widgets/base",
            "_view_module_version": "1.2.0",
            "_view_name": "StyleView",
            "description_width": ""
          }
        },
        "2e0566e53a8a40a28ebccd0c5b8e3f95": {
          "model_module": "@jupyter-widgets/base",
          "model_name": "LayoutModel",
          "model_module_version": "1.2.0",
          "state": {
            "_model_module": "@jupyter-widgets/base",
            "_model_module_version": "1.2.0",
            "_model_name": "LayoutModel",
            "_view_count": null,
            "_view_module": "@jupyter-widgets/base",
            "_view_module_version": "1.2.0",
            "_view_name": "LayoutView",
            "align_content": null,
            "align_items": null,
            "align_self": null,
            "border": null,
            "bottom": null,
            "display": null,
            "flex": null,
            "flex_flow": null,
            "grid_area": null,
            "grid_auto_columns": null,
            "grid_auto_flow": null,
            "grid_auto_rows": null,
            "grid_column": null,
            "grid_gap": null,
            "grid_row": null,
            "grid_template_areas": null,
            "grid_template_columns": null,
            "grid_template_rows": null,
            "height": null,
            "justify_content": null,
            "justify_items": null,
            "left": null,
            "margin": null,
            "max_height": null,
            "max_width": null,
            "min_height": null,
            "min_width": null,
            "object_fit": null,
            "object_position": null,
            "order": null,
            "overflow": null,
            "overflow_x": null,
            "overflow_y": null,
            "padding": null,
            "right": null,
            "top": null,
            "visibility": null,
            "width": null
          }
        },
        "d090ffb7e534490c8e31afb7ebd38505": {
          "model_module": "@jupyter-widgets/controls",
          "model_name": "DescriptionStyleModel",
          "model_module_version": "1.5.0",
          "state": {
            "_model_module": "@jupyter-widgets/controls",
            "_model_module_version": "1.5.0",
            "_model_name": "DescriptionStyleModel",
            "_view_count": null,
            "_view_module": "@jupyter-widgets/base",
            "_view_module_version": "1.2.0",
            "_view_name": "StyleView",
            "description_width": ""
          }
        },
        "6e69ee37843648129e99954eec4523bd": {
          "model_module": "@jupyter-widgets/base",
          "model_name": "LayoutModel",
          "model_module_version": "1.2.0",
          "state": {
            "_model_module": "@jupyter-widgets/base",
            "_model_module_version": "1.2.0",
            "_model_name": "LayoutModel",
            "_view_count": null,
            "_view_module": "@jupyter-widgets/base",
            "_view_module_version": "1.2.0",
            "_view_name": "LayoutView",
            "align_content": null,
            "align_items": null,
            "align_self": null,
            "border": null,
            "bottom": null,
            "display": null,
            "flex": null,
            "flex_flow": null,
            "grid_area": null,
            "grid_auto_columns": null,
            "grid_auto_flow": null,
            "grid_auto_rows": null,
            "grid_column": null,
            "grid_gap": null,
            "grid_row": null,
            "grid_template_areas": null,
            "grid_template_columns": null,
            "grid_template_rows": null,
            "height": null,
            "justify_content": null,
            "justify_items": null,
            "left": null,
            "margin": null,
            "max_height": null,
            "max_width": null,
            "min_height": null,
            "min_width": null,
            "object_fit": null,
            "object_position": null,
            "order": null,
            "overflow": null,
            "overflow_x": null,
            "overflow_y": null,
            "padding": null,
            "right": null,
            "top": null,
            "visibility": null,
            "width": null
          }
        },
        "9b378ad5c8ae46f6aef33a57620bdb5f": {
          "model_module": "@jupyter-widgets/controls",
          "model_name": "ButtonStyleModel",
          "model_module_version": "1.5.0",
          "state": {
            "_model_module": "@jupyter-widgets/controls",
            "_model_module_version": "1.5.0",
            "_model_name": "ButtonStyleModel",
            "_view_count": null,
            "_view_module": "@jupyter-widgets/base",
            "_view_module_version": "1.2.0",
            "_view_name": "StyleView",
            "button_color": null,
            "font_weight": ""
          }
        },
        "c2969cdf9a1049adb2a2dda17080bae8": {
          "model_module": "@jupyter-widgets/base",
          "model_name": "LayoutModel",
          "model_module_version": "1.2.0",
          "state": {
            "_model_module": "@jupyter-widgets/base",
            "_model_module_version": "1.2.0",
            "_model_name": "LayoutModel",
            "_view_count": null,
            "_view_module": "@jupyter-widgets/base",
            "_view_module_version": "1.2.0",
            "_view_name": "LayoutView",
            "align_content": null,
            "align_items": null,
            "align_self": null,
            "border": null,
            "bottom": null,
            "display": null,
            "flex": null,
            "flex_flow": null,
            "grid_area": null,
            "grid_auto_columns": null,
            "grid_auto_flow": null,
            "grid_auto_rows": null,
            "grid_column": null,
            "grid_gap": null,
            "grid_row": null,
            "grid_template_areas": null,
            "grid_template_columns": null,
            "grid_template_rows": null,
            "height": null,
            "justify_content": null,
            "justify_items": null,
            "left": null,
            "margin": null,
            "max_height": null,
            "max_width": null,
            "min_height": null,
            "min_width": null,
            "object_fit": null,
            "object_position": null,
            "order": null,
            "overflow": null,
            "overflow_x": null,
            "overflow_y": null,
            "padding": null,
            "right": null,
            "top": null,
            "visibility": null,
            "width": null
          }
        },
        "61535115dc954a9085f5fe8200dc95ef": {
          "model_module": "@jupyter-widgets/controls",
          "model_name": "VBoxModel",
          "model_module_version": "1.5.0",
          "state": {
            "_dom_classes": [],
            "_model_module": "@jupyter-widgets/controls",
            "_model_module_version": "1.5.0",
            "_model_name": "VBoxModel",
            "_view_count": null,
            "_view_module": "@jupyter-widgets/controls",
            "_view_module_version": "1.5.0",
            "_view_name": "VBoxView",
            "box_style": "",
            "children": [
              "IPY_MODEL_9f5c52694e294d66974abbc20c88b122",
              "IPY_MODEL_db38bbab4302409b9b296371562b29cc",
              "IPY_MODEL_711c3dc56deb42ac986ddc8df0f04434",
              "IPY_MODEL_eddd60f5a73c4b0585cc1e7c4be294a3",
              "IPY_MODEL_60b47e8dfe9840d792484ae8032a8f42",
              "IPY_MODEL_500f9591241f42b4b67d8d570179f3ba"
            ],
            "layout": "IPY_MODEL_6aeacc268f6941fba0ffdee6f63cc60b"
          }
        },
        "9f5c52694e294d66974abbc20c88b122": {
          "model_module": "@jupyter-widgets/controls",
          "model_name": "TextareaModel",
          "model_module_version": "1.5.0",
          "state": {
            "_dom_classes": [],
            "_model_module": "@jupyter-widgets/controls",
            "_model_module_version": "1.5.0",
            "_model_name": "TextareaModel",
            "_view_count": null,
            "_view_module": "@jupyter-widgets/controls",
            "_view_module_version": "1.5.0",
            "_view_name": "TextareaView",
            "continuous_update": true,
            "description": "Enter a dictionary:",
            "description_tooltip": null,
            "disabled": false,
            "layout": "IPY_MODEL_cd3431ce0cd54dd6b14a7e7029d9d0a4",
            "placeholder": "​",
            "rows": null,
            "style": "IPY_MODEL_59a22a4b8d1d455ab0db17e6b4888a36",
            "value": "{\"a\": 1, \"b\": 2, \"c\": 3}"
          }
        },
        "db38bbab4302409b9b296371562b29cc": {
          "model_module": "@jupyter-widgets/controls",
          "model_name": "DropdownModel",
          "model_module_version": "1.5.0",
          "state": {
            "_dom_classes": [],
            "_model_module": "@jupyter-widgets/controls",
            "_model_module_version": "1.5.0",
            "_model_name": "DropdownModel",
            "_options_labels": [
              "add/update",
              "access",
              "delete"
            ],
            "_view_count": null,
            "_view_module": "@jupyter-widgets/controls",
            "_view_module_version": "1.5.0",
            "_view_name": "DropdownView",
            "description": "Action:",
            "description_tooltip": null,
            "disabled": false,
            "index": 0,
            "layout": "IPY_MODEL_507d9f82aedd472d8afcf3d54e3e3342",
            "style": "IPY_MODEL_5a0a872dcaa0492ba409087309613d88"
          }
        },
        "711c3dc56deb42ac986ddc8df0f04434": {
          "model_module": "@jupyter-widgets/controls",
          "model_name": "TextModel",
          "model_module_version": "1.5.0",
          "state": {
            "_dom_classes": [],
            "_model_module": "@jupyter-widgets/controls",
            "_model_module_version": "1.5.0",
            "_model_name": "TextModel",
            "_view_count": null,
            "_view_module": "@jupyter-widgets/controls",
            "_view_module_version": "1.5.0",
            "_view_name": "TextView",
            "continuous_update": true,
            "description": "Key:",
            "description_tooltip": null,
            "disabled": false,
            "layout": "IPY_MODEL_d02639cb59964527bad9a48ca1ded491",
            "placeholder": "​",
            "style": "IPY_MODEL_33600a799b184faf94abaf99b552a3be",
            "value": "d"
          }
        },
        "eddd60f5a73c4b0585cc1e7c4be294a3": {
          "model_module": "@jupyter-widgets/controls",
          "model_name": "TextModel",
          "model_module_version": "1.5.0",
          "state": {
            "_dom_classes": [],
            "_model_module": "@jupyter-widgets/controls",
            "_model_module_version": "1.5.0",
            "_model_name": "TextModel",
            "_view_count": null,
            "_view_module": "@jupyter-widgets/controls",
            "_view_module_version": "1.5.0",
            "_view_name": "TextView",
            "continuous_update": true,
            "description": "Value (for add/update):",
            "description_tooltip": null,
            "disabled": false,
            "layout": "IPY_MODEL_086a3405ee67470b8a36a1bcf30b3d00",
            "placeholder": "​",
            "style": "IPY_MODEL_0df34eb65ac7488a852bee3a4928ebab",
            "value": "4"
          }
        },
        "60b47e8dfe9840d792484ae8032a8f42": {
          "model_module": "@jupyter-widgets/controls",
          "model_name": "ButtonModel",
          "model_module_version": "1.5.0",
          "state": {
            "_dom_classes": [],
            "_model_module": "@jupyter-widgets/controls",
            "_model_module_version": "1.5.0",
            "_model_name": "ButtonModel",
            "_view_count": null,
            "_view_module": "@jupyter-widgets/controls",
            "_view_module_version": "1.5.0",
            "_view_name": "ButtonView",
            "button_style": "",
            "description": "Perform Action",
            "disabled": false,
            "icon": "",
            "layout": "IPY_MODEL_dfaae3e2979748d9a5ce43f28c498250",
            "style": "IPY_MODEL_794e110d811d40fa9dd973cb85cf2a92",
            "tooltip": ""
          }
        },
        "500f9591241f42b4b67d8d570179f3ba": {
          "model_module": "@jupyter-widgets/output",
          "model_name": "OutputModel",
          "model_module_version": "1.0.0",
          "state": {
            "_dom_classes": [],
            "_model_module": "@jupyter-widgets/output",
            "_model_module_version": "1.0.0",
            "_model_name": "OutputModel",
            "_view_count": null,
            "_view_module": "@jupyter-widgets/output",
            "_view_module_version": "1.0.0",
            "_view_name": "OutputView",
            "layout": "IPY_MODEL_cf51aba6e6ea49199b046088ba4890f1",
            "msg_id": "",
            "outputs": [
              {
                "output_type": "stream",
                "name": "stdout",
                "text": [
                  "Original dictionary: {'a': 1, 'b': 2, 'c': 3}\n",
                  "After adding/updating key 'd': {'a': 1, 'b': 2, 'c': 3, 'd': 4}\n"
                ]
              }
            ]
          }
        },
        "6aeacc268f6941fba0ffdee6f63cc60b": {
          "model_module": "@jupyter-widgets/base",
          "model_name": "LayoutModel",
          "model_module_version": "1.2.0",
          "state": {
            "_model_module": "@jupyter-widgets/base",
            "_model_module_version": "1.2.0",
            "_model_name": "LayoutModel",
            "_view_count": null,
            "_view_module": "@jupyter-widgets/base",
            "_view_module_version": "1.2.0",
            "_view_name": "LayoutView",
            "align_content": null,
            "align_items": null,
            "align_self": null,
            "border": null,
            "bottom": null,
            "display": null,
            "flex": null,
            "flex_flow": null,
            "grid_area": null,
            "grid_auto_columns": null,
            "grid_auto_flow": null,
            "grid_auto_rows": null,
            "grid_column": null,
            "grid_gap": null,
            "grid_row": null,
            "grid_template_areas": null,
            "grid_template_columns": null,
            "grid_template_rows": null,
            "height": null,
            "justify_content": null,
            "justify_items": null,
            "left": null,
            "margin": null,
            "max_height": null,
            "max_width": null,
            "min_height": null,
            "min_width": null,
            "object_fit": null,
            "object_position": null,
            "order": null,
            "overflow": null,
            "overflow_x": null,
            "overflow_y": null,
            "padding": null,
            "right": null,
            "top": null,
            "visibility": null,
            "width": null
          }
        },
        "cd3431ce0cd54dd6b14a7e7029d9d0a4": {
          "model_module": "@jupyter-widgets/base",
          "model_name": "LayoutModel",
          "model_module_version": "1.2.0",
          "state": {
            "_model_module": "@jupyter-widgets/base",
            "_model_module_version": "1.2.0",
            "_model_name": "LayoutModel",
            "_view_count": null,
            "_view_module": "@jupyter-widgets/base",
            "_view_module_version": "1.2.0",
            "_view_name": "LayoutView",
            "align_content": null,
            "align_items": null,
            "align_self": null,
            "border": null,
            "bottom": null,
            "display": null,
            "flex": null,
            "flex_flow": null,
            "grid_area": null,
            "grid_auto_columns": null,
            "grid_auto_flow": null,
            "grid_auto_rows": null,
            "grid_column": null,
            "grid_gap": null,
            "grid_row": null,
            "grid_template_areas": null,
            "grid_template_columns": null,
            "grid_template_rows": null,
            "height": null,
            "justify_content": null,
            "justify_items": null,
            "left": null,
            "margin": null,
            "max_height": null,
            "max_width": null,
            "min_height": null,
            "min_width": null,
            "object_fit": null,
            "object_position": null,
            "order": null,
            "overflow": null,
            "overflow_x": null,
            "overflow_y": null,
            "padding": null,
            "right": null,
            "top": null,
            "visibility": null,
            "width": null
          }
        },
        "59a22a4b8d1d455ab0db17e6b4888a36": {
          "model_module": "@jupyter-widgets/controls",
          "model_name": "DescriptionStyleModel",
          "model_module_version": "1.5.0",
          "state": {
            "_model_module": "@jupyter-widgets/controls",
            "_model_module_version": "1.5.0",
            "_model_name": "DescriptionStyleModel",
            "_view_count": null,
            "_view_module": "@jupyter-widgets/base",
            "_view_module_version": "1.2.0",
            "_view_name": "StyleView",
            "description_width": ""
          }
        },
        "507d9f82aedd472d8afcf3d54e3e3342": {
          "model_module": "@jupyter-widgets/base",
          "model_name": "LayoutModel",
          "model_module_version": "1.2.0",
          "state": {
            "_model_module": "@jupyter-widgets/base",
            "_model_module_version": "1.2.0",
            "_model_name": "LayoutModel",
            "_view_count": null,
            "_view_module": "@jupyter-widgets/base",
            "_view_module_version": "1.2.0",
            "_view_name": "LayoutView",
            "align_content": null,
            "align_items": null,
            "align_self": null,
            "border": null,
            "bottom": null,
            "display": null,
            "flex": null,
            "flex_flow": null,
            "grid_area": null,
            "grid_auto_columns": null,
            "grid_auto_flow": null,
            "grid_auto_rows": null,
            "grid_column": null,
            "grid_gap": null,
            "grid_row": null,
            "grid_template_areas": null,
            "grid_template_columns": null,
            "grid_template_rows": null,
            "height": null,
            "justify_content": null,
            "justify_items": null,
            "left": null,
            "margin": null,
            "max_height": null,
            "max_width": null,
            "min_height": null,
            "min_width": null,
            "object_fit": null,
            "object_position": null,
            "order": null,
            "overflow": null,
            "overflow_x": null,
            "overflow_y": null,
            "padding": null,
            "right": null,
            "top": null,
            "visibility": null,
            "width": null
          }
        },
        "5a0a872dcaa0492ba409087309613d88": {
          "model_module": "@jupyter-widgets/controls",
          "model_name": "DescriptionStyleModel",
          "model_module_version": "1.5.0",
          "state": {
            "_model_module": "@jupyter-widgets/controls",
            "_model_module_version": "1.5.0",
            "_model_name": "DescriptionStyleModel",
            "_view_count": null,
            "_view_module": "@jupyter-widgets/base",
            "_view_module_version": "1.2.0",
            "_view_name": "StyleView",
            "description_width": ""
          }
        },
        "d02639cb59964527bad9a48ca1ded491": {
          "model_module": "@jupyter-widgets/base",
          "model_name": "LayoutModel",
          "model_module_version": "1.2.0",
          "state": {
            "_model_module": "@jupyter-widgets/base",
            "_model_module_version": "1.2.0",
            "_model_name": "LayoutModel",
            "_view_count": null,
            "_view_module": "@jupyter-widgets/base",
            "_view_module_version": "1.2.0",
            "_view_name": "LayoutView",
            "align_content": null,
            "align_items": null,
            "align_self": null,
            "border": null,
            "bottom": null,
            "display": null,
            "flex": null,
            "flex_flow": null,
            "grid_area": null,
            "grid_auto_columns": null,
            "grid_auto_flow": null,
            "grid_auto_rows": null,
            "grid_column": null,
            "grid_gap": null,
            "grid_row": null,
            "grid_template_areas": null,
            "grid_template_columns": null,
            "grid_template_rows": null,
            "height": null,
            "justify_content": null,
            "justify_items": null,
            "left": null,
            "margin": null,
            "max_height": null,
            "max_width": null,
            "min_height": null,
            "min_width": null,
            "object_fit": null,
            "object_position": null,
            "order": null,
            "overflow": null,
            "overflow_x": null,
            "overflow_y": null,
            "padding": null,
            "right": null,
            "top": null,
            "visibility": null,
            "width": null
          }
        },
        "33600a799b184faf94abaf99b552a3be": {
          "model_module": "@jupyter-widgets/controls",
          "model_name": "DescriptionStyleModel",
          "model_module_version": "1.5.0",
          "state": {
            "_model_module": "@jupyter-widgets/controls",
            "_model_module_version": "1.5.0",
            "_model_name": "DescriptionStyleModel",
            "_view_count": null,
            "_view_module": "@jupyter-widgets/base",
            "_view_module_version": "1.2.0",
            "_view_name": "StyleView",
            "description_width": ""
          }
        },
        "086a3405ee67470b8a36a1bcf30b3d00": {
          "model_module": "@jupyter-widgets/base",
          "model_name": "LayoutModel",
          "model_module_version": "1.2.0",
          "state": {
            "_model_module": "@jupyter-widgets/base",
            "_model_module_version": "1.2.0",
            "_model_name": "LayoutModel",
            "_view_count": null,
            "_view_module": "@jupyter-widgets/base",
            "_view_module_version": "1.2.0",
            "_view_name": "LayoutView",
            "align_content": null,
            "align_items": null,
            "align_self": null,
            "border": null,
            "bottom": null,
            "display": null,
            "flex": null,
            "flex_flow": null,
            "grid_area": null,
            "grid_auto_columns": null,
            "grid_auto_flow": null,
            "grid_auto_rows": null,
            "grid_column": null,
            "grid_gap": null,
            "grid_row": null,
            "grid_template_areas": null,
            "grid_template_columns": null,
            "grid_template_rows": null,
            "height": null,
            "justify_content": null,
            "justify_items": null,
            "left": null,
            "margin": null,
            "max_height": null,
            "max_width": null,
            "min_height": null,
            "min_width": null,
            "object_fit": null,
            "object_position": null,
            "order": null,
            "overflow": null,
            "overflow_x": null,
            "overflow_y": null,
            "padding": null,
            "right": null,
            "top": null,
            "visibility": "visible",
            "width": null
          }
        },
        "0df34eb65ac7488a852bee3a4928ebab": {
          "model_module": "@jupyter-widgets/controls",
          "model_name": "DescriptionStyleModel",
          "model_module_version": "1.5.0",
          "state": {
            "_model_module": "@jupyter-widgets/controls",
            "_model_module_version": "1.5.0",
            "_model_name": "DescriptionStyleModel",
            "_view_count": null,
            "_view_module": "@jupyter-widgets/base",
            "_view_module_version": "1.2.0",
            "_view_name": "StyleView",
            "description_width": ""
          }
        },
        "dfaae3e2979748d9a5ce43f28c498250": {
          "model_module": "@jupyter-widgets/base",
          "model_name": "LayoutModel",
          "model_module_version": "1.2.0",
          "state": {
            "_model_module": "@jupyter-widgets/base",
            "_model_module_version": "1.2.0",
            "_model_name": "LayoutModel",
            "_view_count": null,
            "_view_module": "@jupyter-widgets/base",
            "_view_module_version": "1.2.0",
            "_view_name": "LayoutView",
            "align_content": null,
            "align_items": null,
            "align_self": null,
            "border": null,
            "bottom": null,
            "display": null,
            "flex": null,
            "flex_flow": null,
            "grid_area": null,
            "grid_auto_columns": null,
            "grid_auto_flow": null,
            "grid_auto_rows": null,
            "grid_column": null,
            "grid_gap": null,
            "grid_row": null,
            "grid_template_areas": null,
            "grid_template_columns": null,
            "grid_template_rows": null,
            "height": null,
            "justify_content": null,
            "justify_items": null,
            "left": null,
            "margin": null,
            "max_height": null,
            "max_width": null,
            "min_height": null,
            "min_width": null,
            "object_fit": null,
            "object_position": null,
            "order": null,
            "overflow": null,
            "overflow_x": null,
            "overflow_y": null,
            "padding": null,
            "right": null,
            "top": null,
            "visibility": null,
            "width": null
          }
        },
        "794e110d811d40fa9dd973cb85cf2a92": {
          "model_module": "@jupyter-widgets/controls",
          "model_name": "ButtonStyleModel",
          "model_module_version": "1.5.0",
          "state": {
            "_model_module": "@jupyter-widgets/controls",
            "_model_module_version": "1.5.0",
            "_model_name": "ButtonStyleModel",
            "_view_count": null,
            "_view_module": "@jupyter-widgets/base",
            "_view_module_version": "1.2.0",
            "_view_name": "StyleView",
            "button_color": null,
            "font_weight": ""
          }
        },
        "cf51aba6e6ea49199b046088ba4890f1": {
          "model_module": "@jupyter-widgets/base",
          "model_name": "LayoutModel",
          "model_module_version": "1.2.0",
          "state": {
            "_model_module": "@jupyter-widgets/base",
            "_model_module_version": "1.2.0",
            "_model_name": "LayoutModel",
            "_view_count": null,
            "_view_module": "@jupyter-widgets/base",
            "_view_module_version": "1.2.0",
            "_view_name": "LayoutView",
            "align_content": null,
            "align_items": null,
            "align_self": null,
            "border": null,
            "bottom": null,
            "display": null,
            "flex": null,
            "flex_flow": null,
            "grid_area": null,
            "grid_auto_columns": null,
            "grid_auto_flow": null,
            "grid_auto_rows": null,
            "grid_column": null,
            "grid_gap": null,
            "grid_row": null,
            "grid_template_areas": null,
            "grid_template_columns": null,
            "grid_template_rows": null,
            "height": null,
            "justify_content": null,
            "justify_items": null,
            "left": null,
            "margin": null,
            "max_height": null,
            "max_width": null,
            "min_height": null,
            "min_width": null,
            "object_fit": null,
            "object_position": null,
            "order": null,
            "overflow": null,
            "overflow_x": null,
            "overflow_y": null,
            "padding": null,
            "right": null,
            "top": null,
            "visibility": null,
            "width": null
          }
        },
        "27887aeb5d004b35b4df4648199473ab": {
          "model_module": "@jupyter-widgets/controls",
          "model_name": "VBoxModel",
          "model_module_version": "1.5.0",
          "state": {
            "_dom_classes": [],
            "_model_module": "@jupyter-widgets/controls",
            "_model_module_version": "1.5.0",
            "_model_name": "VBoxModel",
            "_view_count": null,
            "_view_module": "@jupyter-widgets/controls",
            "_view_module_version": "1.5.0",
            "_view_name": "VBoxView",
            "box_style": "",
            "children": [
              "IPY_MODEL_04b33174fe074b6d9bfec37f239e4244",
              "IPY_MODEL_f620635d867749c7acb29511d2ca854f",
              "IPY_MODEL_3800c32612344780879e31e4274d420a",
              "IPY_MODEL_3435f2d7ac1b47a786a250545c6a7c71",
              "IPY_MODEL_81a45ef9ad4a4c1182b04913923a2e4e"
            ],
            "layout": "IPY_MODEL_0e4541fec2f84b9a9789ae7246fe38a2"
          }
        },
        "04b33174fe074b6d9bfec37f239e4244": {
          "model_module": "@jupyter-widgets/controls",
          "model_name": "TextareaModel",
          "model_module_version": "1.5.0",
          "state": {
            "_dom_classes": [],
            "_model_module": "@jupyter-widgets/controls",
            "_model_module_version": "1.5.0",
            "_model_name": "TextareaModel",
            "_view_count": null,
            "_view_module": "@jupyter-widgets/controls",
            "_view_module_version": "1.5.0",
            "_view_name": "TextareaView",
            "continuous_update": true,
            "description": "Enter Set 1 (e.g., {1, 2, 3}):",
            "description_tooltip": null,
            "disabled": false,
            "layout": "IPY_MODEL_41f36b6382d84c9ea84a0b3eed11e5f7",
            "placeholder": "​",
            "rows": null,
            "style": "IPY_MODEL_8cae90a14f3c4b27b8c53fac785a091e",
            "value": "{1, 2, 3, 4}"
          }
        },
        "f620635d867749c7acb29511d2ca854f": {
          "model_module": "@jupyter-widgets/controls",
          "model_name": "TextareaModel",
          "model_module_version": "1.5.0",
          "state": {
            "_dom_classes": [],
            "_model_module": "@jupyter-widgets/controls",
            "_model_module_version": "1.5.0",
            "_model_name": "TextareaModel",
            "_view_count": null,
            "_view_module": "@jupyter-widgets/controls",
            "_view_module_version": "1.5.0",
            "_view_name": "TextareaView",
            "continuous_update": true,
            "description": "Enter Set 2 (e.g., {3, 4, 5}):",
            "description_tooltip": null,
            "disabled": false,
            "layout": "IPY_MODEL_0d33fc5fec254fc785fef96258ecb561",
            "placeholder": "​",
            "rows": null,
            "style": "IPY_MODEL_a99fbba08e714181a9e429edaffe2438",
            "value": "{3, 4, 5, 6}"
          }
        },
        "3800c32612344780879e31e4274d420a": {
          "model_module": "@jupyter-widgets/controls",
          "model_name": "DropdownModel",
          "model_module_version": "1.5.0",
          "state": {
            "_dom_classes": [],
            "_model_module": "@jupyter-widgets/controls",
            "_model_module_version": "1.5.0",
            "_model_name": "DropdownModel",
            "_options_labels": [
              "union",
              "intersection",
              "difference (set1 - set2)",
              "symmetric difference"
            ],
            "_view_count": null,
            "_view_module": "@jupyter-widgets/controls",
            "_view_module_version": "1.5.0",
            "_view_name": "DropdownView",
            "description": "Operation:",
            "description_tooltip": null,
            "disabled": false,
            "index": 0,
            "layout": "IPY_MODEL_39f075f6f6284ba49c0967e5cf64cd90",
            "style": "IPY_MODEL_3ee05eaa2dfa4f29a84f920581adfa40"
          }
        },
        "3435f2d7ac1b47a786a250545c6a7c71": {
          "model_module": "@jupyter-widgets/controls",
          "model_name": "ButtonModel",
          "model_module_version": "1.5.0",
          "state": {
            "_dom_classes": [],
            "_model_module": "@jupyter-widgets/controls",
            "_model_module_version": "1.5.0",
            "_model_name": "ButtonModel",
            "_view_count": null,
            "_view_module": "@jupyter-widgets/controls",
            "_view_module_version": "1.5.0",
            "_view_name": "ButtonView",
            "button_style": "",
            "description": "Perform Operation",
            "disabled": false,
            "icon": "",
            "layout": "IPY_MODEL_f251e585e44d4671bcd790801bfcf759",
            "style": "IPY_MODEL_3421602ee8c44b58bbbe2ec68e0457bd",
            "tooltip": ""
          }
        },
        "81a45ef9ad4a4c1182b04913923a2e4e": {
          "model_module": "@jupyter-widgets/output",
          "model_name": "OutputModel",
          "model_module_version": "1.0.0",
          "state": {
            "_dom_classes": [],
            "_model_module": "@jupyter-widgets/output",
            "_model_module_version": "1.0.0",
            "_model_name": "OutputModel",
            "_view_count": null,
            "_view_module": "@jupyter-widgets/output",
            "_view_module_version": "1.0.0",
            "_view_name": "OutputView",
            "layout": "IPY_MODEL_73bcce007bfd4ae381cac81fbd8f8213",
            "msg_id": "",
            "outputs": []
          }
        },
        "0e4541fec2f84b9a9789ae7246fe38a2": {
          "model_module": "@jupyter-widgets/base",
          "model_name": "LayoutModel",
          "model_module_version": "1.2.0",
          "state": {
            "_model_module": "@jupyter-widgets/base",
            "_model_module_version": "1.2.0",
            "_model_name": "LayoutModel",
            "_view_count": null,
            "_view_module": "@jupyter-widgets/base",
            "_view_module_version": "1.2.0",
            "_view_name": "LayoutView",
            "align_content": null,
            "align_items": null,
            "align_self": null,
            "border": null,
            "bottom": null,
            "display": null,
            "flex": null,
            "flex_flow": null,
            "grid_area": null,
            "grid_auto_columns": null,
            "grid_auto_flow": null,
            "grid_auto_rows": null,
            "grid_column": null,
            "grid_gap": null,
            "grid_row": null,
            "grid_template_areas": null,
            "grid_template_columns": null,
            "grid_template_rows": null,
            "height": null,
            "justify_content": null,
            "justify_items": null,
            "left": null,
            "margin": null,
            "max_height": null,
            "max_width": null,
            "min_height": null,
            "min_width": null,
            "object_fit": null,
            "object_position": null,
            "order": null,
            "overflow": null,
            "overflow_x": null,
            "overflow_y": null,
            "padding": null,
            "right": null,
            "top": null,
            "visibility": null,
            "width": null
          }
        },
        "41f36b6382d84c9ea84a0b3eed11e5f7": {
          "model_module": "@jupyter-widgets/base",
          "model_name": "LayoutModel",
          "model_module_version": "1.2.0",
          "state": {
            "_model_module": "@jupyter-widgets/base",
            "_model_module_version": "1.2.0",
            "_model_name": "LayoutModel",
            "_view_count": null,
            "_view_module": "@jupyter-widgets/base",
            "_view_module_version": "1.2.0",
            "_view_name": "LayoutView",
            "align_content": null,
            "align_items": null,
            "align_self": null,
            "border": null,
            "bottom": null,
            "display": null,
            "flex": null,
            "flex_flow": null,
            "grid_area": null,
            "grid_auto_columns": null,
            "grid_auto_flow": null,
            "grid_auto_rows": null,
            "grid_column": null,
            "grid_gap": null,
            "grid_row": null,
            "grid_template_areas": null,
            "grid_template_columns": null,
            "grid_template_rows": null,
            "height": null,
            "justify_content": null,
            "justify_items": null,
            "left": null,
            "margin": null,
            "max_height": null,
            "max_width": null,
            "min_height": null,
            "min_width": null,
            "object_fit": null,
            "object_position": null,
            "order": null,
            "overflow": null,
            "overflow_x": null,
            "overflow_y": null,
            "padding": null,
            "right": null,
            "top": null,
            "visibility": null,
            "width": null
          }
        },
        "8cae90a14f3c4b27b8c53fac785a091e": {
          "model_module": "@jupyter-widgets/controls",
          "model_name": "DescriptionStyleModel",
          "model_module_version": "1.5.0",
          "state": {
            "_model_module": "@jupyter-widgets/controls",
            "_model_module_version": "1.5.0",
            "_model_name": "DescriptionStyleModel",
            "_view_count": null,
            "_view_module": "@jupyter-widgets/base",
            "_view_module_version": "1.2.0",
            "_view_name": "StyleView",
            "description_width": ""
          }
        },
        "0d33fc5fec254fc785fef96258ecb561": {
          "model_module": "@jupyter-widgets/base",
          "model_name": "LayoutModel",
          "model_module_version": "1.2.0",
          "state": {
            "_model_module": "@jupyter-widgets/base",
            "_model_module_version": "1.2.0",
            "_model_name": "LayoutModel",
            "_view_count": null,
            "_view_module": "@jupyter-widgets/base",
            "_view_module_version": "1.2.0",
            "_view_name": "LayoutView",
            "align_content": null,
            "align_items": null,
            "align_self": null,
            "border": null,
            "bottom": null,
            "display": null,
            "flex": null,
            "flex_flow": null,
            "grid_area": null,
            "grid_auto_columns": null,
            "grid_auto_flow": null,
            "grid_auto_rows": null,
            "grid_column": null,
            "grid_gap": null,
            "grid_row": null,
            "grid_template_areas": null,
            "grid_template_columns": null,
            "grid_template_rows": null,
            "height": null,
            "justify_content": null,
            "justify_items": null,
            "left": null,
            "margin": null,
            "max_height": null,
            "max_width": null,
            "min_height": null,
            "min_width": null,
            "object_fit": null,
            "object_position": null,
            "order": null,
            "overflow": null,
            "overflow_x": null,
            "overflow_y": null,
            "padding": null,
            "right": null,
            "top": null,
            "visibility": null,
            "width": null
          }
        },
        "a99fbba08e714181a9e429edaffe2438": {
          "model_module": "@jupyter-widgets/controls",
          "model_name": "DescriptionStyleModel",
          "model_module_version": "1.5.0",
          "state": {
            "_model_module": "@jupyter-widgets/controls",
            "_model_module_version": "1.5.0",
            "_model_name": "DescriptionStyleModel",
            "_view_count": null,
            "_view_module": "@jupyter-widgets/base",
            "_view_module_version": "1.2.0",
            "_view_name": "StyleView",
            "description_width": ""
          }
        },
        "39f075f6f6284ba49c0967e5cf64cd90": {
          "model_module": "@jupyter-widgets/base",
          "model_name": "LayoutModel",
          "model_module_version": "1.2.0",
          "state": {
            "_model_module": "@jupyter-widgets/base",
            "_model_module_version": "1.2.0",
            "_model_name": "LayoutModel",
            "_view_count": null,
            "_view_module": "@jupyter-widgets/base",
            "_view_module_version": "1.2.0",
            "_view_name": "LayoutView",
            "align_content": null,
            "align_items": null,
            "align_self": null,
            "border": null,
            "bottom": null,
            "display": null,
            "flex": null,
            "flex_flow": null,
            "grid_area": null,
            "grid_auto_columns": null,
            "grid_auto_flow": null,
            "grid_auto_rows": null,
            "grid_column": null,
            "grid_gap": null,
            "grid_row": null,
            "grid_template_areas": null,
            "grid_template_columns": null,
            "grid_template_rows": null,
            "height": null,
            "justify_content": null,
            "justify_items": null,
            "left": null,
            "margin": null,
            "max_height": null,
            "max_width": null,
            "min_height": null,
            "min_width": null,
            "object_fit": null,
            "object_position": null,
            "order": null,
            "overflow": null,
            "overflow_x": null,
            "overflow_y": null,
            "padding": null,
            "right": null,
            "top": null,
            "visibility": null,
            "width": null
          }
        },
        "3ee05eaa2dfa4f29a84f920581adfa40": {
          "model_module": "@jupyter-widgets/controls",
          "model_name": "DescriptionStyleModel",
          "model_module_version": "1.5.0",
          "state": {
            "_model_module": "@jupyter-widgets/controls",
            "_model_module_version": "1.5.0",
            "_model_name": "DescriptionStyleModel",
            "_view_count": null,
            "_view_module": "@jupyter-widgets/base",
            "_view_module_version": "1.2.0",
            "_view_name": "StyleView",
            "description_width": ""
          }
        },
        "f251e585e44d4671bcd790801bfcf759": {
          "model_module": "@jupyter-widgets/base",
          "model_name": "LayoutModel",
          "model_module_version": "1.2.0",
          "state": {
            "_model_module": "@jupyter-widgets/base",
            "_model_module_version": "1.2.0",
            "_model_name": "LayoutModel",
            "_view_count": null,
            "_view_module": "@jupyter-widgets/base",
            "_view_module_version": "1.2.0",
            "_view_name": "LayoutView",
            "align_content": null,
            "align_items": null,
            "align_self": null,
            "border": null,
            "bottom": null,
            "display": null,
            "flex": null,
            "flex_flow": null,
            "grid_area": null,
            "grid_auto_columns": null,
            "grid_auto_flow": null,
            "grid_auto_rows": null,
            "grid_column": null,
            "grid_gap": null,
            "grid_row": null,
            "grid_template_areas": null,
            "grid_template_columns": null,
            "grid_template_rows": null,
            "height": null,
            "justify_content": null,
            "justify_items": null,
            "left": null,
            "margin": null,
            "max_height": null,
            "max_width": null,
            "min_height": null,
            "min_width": null,
            "object_fit": null,
            "object_position": null,
            "order": null,
            "overflow": null,
            "overflow_x": null,
            "overflow_y": null,
            "padding": null,
            "right": null,
            "top": null,
            "visibility": null,
            "width": null
          }
        },
        "3421602ee8c44b58bbbe2ec68e0457bd": {
          "model_module": "@jupyter-widgets/controls",
          "model_name": "ButtonStyleModel",
          "model_module_version": "1.5.0",
          "state": {
            "_model_module": "@jupyter-widgets/controls",
            "_model_module_version": "1.5.0",
            "_model_name": "ButtonStyleModel",
            "_view_count": null,
            "_view_module": "@jupyter-widgets/base",
            "_view_module_version": "1.2.0",
            "_view_name": "StyleView",
            "button_color": null,
            "font_weight": ""
          }
        },
        "73bcce007bfd4ae381cac81fbd8f8213": {
          "model_module": "@jupyter-widgets/base",
          "model_name": "LayoutModel",
          "model_module_version": "1.2.0",
          "state": {
            "_model_module": "@jupyter-widgets/base",
            "_model_module_version": "1.2.0",
            "_model_name": "LayoutModel",
            "_view_count": null,
            "_view_module": "@jupyter-widgets/base",
            "_view_module_version": "1.2.0",
            "_view_name": "LayoutView",
            "align_content": null,
            "align_items": null,
            "align_self": null,
            "border": null,
            "bottom": null,
            "display": null,
            "flex": null,
            "flex_flow": null,
            "grid_area": null,
            "grid_auto_columns": null,
            "grid_auto_flow": null,
            "grid_auto_rows": null,
            "grid_column": null,
            "grid_gap": null,
            "grid_row": null,
            "grid_template_areas": null,
            "grid_template_columns": null,
            "grid_template_rows": null,
            "height": null,
            "justify_content": null,
            "justify_items": null,
            "left": null,
            "margin": null,
            "max_height": null,
            "max_width": null,
            "min_height": null,
            "min_width": null,
            "object_fit": null,
            "object_position": null,
            "order": null,
            "overflow": null,
            "overflow_x": null,
            "overflow_y": null,
            "padding": null,
            "right": null,
            "top": null,
            "visibility": null,
            "width": null
          }
        }
      }
    }
  },
  "nbformat": 4,
  "nbformat_minor": 0
}